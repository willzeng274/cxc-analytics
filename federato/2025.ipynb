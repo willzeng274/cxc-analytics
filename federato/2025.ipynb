{
 "cells": [
  {
   "cell_type": "code",
   "execution_count": 127,
   "metadata": {},
   "outputs": [],
   "source": [
    "from rich import print as rprint\n",
    "from rich.console import Console\n",
    "from rich.panel import Panel\n",
    "from rich.table import Table\n",
    "import glob\n",
    "\n",
    "console = Console()\n",
    "\n",
    "import pandas as pd\n",
    "\n",
    "# start_chunk = 0\n",
    "# end_chunk = start_chunk + 100000\n",
    "# df = pd.read_csv(f'2025_csv/new_amplitude_export_2025_chunk_{start_chunk}_{end_chunk}.csv')\n",
    "\n",
    "def load_data(year=2025):\n",
    "    \"\"\"Load all CSV chunks for a given year and combine them into a single DataFrame.\"\"\"\n",
    "    csv_files = glob.glob(f\"{year}_csv/*_chunk_*.csv\")\n",
    "    dfs = []\n",
    "    for file in csv_files:\n",
    "        df = pd.read_csv(file)\n",
    "        dfs.append(df)\n",
    "    return pd.concat(dfs, ignore_index=True)\n",
    "\n",
    "df = load_data()"
   ]
  },
  {
   "cell_type": "code",
   "execution_count": 128,
   "metadata": {},
   "outputs": [
    {
     "name": "stdout",
     "output_type": "stream",
     "text": [
      "(1850109, 30)\n"
     ]
    },
    {
     "data": {
      "text/plain": [
       "(1850109, 30)"
      ]
     },
     "execution_count": 128,
     "metadata": {},
     "output_type": "execute_result"
    }
   ],
   "source": [
    "print(df.shape)\n",
    "df[df['event_time'] == df['client_event_time']].shape\n"
   ]
  },
  {
   "cell_type": "code",
   "execution_count": 129,
   "metadata": {},
   "outputs": [],
   "source": [
    "time_cols = ['client_event_time', 'client_upload_time', 'processed_time', \n",
    "             'server_received_time', 'server_upload_time']\n",
    "for col in time_cols:\n",
    "    df[col] = pd.to_datetime(df[col], format='%Y-%m-%d %H:%M:%S.%f')\n",
    "\n",
    "df['session_duration'] = (df.groupby('session_id')['client_event_time']\n",
    "                         .transform(lambda x: x.max() - x.min()))"
   ]
  },
  {
   "cell_type": "code",
   "execution_count": 130,
   "metadata": {},
   "outputs": [
    {
     "data": {
      "text/plain": [
       "count                      1850109\n",
       "mean     0 days 01:27:18.059801343\n",
       "std      0 days 01:45:39.413711995\n",
       "min                0 days 00:00:00\n",
       "25%         0 days 00:15:00.616000\n",
       "50%         0 days 00:52:43.826000\n",
       "75%         0 days 01:57:25.307000\n",
       "max         1 days 01:27:38.926000\n",
       "Name: session_duration, dtype: object"
      ]
     },
     "execution_count": 130,
     "metadata": {},
     "output_type": "execute_result"
    }
   ],
   "source": [
    "df['session_duration'].describe()"
   ]
  },
  {
   "cell_type": "code",
   "execution_count": 131,
   "metadata": {},
   "outputs": [
    {
     "name": "stdout",
     "output_type": "stream",
     "text": [
      "0 days 00:00:00\n"
     ]
    },
    {
     "data": {
      "text/plain": [
       "(5417, 31)"
      ]
     },
     "execution_count": 131,
     "metadata": {},
     "output_type": "execute_result"
    }
   ],
   "source": [
    "print(df['session_duration'].min())\n",
    "df[df['session_duration'] == df['session_duration'].min()].shape"
   ]
  },
  {
   "cell_type": "markdown",
   "metadata": {},
   "source": []
  },
  {
   "cell_type": "code",
   "execution_count": 132,
   "metadata": {},
   "outputs": [
    {
     "data": {
      "text/html": [
       "<pre style=\"white-space:pre;overflow-x:auto;line-height:normal;font-family:Menlo,'DejaVu Sans Mono',consolas,'Courier New',monospace\">\n",
       "<span style=\"color: #00ff00; text-decoration-color: #00ff00; font-weight: bold\">1</span><span style=\"color: #00ff00; text-decoration-color: #00ff00; font-weight: bold\">. Basic Dataset Information</span>\n",
       "</pre>\n"
      ],
      "text/plain": [
       "\n",
       "\u001b[1;92m1\u001b[0m\u001b[1;92m. Basic Dataset Information\u001b[0m\n"
      ]
     },
     "metadata": {},
     "output_type": "display_data"
    },
    {
     "data": {
      "text/html": [
       "<pre style=\"white-space:pre;overflow-x:auto;line-height:normal;font-family:Menlo,'DejaVu Sans Mono',consolas,'Courier New',monospace\">╭─────────────────────────────────────────────────────────────────────────────────────────────────────────────────╮\n",
       "│ Dataset Shape: (1850109, 31)                                                                                    │\n",
       "╰─────────────────────────────────────────────────────────────────────────────────────────────────────────────────╯\n",
       "</pre>\n"
      ],
      "text/plain": [
       "╭─────────────────────────────────────────────────────────────────────────────────────────────────────────────────╮\n",
       "│ Dataset Shape: (1850109, 31)                                                                                    │\n",
       "╰─────────────────────────────────────────────────────────────────────────────────────────────────────────────────╯\n"
      ]
     },
     "metadata": {},
     "output_type": "display_data"
    },
    {
     "data": {
      "text/html": [
       "<pre style=\"white-space:pre;overflow-x:auto;line-height:normal;font-family:Menlo,'DejaVu Sans Mono',consolas,'Courier New',monospace\">\n",
       "<span style=\"color: #ffff00; text-decoration-color: #ffff00\">Columns:</span>\n",
       "<span style=\"font-weight: bold\">[</span>\n",
       "    <span style=\"color: #008000; text-decoration-color: #008000\">'$insert_id'</span>,\n",
       "    <span style=\"color: #008000; text-decoration-color: #008000\">'amplitude_id'</span>,\n",
       "    <span style=\"color: #008000; text-decoration-color: #008000\">'app'</span>,\n",
       "    <span style=\"color: #008000; text-decoration-color: #008000\">'city'</span>,\n",
       "    <span style=\"color: #008000; text-decoration-color: #008000\">'client_event_time'</span>,\n",
       "    <span style=\"color: #008000; text-decoration-color: #008000\">'client_upload_time'</span>,\n",
       "    <span style=\"color: #008000; text-decoration-color: #008000\">'country'</span>,\n",
       "    <span style=\"color: #008000; text-decoration-color: #008000\">'data'</span>,\n",
       "    <span style=\"color: #008000; text-decoration-color: #008000\">'data_type'</span>,\n",
       "    <span style=\"color: #008000; text-decoration-color: #008000\">'device_family'</span>,\n",
       "    <span style=\"color: #008000; text-decoration-color: #008000\">'device_id'</span>,\n",
       "    <span style=\"color: #008000; text-decoration-color: #008000\">'device_type'</span>,\n",
       "    <span style=\"color: #008000; text-decoration-color: #008000\">'dma'</span>,\n",
       "    <span style=\"color: #008000; text-decoration-color: #008000\">'event_id'</span>,\n",
       "    <span style=\"color: #008000; text-decoration-color: #008000\">'event_properties'</span>,\n",
       "    <span style=\"color: #008000; text-decoration-color: #008000\">'event_time'</span>,\n",
       "    <span style=\"color: #008000; text-decoration-color: #008000\">'event_type'</span>,\n",
       "    <span style=\"color: #008000; text-decoration-color: #008000\">'language'</span>,\n",
       "    <span style=\"color: #008000; text-decoration-color: #008000\">'library'</span>,\n",
       "    <span style=\"color: #008000; text-decoration-color: #008000\">'os_name'</span>,\n",
       "    <span style=\"color: #008000; text-decoration-color: #008000\">'os_version'</span>,\n",
       "    <span style=\"color: #008000; text-decoration-color: #008000\">'platform'</span>,\n",
       "    <span style=\"color: #008000; text-decoration-color: #008000\">'processed_time'</span>,\n",
       "    <span style=\"color: #008000; text-decoration-color: #008000\">'region'</span>,\n",
       "    <span style=\"color: #008000; text-decoration-color: #008000\">'server_received_time'</span>,\n",
       "    <span style=\"color: #008000; text-decoration-color: #008000\">'server_upload_time'</span>,\n",
       "    <span style=\"color: #008000; text-decoration-color: #008000\">'session_id'</span>,\n",
       "    <span style=\"color: #008000; text-decoration-color: #008000\">'user_id'</span>,\n",
       "    <span style=\"color: #008000; text-decoration-color: #008000\">'user_properties'</span>,\n",
       "    <span style=\"color: #008000; text-decoration-color: #008000\">'uuid'</span>,\n",
       "    <span style=\"color: #008000; text-decoration-color: #008000\">'session_duration'</span>\n",
       "<span style=\"font-weight: bold\">]</span>\n",
       "</pre>\n"
      ],
      "text/plain": [
       "\n",
       "\u001b[93mColumns:\u001b[0m\n",
       "\u001b[1m[\u001b[0m\n",
       "    \u001b[32m'$insert_id'\u001b[0m,\n",
       "    \u001b[32m'amplitude_id'\u001b[0m,\n",
       "    \u001b[32m'app'\u001b[0m,\n",
       "    \u001b[32m'city'\u001b[0m,\n",
       "    \u001b[32m'client_event_time'\u001b[0m,\n",
       "    \u001b[32m'client_upload_time'\u001b[0m,\n",
       "    \u001b[32m'country'\u001b[0m,\n",
       "    \u001b[32m'data'\u001b[0m,\n",
       "    \u001b[32m'data_type'\u001b[0m,\n",
       "    \u001b[32m'device_family'\u001b[0m,\n",
       "    \u001b[32m'device_id'\u001b[0m,\n",
       "    \u001b[32m'device_type'\u001b[0m,\n",
       "    \u001b[32m'dma'\u001b[0m,\n",
       "    \u001b[32m'event_id'\u001b[0m,\n",
       "    \u001b[32m'event_properties'\u001b[0m,\n",
       "    \u001b[32m'event_time'\u001b[0m,\n",
       "    \u001b[32m'event_type'\u001b[0m,\n",
       "    \u001b[32m'language'\u001b[0m,\n",
       "    \u001b[32m'library'\u001b[0m,\n",
       "    \u001b[32m'os_name'\u001b[0m,\n",
       "    \u001b[32m'os_version'\u001b[0m,\n",
       "    \u001b[32m'platform'\u001b[0m,\n",
       "    \u001b[32m'processed_time'\u001b[0m,\n",
       "    \u001b[32m'region'\u001b[0m,\n",
       "    \u001b[32m'server_received_time'\u001b[0m,\n",
       "    \u001b[32m'server_upload_time'\u001b[0m,\n",
       "    \u001b[32m'session_id'\u001b[0m,\n",
       "    \u001b[32m'user_id'\u001b[0m,\n",
       "    \u001b[32m'user_properties'\u001b[0m,\n",
       "    \u001b[32m'uuid'\u001b[0m,\n",
       "    \u001b[32m'session_duration'\u001b[0m\n",
       "\u001b[1m]\u001b[0m\n"
      ]
     },
     "metadata": {},
     "output_type": "display_data"
    },
    {
     "data": {
      "text/html": [
       "<pre style=\"white-space:pre;overflow-x:auto;line-height:normal;font-family:Menlo,'DejaVu Sans Mono',consolas,'Courier New',monospace\">\n",
       "<span style=\"color: #ffff00; text-decoration-color: #ffff00\">Data Types:</span>\n",
       "</pre>\n"
      ],
      "text/plain": [
       "\n",
       "\u001b[93mData Types:\u001b[0m\n"
      ]
     },
     "metadata": {},
     "output_type": "display_data"
    },
    {
     "data": {
      "text/html": [
       "<pre style=\"white-space:pre;overflow-x:auto;line-height:normal;font-family:Menlo,'DejaVu Sans Mono',consolas,'Courier New',monospace\">$insert_id                       object\n",
       "amplitude_id                      int64\n",
       "app                               int64\n",
       "city                             object\n",
       "client_event_time        datetime64<span style=\"font-weight: bold\">[</span>ns<span style=\"font-weight: bold\">]</span>\n",
       "client_upload_time       datetime64<span style=\"font-weight: bold\">[</span>ns<span style=\"font-weight: bold\">]</span>\n",
       "country                          object\n",
       "data                             object\n",
       "data_type                        object\n",
       "device_family                    object\n",
       "device_id                        object\n",
       "device_type                      object\n",
       "dma                              object\n",
       "event_id                          int64\n",
       "event_properties                 object\n",
       "event_time                       object\n",
       "event_type                       object\n",
       "language                         object\n",
       "library                          object\n",
       "os_name                          object\n",
       "os_version                        int64\n",
       "platform                         object\n",
       "processed_time           datetime64<span style=\"font-weight: bold\">[</span>ns<span style=\"font-weight: bold\">]</span>\n",
       "region                           object\n",
       "server_received_time     datetime64<span style=\"font-weight: bold\">[</span>ns<span style=\"font-weight: bold\">]</span>\n",
       "server_upload_time       datetime64<span style=\"font-weight: bold\">[</span>ns<span style=\"font-weight: bold\">]</span>\n",
       "session_id                        int64\n",
       "user_id                          object\n",
       "user_properties                  object\n",
       "uuid                             object\n",
       "session_duration        timedelta64<span style=\"font-weight: bold\">[</span>ns<span style=\"font-weight: bold\">]</span>\n",
       "dtype: object\n",
       "</pre>\n"
      ],
      "text/plain": [
       "$insert_id                       object\n",
       "amplitude_id                      int64\n",
       "app                               int64\n",
       "city                             object\n",
       "client_event_time        datetime64\u001b[1m[\u001b[0mns\u001b[1m]\u001b[0m\n",
       "client_upload_time       datetime64\u001b[1m[\u001b[0mns\u001b[1m]\u001b[0m\n",
       "country                          object\n",
       "data                             object\n",
       "data_type                        object\n",
       "device_family                    object\n",
       "device_id                        object\n",
       "device_type                      object\n",
       "dma                              object\n",
       "event_id                          int64\n",
       "event_properties                 object\n",
       "event_time                       object\n",
       "event_type                       object\n",
       "language                         object\n",
       "library                          object\n",
       "os_name                          object\n",
       "os_version                        int64\n",
       "platform                         object\n",
       "processed_time           datetime64\u001b[1m[\u001b[0mns\u001b[1m]\u001b[0m\n",
       "region                           object\n",
       "server_received_time     datetime64\u001b[1m[\u001b[0mns\u001b[1m]\u001b[0m\n",
       "server_upload_time       datetime64\u001b[1m[\u001b[0mns\u001b[1m]\u001b[0m\n",
       "session_id                        int64\n",
       "user_id                          object\n",
       "user_properties                  object\n",
       "uuid                             object\n",
       "session_duration        timedelta64\u001b[1m[\u001b[0mns\u001b[1m]\u001b[0m\n",
       "dtype: object\n"
      ]
     },
     "metadata": {},
     "output_type": "display_data"
    },
    {
     "data": {
      "text/html": [
       "<pre style=\"white-space:pre;overflow-x:auto;line-height:normal;font-family:Menlo,'DejaVu Sans Mono',consolas,'Courier New',monospace\">\n",
       "<span style=\"color: #ffff00; text-decoration-color: #ffff00\">Missing Values:</span>\n",
       "</pre>\n"
      ],
      "text/plain": [
       "\n",
       "\u001b[93mMissing Values:\u001b[0m\n"
      ]
     },
     "metadata": {},
     "output_type": "display_data"
    },
    {
     "data": {
      "text/html": [
       "<pre style=\"white-space:pre;overflow-x:auto;line-height:normal;font-family:Menlo,'DejaVu Sans Mono',consolas,'Courier New',monospace\">$insert_id                   <span style=\"color: #008080; text-decoration-color: #008080; font-weight: bold\">0</span>\n",
       "amplitude_id                 <span style=\"color: #008080; text-decoration-color: #008080; font-weight: bold\">0</span>\n",
       "app                          <span style=\"color: #008080; text-decoration-color: #008080; font-weight: bold\">0</span>\n",
       "city                     <span style=\"color: #008080; text-decoration-color: #008080; font-weight: bold\">33543</span>\n",
       "client_event_time            <span style=\"color: #008080; text-decoration-color: #008080; font-weight: bold\">0</span>\n",
       "client_upload_time           <span style=\"color: #008080; text-decoration-color: #008080; font-weight: bold\">0</span>\n",
       "country                      <span style=\"color: #008080; text-decoration-color: #008080; font-weight: bold\">0</span>\n",
       "data                         <span style=\"color: #008080; text-decoration-color: #008080; font-weight: bold\">0</span>\n",
       "data_type                    <span style=\"color: #008080; text-decoration-color: #008080; font-weight: bold\">0</span>\n",
       "device_family                <span style=\"color: #008080; text-decoration-color: #008080; font-weight: bold\">0</span>\n",
       "device_id                    <span style=\"color: #008080; text-decoration-color: #008080; font-weight: bold\">0</span>\n",
       "device_type             <span style=\"color: #008080; text-decoration-color: #008080; font-weight: bold\">290193</span>\n",
       "dma                     <span style=\"color: #008080; text-decoration-color: #008080; font-weight: bold\">512300</span>\n",
       "event_id                     <span style=\"color: #008080; text-decoration-color: #008080; font-weight: bold\">0</span>\n",
       "event_properties             <span style=\"color: #008080; text-decoration-color: #008080; font-weight: bold\">0</span>\n",
       "event_time                   <span style=\"color: #008080; text-decoration-color: #008080; font-weight: bold\">0</span>\n",
       "event_type                   <span style=\"color: #008080; text-decoration-color: #008080; font-weight: bold\">0</span>\n",
       "language                     <span style=\"color: #008080; text-decoration-color: #008080; font-weight: bold\">0</span>\n",
       "library                      <span style=\"color: #008080; text-decoration-color: #008080; font-weight: bold\">0</span>\n",
       "os_name                      <span style=\"color: #008080; text-decoration-color: #008080; font-weight: bold\">0</span>\n",
       "os_version                   <span style=\"color: #008080; text-decoration-color: #008080; font-weight: bold\">0</span>\n",
       "platform                     <span style=\"color: #008080; text-decoration-color: #008080; font-weight: bold\">0</span>\n",
       "processed_time               <span style=\"color: #008080; text-decoration-color: #008080; font-weight: bold\">0</span>\n",
       "region                   <span style=\"color: #008080; text-decoration-color: #008080; font-weight: bold\">16521</span>\n",
       "server_received_time         <span style=\"color: #008080; text-decoration-color: #008080; font-weight: bold\">0</span>\n",
       "server_upload_time           <span style=\"color: #008080; text-decoration-color: #008080; font-weight: bold\">0</span>\n",
       "session_id                   <span style=\"color: #008080; text-decoration-color: #008080; font-weight: bold\">0</span>\n",
       "user_id                   <span style=\"color: #008080; text-decoration-color: #008080; font-weight: bold\">7389</span>\n",
       "user_properties              <span style=\"color: #008080; text-decoration-color: #008080; font-weight: bold\">0</span>\n",
       "uuid                         <span style=\"color: #008080; text-decoration-color: #008080; font-weight: bold\">0</span>\n",
       "session_duration             <span style=\"color: #008080; text-decoration-color: #008080; font-weight: bold\">0</span>\n",
       "dtype: int64\n",
       "</pre>\n"
      ],
      "text/plain": [
       "$insert_id                   \u001b[1;36m0\u001b[0m\n",
       "amplitude_id                 \u001b[1;36m0\u001b[0m\n",
       "app                          \u001b[1;36m0\u001b[0m\n",
       "city                     \u001b[1;36m33543\u001b[0m\n",
       "client_event_time            \u001b[1;36m0\u001b[0m\n",
       "client_upload_time           \u001b[1;36m0\u001b[0m\n",
       "country                      \u001b[1;36m0\u001b[0m\n",
       "data                         \u001b[1;36m0\u001b[0m\n",
       "data_type                    \u001b[1;36m0\u001b[0m\n",
       "device_family                \u001b[1;36m0\u001b[0m\n",
       "device_id                    \u001b[1;36m0\u001b[0m\n",
       "device_type             \u001b[1;36m290193\u001b[0m\n",
       "dma                     \u001b[1;36m512300\u001b[0m\n",
       "event_id                     \u001b[1;36m0\u001b[0m\n",
       "event_properties             \u001b[1;36m0\u001b[0m\n",
       "event_time                   \u001b[1;36m0\u001b[0m\n",
       "event_type                   \u001b[1;36m0\u001b[0m\n",
       "language                     \u001b[1;36m0\u001b[0m\n",
       "library                      \u001b[1;36m0\u001b[0m\n",
       "os_name                      \u001b[1;36m0\u001b[0m\n",
       "os_version                   \u001b[1;36m0\u001b[0m\n",
       "platform                     \u001b[1;36m0\u001b[0m\n",
       "processed_time               \u001b[1;36m0\u001b[0m\n",
       "region                   \u001b[1;36m16521\u001b[0m\n",
       "server_received_time         \u001b[1;36m0\u001b[0m\n",
       "server_upload_time           \u001b[1;36m0\u001b[0m\n",
       "session_id                   \u001b[1;36m0\u001b[0m\n",
       "user_id                   \u001b[1;36m7389\u001b[0m\n",
       "user_properties              \u001b[1;36m0\u001b[0m\n",
       "uuid                         \u001b[1;36m0\u001b[0m\n",
       "session_duration             \u001b[1;36m0\u001b[0m\n",
       "dtype: int64\n"
      ]
     },
     "metadata": {},
     "output_type": "display_data"
    }
   ],
   "source": [
    "# 1. Basic Dataset Information\n",
    "# https://rich.readthedocs.io/en/stable/appendix/colors.html to refer to colors\n",
    "console.print(\"\\n[bold bright_green]1. Basic Dataset Information[/bold bright_green]\", style=\"bold\")\n",
    "console.print(Panel(f\"Dataset Shape: {df.shape}\"))\n",
    "console.print(\"\\n[bright_yellow]Columns:[/bright_yellow]\", df.columns.tolist())\n",
    "console.print(\"\\n[bright_yellow]Data Types:[/bright_yellow]\")\n",
    "console.print(df.dtypes)\n",
    "console.print(\"\\n[bright_yellow]Missing Values:[/bright_yellow]\")\n",
    "console.print(df.isnull().sum())"
   ]
  },
  {
   "cell_type": "code",
   "execution_count": 133,
   "metadata": {},
   "outputs": [
    {
     "data": {
      "text/html": [
       "<pre style=\"white-space:pre;overflow-x:auto;line-height:normal;font-family:Menlo,'DejaVu Sans Mono',consolas,'Courier New',monospace\">\n",
       "<span style=\"color: #00ff00; text-decoration-color: #00ff00; font-weight: bold\">2</span><span style=\"color: #00ff00; text-decoration-color: #00ff00; font-weight: bold\">. User Activity Analysis</span>\n",
       "</pre>\n"
      ],
      "text/plain": [
       "\n",
       "\u001b[1;92m2\u001b[0m\u001b[1;92m. User Activity Analysis\u001b[0m\n"
      ]
     },
     "metadata": {},
     "output_type": "display_data"
    },
    {
     "data": {
      "text/html": [
       "<pre style=\"white-space:pre;overflow-x:auto;line-height:normal;font-family:Menlo,'DejaVu Sans Mono',consolas,'Courier New',monospace\">┏━━━━━━━━━━━━━━━━━━━━━━━━━━━┳━━━━━━━━━┓\n",
       "┃<span style=\"color: #ffff00; text-decoration-color: #ffff00; font-weight: bold\"> Metric                    </span>┃<span style=\"color: #ffff00; text-decoration-color: #ffff00; font-weight: bold\"> Value   </span>┃\n",
       "┡━━━━━━━━━━━━━━━━━━━━━━━━━━━╇━━━━━━━━━┩\n",
       "│ Unique Users              │ 868     │\n",
       "│ Unique Sessions           │ 59868   │\n",
       "│ Events per User (Average) │ 2131.46 │\n",
       "└───────────────────────────┴─────────┘\n",
       "</pre>\n"
      ],
      "text/plain": [
       "┏━━━━━━━━━━━━━━━━━━━━━━━━━━━┳━━━━━━━━━┓\n",
       "┃\u001b[1;93m \u001b[0m\u001b[1;93mMetric                   \u001b[0m\u001b[1;93m \u001b[0m┃\u001b[1;93m \u001b[0m\u001b[1;93mValue  \u001b[0m\u001b[1;93m \u001b[0m┃\n",
       "┡━━━━━━━━━━━━━━━━━━━━━━━━━━━╇━━━━━━━━━┩\n",
       "│ Unique Users              │ 868     │\n",
       "│ Unique Sessions           │ 59868   │\n",
       "│ Events per User (Average) │ 2131.46 │\n",
       "└───────────────────────────┴─────────┘\n"
      ]
     },
     "metadata": {},
     "output_type": "display_data"
    }
   ],
   "source": [
    "# 2. User Activity Analysis\n",
    "console.print(\"\\n[bold bright_green]2. User Activity Analysis[/bold bright_green]\", style=\"bold\")\n",
    "stats_table = Table(show_header=True, header_style=\"bold bright_yellow\")\n",
    "stats_table.add_column(\"Metric\")\n",
    "stats_table.add_column(\"Value\")\n",
    "stats_table.add_row(\"Unique Users\", str(df['user_id'].nunique()))\n",
    "stats_table.add_row(\"Unique Sessions\", str(df['session_id'].nunique()))\n",
    "stats_table.add_row(\"Events per User (Average)\", f\"{len(df) / df['user_id'].nunique():.2f}\")\n",
    "console.print(stats_table)"
   ]
  },
  {
   "cell_type": "code",
   "execution_count": 134,
   "metadata": {},
   "outputs": [
    {
     "data": {
      "text/html": [
       "<pre style=\"white-space:pre;overflow-x:auto;line-height:normal;font-family:Menlo,'DejaVu Sans Mono',consolas,'Courier New',monospace\">\n",
       "<span style=\"color: #00ff00; text-decoration-color: #00ff00; font-weight: bold\">3</span><span style=\"color: #00ff00; text-decoration-color: #00ff00; font-weight: bold\">. Device &amp; Platform Distribution</span>\n",
       "</pre>\n"
      ],
      "text/plain": [
       "\n",
       "\u001b[1;92m3\u001b[0m\u001b[1;92m. Device & Platform Distribution\u001b[0m\n"
      ]
     },
     "metadata": {},
     "output_type": "display_data"
    },
    {
     "data": {
      "text/html": [
       "<pre style=\"white-space:pre;overflow-x:auto;line-height:normal;font-family:Menlo,'DejaVu Sans Mono',consolas,'Courier New',monospace\">\n",
       "<span style=\"color: #ffff00; text-decoration-color: #ffff00\">Device Distribution:</span>\n",
       "</pre>\n"
      ],
      "text/plain": [
       "\n",
       "\u001b[93mDevice Distribution:\u001b[0m\n"
      ]
     },
     "metadata": {},
     "output_type": "display_data"
    },
    {
     "data": {
      "text/html": [
       "<pre style=\"white-space:pre;overflow-x:auto;line-height:normal;font-family:Menlo,'DejaVu Sans Mono',consolas,'Courier New',monospace\">╭─────────────────────────────────────────────────────────────────────────────────────────────────────────────────╮\n",
       "│ device_family                                                                                                   │\n",
       "│ Windows     81.8                                                                                                │\n",
       "│ Mac OS X    15.6                                                                                                │\n",
       "│ Linux        2.5                                                                                                │\n",
       "│ iOS          0.1                                                                                                │\n",
       "│ Android      0.0                                                                                                │\n",
       "│ Name: proportion, dtype: float64                                                                                │\n",
       "╰─────────────────────────────────────────────────────────────────────────────────────────────────────────────────╯\n",
       "</pre>\n"
      ],
      "text/plain": [
       "╭─────────────────────────────────────────────────────────────────────────────────────────────────────────────────╮\n",
       "│ device_family                                                                                                   │\n",
       "│ Windows     81.8                                                                                                │\n",
       "│ Mac OS X    15.6                                                                                                │\n",
       "│ Linux        2.5                                                                                                │\n",
       "│ iOS          0.1                                                                                                │\n",
       "│ Android      0.0                                                                                                │\n",
       "│ Name: proportion, dtype: float64                                                                                │\n",
       "╰─────────────────────────────────────────────────────────────────────────────────────────────────────────────────╯\n"
      ]
     },
     "metadata": {},
     "output_type": "display_data"
    },
    {
     "data": {
      "text/html": [
       "<pre style=\"white-space:pre;overflow-x:auto;line-height:normal;font-family:Menlo,'DejaVu Sans Mono',consolas,'Courier New',monospace\">\n",
       "<span style=\"color: #ffff00; text-decoration-color: #ffff00\">Platform Distribution:</span>\n",
       "</pre>\n"
      ],
      "text/plain": [
       "\n",
       "\u001b[93mPlatform Distribution:\u001b[0m\n"
      ]
     },
     "metadata": {},
     "output_type": "display_data"
    },
    {
     "data": {
      "text/html": [
       "<pre style=\"white-space:pre;overflow-x:auto;line-height:normal;font-family:Menlo,'DejaVu Sans Mono',consolas,'Courier New',monospace\">╭─────────────────────────────────────────────────────────────────────────────────────────────────────────────────╮\n",
       "│ platform                                                                                                        │\n",
       "│ Web    100.0                                                                                                    │\n",
       "│ Name: proportion, dtype: float64                                                                                │\n",
       "╰─────────────────────────────────────────────────────────────────────────────────────────────────────────────────╯\n",
       "</pre>\n"
      ],
      "text/plain": [
       "╭─────────────────────────────────────────────────────────────────────────────────────────────────────────────────╮\n",
       "│ platform                                                                                                        │\n",
       "│ Web    100.0                                                                                                    │\n",
       "│ Name: proportion, dtype: float64                                                                                │\n",
       "╰─────────────────────────────────────────────────────────────────────────────────────────────────────────────────╯\n"
      ]
     },
     "metadata": {},
     "output_type": "display_data"
    }
   ],
   "source": [
    "# 3. Device & Platform Distribution\n",
    "console.print(\"\\n[bold bright_green]3. Device & Platform Distribution[/bold bright_green]\", style=\"bold\")\n",
    "console.print(\"\\n[bright_yellow]Device Distribution:[/bright_yellow]\")\n",
    "console.print(Panel(str(df['device_family'].value_counts(normalize=True).round(3) * 100)))\n",
    "console.print(\"\\n[bright_yellow]Platform Distribution:[/bright_yellow]\")\n",
    "console.print(Panel(str(df['platform'].value_counts(normalize=True).round(3) * 100)))"
   ]
  },
  {
   "cell_type": "code",
   "execution_count": 135,
   "metadata": {},
   "outputs": [
    {
     "data": {
      "text/html": [
       "<pre style=\"white-space:pre;overflow-x:auto;line-height:normal;font-family:Menlo,'DejaVu Sans Mono',consolas,'Courier New',monospace\">\n",
       "<span style=\"color: #00ff00; text-decoration-color: #00ff00; font-weight: bold\">4</span><span style=\"color: #00ff00; text-decoration-color: #00ff00; font-weight: bold\">. Geographic Distribution</span>\n",
       "</pre>\n"
      ],
      "text/plain": [
       "\n",
       "\u001b[1;92m4\u001b[0m\u001b[1;92m. Geographic Distribution\u001b[0m\n"
      ]
     },
     "metadata": {},
     "output_type": "display_data"
    },
    {
     "data": {
      "text/html": [
       "<pre style=\"white-space:pre;overflow-x:auto;line-height:normal;font-family:Menlo,'DejaVu Sans Mono',consolas,'Courier New',monospace\">\n",
       "<span style=\"color: #ffff00; text-decoration-color: #ffff00\">Top </span><span style=\"color: #ffff00; text-decoration-color: #ffff00; font-weight: bold\">10</span><span style=\"color: #ffff00; text-decoration-color: #ffff00\"> Cities:</span>\n",
       "</pre>\n"
      ],
      "text/plain": [
       "\n",
       "\u001b[93mTop \u001b[0m\u001b[1;93m10\u001b[0m\u001b[93m Cities:\u001b[0m\n"
      ]
     },
     "metadata": {},
     "output_type": "display_data"
    },
    {
     "data": {
      "text/html": [
       "<pre style=\"white-space:pre;overflow-x:auto;line-height:normal;font-family:Menlo,'DejaVu Sans Mono',consolas,'Courier New',monospace\">╭─────────────────────────────────────────────────────────────────────────────────────────────────────────────────╮\n",
       "│ city                                                                                                            │\n",
       "│ Mumbai         399477                                                                                           │\n",
       "│ Nashville      286693                                                                                           │\n",
       "│ Spring Hill     74781                                                                                           │\n",
       "│ Chicago         71692                                                                                           │\n",
       "│ Birmingham      49854                                                                                           │\n",
       "│ Greenville      45706                                                                                           │\n",
       "│ Alexandria      38848                                                                                           │\n",
       "│ Wroclaw         33788                                                                                           │\n",
       "│ Phoenix         31894                                                                                           │\n",
       "│ Des Moines      27699                                                                                           │\n",
       "│ Name: count, dtype: int64                                                                                       │\n",
       "╰─────────────────────────────────────────────────────────────────────────────────────────────────────────────────╯\n",
       "</pre>\n"
      ],
      "text/plain": [
       "╭─────────────────────────────────────────────────────────────────────────────────────────────────────────────────╮\n",
       "│ city                                                                                                            │\n",
       "│ Mumbai         399477                                                                                           │\n",
       "│ Nashville      286693                                                                                           │\n",
       "│ Spring Hill     74781                                                                                           │\n",
       "│ Chicago         71692                                                                                           │\n",
       "│ Birmingham      49854                                                                                           │\n",
       "│ Greenville      45706                                                                                           │\n",
       "│ Alexandria      38848                                                                                           │\n",
       "│ Wroclaw         33788                                                                                           │\n",
       "│ Phoenix         31894                                                                                           │\n",
       "│ Des Moines      27699                                                                                           │\n",
       "│ Name: count, dtype: int64                                                                                       │\n",
       "╰─────────────────────────────────────────────────────────────────────────────────────────────────────────────────╯\n"
      ]
     },
     "metadata": {},
     "output_type": "display_data"
    },
    {
     "data": {
      "text/html": [
       "<pre style=\"white-space:pre;overflow-x:auto;line-height:normal;font-family:Menlo,'DejaVu Sans Mono',consolas,'Courier New',monospace\">\n",
       "<span style=\"color: #ffff00; text-decoration-color: #ffff00\">State/Region Distribution:</span>\n",
       "</pre>\n"
      ],
      "text/plain": [
       "\n",
       "\u001b[93mState/Region Distribution:\u001b[0m\n"
      ]
     },
     "metadata": {},
     "output_type": "display_data"
    },
    {
     "data": {
      "text/html": [
       "<pre style=\"white-space:pre;overflow-x:auto;line-height:normal;font-family:Menlo,'DejaVu Sans Mono',consolas,'Courier New',monospace\">╭─────────────────────────────────────────────────────────────────────────────────────────────────────────────────╮\n",
       "│ region                                                                                                          │\n",
       "│ Maharashtra       399477                                                                                        │\n",
       "│ Tennessee         383475                                                                                        │\n",
       "│ Illinois          103032                                                                                        │\n",
       "│ Iowa               95680                                                                                        │\n",
       "│ Georgia            75776                                                                                        │\n",
       "│ South Carolina     74163                                                                                        │\n",
       "│ Virginia           70494                                                                                        │\n",
       "│ Alabama            68398                                                                                        │\n",
       "│ California         66066                                                                                        │\n",
       "│ Florida            60664                                                                                        │\n",
       "│ Name: count, dtype: int64                                                                                       │\n",
       "╰─────────────────────────────────────────────────────────────────────────────────────────────────────────────────╯\n",
       "</pre>\n"
      ],
      "text/plain": [
       "╭─────────────────────────────────────────────────────────────────────────────────────────────────────────────────╮\n",
       "│ region                                                                                                          │\n",
       "│ Maharashtra       399477                                                                                        │\n",
       "│ Tennessee         383475                                                                                        │\n",
       "│ Illinois          103032                                                                                        │\n",
       "│ Iowa               95680                                                                                        │\n",
       "│ Georgia            75776                                                                                        │\n",
       "│ South Carolina     74163                                                                                        │\n",
       "│ Virginia           70494                                                                                        │\n",
       "│ Alabama            68398                                                                                        │\n",
       "│ California         66066                                                                                        │\n",
       "│ Florida            60664                                                                                        │\n",
       "│ Name: count, dtype: int64                                                                                       │\n",
       "╰─────────────────────────────────────────────────────────────────────────────────────────────────────────────────╯\n"
      ]
     },
     "metadata": {},
     "output_type": "display_data"
    }
   ],
   "source": [
    "# 4. Geographic Distribution\n",
    "console.print(\"\\n[bold bright_green]4. Geographic Distribution[/bold bright_green]\", style=\"bold\")\n",
    "console.print(\"\\n[bright_yellow]Top 10 Cities:[/bright_yellow]\")\n",
    "console.print(Panel(str(df['city'].value_counts().head(10))))\n",
    "\n",
    "console.print(\"\\n[bright_yellow]State/Region Distribution:[/bright_yellow]\")\n",
    "console.print(Panel(str(df['region'].value_counts().head(10))))"
   ]
  },
  {
   "cell_type": "code",
   "execution_count": 136,
   "metadata": {},
   "outputs": [
    {
     "data": {
      "text/html": [
       "<pre style=\"white-space:pre;overflow-x:auto;line-height:normal;font-family:Menlo,'DejaVu Sans Mono',consolas,'Courier New',monospace\">\n",
       "<span style=\"color: #00ff00; text-decoration-color: #00ff00; font-weight: bold\">5</span><span style=\"color: #00ff00; text-decoration-color: #00ff00; font-weight: bold\">. Temporal Analysis</span>\n",
       "</pre>\n"
      ],
      "text/plain": [
       "\n",
       "\u001b[1;92m5\u001b[0m\u001b[1;92m. Temporal Analysis\u001b[0m\n"
      ]
     },
     "metadata": {},
     "output_type": "display_data"
    },
    {
     "data": {
      "text/html": [
       "<pre style=\"white-space:pre;overflow-x:auto;line-height:normal;font-family:Menlo,'DejaVu Sans Mono',consolas,'Courier New',monospace\">\n",
       "<span style=\"color: #ffff00; text-decoration-color: #ffff00\">Events by Hour of Day:</span>\n",
       "</pre>\n"
      ],
      "text/plain": [
       "\n",
       "\u001b[93mEvents by Hour of Day:\u001b[0m\n"
      ]
     },
     "metadata": {},
     "output_type": "display_data"
    },
    {
     "data": {
      "text/html": [
       "<pre style=\"white-space:pre;overflow-x:auto;line-height:normal;font-family:Menlo,'DejaVu Sans Mono',consolas,'Courier New',monospace\">╭─────────────────────────────────────────────────────────────────────────────────────────────────────────────────╮\n",
       "│ hour                                                                                                            │\n",
       "│ 0      17412                                                                                                    │\n",
       "│ 1      13352                                                                                                    │\n",
       "│ 2      11367                                                                                                    │\n",
       "│ 3      15187                                                                                                    │\n",
       "│ 4      35544                                                                                                    │\n",
       "│ 5      52265                                                                                                    │\n",
       "│ 6      55000                                                                                                    │\n",
       "│ 7      54778                                                                                                    │\n",
       "│ 8      56650                                                                                                    │\n",
       "│ 9      55150                                                                                                    │\n",
       "│ 10     65470                                                                                                    │\n",
       "│ 11     64175                                                                                                    │\n",
       "│ 12     67925                                                                                                    │\n",
       "│ 13     91591                                                                                                    │\n",
       "│ 14    133045                                                                                                    │\n",
       "│ 15    160241                                                                                                    │\n",
       "│ 16    151129                                                                                                    │\n",
       "│ 17    131961                                                                                                    │\n",
       "│ 18    121523                                                                                                    │\n",
       "│ 19    137684                                                                                                    │\n",
       "│ 20    131027                                                                                                    │\n",
       "│ 21    113741                                                                                                    │\n",
       "│ 22     76740                                                                                                    │\n",
       "│ 23     37152                                                                                                    │\n",
       "│ Name: count, dtype: int64                                                                                       │\n",
       "╰─────────────────────────────────────────────────────────────────────────────────────────────────────────────────╯\n",
       "</pre>\n"
      ],
      "text/plain": [
       "╭─────────────────────────────────────────────────────────────────────────────────────────────────────────────────╮\n",
       "│ hour                                                                                                            │\n",
       "│ 0      17412                                                                                                    │\n",
       "│ 1      13352                                                                                                    │\n",
       "│ 2      11367                                                                                                    │\n",
       "│ 3      15187                                                                                                    │\n",
       "│ 4      35544                                                                                                    │\n",
       "│ 5      52265                                                                                                    │\n",
       "│ 6      55000                                                                                                    │\n",
       "│ 7      54778                                                                                                    │\n",
       "│ 8      56650                                                                                                    │\n",
       "│ 9      55150                                                                                                    │\n",
       "│ 10     65470                                                                                                    │\n",
       "│ 11     64175                                                                                                    │\n",
       "│ 12     67925                                                                                                    │\n",
       "│ 13     91591                                                                                                    │\n",
       "│ 14    133045                                                                                                    │\n",
       "│ 15    160241                                                                                                    │\n",
       "│ 16    151129                                                                                                    │\n",
       "│ 17    131961                                                                                                    │\n",
       "│ 18    121523                                                                                                    │\n",
       "│ 19    137684                                                                                                    │\n",
       "│ 20    131027                                                                                                    │\n",
       "│ 21    113741                                                                                                    │\n",
       "│ 22     76740                                                                                                    │\n",
       "│ 23     37152                                                                                                    │\n",
       "│ Name: count, dtype: int64                                                                                       │\n",
       "╰─────────────────────────────────────────────────────────────────────────────────────────────────────────────────╯\n"
      ]
     },
     "metadata": {},
     "output_type": "display_data"
    },
    {
     "data": {
      "text/html": [
       "<pre style=\"white-space:pre;overflow-x:auto;line-height:normal;font-family:Menlo,'DejaVu Sans Mono',consolas,'Courier New',monospace\">\n",
       "<span style=\"color: #ffff00; text-decoration-color: #ffff00\">Events by Day of Week:</span>\n",
       "</pre>\n"
      ],
      "text/plain": [
       "\n",
       "\u001b[93mEvents by Day of Week:\u001b[0m\n"
      ]
     },
     "metadata": {},
     "output_type": "display_data"
    },
    {
     "data": {
      "text/html": [
       "<pre style=\"white-space:pre;overflow-x:auto;line-height:normal;font-family:Menlo,'DejaVu Sans Mono',consolas,'Courier New',monospace\">╭─────────────────────────────────────────────────────────────────────────────────────────────────────────────────╮\n",
       "│ day_of_week                                                                                                     │\n",
       "│ Thursday     406228                                                                                             │\n",
       "│ Tuesday      380958                                                                                             │\n",
       "│ Friday       363600                                                                                             │\n",
       "│ Monday       353517                                                                                             │\n",
       "│ Wednesday    302410                                                                                             │\n",
       "│ Saturday      25515                                                                                             │\n",
       "│ Sunday        17881                                                                                             │\n",
       "│ Name: count, dtype: int64                                                                                       │\n",
       "╰─────────────────────────────────────────────────────────────────────────────────────────────────────────────────╯\n",
       "</pre>\n"
      ],
      "text/plain": [
       "╭─────────────────────────────────────────────────────────────────────────────────────────────────────────────────╮\n",
       "│ day_of_week                                                                                                     │\n",
       "│ Thursday     406228                                                                                             │\n",
       "│ Tuesday      380958                                                                                             │\n",
       "│ Friday       363600                                                                                             │\n",
       "│ Monday       353517                                                                                             │\n",
       "│ Wednesday    302410                                                                                             │\n",
       "│ Saturday      25515                                                                                             │\n",
       "│ Sunday        17881                                                                                             │\n",
       "│ Name: count, dtype: int64                                                                                       │\n",
       "╰─────────────────────────────────────────────────────────────────────────────────────────────────────────────────╯\n"
      ]
     },
     "metadata": {},
     "output_type": "display_data"
    }
   ],
   "source": [
    "# 5. Temporal Analysis\n",
    "df['hour'] = df['client_event_time'].dt.hour\n",
    "df['day_of_week'] = df['client_event_time'].dt.day_name()\n",
    "\n",
    "console.print(\"\\n[bold bright_green]5. Temporal Analysis[/bold bright_green]\", style=\"bold\")\n",
    "console.print(\"\\n[bright_yellow]Events by Hour of Day:[/bright_yellow]\")\n",
    "console.print(Panel(str(df['hour'].value_counts().sort_index())))\n",
    "\n",
    "console.print(\"\\n[bright_yellow]Events by Day of Week:[/bright_yellow]\") \n",
    "console.print(Panel(str(df['day_of_week'].value_counts())))"
   ]
  },
  {
   "cell_type": "code",
   "execution_count": 137,
   "metadata": {},
   "outputs": [
    {
     "data": {
      "text/html": [
       "<pre style=\"white-space:pre;overflow-x:auto;line-height:normal;font-family:Menlo,'DejaVu Sans Mono',consolas,'Courier New',monospace\">\n",
       "<span style=\"color: #00ff00; text-decoration-color: #00ff00; font-weight: bold\">6</span><span style=\"color: #00ff00; text-decoration-color: #00ff00; font-weight: bold\">. Session Analysis</span>\n",
       "</pre>\n"
      ],
      "text/plain": [
       "\n",
       "\u001b[1;92m6\u001b[0m\u001b[1;92m. Session Analysis\u001b[0m\n"
      ]
     },
     "metadata": {},
     "output_type": "display_data"
    },
    {
     "data": {
      "text/html": [
       "<pre style=\"white-space:pre;overflow-x:auto;line-height:normal;font-family:Menlo,'DejaVu Sans Mono',consolas,'Courier New',monospace\">\n",
       "<span style=\"color: #ffff00; text-decoration-color: #ffff00\">Session Duration Statistics </span><span style=\"color: #ffff00; text-decoration-color: #ffff00; font-weight: bold\">(</span><span style=\"color: #ffff00; text-decoration-color: #ffff00\">in minutes</span><span style=\"color: #ffff00; text-decoration-color: #ffff00; font-weight: bold\">)</span><span style=\"color: #ffff00; text-decoration-color: #ffff00\">:</span>\n",
       "</pre>\n"
      ],
      "text/plain": [
       "\n",
       "\u001b[93mSession Duration Statistics \u001b[0m\u001b[1;93m(\u001b[0m\u001b[93min minutes\u001b[0m\u001b[1;93m)\u001b[0m\u001b[93m:\u001b[0m\n"
      ]
     },
     "metadata": {},
     "output_type": "display_data"
    },
    {
     "data": {
      "text/html": [
       "<pre style=\"white-space:pre;overflow-x:auto;line-height:normal;font-family:Menlo,'DejaVu Sans Mono',consolas,'Courier New',monospace\">┏━━━━━━━━┳━━━━━━━━━━━━┓\n",
       "┃<span style=\"color: #ffff00; text-decoration-color: #ffff00; font-weight: bold\"> Metric </span>┃<span style=\"color: #ffff00; text-decoration-color: #ffff00; font-weight: bold\"> Value      </span>┃\n",
       "┡━━━━━━━━╇━━━━━━━━━━━━┩\n",
       "│ count  │ 1850109.00 │\n",
       "│ mean   │ 87.30      │\n",
       "│ std    │ 105.66     │\n",
       "│ min    │ 0.00       │\n",
       "│ 25%    │ 15.01      │\n",
       "│ 50%    │ 52.73      │\n",
       "│ 75%    │ 117.42     │\n",
       "│ max    │ 1527.65    │\n",
       "└────────┴────────────┘\n",
       "</pre>\n"
      ],
      "text/plain": [
       "┏━━━━━━━━┳━━━━━━━━━━━━┓\n",
       "┃\u001b[1;93m \u001b[0m\u001b[1;93mMetric\u001b[0m\u001b[1;93m \u001b[0m┃\u001b[1;93m \u001b[0m\u001b[1;93mValue     \u001b[0m\u001b[1;93m \u001b[0m┃\n",
       "┡━━━━━━━━╇━━━━━━━━━━━━┩\n",
       "│ count  │ 1850109.00 │\n",
       "│ mean   │ 87.30      │\n",
       "│ std    │ 105.66     │\n",
       "│ min    │ 0.00       │\n",
       "│ 25%    │ 15.01      │\n",
       "│ 50%    │ 52.73      │\n",
       "│ 75%    │ 117.42     │\n",
       "│ max    │ 1527.65    │\n",
       "└────────┴────────────┘\n"
      ]
     },
     "metadata": {},
     "output_type": "display_data"
    }
   ],
   "source": [
    "# 6. Session Analysis\n",
    "console.print(\"\\n[bold bright_green]6. Session Analysis[/bold bright_green]\", style=\"bold\")\n",
    "console.print(\"\\n[bright_yellow]Session Duration Statistics (in minutes):[/bright_yellow]\")\n",
    "stats_table = Table(show_header=True, header_style=\"bold bright_yellow\")\n",
    "stats_table.add_column(\"Metric\")\n",
    "stats_table.add_column(\"Value\")\n",
    "\n",
    "session_stats = df['session_duration'].dt.total_seconds().div(60).describe()\n",
    "for stat, value in session_stats.items():\n",
    "    stats_table.add_row(stat, f\"{value:.2f}\")\n",
    "\n",
    "console.print(stats_table)"
   ]
  },
  {
   "cell_type": "code",
   "execution_count": 138,
   "metadata": {},
   "outputs": [
    {
     "data": {
      "image/png": "[encoded data removed]",
      "text/plain": [
       "<Figure size 1200x600 with 1 Axes>"
      ]
     },
     "metadata": {},
     "output_type": "display_data"
    },
    {
     "data": {
      "image/png": "[encoded data removed]",
      "text/plain": [
       "<Figure size 1200x600 with 1 Axes>"
      ]
     },
     "metadata": {},
     "output_type": "display_data"
    },
    {
     "data": {
      "image/png": "[encoded data removed]",
      "text/plain": [
       "<Figure size 1000x600 with 1 Axes>"
      ]
     },
     "metadata": {},
     "output_type": "display_data"
    }
   ],
   "source": [
    "# 7. Create some visualizations using matplotlib\n",
    "import matplotlib.pyplot as plt\n",
    "\n",
    "# Events by Hour\n",
    "plt.figure(figsize=(12, 6))\n",
    "df['hour'].value_counts().sort_index().plot(kind='bar')\n",
    "plt.title('Events Distribution by Hour')\n",
    "plt.xlabel('Hour of Day')\n",
    "plt.ylabel('Number of Events')\n",
    "plt.show()\n",
    "\n",
    "# Session Duration Distribution\n",
    "plt.figure(figsize=(12, 6))\n",
    "df['session_duration'].dt.total_seconds().div(60).hist(bins=50)\n",
    "plt.title('Session Duration Distribution')\n",
    "plt.xlabel('Duration (minutes)')\n",
    "plt.ylabel('Frequency')\n",
    "plt.show()\n",
    "\n",
    "# Device Family Distribution\n",
    "plt.figure(figsize=(10, 6))\n",
    "df['device_family'].value_counts().plot(kind='pie', autopct='%1.1f%%')\n",
    "plt.title('Device Family Distribution')\n",
    "plt.show()"
   ]
  },
  {
   "cell_type": "code",
   "execution_count": 139,
   "metadata": {},
   "outputs": [
    {
     "data": {
      "text/html": [
       "<pre style=\"white-space:pre;overflow-x:auto;line-height:normal;font-family:Menlo,'DejaVu Sans Mono',consolas,'Courier New',monospace\">\n",
       "<span style=\"color: #00ff00; text-decoration-color: #00ff00; font-weight: bold\">8</span><span style=\"color: #00ff00; text-decoration-color: #00ff00; font-weight: bold\">. Statistical Summary</span>\n",
       "</pre>\n"
      ],
      "text/plain": [
       "\n",
       "\u001b[1;92m8\u001b[0m\u001b[1;92m. Statistical Summary\u001b[0m\n"
      ]
     },
     "metadata": {},
     "output_type": "display_data"
    },
    {
     "data": {
      "text/html": [
       "<pre style=\"white-space:pre;overflow-x:auto;line-height:normal;font-family:Menlo,'DejaVu Sans Mono',consolas,'Courier New',monospace\">\n",
       "<span style=\"color: #ffff00; text-decoration-color: #ffff00\">Numeric Columns Summary:</span>\n",
       "</pre>\n"
      ],
      "text/plain": [
       "\n",
       "\u001b[93mNumeric Columns Summary:\u001b[0m\n"
      ]
     },
     "metadata": {},
     "output_type": "display_data"
    },
    {
     "data": {
      "text/html": [
       "<pre style=\"white-space:pre;overflow-x:auto;line-height:normal;font-family:Menlo,'DejaVu Sans Mono',consolas,'Courier New',monospace\">╭─────────────────────────────────────────────────────────────────────────────────────────────────────────────────╮\n",
       "│        amplitude_id        app      event_id    os_version    session_id                                        │\n",
       "│ count  1.850109e+06  1850109.0  1.850109e+06  1.850109e+06  1.850109e+06                                        │\n",
       "│ mean   9.249715e+11   591532.0  2.467088e+04  1.309072e+02  1.736952e+12                                        │\n",
       "│ std    8.423445e+10        0.0  2.962611e+04  4.288231e+00  7.897269e+08                                        │\n",
       "│ min    8.575404e+11   591532.0  0.000000e+00  4.000000e+00  1.713878e+12                                        │\n",
       "│ 25%    8.575405e+11   591532.0  5.088000e+03  1.310000e+02  1.736367e+12                                        │\n",
       "│ 50%    8.642186e+11   591532.0  1.448900e+04  1.310000e+02  1.736951e+12                                        │\n",
       "│ 75%    1.018933e+12   591532.0  3.473700e+04  1.310000e+02  1.737569e+12                                        │\n",
       "│ max    1.110665e+12   591532.0  1.977430e+05  1.340000e+02  1.738098e+12                                        │\n",
       "╰─────────────────────────────────────────────────────────────────────────────────────────────────────────────────╯\n",
       "</pre>\n"
      ],
      "text/plain": [
       "╭─────────────────────────────────────────────────────────────────────────────────────────────────────────────────╮\n",
       "│        amplitude_id        app      event_id    os_version    session_id                                        │\n",
       "│ count  1.850109e+06  1850109.0  1.850109e+06  1.850109e+06  1.850109e+06                                        │\n",
       "│ mean   9.249715e+11   591532.0  2.467088e+04  1.309072e+02  1.736952e+12                                        │\n",
       "│ std    8.423445e+10        0.0  2.962611e+04  4.288231e+00  7.897269e+08                                        │\n",
       "│ min    8.575404e+11   591532.0  0.000000e+00  4.000000e+00  1.713878e+12                                        │\n",
       "│ 25%    8.575405e+11   591532.0  5.088000e+03  1.310000e+02  1.736367e+12                                        │\n",
       "│ 50%    8.642186e+11   591532.0  1.448900e+04  1.310000e+02  1.736951e+12                                        │\n",
       "│ 75%    1.018933e+12   591532.0  3.473700e+04  1.310000e+02  1.737569e+12                                        │\n",
       "│ max    1.110665e+12   591532.0  1.977430e+05  1.340000e+02  1.738098e+12                                        │\n",
       "╰─────────────────────────────────────────────────────────────────────────────────────────────────────────────────╯\n"
      ]
     },
     "metadata": {},
     "output_type": "display_data"
    }
   ],
   "source": [
    "# 8. Statistical Summary\n",
    "console.print(\"\\n[bold bright_green]8. Statistical Summary[/bold bright_green]\", style=\"bold\")\n",
    "numeric_cols = df.select_dtypes(include=['int64', 'float64']).columns\n",
    "console.print(\"\\n[bright_yellow]Numeric Columns Summary:[/bright_yellow]\")\n",
    "stats_df = df[numeric_cols].describe()\n",
    "console.print(Panel(str(stats_df)))"
   ]
  },
  {
   "cell_type": "code",
   "execution_count": 140,
   "metadata": {},
   "outputs": [
    {
     "data": {
      "text/html": [
       "<pre style=\"white-space:pre;overflow-x:auto;line-height:normal;font-family:Menlo,'DejaVu Sans Mono',consolas,'Courier New',monospace\">\n",
       "<span style=\"color: #00ff00; text-decoration-color: #00ff00; font-weight: bold\">9</span><span style=\"color: #00ff00; text-decoration-color: #00ff00; font-weight: bold\">. Correlation Analysis</span>\n",
       "</pre>\n"
      ],
      "text/plain": [
       "\n",
       "\u001b[1;92m9\u001b[0m\u001b[1;92m. Correlation Analysis\u001b[0m\n"
      ]
     },
     "metadata": {},
     "output_type": "display_data"
    },
    {
     "data": {
      "text/html": [
       "<pre style=\"white-space:pre;overflow-x:auto;line-height:normal;font-family:Menlo,'DejaVu Sans Mono',consolas,'Courier New',monospace\">\n",
       "<span style=\"color: #ffff00; text-decoration-color: #ffff00\">Correlation Matrix:</span>\n",
       "</pre>\n"
      ],
      "text/plain": [
       "\n",
       "\u001b[93mCorrelation Matrix:\u001b[0m\n"
      ]
     },
     "metadata": {},
     "output_type": "display_data"
    },
    {
     "data": {
      "text/html": [
       "<pre style=\"white-space:pre;overflow-x:auto;line-height:normal;font-family:Menlo,'DejaVu Sans Mono',consolas,'Courier New',monospace\">╭─────────────────────────────────────────────────────────────────────────────────────────────────────────────────╮\n",
       "│               amplitude_id  app  event_id  os_version  session_id                                               │\n",
       "│ amplitude_id          1.00  NaN     -0.24       -0.00        0.04                                               │\n",
       "│ app                    NaN  NaN       NaN         NaN         NaN                                               │\n",
       "│ event_id             -0.24  NaN      1.00        0.04        0.04                                               │\n",
       "│ os_version           -0.00  NaN      0.04        1.00        0.04                                               │\n",
       "│ session_id            0.04  NaN      0.04        0.04        1.00                                               │\n",
       "╰─────────────────────────────────────────────────────────────────────────────────────────────────────────────────╯\n",
       "</pre>\n"
      ],
      "text/plain": [
       "╭─────────────────────────────────────────────────────────────────────────────────────────────────────────────────╮\n",
       "│               amplitude_id  app  event_id  os_version  session_id                                               │\n",
       "│ amplitude_id          1.00  NaN     -0.24       -0.00        0.04                                               │\n",
       "│ app                    NaN  NaN       NaN         NaN         NaN                                               │\n",
       "│ event_id             -0.24  NaN      1.00        0.04        0.04                                               │\n",
       "│ os_version           -0.00  NaN      0.04        1.00        0.04                                               │\n",
       "│ session_id            0.04  NaN      0.04        0.04        1.00                                               │\n",
       "╰─────────────────────────────────────────────────────────────────────────────────────────────────────────────────╯\n"
      ]
     },
     "metadata": {},
     "output_type": "display_data"
    }
   ],
   "source": [
    "# 9. Correlation Analysis\n",
    "console.print(\"\\n[bold bright_green]9. Correlation Analysis[/bold bright_green]\", style=\"bold\")\n",
    "if len(numeric_cols) > 1:\n",
    "    correlation = df[numeric_cols].corr()\n",
    "    console.print(\"\\n[bright_yellow]Correlation Matrix:[/bright_yellow]\")\n",
    "    console.print(Panel(str(correlation.round(2))))"
   ]
  },
  {
   "cell_type": "code",
   "execution_count": 141,
   "metadata": {},
   "outputs": [
    {
     "data": {
      "text/html": [
       "<pre style=\"white-space:pre;overflow-x:auto;line-height:normal;font-family:Menlo,'DejaVu Sans Mono',consolas,'Courier New',monospace\">\n",
       "<span style=\"color: #00ff00; text-decoration-color: #00ff00; font-weight: bold\">10</span><span style=\"color: #00ff00; text-decoration-color: #00ff00; font-weight: bold\">. Category Analysis</span>\n",
       "</pre>\n"
      ],
      "text/plain": [
       "\n",
       "\u001b[1;92m10\u001b[0m\u001b[1;92m. Category Analysis\u001b[0m\n"
      ]
     },
     "metadata": {},
     "output_type": "display_data"
    },
    {
     "data": {
      "text/html": [
       "<pre style=\"white-space:pre;overflow-x:auto;line-height:normal;font-family:Menlo,'DejaVu Sans Mono',consolas,'Courier New',monospace\">\n",
       "<span style=\"color: #ffff00; text-decoration-color: #ffff00\">Distribution of $insert_id:</span>\n",
       "</pre>\n"
      ],
      "text/plain": [
       "\n",
       "\u001b[93mDistribution of $insert_id:\u001b[0m\n"
      ]
     },
     "metadata": {},
     "output_type": "display_data"
    },
    {
     "data": {
      "text/html": [
       "<pre style=\"white-space:pre;overflow-x:auto;line-height:normal;font-family:Menlo,'DejaVu Sans Mono',consolas,'Courier New',monospace\">┏━━━━━━━━━━━━━━━━━━━━━━━━━━━━━━━━━━━━━━┳━━━━━━━┳━━━━━━━━━━━━┓\n",
       "┃<span style=\"color: #ffff00; text-decoration-color: #ffff00; font-weight: bold\"> Category                             </span>┃<span style=\"color: #ffff00; text-decoration-color: #ffff00; font-weight: bold\"> Count </span>┃<span style=\"color: #ffff00; text-decoration-color: #ffff00; font-weight: bold\"> Percentage </span>┃\n",
       "┡━━━━━━━━━━━━━━━━━━━━━━━━━━━━━━━━━━━━━━╇━━━━━━━╇━━━━━━━━━━━━┩\n",
       "│ 77c8efdb-f5bc-4a17-a59d-e9813cd39270 │ 2     │ 0.00%      │\n",
       "│ 538ab3f8-09df-4750-90e0-abe8ad8f6a0c │ 1     │ 0.00%      │\n",
       "│ 5dae3311-affb-422c-8fec-1c5539b68912 │ 1     │ 0.00%      │\n",
       "│ 5df0bfb2-6999-43fb-b883-17ef72d258ad │ 1     │ 0.00%      │\n",
       "│ 522d2ce9-6ba9-49ae-9add-cbae2861755d │ 1     │ 0.00%      │\n",
       "│ 5f811132-d67d-4139-9cc6-d93ac287f844 │ 1     │ 0.00%      │\n",
       "│ 3568cc57-a8d6-4748-8d09-51f49a66425d │ 1     │ 0.00%      │\n",
       "│ 84953257-d359-45db-abaf-a60e6934ae2b │ 1     │ 0.00%      │\n",
       "│ 31b62123-c9ae-48b2-b774-4e129edc59c0 │ 1     │ 0.00%      │\n",
       "│ 6570d130-dc26-4d32-8138-aacb117a4633 │ 1     │ 0.00%      │\n",
       "└──────────────────────────────────────┴───────┴────────────┘\n",
       "</pre>\n"
      ],
      "text/plain": [
       "┏━━━━━━━━━━━━━━━━━━━━━━━━━━━━━━━━━━━━━━┳━━━━━━━┳━━━━━━━━━━━━┓\n",
       "┃\u001b[1;93m \u001b[0m\u001b[1;93mCategory                            \u001b[0m\u001b[1;93m \u001b[0m┃\u001b[1;93m \u001b[0m\u001b[1;93mCount\u001b[0m\u001b[1;93m \u001b[0m┃\u001b[1;93m \u001b[0m\u001b[1;93mPercentage\u001b[0m\u001b[1;93m \u001b[0m┃\n",
       "┡━━━━━━━━━━━━━━━━━━━━━━━━━━━━━━━━━━━━━━╇━━━━━━━╇━━━━━━━━━━━━┩\n",
       "│ 77c8efdb-f5bc-4a17-a59d-e9813cd39270 │ 2     │ 0.00%      │\n",
       "│ 538ab3f8-09df-4750-90e0-abe8ad8f6a0c │ 1     │ 0.00%      │\n",
       "│ 5dae3311-affb-422c-8fec-1c5539b68912 │ 1     │ 0.00%      │\n",
       "│ 5df0bfb2-6999-43fb-b883-17ef72d258ad │ 1     │ 0.00%      │\n",
       "│ 522d2ce9-6ba9-49ae-9add-cbae2861755d │ 1     │ 0.00%      │\n",
       "│ 5f811132-d67d-4139-9cc6-d93ac287f844 │ 1     │ 0.00%      │\n",
       "│ 3568cc57-a8d6-4748-8d09-51f49a66425d │ 1     │ 0.00%      │\n",
       "│ 84953257-d359-45db-abaf-a60e6934ae2b │ 1     │ 0.00%      │\n",
       "│ 31b62123-c9ae-48b2-b774-4e129edc59c0 │ 1     │ 0.00%      │\n",
       "│ 6570d130-dc26-4d32-8138-aacb117a4633 │ 1     │ 0.00%      │\n",
       "└──────────────────────────────────────┴───────┴────────────┘\n"
      ]
     },
     "metadata": {},
     "output_type": "display_data"
    },
    {
     "data": {
      "text/html": [
       "<pre style=\"white-space:pre;overflow-x:auto;line-height:normal;font-family:Menlo,'DejaVu Sans Mono',consolas,'Courier New',monospace\">\n",
       "<span style=\"color: #ffff00; text-decoration-color: #ffff00\">Distribution of city:</span>\n",
       "</pre>\n"
      ],
      "text/plain": [
       "\n",
       "\u001b[93mDistribution of city:\u001b[0m\n"
      ]
     },
     "metadata": {},
     "output_type": "display_data"
    },
    {
     "data": {
      "text/html": [
       "<pre style=\"white-space:pre;overflow-x:auto;line-height:normal;font-family:Menlo,'DejaVu Sans Mono',consolas,'Courier New',monospace\">┏━━━━━━━━━━━━━┳━━━━━━━━┳━━━━━━━━━━━━┓\n",
       "┃<span style=\"color: #ffff00; text-decoration-color: #ffff00; font-weight: bold\"> Category    </span>┃<span style=\"color: #ffff00; text-decoration-color: #ffff00; font-weight: bold\"> Count  </span>┃<span style=\"color: #ffff00; text-decoration-color: #ffff00; font-weight: bold\"> Percentage </span>┃\n",
       "┡━━━━━━━━━━━━━╇━━━━━━━━╇━━━━━━━━━━━━┩\n",
       "│ Mumbai      │ 399477 │ 21.59%     │\n",
       "│ Nashville   │ 286693 │ 15.50%     │\n",
       "│ Spring Hill │ 74781  │ 4.04%      │\n",
       "│ Chicago     │ 71692  │ 3.88%      │\n",
       "│ Birmingham  │ 49854  │ 2.69%      │\n",
       "│ Greenville  │ 45706  │ 2.47%      │\n",
       "│ Alexandria  │ 38848  │ 2.10%      │\n",
       "│ Wroclaw     │ 33788  │ 1.83%      │\n",
       "│ Phoenix     │ 31894  │ 1.72%      │\n",
       "│ Des Moines  │ 27699  │ 1.50%      │\n",
       "└─────────────┴────────┴────────────┘\n",
       "</pre>\n"
      ],
      "text/plain": [
       "┏━━━━━━━━━━━━━┳━━━━━━━━┳━━━━━━━━━━━━┓\n",
       "┃\u001b[1;93m \u001b[0m\u001b[1;93mCategory   \u001b[0m\u001b[1;93m \u001b[0m┃\u001b[1;93m \u001b[0m\u001b[1;93mCount \u001b[0m\u001b[1;93m \u001b[0m┃\u001b[1;93m \u001b[0m\u001b[1;93mPercentage\u001b[0m\u001b[1;93m \u001b[0m┃\n",
       "┡━━━━━━━━━━━━━╇━━━━━━━━╇━━━━━━━━━━━━┩\n",
       "│ Mumbai      │ 399477 │ 21.59%     │\n",
       "│ Nashville   │ 286693 │ 15.50%     │\n",
       "│ Spring Hill │ 74781  │ 4.04%      │\n",
       "│ Chicago     │ 71692  │ 3.88%      │\n",
       "│ Birmingham  │ 49854  │ 2.69%      │\n",
       "│ Greenville  │ 45706  │ 2.47%      │\n",
       "│ Alexandria  │ 38848  │ 2.10%      │\n",
       "│ Wroclaw     │ 33788  │ 1.83%      │\n",
       "│ Phoenix     │ 31894  │ 1.72%      │\n",
       "│ Des Moines  │ 27699  │ 1.50%      │\n",
       "└─────────────┴────────┴────────────┘\n"
      ]
     },
     "metadata": {},
     "output_type": "display_data"
    },
    {
     "data": {
      "text/html": [
       "<pre style=\"white-space:pre;overflow-x:auto;line-height:normal;font-family:Menlo,'DejaVu Sans Mono',consolas,'Courier New',monospace\">\n",
       "<span style=\"color: #ffff00; text-decoration-color: #ffff00\">Distribution of country:</span>\n",
       "</pre>\n"
      ],
      "text/plain": [
       "\n",
       "\u001b[93mDistribution of country:\u001b[0m\n"
      ]
     },
     "metadata": {},
     "output_type": "display_data"
    },
    {
     "data": {
      "text/html": [
       "<pre style=\"white-space:pre;overflow-x:auto;line-height:normal;font-family:Menlo,'DejaVu Sans Mono',consolas,'Courier New',monospace\">┏━━━━━━━━━━━━━━━━┳━━━━━━━━━┳━━━━━━━━━━━━┓\n",
       "┃<span style=\"color: #ffff00; text-decoration-color: #ffff00; font-weight: bold\"> Category       </span>┃<span style=\"color: #ffff00; text-decoration-color: #ffff00; font-weight: bold\"> Count   </span>┃<span style=\"color: #ffff00; text-decoration-color: #ffff00; font-weight: bold\"> Percentage </span>┃\n",
       "┡━━━━━━━━━━━━━━━━╇━━━━━━━━━╇━━━━━━━━━━━━┩\n",
       "│ United States  │ 1370823 │ 74.09%     │\n",
       "│ India          │ 399503  │ 21.59%     │\n",
       "│ Poland         │ 52844   │ 2.86%      │\n",
       "│ Canada         │ 23210   │ 1.25%      │\n",
       "│ Mexico         │ 2782    │ 0.15%      │\n",
       "│ United Kingdom │ 526     │ 0.03%      │\n",
       "│ Costa Rica     │ 167     │ 0.01%      │\n",
       "│ Singapore      │ 101     │ 0.01%      │\n",
       "│ France         │ 78      │ 0.00%      │\n",
       "│ Puerto Rico    │ 27      │ 0.00%      │\n",
       "└────────────────┴─────────┴────────────┘\n",
       "</pre>\n"
      ],
      "text/plain": [
       "┏━━━━━━━━━━━━━━━━┳━━━━━━━━━┳━━━━━━━━━━━━┓\n",
       "┃\u001b[1;93m \u001b[0m\u001b[1;93mCategory      \u001b[0m\u001b[1;93m \u001b[0m┃\u001b[1;93m \u001b[0m\u001b[1;93mCount  \u001b[0m\u001b[1;93m \u001b[0m┃\u001b[1;93m \u001b[0m\u001b[1;93mPercentage\u001b[0m\u001b[1;93m \u001b[0m┃\n",
       "┡━━━━━━━━━━━━━━━━╇━━━━━━━━━╇━━━━━━━━━━━━┩\n",
       "│ United States  │ 1370823 │ 74.09%     │\n",
       "│ India          │ 399503  │ 21.59%     │\n",
       "│ Poland         │ 52844   │ 2.86%      │\n",
       "│ Canada         │ 23210   │ 1.25%      │\n",
       "│ Mexico         │ 2782    │ 0.15%      │\n",
       "│ United Kingdom │ 526     │ 0.03%      │\n",
       "│ Costa Rica     │ 167     │ 0.01%      │\n",
       "│ Singapore      │ 101     │ 0.01%      │\n",
       "│ France         │ 78      │ 0.00%      │\n",
       "│ Puerto Rico    │ 27      │ 0.00%      │\n",
       "└────────────────┴─────────┴────────────┘\n"
      ]
     },
     "metadata": {},
     "output_type": "display_data"
    },
    {
     "data": {
      "text/html": [
       "<pre style=\"white-space:pre;overflow-x:auto;line-height:normal;font-family:Menlo,'DejaVu Sans Mono',consolas,'Courier New',monospace\">\n",
       "<span style=\"color: #ffff00; text-decoration-color: #ffff00\">Distribution of data:</span>\n",
       "</pre>\n"
      ],
      "text/plain": [
       "\n",
       "\u001b[93mDistribution of data:\u001b[0m\n"
      ]
     },
     "metadata": {},
     "output_type": "display_data"
    },
    {
     "data": {
      "text/html": [
       "<pre style=\"white-space:pre;overflow-x:auto;line-height:normal;font-family:Menlo,'DejaVu Sans Mono',consolas,'Courier New',monospace\">┏━━━━━━━━━━━━━━━━━━━━━━━━━━━━━━━━━━━━━━━━━━━━━━━━━━━━━━━━━━━━━━━━━━━━━━━━━━━━━━━━━━━━━━━━━━┳━━━━━━━━━┳━━━━━━━━━━━━┓\n",
       "┃<span style=\"color: #ffff00; text-decoration-color: #ffff00; font-weight: bold\"> Category                                                                                 </span>┃<span style=\"color: #ffff00; text-decoration-color: #ffff00; font-weight: bold\"> Count   </span>┃<span style=\"color: #ffff00; text-decoration-color: #ffff00; font-weight: bold\"> Percentage </span>┃\n",
       "┡━━━━━━━━━━━━━━━━━━━━━━━━━━━━━━━━━━━━━━━━━━━━━━━━━━━━━━━━━━━━━━━━━━━━━━━━━━━━━━━━━━━━━━━━━━╇━━━━━━━━━╇━━━━━━━━━━━━┩\n",
       "│ {'path': '/2/httpapi', 'group_first_event': {}, 'group_ids': {}}                         │ 1830130 │ 98.92%     │\n",
       "│ {'path': '/2/httpapi', 'user_properties_updated': 'True', 'group_first_event': {},       │ 19979   │ 1.08%      │\n",
       "│ 'group_ids': {}}                                                                         │         │            │\n",
       "└──────────────────────────────────────────────────────────────────────────────────────────┴─────────┴────────────┘\n",
       "</pre>\n"
      ],
      "text/plain": [
       "┏━━━━━━━━━━━━━━━━━━━━━━━━━━━━━━━━━━━━━━━━━━━━━━━━━━━━━━━━━━━━━━━━━━━━━━━━━━━━━━━━━━━━━━━━━━┳━━━━━━━━━┳━━━━━━━━━━━━┓\n",
       "┃\u001b[1;93m \u001b[0m\u001b[1;93mCategory                                                                                \u001b[0m\u001b[1;93m \u001b[0m┃\u001b[1;93m \u001b[0m\u001b[1;93mCount  \u001b[0m\u001b[1;93m \u001b[0m┃\u001b[1;93m \u001b[0m\u001b[1;93mPercentage\u001b[0m\u001b[1;93m \u001b[0m┃\n",
       "┡━━━━━━━━━━━━━━━━━━━━━━━━━━━━━━━━━━━━━━━━━━━━━━━━━━━━━━━━━━━━━━━━━━━━━━━━━━━━━━━━━━━━━━━━━━╇━━━━━━━━━╇━━━━━━━━━━━━┩\n",
       "│ {'path': '/2/httpapi', 'group_first_event': {}, 'group_ids': {}}                         │ 1830130 │ 98.92%     │\n",
       "│ {'path': '/2/httpapi', 'user_properties_updated': 'True', 'group_first_event': {},       │ 19979   │ 1.08%      │\n",
       "│ 'group_ids': {}}                                                                         │         │            │\n",
       "└──────────────────────────────────────────────────────────────────────────────────────────┴─────────┴────────────┘\n"
      ]
     },
     "metadata": {},
     "output_type": "display_data"
    },
    {
     "data": {
      "text/html": [
       "<pre style=\"white-space:pre;overflow-x:auto;line-height:normal;font-family:Menlo,'DejaVu Sans Mono',consolas,'Courier New',monospace\">\n",
       "<span style=\"color: #ffff00; text-decoration-color: #ffff00\">Distribution of data_type:</span>\n",
       "</pre>\n"
      ],
      "text/plain": [
       "\n",
       "\u001b[93mDistribution of data_type:\u001b[0m\n"
      ]
     },
     "metadata": {},
     "output_type": "display_data"
    },
    {
     "data": {
      "text/html": [
       "<pre style=\"white-space:pre;overflow-x:auto;line-height:normal;font-family:Menlo,'DejaVu Sans Mono',consolas,'Courier New',monospace\">┏━━━━━━━━━━┳━━━━━━━━━┳━━━━━━━━━━━━┓\n",
       "┃<span style=\"color: #ffff00; text-decoration-color: #ffff00; font-weight: bold\"> Category </span>┃<span style=\"color: #ffff00; text-decoration-color: #ffff00; font-weight: bold\"> Count   </span>┃<span style=\"color: #ffff00; text-decoration-color: #ffff00; font-weight: bold\"> Percentage </span>┃\n",
       "┡━━━━━━━━━━╇━━━━━━━━━╇━━━━━━━━━━━━┩\n",
       "│ event    │ 1850109 │ 100.00%    │\n",
       "└──────────┴─────────┴────────────┘\n",
       "</pre>\n"
      ],
      "text/plain": [
       "┏━━━━━━━━━━┳━━━━━━━━━┳━━━━━━━━━━━━┓\n",
       "┃\u001b[1;93m \u001b[0m\u001b[1;93mCategory\u001b[0m\u001b[1;93m \u001b[0m┃\u001b[1;93m \u001b[0m\u001b[1;93mCount  \u001b[0m\u001b[1;93m \u001b[0m┃\u001b[1;93m \u001b[0m\u001b[1;93mPercentage\u001b[0m\u001b[1;93m \u001b[0m┃\n",
       "┡━━━━━━━━━━╇━━━━━━━━━╇━━━━━━━━━━━━┩\n",
       "│ event    │ 1850109 │ 100.00%    │\n",
       "└──────────┴─────────┴────────────┘\n"
      ]
     },
     "metadata": {},
     "output_type": "display_data"
    },
    {
     "data": {
      "text/html": [
       "<pre style=\"white-space:pre;overflow-x:auto;line-height:normal;font-family:Menlo,'DejaVu Sans Mono',consolas,'Courier New',monospace\">\n",
       "<span style=\"color: #ffff00; text-decoration-color: #ffff00\">Distribution of device_family:</span>\n",
       "</pre>\n"
      ],
      "text/plain": [
       "\n",
       "\u001b[93mDistribution of device_family:\u001b[0m\n"
      ]
     },
     "metadata": {},
     "output_type": "display_data"
    },
    {
     "data": {
      "text/html": [
       "<pre style=\"white-space:pre;overflow-x:auto;line-height:normal;font-family:Menlo,'DejaVu Sans Mono',consolas,'Courier New',monospace\">┏━━━━━━━━━━┳━━━━━━━━━┳━━━━━━━━━━━━┓\n",
       "┃<span style=\"color: #ffff00; text-decoration-color: #ffff00; font-weight: bold\"> Category </span>┃<span style=\"color: #ffff00; text-decoration-color: #ffff00; font-weight: bold\"> Count   </span>┃<span style=\"color: #ffff00; text-decoration-color: #ffff00; font-weight: bold\"> Percentage </span>┃\n",
       "┡━━━━━━━━━━╇━━━━━━━━━╇━━━━━━━━━━━━┩\n",
       "│ Windows  │ 1513654 │ 81.81%     │\n",
       "│ Mac OS X │ 288172  │ 15.58%     │\n",
       "│ Linux    │ 46239   │ 2.50%      │\n",
       "│ iOS      │ 2021    │ 0.11%      │\n",
       "│ Android  │ 23      │ 0.00%      │\n",
       "└──────────┴─────────┴────────────┘\n",
       "</pre>\n"
      ],
      "text/plain": [
       "┏━━━━━━━━━━┳━━━━━━━━━┳━━━━━━━━━━━━┓\n",
       "┃\u001b[1;93m \u001b[0m\u001b[1;93mCategory\u001b[0m\u001b[1;93m \u001b[0m┃\u001b[1;93m \u001b[0m\u001b[1;93mCount  \u001b[0m\u001b[1;93m \u001b[0m┃\u001b[1;93m \u001b[0m\u001b[1;93mPercentage\u001b[0m\u001b[1;93m \u001b[0m┃\n",
       "┡━━━━━━━━━━╇━━━━━━━━━╇━━━━━━━━━━━━┩\n",
       "│ Windows  │ 1513654 │ 81.81%     │\n",
       "│ Mac OS X │ 288172  │ 15.58%     │\n",
       "│ Linux    │ 46239   │ 2.50%      │\n",
       "│ iOS      │ 2021    │ 0.11%      │\n",
       "│ Android  │ 23      │ 0.00%      │\n",
       "└──────────┴─────────┴────────────┘\n"
      ]
     },
     "metadata": {},
     "output_type": "display_data"
    },
    {
     "data": {
      "text/html": [
       "<pre style=\"white-space:pre;overflow-x:auto;line-height:normal;font-family:Menlo,'DejaVu Sans Mono',consolas,'Courier New',monospace\">\n",
       "<span style=\"color: #ffff00; text-decoration-color: #ffff00\">Distribution of device_id:</span>\n",
       "</pre>\n"
      ],
      "text/plain": [
       "\n",
       "\u001b[93mDistribution of device_id:\u001b[0m\n"
      ]
     },
     "metadata": {},
     "output_type": "display_data"
    },
    {
     "data": {
      "text/html": [
       "<pre style=\"white-space:pre;overflow-x:auto;line-height:normal;font-family:Menlo,'DejaVu Sans Mono',consolas,'Courier New',monospace\">┏━━━━━━━━━━━━━━━━━━━━━━━━━━━━━━━━━━━━━━┳━━━━━━━┳━━━━━━━━━━━━┓\n",
       "┃<span style=\"color: #ffff00; text-decoration-color: #ffff00; font-weight: bold\"> Category                             </span>┃<span style=\"color: #ffff00; text-decoration-color: #ffff00; font-weight: bold\"> Count </span>┃<span style=\"color: #ffff00; text-decoration-color: #ffff00; font-weight: bold\"> Percentage </span>┃\n",
       "┡━━━━━━━━━━━━━━━━━━━━━━━━━━━━━━━━━━━━━━╇━━━━━━━╇━━━━━━━━━━━━┩\n",
       "│ 3aec3262-1bdd-4f39-ae25-5df72f3fbae6 │ 24486 │ 1.32%      │\n",
       "│ a8806aff-7404-4c48-96f3-6bce38fe5f66 │ 22406 │ 1.21%      │\n",
       "│ 3630e88e-c688-4abc-b81d-11da1cbebf47 │ 21747 │ 1.18%      │\n",
       "│ 08deb711-f4f2-40f6-8939-e1673bf4e84c │ 21036 │ 1.14%      │\n",
       "│ 107661f8-dbfb-4e97-9ad4-b97218423080 │ 20382 │ 1.10%      │\n",
       "│ 0e96d208-bf73-44c8-be78-a74c1123c3f9 │ 20371 │ 1.10%      │\n",
       "│ f32dd30f-34a2-48a9-8905-cce8ab9ec449 │ 19966 │ 1.08%      │\n",
       "│ a8bf97c2-480e-41a2-bce9-9b54b4c10b01 │ 17661 │ 0.95%      │\n",
       "│ d74d587c-f0b5-4a9e-8e56-cd0801842932 │ 17093 │ 0.92%      │\n",
       "│ 5bb73f50-5f95-4c9f-92a8-a81b65f6bda1 │ 16073 │ 0.87%      │\n",
       "└──────────────────────────────────────┴───────┴────────────┘\n",
       "</pre>\n"
      ],
      "text/plain": [
       "┏━━━━━━━━━━━━━━━━━━━━━━━━━━━━━━━━━━━━━━┳━━━━━━━┳━━━━━━━━━━━━┓\n",
       "┃\u001b[1;93m \u001b[0m\u001b[1;93mCategory                            \u001b[0m\u001b[1;93m \u001b[0m┃\u001b[1;93m \u001b[0m\u001b[1;93mCount\u001b[0m\u001b[1;93m \u001b[0m┃\u001b[1;93m \u001b[0m\u001b[1;93mPercentage\u001b[0m\u001b[1;93m \u001b[0m┃\n",
       "┡━━━━━━━━━━━━━━━━━━━━━━━━━━━━━━━━━━━━━━╇━━━━━━━╇━━━━━━━━━━━━┩\n",
       "│ 3aec3262-1bdd-4f39-ae25-5df72f3fbae6 │ 24486 │ 1.32%      │\n",
       "│ a8806aff-7404-4c48-96f3-6bce38fe5f66 │ 22406 │ 1.21%      │\n",
       "│ 3630e88e-c688-4abc-b81d-11da1cbebf47 │ 21747 │ 1.18%      │\n",
       "│ 08deb711-f4f2-40f6-8939-e1673bf4e84c │ 21036 │ 1.14%      │\n",
       "│ 107661f8-dbfb-4e97-9ad4-b97218423080 │ 20382 │ 1.10%      │\n",
       "│ 0e96d208-bf73-44c8-be78-a74c1123c3f9 │ 20371 │ 1.10%      │\n",
       "│ f32dd30f-34a2-48a9-8905-cce8ab9ec449 │ 19966 │ 1.08%      │\n",
       "│ a8bf97c2-480e-41a2-bce9-9b54b4c10b01 │ 17661 │ 0.95%      │\n",
       "│ d74d587c-f0b5-4a9e-8e56-cd0801842932 │ 17093 │ 0.92%      │\n",
       "│ 5bb73f50-5f95-4c9f-92a8-a81b65f6bda1 │ 16073 │ 0.87%      │\n",
       "└──────────────────────────────────────┴───────┴────────────┘\n"
      ]
     },
     "metadata": {},
     "output_type": "display_data"
    },
    {
     "data": {
      "text/html": [
       "<pre style=\"white-space:pre;overflow-x:auto;line-height:normal;font-family:Menlo,'DejaVu Sans Mono',consolas,'Courier New',monospace\">\n",
       "<span style=\"color: #ffff00; text-decoration-color: #ffff00\">Distribution of device_type:</span>\n",
       "</pre>\n"
      ],
      "text/plain": [
       "\n",
       "\u001b[93mDistribution of device_type:\u001b[0m\n"
      ]
     },
     "metadata": {},
     "output_type": "display_data"
    },
    {
     "data": {
      "text/html": [
       "<pre style=\"white-space:pre;overflow-x:auto;line-height:normal;font-family:Menlo,'DejaVu Sans Mono',consolas,'Courier New',monospace\">┏━━━━━━━━━━┳━━━━━━━━━┳━━━━━━━━━━━━┓\n",
       "┃<span style=\"color: #ffff00; text-decoration-color: #ffff00; font-weight: bold\"> Category </span>┃<span style=\"color: #ffff00; text-decoration-color: #ffff00; font-weight: bold\"> Count   </span>┃<span style=\"color: #ffff00; text-decoration-color: #ffff00; font-weight: bold\"> Percentage </span>┃\n",
       "┡━━━━━━━━━━╇━━━━━━━━━╇━━━━━━━━━━━━┩\n",
       "│ Windows  │ 1513654 │ 81.81%     │\n",
       "│ Linux    │ 46239   │ 2.50%      │\n",
       "│ Android  │ 23      │ 0.00%      │\n",
       "└──────────┴─────────┴────────────┘\n",
       "</pre>\n"
      ],
      "text/plain": [
       "┏━━━━━━━━━━┳━━━━━━━━━┳━━━━━━━━━━━━┓\n",
       "┃\u001b[1;93m \u001b[0m\u001b[1;93mCategory\u001b[0m\u001b[1;93m \u001b[0m┃\u001b[1;93m \u001b[0m\u001b[1;93mCount  \u001b[0m\u001b[1;93m \u001b[0m┃\u001b[1;93m \u001b[0m\u001b[1;93mPercentage\u001b[0m\u001b[1;93m \u001b[0m┃\n",
       "┡━━━━━━━━━━╇━━━━━━━━━╇━━━━━━━━━━━━┩\n",
       "│ Windows  │ 1513654 │ 81.81%     │\n",
       "│ Linux    │ 46239   │ 2.50%      │\n",
       "│ Android  │ 23      │ 0.00%      │\n",
       "└──────────┴─────────┴────────────┘\n"
      ]
     },
     "metadata": {},
     "output_type": "display_data"
    },
    {
     "data": {
      "text/html": [
       "<pre style=\"white-space:pre;overflow-x:auto;line-height:normal;font-family:Menlo,'DejaVu Sans Mono',consolas,'Courier New',monospace\">\n",
       "<span style=\"color: #ffff00; text-decoration-color: #ffff00\">Distribution of dma:</span>\n",
       "</pre>\n"
      ],
      "text/plain": [
       "\n",
       "\u001b[93mDistribution of dma:\u001b[0m\n"
      ]
     },
     "metadata": {},
     "output_type": "display_data"
    },
    {
     "data": {
      "text/html": [
       "<pre style=\"white-space:pre;overflow-x:auto;line-height:normal;font-family:Menlo,'DejaVu Sans Mono',consolas,'Courier New',monospace\">┏━━━━━━━━━━━━━━━━━━━━━━━━━━━━━━━━━━━━┳━━━━━━━━┳━━━━━━━━━━━━┓\n",
       "┃<span style=\"color: #ffff00; text-decoration-color: #ffff00; font-weight: bold\"> Category                           </span>┃<span style=\"color: #ffff00; text-decoration-color: #ffff00; font-weight: bold\"> Count  </span>┃<span style=\"color: #ffff00; text-decoration-color: #ffff00; font-weight: bold\"> Percentage </span>┃\n",
       "┡━━━━━━━━━━━━━━━━━━━━━━━━━━━━━━━━━━━━╇━━━━━━━━╇━━━━━━━━━━━━┩\n",
       "│ Nashville, TN                      │ 366592 │ 19.81%     │\n",
       "│ Chicago, IL                        │ 94724  │ 5.12%      │\n",
       "│ Des Moines-Ames, IA                │ 83549  │ 4.52%      │\n",
       "│ Greenville-Spartanburg, SC         │ 69668  │ 3.77%      │\n",
       "│ Atlanta, GA                        │ 67746  │ 3.66%      │\n",
       "│ Birmingham, AL                     │ 67256  │ 3.64%      │\n",
       "│ New York, NY                       │ 63715  │ 3.44%      │\n",
       "│ Washington, DC (Hagerstown, MD)    │ 62809  │ 3.39%      │\n",
       "│ Phoenix, AZ                        │ 49749  │ 2.69%      │\n",
       "│ San Francisco-Oakland-San Jose, CA │ 31538  │ 1.70%      │\n",
       "└────────────────────────────────────┴────────┴────────────┘\n",
       "</pre>\n"
      ],
      "text/plain": [
       "┏━━━━━━━━━━━━━━━━━━━━━━━━━━━━━━━━━━━━┳━━━━━━━━┳━━━━━━━━━━━━┓\n",
       "┃\u001b[1;93m \u001b[0m\u001b[1;93mCategory                          \u001b[0m\u001b[1;93m \u001b[0m┃\u001b[1;93m \u001b[0m\u001b[1;93mCount \u001b[0m\u001b[1;93m \u001b[0m┃\u001b[1;93m \u001b[0m\u001b[1;93mPercentage\u001b[0m\u001b[1;93m \u001b[0m┃\n",
       "┡━━━━━━━━━━━━━━━━━━━━━━━━━━━━━━━━━━━━╇━━━━━━━━╇━━━━━━━━━━━━┩\n",
       "│ Nashville, TN                      │ 366592 │ 19.81%     │\n",
       "│ Chicago, IL                        │ 94724  │ 5.12%      │\n",
       "│ Des Moines-Ames, IA                │ 83549  │ 4.52%      │\n",
       "│ Greenville-Spartanburg, SC         │ 69668  │ 3.77%      │\n",
       "│ Atlanta, GA                        │ 67746  │ 3.66%      │\n",
       "│ Birmingham, AL                     │ 67256  │ 3.64%      │\n",
       "│ New York, NY                       │ 63715  │ 3.44%      │\n",
       "│ Washington, DC (Hagerstown, MD)    │ 62809  │ 3.39%      │\n",
       "│ Phoenix, AZ                        │ 49749  │ 2.69%      │\n",
       "│ San Francisco-Oakland-San Jose, CA │ 31538  │ 1.70%      │\n",
       "└────────────────────────────────────┴────────┴────────────┘\n"
      ]
     },
     "metadata": {},
     "output_type": "display_data"
    },
    {
     "data": {
      "text/html": [
       "<pre style=\"white-space:pre;overflow-x:auto;line-height:normal;font-family:Menlo,'DejaVu Sans Mono',consolas,'Courier New',monospace\">\n",
       "<span style=\"color: #ffff00; text-decoration-color: #ffff00\">Distribution of event_properties:</span>\n",
       "</pre>\n"
      ],
      "text/plain": [
       "\n",
       "\u001b[93mDistribution of event_properties:\u001b[0m\n"
      ]
     },
     "metadata": {},
     "output_type": "display_data"
    },
    {
     "data": {
      "text/html": [
       "<pre style=\"white-space:pre;overflow-x:auto;line-height:normal;font-family:Menlo,'DejaVu Sans Mono',consolas,'Courier New',monospace\">┏━━━━━━━━━━━━━━━━━━━━━━━━━━━━━━━━━━━━━━━━━━━━━━━━━━━━━━━━━━━━━━━━━━━━━━━━━━━━━━━━━━━━━━━━━━━┳━━━━━━━━┳━━━━━━━━━━━━┓\n",
       "┃<span style=\"color: #ffff00; text-decoration-color: #ffff00; font-weight: bold\"> Category                                                                                  </span>┃<span style=\"color: #ffff00; text-decoration-color: #ffff00; font-weight: bold\"> Count  </span>┃<span style=\"color: #ffff00; text-decoration-color: #ffff00; font-weight: bold\"> Percentage </span>┃\n",
       "┡━━━━━━━━━━━━━━━━━━━━━━━━━━━━━━━━━━━━━━━━━━━━━━━━━━━━━━━━━━━━━━━━━━━━━━━━━━━━━━━━━━━━━━━━━━━╇━━━━━━━━╇━━━━━━━━━━━━┩\n",
       "│ {}                                                                                        │ 134094 │ 7.25%      │\n",
       "│ {'rowModel': 'client', 'slug': 'documents-and-compliance-table'}                          │ 17627  │ 0.95%      │\n",
       "│ {'slug': 'my-book'}                                                                       │ 5397   │ 0.29%      │\n",
       "│ {'slug': 'general'}                                                                       │ 4911   │ 0.27%      │\n",
       "│ {'rowModel': 'client', 'id': 'de54a567-d72b-44a9-8658-15c4a0299738'}                      │ 4596   │ 0.25%      │\n",
       "│ {'displayName': 'Basic Vehicle Details (Policy)', 'tableId':                              │ 4595   │ 0.25%      │\n",
       "│ 'de54a567-d72b-44a9-8658-15c4a0299738', 'id': 'b87fadc2-83ff-4d76-b940-3dd78d0df21f',     │        │            │\n",
       "│ 'type': 'table'}                                                                          │        │            │\n",
       "│ {'displayName': 'Policy Detail Card', 'id': 'e59fbad1-399d-41fe-9c99-f4158e175c01',       │ 3994   │ 0.22%      │\n",
       "│ 'type': 'built-in', 'slug': 'policy-detail-card'}                                         │        │            │\n",
       "│ {'slug': 'auto'}                                                                          │ 3868   │ 0.21%      │\n",
       "│ {'rowModel': 'legacyServer', 'slug': 'submission-history'}                                │ 3481   │ 0.19%      │\n",
       "│ {'rowModel': 'client', 'id': '0d0df5a0-0460-45c8-b3e9-843abd1dd88e'}                      │ 3344   │ 0.18%      │\n",
       "└───────────────────────────────────────────────────────────────────────────────────────────┴────────┴────────────┘\n",
       "</pre>\n"
      ],
      "text/plain": [
       "┏━━━━━━━━━━━━━━━━━━━━━━━━━━━━━━━━━━━━━━━━━━━━━━━━━━━━━━━━━━━━━━━━━━━━━━━━━━━━━━━━━━━━━━━━━━━┳━━━━━━━━┳━━━━━━━━━━━━┓\n",
       "┃\u001b[1;93m \u001b[0m\u001b[1;93mCategory                                                                                 \u001b[0m\u001b[1;93m \u001b[0m┃\u001b[1;93m \u001b[0m\u001b[1;93mCount \u001b[0m\u001b[1;93m \u001b[0m┃\u001b[1;93m \u001b[0m\u001b[1;93mPercentage\u001b[0m\u001b[1;93m \u001b[0m┃\n",
       "┡━━━━━━━━━━━━━━━━━━━━━━━━━━━━━━━━━━━━━━━━━━━━━━━━━━━━━━━━━━━━━━━━━━━━━━━━━━━━━━━━━━━━━━━━━━━╇━━━━━━━━╇━━━━━━━━━━━━┩\n",
       "│ {}                                                                                        │ 134094 │ 7.25%      │\n",
       "│ {'rowModel': 'client', 'slug': 'documents-and-compliance-table'}                          │ 17627  │ 0.95%      │\n",
       "│ {'slug': 'my-book'}                                                                       │ 5397   │ 0.29%      │\n",
       "│ {'slug': 'general'}                                                                       │ 4911   │ 0.27%      │\n",
       "│ {'rowModel': 'client', 'id': 'de54a567-d72b-44a9-8658-15c4a0299738'}                      │ 4596   │ 0.25%      │\n",
       "│ {'displayName': 'Basic Vehicle Details (Policy)', 'tableId':                              │ 4595   │ 0.25%      │\n",
       "│ 'de54a567-d72b-44a9-8658-15c4a0299738', 'id': 'b87fadc2-83ff-4d76-b940-3dd78d0df21f',     │        │            │\n",
       "│ 'type': 'table'}                                                                          │        │            │\n",
       "│ {'displayName': 'Policy Detail Card', 'id': 'e59fbad1-399d-41fe-9c99-f4158e175c01',       │ 3994   │ 0.22%      │\n",
       "│ 'type': 'built-in', 'slug': 'policy-detail-card'}                                         │        │            │\n",
       "│ {'slug': 'auto'}                                                                          │ 3868   │ 0.21%      │\n",
       "│ {'rowModel': 'legacyServer', 'slug': 'submission-history'}                                │ 3481   │ 0.19%      │\n",
       "│ {'rowModel': 'client', 'id': '0d0df5a0-0460-45c8-b3e9-843abd1dd88e'}                      │ 3344   │ 0.18%      │\n",
       "└───────────────────────────────────────────────────────────────────────────────────────────┴────────┴────────────┘\n"
      ]
     },
     "metadata": {},
     "output_type": "display_data"
    },
    {
     "data": {
      "text/html": [
       "<pre style=\"white-space:pre;overflow-x:auto;line-height:normal;font-family:Menlo,'DejaVu Sans Mono',consolas,'Courier New',monospace\">\n",
       "<span style=\"color: #ffff00; text-decoration-color: #ffff00\">Distribution of event_time:</span>\n",
       "</pre>\n"
      ],
      "text/plain": [
       "\n",
       "\u001b[93mDistribution of event_time:\u001b[0m\n"
      ]
     },
     "metadata": {},
     "output_type": "display_data"
    },
    {
     "data": {
      "text/html": [
       "<pre style=\"white-space:pre;overflow-x:auto;line-height:normal;font-family:Menlo,'DejaVu Sans Mono',consolas,'Courier New',monospace\">┏━━━━━━━━━━━━━━━━━━━━━━━━━━━━┳━━━━━━━┳━━━━━━━━━━━━┓\n",
       "┃<span style=\"color: #ffff00; text-decoration-color: #ffff00; font-weight: bold\"> Category                   </span>┃<span style=\"color: #ffff00; text-decoration-color: #ffff00; font-weight: bold\"> Count </span>┃<span style=\"color: #ffff00; text-decoration-color: #ffff00; font-weight: bold\"> Percentage </span>┃\n",
       "┡━━━━━━━━━━━━━━━━━━━━━━━━━━━━╇━━━━━━━╇━━━━━━━━━━━━┩\n",
       "│ 2024-06-27 13:48:19.271000 │ 432   │ 0.02%      │\n",
       "│ 2024-09-10 04:43:50.596000 │ 257   │ 0.01%      │\n",
       "│ 2024-12-19 19:03:01.542000 │ 186   │ 0.01%      │\n",
       "│ 2024-04-23 13:09:22.416000 │ 179   │ 0.01%      │\n",
       "│ 2025-01-24 18:01:29.934000 │ 73    │ 0.00%      │\n",
       "│ 2024-10-01 18:00:43.174000 │ 52    │ 0.00%      │\n",
       "│ 2024-08-12 17:16:07.950000 │ 48    │ 0.00%      │\n",
       "│ 2024-12-24 21:28:22.671000 │ 44    │ 0.00%      │\n",
       "│ 2024-05-16 01:53:12.545000 │ 30    │ 0.00%      │\n",
       "│ 2024-11-20 18:40:12.806000 │ 29    │ 0.00%      │\n",
       "└────────────────────────────┴───────┴────────────┘\n",
       "</pre>\n"
      ],
      "text/plain": [
       "┏━━━━━━━━━━━━━━━━━━━━━━━━━━━━┳━━━━━━━┳━━━━━━━━━━━━┓\n",
       "┃\u001b[1;93m \u001b[0m\u001b[1;93mCategory                  \u001b[0m\u001b[1;93m \u001b[0m┃\u001b[1;93m \u001b[0m\u001b[1;93mCount\u001b[0m\u001b[1;93m \u001b[0m┃\u001b[1;93m \u001b[0m\u001b[1;93mPercentage\u001b[0m\u001b[1;93m \u001b[0m┃\n",
       "┡━━━━━━━━━━━━━━━━━━━━━━━━━━━━╇━━━━━━━╇━━━━━━━━━━━━┩\n",
       "│ 2024-06-27 13:48:19.271000 │ 432   │ 0.02%      │\n",
       "│ 2024-09-10 04:43:50.596000 │ 257   │ 0.01%      │\n",
       "│ 2024-12-19 19:03:01.542000 │ 186   │ 0.01%      │\n",
       "│ 2024-04-23 13:09:22.416000 │ 179   │ 0.01%      │\n",
       "│ 2025-01-24 18:01:29.934000 │ 73    │ 0.00%      │\n",
       "│ 2024-10-01 18:00:43.174000 │ 52    │ 0.00%      │\n",
       "│ 2024-08-12 17:16:07.950000 │ 48    │ 0.00%      │\n",
       "│ 2024-12-24 21:28:22.671000 │ 44    │ 0.00%      │\n",
       "│ 2024-05-16 01:53:12.545000 │ 30    │ 0.00%      │\n",
       "│ 2024-11-20 18:40:12.806000 │ 29    │ 0.00%      │\n",
       "└────────────────────────────┴───────┴────────────┘\n"
      ]
     },
     "metadata": {},
     "output_type": "display_data"
    },
    {
     "data": {
      "text/html": [
       "<pre style=\"white-space:pre;overflow-x:auto;line-height:normal;font-family:Menlo,'DejaVu Sans Mono',consolas,'Courier New',monospace\">\n",
       "<span style=\"color: #ffff00; text-decoration-color: #ffff00\">Distribution of event_type:</span>\n",
       "</pre>\n"
      ],
      "text/plain": [
       "\n",
       "\u001b[93mDistribution of event_type:\u001b[0m\n"
      ]
     },
     "metadata": {},
     "output_type": "display_data"
    },
    {
     "data": {
      "text/html": [
       "<pre style=\"white-space:pre;overflow-x:auto;line-height:normal;font-family:Menlo,'DejaVu Sans Mono',consolas,'Courier New',monospace\">┏━━━━━━━━━━━━━━━━━━━━━━━━━━━━━━━━━━━━━━━━━━━━━┳━━━━━━━━┳━━━━━━━━━━━━┓\n",
       "┃<span style=\"color: #ffff00; text-decoration-color: #ffff00; font-weight: bold\"> Category                                    </span>┃<span style=\"color: #ffff00; text-decoration-color: #ffff00; font-weight: bold\"> Count  </span>┃<span style=\"color: #ffff00; text-decoration-color: #ffff00; font-weight: bold\"> Percentage </span>┃\n",
       "┡━━━━━━━━━━━━━━━━━━━━━━━━━━━━━━━━━━━━━━━━━━━━━╇━━━━━━━━╇━━━━━━━━━━━━┩\n",
       "│ account-lines::widget:render                │ 428058 │ 23.14%     │\n",
       "│ account-lines::configurable-table:render    │ 257224 │ 13.90%     │\n",
       "│ account-lines:::view                        │ 108249 │ 5.85%      │\n",
       "│ dashboard:my-book:configurable-table:render │ 105443 │ 5.70%      │\n",
       "│ account-lines::layout:render                │ 104682 │ 5.66%      │\n",
       "│ dashboard:my-book:widget:render             │ 99140  │ 5.36%      │\n",
       "│ account:::view                              │ 64694  │ 3.50%      │\n",
       "│ session_start                               │ 58762  │ 3.18%      │\n",
       "│ session_end                                 │ 51610  │ 2.79%      │\n",
       "│ application-window-opened                   │ 47245  │ 2.55%      │\n",
       "└─────────────────────────────────────────────┴────────┴────────────┘\n",
       "</pre>\n"
      ],
      "text/plain": [
       "┏━━━━━━━━━━━━━━━━━━━━━━━━━━━━━━━━━━━━━━━━━━━━━┳━━━━━━━━┳━━━━━━━━━━━━┓\n",
       "┃\u001b[1;93m \u001b[0m\u001b[1;93mCategory                                   \u001b[0m\u001b[1;93m \u001b[0m┃\u001b[1;93m \u001b[0m\u001b[1;93mCount \u001b[0m\u001b[1;93m \u001b[0m┃\u001b[1;93m \u001b[0m\u001b[1;93mPercentage\u001b[0m\u001b[1;93m \u001b[0m┃\n",
       "┡━━━━━━━━━━━━━━━━━━━━━━━━━━━━━━━━━━━━━━━━━━━━━╇━━━━━━━━╇━━━━━━━━━━━━┩\n",
       "│ account-lines::widget:render                │ 428058 │ 23.14%     │\n",
       "│ account-lines::configurable-table:render    │ 257224 │ 13.90%     │\n",
       "│ account-lines:::view                        │ 108249 │ 5.85%      │\n",
       "│ dashboard:my-book:configurable-table:render │ 105443 │ 5.70%      │\n",
       "│ account-lines::layout:render                │ 104682 │ 5.66%      │\n",
       "│ dashboard:my-book:widget:render             │ 99140  │ 5.36%      │\n",
       "│ account:::view                              │ 64694  │ 3.50%      │\n",
       "│ session_start                               │ 58762  │ 3.18%      │\n",
       "│ session_end                                 │ 51610  │ 2.79%      │\n",
       "│ application-window-opened                   │ 47245  │ 2.55%      │\n",
       "└─────────────────────────────────────────────┴────────┴────────────┘\n"
      ]
     },
     "metadata": {},
     "output_type": "display_data"
    },
    {
     "data": {
      "text/html": [
       "<pre style=\"white-space:pre;overflow-x:auto;line-height:normal;font-family:Menlo,'DejaVu Sans Mono',consolas,'Courier New',monospace\">\n",
       "<span style=\"color: #ffff00; text-decoration-color: #ffff00\">Distribution of language:</span>\n",
       "</pre>\n"
      ],
      "text/plain": [
       "\n",
       "\u001b[93mDistribution of language:\u001b[0m\n"
      ]
     },
     "metadata": {},
     "output_type": "display_data"
    },
    {
     "data": {
      "text/html": [
       "<pre style=\"white-space:pre;overflow-x:auto;line-height:normal;font-family:Menlo,'DejaVu Sans Mono',consolas,'Courier New',monospace\">┏━━━━━━━━━━┳━━━━━━━━━┳━━━━━━━━━━━━┓\n",
       "┃<span style=\"color: #ffff00; text-decoration-color: #ffff00; font-weight: bold\"> Category </span>┃<span style=\"color: #ffff00; text-decoration-color: #ffff00; font-weight: bold\"> Count   </span>┃<span style=\"color: #ffff00; text-decoration-color: #ffff00; font-weight: bold\"> Percentage </span>┃\n",
       "┡━━━━━━━━━━╇━━━━━━━━━╇━━━━━━━━━━━━┩\n",
       "│ English  │ 1826082 │ 98.70%     │\n",
       "│ Polish   │ 22051   │ 1.19%      │\n",
       "│ Spanish  │ 1976    │ 0.11%      │\n",
       "└──────────┴─────────┴────────────┘\n",
       "</pre>\n"
      ],
      "text/plain": [
       "┏━━━━━━━━━━┳━━━━━━━━━┳━━━━━━━━━━━━┓\n",
       "┃\u001b[1;93m \u001b[0m\u001b[1;93mCategory\u001b[0m\u001b[1;93m \u001b[0m┃\u001b[1;93m \u001b[0m\u001b[1;93mCount  \u001b[0m\u001b[1;93m \u001b[0m┃\u001b[1;93m \u001b[0m\u001b[1;93mPercentage\u001b[0m\u001b[1;93m \u001b[0m┃\n",
       "┡━━━━━━━━━━╇━━━━━━━━━╇━━━━━━━━━━━━┩\n",
       "│ English  │ 1826082 │ 98.70%     │\n",
       "│ Polish   │ 22051   │ 1.19%      │\n",
       "│ Spanish  │ 1976    │ 0.11%      │\n",
       "└──────────┴─────────┴────────────┘\n"
      ]
     },
     "metadata": {},
     "output_type": "display_data"
    },
    {
     "data": {
      "text/html": [
       "<pre style=\"white-space:pre;overflow-x:auto;line-height:normal;font-family:Menlo,'DejaVu Sans Mono',consolas,'Courier New',monospace\">\n",
       "<span style=\"color: #ffff00; text-decoration-color: #ffff00\">Distribution of library:</span>\n",
       "</pre>\n"
      ],
      "text/plain": [
       "\n",
       "\u001b[93mDistribution of library:\u001b[0m\n"
      ]
     },
     "metadata": {},
     "output_type": "display_data"
    },
    {
     "data": {
      "text/html": [
       "<pre style=\"white-space:pre;overflow-x:auto;line-height:normal;font-family:Menlo,'DejaVu Sans Mono',consolas,'Courier New',monospace\">┏━━━━━━━━━━━━━━━━━━━━┳━━━━━━━━━┳━━━━━━━━━━━━┓\n",
       "┃<span style=\"color: #ffff00; text-decoration-color: #ffff00; font-weight: bold\"> Category           </span>┃<span style=\"color: #ffff00; text-decoration-color: #ffff00; font-weight: bold\"> Count   </span>┃<span style=\"color: #ffff00; text-decoration-color: #ffff00; font-weight: bold\"> Percentage </span>┃\n",
       "┡━━━━━━━━━━━━━━━━━━━━╇━━━━━━━━━╇━━━━━━━━━━━━┩\n",
       "│ amplitude-ts/2.7.2 │ 1850109 │ 100.00%    │\n",
       "└────────────────────┴─────────┴────────────┘\n",
       "</pre>\n"
      ],
      "text/plain": [
       "┏━━━━━━━━━━━━━━━━━━━━┳━━━━━━━━━┳━━━━━━━━━━━━┓\n",
       "┃\u001b[1;93m \u001b[0m\u001b[1;93mCategory          \u001b[0m\u001b[1;93m \u001b[0m┃\u001b[1;93m \u001b[0m\u001b[1;93mCount  \u001b[0m\u001b[1;93m \u001b[0m┃\u001b[1;93m \u001b[0m\u001b[1;93mPercentage\u001b[0m\u001b[1;93m \u001b[0m┃\n",
       "┡━━━━━━━━━━━━━━━━━━━━╇━━━━━━━━━╇━━━━━━━━━━━━┩\n",
       "│ amplitude-ts/2.7.2 │ 1850109 │ 100.00%    │\n",
       "└────────────────────┴─────────┴────────────┘\n"
      ]
     },
     "metadata": {},
     "output_type": "display_data"
    },
    {
     "data": {
      "text/html": [
       "<pre style=\"white-space:pre;overflow-x:auto;line-height:normal;font-family:Menlo,'DejaVu Sans Mono',consolas,'Courier New',monospace\">\n",
       "<span style=\"color: #ffff00; text-decoration-color: #ffff00\">Distribution of os_name:</span>\n",
       "</pre>\n"
      ],
      "text/plain": [
       "\n",
       "\u001b[93mDistribution of os_name:\u001b[0m\n"
      ]
     },
     "metadata": {},
     "output_type": "display_data"
    },
    {
     "data": {
      "text/html": [
       "<pre style=\"white-space:pre;overflow-x:auto;line-height:normal;font-family:Menlo,'DejaVu Sans Mono',consolas,'Courier New',monospace\">┏━━━━━━━━━━━━━━━━━━━┳━━━━━━━━━┳━━━━━━━━━━━━┓\n",
       "┃<span style=\"color: #ffff00; text-decoration-color: #ffff00; font-weight: bold\"> Category          </span>┃<span style=\"color: #ffff00; text-decoration-color: #ffff00; font-weight: bold\"> Count   </span>┃<span style=\"color: #ffff00; text-decoration-color: #ffff00; font-weight: bold\"> Percentage </span>┃\n",
       "┡━━━━━━━━━━━━━━━━━━━╇━━━━━━━━━╇━━━━━━━━━━━━┩\n",
       "│ Chrome            │ 1707543 │ 92.29%     │\n",
       "│ Edge              │ 131340  │ 7.10%      │\n",
       "│ Firefox           │ 8543    │ 0.46%      │\n",
       "│ Mobile Safari     │ 1822    │ 0.10%      │\n",
       "│ Safari            │ 637     │ 0.03%      │\n",
       "│ Chrome Mobile iOS │ 163     │ 0.01%      │\n",
       "│ Edge Mobile       │ 36      │ 0.00%      │\n",
       "│ Chrome Mobile     │ 22      │ 0.00%      │\n",
       "│ HeadlessChrome    │ 2       │ 0.00%      │\n",
       "│ android           │ 1       │ 0.00%      │\n",
       "└───────────────────┴─────────┴────────────┘\n",
       "</pre>\n"
      ],
      "text/plain": [
       "┏━━━━━━━━━━━━━━━━━━━┳━━━━━━━━━┳━━━━━━━━━━━━┓\n",
       "┃\u001b[1;93m \u001b[0m\u001b[1;93mCategory         \u001b[0m\u001b[1;93m \u001b[0m┃\u001b[1;93m \u001b[0m\u001b[1;93mCount  \u001b[0m\u001b[1;93m \u001b[0m┃\u001b[1;93m \u001b[0m\u001b[1;93mPercentage\u001b[0m\u001b[1;93m \u001b[0m┃\n",
       "┡━━━━━━━━━━━━━━━━━━━╇━━━━━━━━━╇━━━━━━━━━━━━┩\n",
       "│ Chrome            │ 1707543 │ 92.29%     │\n",
       "│ Edge              │ 131340  │ 7.10%      │\n",
       "│ Firefox           │ 8543    │ 0.46%      │\n",
       "│ Mobile Safari     │ 1822    │ 0.10%      │\n",
       "│ Safari            │ 637     │ 0.03%      │\n",
       "│ Chrome Mobile iOS │ 163     │ 0.01%      │\n",
       "│ Edge Mobile       │ 36      │ 0.00%      │\n",
       "│ Chrome Mobile     │ 22      │ 0.00%      │\n",
       "│ HeadlessChrome    │ 2       │ 0.00%      │\n",
       "│ android           │ 1       │ 0.00%      │\n",
       "└───────────────────┴─────────┴────────────┘\n"
      ]
     },
     "metadata": {},
     "output_type": "display_data"
    },
    {
     "data": {
      "text/html": [
       "<pre style=\"white-space:pre;overflow-x:auto;line-height:normal;font-family:Menlo,'DejaVu Sans Mono',consolas,'Courier New',monospace\">\n",
       "<span style=\"color: #ffff00; text-decoration-color: #ffff00\">Distribution of platform:</span>\n",
       "</pre>\n"
      ],
      "text/plain": [
       "\n",
       "\u001b[93mDistribution of platform:\u001b[0m\n"
      ]
     },
     "metadata": {},
     "output_type": "display_data"
    },
    {
     "data": {
      "text/html": [
       "<pre style=\"white-space:pre;overflow-x:auto;line-height:normal;font-family:Menlo,'DejaVu Sans Mono',consolas,'Courier New',monospace\">┏━━━━━━━━━━┳━━━━━━━━━┳━━━━━━━━━━━━┓\n",
       "┃<span style=\"color: #ffff00; text-decoration-color: #ffff00; font-weight: bold\"> Category </span>┃<span style=\"color: #ffff00; text-decoration-color: #ffff00; font-weight: bold\"> Count   </span>┃<span style=\"color: #ffff00; text-decoration-color: #ffff00; font-weight: bold\"> Percentage </span>┃\n",
       "┡━━━━━━━━━━╇━━━━━━━━━╇━━━━━━━━━━━━┩\n",
       "│ Web      │ 1850109 │ 100.00%    │\n",
       "└──────────┴─────────┴────────────┘\n",
       "</pre>\n"
      ],
      "text/plain": [
       "┏━━━━━━━━━━┳━━━━━━━━━┳━━━━━━━━━━━━┓\n",
       "┃\u001b[1;93m \u001b[0m\u001b[1;93mCategory\u001b[0m\u001b[1;93m \u001b[0m┃\u001b[1;93m \u001b[0m\u001b[1;93mCount  \u001b[0m\u001b[1;93m \u001b[0m┃\u001b[1;93m \u001b[0m\u001b[1;93mPercentage\u001b[0m\u001b[1;93m \u001b[0m┃\n",
       "┡━━━━━━━━━━╇━━━━━━━━━╇━━━━━━━━━━━━┩\n",
       "│ Web      │ 1850109 │ 100.00%    │\n",
       "└──────────┴─────────┴────────────┘\n"
      ]
     },
     "metadata": {},
     "output_type": "display_data"
    },
    {
     "data": {
      "text/html": [
       "<pre style=\"white-space:pre;overflow-x:auto;line-height:normal;font-family:Menlo,'DejaVu Sans Mono',consolas,'Courier New',monospace\">\n",
       "<span style=\"color: #ffff00; text-decoration-color: #ffff00\">Distribution of region:</span>\n",
       "</pre>\n"
      ],
      "text/plain": [
       "\n",
       "\u001b[93mDistribution of region:\u001b[0m\n"
      ]
     },
     "metadata": {},
     "output_type": "display_data"
    },
    {
     "data": {
      "text/html": [
       "<pre style=\"white-space:pre;overflow-x:auto;line-height:normal;font-family:Menlo,'DejaVu Sans Mono',consolas,'Courier New',monospace\">┏━━━━━━━━━━━━━━━━┳━━━━━━━━┳━━━━━━━━━━━━┓\n",
       "┃<span style=\"color: #ffff00; text-decoration-color: #ffff00; font-weight: bold\"> Category       </span>┃<span style=\"color: #ffff00; text-decoration-color: #ffff00; font-weight: bold\"> Count  </span>┃<span style=\"color: #ffff00; text-decoration-color: #ffff00; font-weight: bold\"> Percentage </span>┃\n",
       "┡━━━━━━━━━━━━━━━━╇━━━━━━━━╇━━━━━━━━━━━━┩\n",
       "│ Maharashtra    │ 399477 │ 21.59%     │\n",
       "│ Tennessee      │ 383475 │ 20.73%     │\n",
       "│ Illinois       │ 103032 │ 5.57%      │\n",
       "│ Iowa           │ 95680  │ 5.17%      │\n",
       "│ Georgia        │ 75776  │ 4.10%      │\n",
       "│ South Carolina │ 74163  │ 4.01%      │\n",
       "│ Virginia       │ 70494  │ 3.81%      │\n",
       "│ Alabama        │ 68398  │ 3.70%      │\n",
       "│ California     │ 66066  │ 3.57%      │\n",
       "│ Florida        │ 60664  │ 3.28%      │\n",
       "└────────────────┴────────┴────────────┘\n",
       "</pre>\n"
      ],
      "text/plain": [
       "┏━━━━━━━━━━━━━━━━┳━━━━━━━━┳━━━━━━━━━━━━┓\n",
       "┃\u001b[1;93m \u001b[0m\u001b[1;93mCategory      \u001b[0m\u001b[1;93m \u001b[0m┃\u001b[1;93m \u001b[0m\u001b[1;93mCount \u001b[0m\u001b[1;93m \u001b[0m┃\u001b[1;93m \u001b[0m\u001b[1;93mPercentage\u001b[0m\u001b[1;93m \u001b[0m┃\n",
       "┡━━━━━━━━━━━━━━━━╇━━━━━━━━╇━━━━━━━━━━━━┩\n",
       "│ Maharashtra    │ 399477 │ 21.59%     │\n",
       "│ Tennessee      │ 383475 │ 20.73%     │\n",
       "│ Illinois       │ 103032 │ 5.57%      │\n",
       "│ Iowa           │ 95680  │ 5.17%      │\n",
       "│ Georgia        │ 75776  │ 4.10%      │\n",
       "│ South Carolina │ 74163  │ 4.01%      │\n",
       "│ Virginia       │ 70494  │ 3.81%      │\n",
       "│ Alabama        │ 68398  │ 3.70%      │\n",
       "│ California     │ 66066  │ 3.57%      │\n",
       "│ Florida        │ 60664  │ 3.28%      │\n",
       "└────────────────┴────────┴────────────┘\n"
      ]
     },
     "metadata": {},
     "output_type": "display_data"
    },
    {
     "data": {
      "text/html": [
       "<pre style=\"white-space:pre;overflow-x:auto;line-height:normal;font-family:Menlo,'DejaVu Sans Mono',consolas,'Courier New',monospace\">\n",
       "<span style=\"color: #ffff00; text-decoration-color: #ffff00\">Distribution of user_id:</span>\n",
       "</pre>\n"
      ],
      "text/plain": [
       "\n",
       "\u001b[93mDistribution of user_id:\u001b[0m\n"
      ]
     },
     "metadata": {},
     "output_type": "display_data"
    },
    {
     "data": {
      "text/html": [
       "<pre style=\"white-space:pre;overflow-x:auto;line-height:normal;font-family:Menlo,'DejaVu Sans Mono',consolas,'Courier New',monospace\">┏━━━━━━━━━━━━━━━━━━━━━━━━━━━━━━━━━━━━━━┳━━━━━━━┳━━━━━━━━━━━━┓\n",
       "┃<span style=\"color: #ffff00; text-decoration-color: #ffff00; font-weight: bold\"> Category                             </span>┃<span style=\"color: #ffff00; text-decoration-color: #ffff00; font-weight: bold\"> Count </span>┃<span style=\"color: #ffff00; text-decoration-color: #ffff00; font-weight: bold\"> Percentage </span>┃\n",
       "┡━━━━━━━━━━━━━━━━━━━━━━━━━━━━━━━━━━━━━━╇━━━━━━━╇━━━━━━━━━━━━┩\n",
       "│ 0c4896b7-08fa-4cb4-852f-27ad584f0864 │ 45035 │ 2.43%      │\n",
       "│ 1b992a40-b2c3-4b69-a5bc-05711eeddd80 │ 39783 │ 2.15%      │\n",
       "│ EMPTY                                │ 31120 │ 1.68%      │\n",
       "│ bb8fa1af-a540-4d0f-a633-569c61f01281 │ 26015 │ 1.41%      │\n",
       "│ e309f160-ed02-4c6c-84bb-33bab8749186 │ 24486 │ 1.32%      │\n",
       "│ 1b7f0cbc-e5b9-494f-af08-f8e19df60576 │ 22362 │ 1.21%      │\n",
       "│ c774e8c0-4817-4b51-962a-ac7c051d0470 │ 21852 │ 1.18%      │\n",
       "│ b5e87951-22bd-4333-9a0d-ae28ecabe804 │ 21747 │ 1.18%      │\n",
       "│ cfa20420-326e-4d5a-b202-c04084e785ad │ 21036 │ 1.14%      │\n",
       "│ 6066f244-0707-4e85-9fc5-70e6fefdea0b │ 20382 │ 1.10%      │\n",
       "└──────────────────────────────────────┴───────┴────────────┘\n",
       "</pre>\n"
      ],
      "text/plain": [
       "┏━━━━━━━━━━━━━━━━━━━━━━━━━━━━━━━━━━━━━━┳━━━━━━━┳━━━━━━━━━━━━┓\n",
       "┃\u001b[1;93m \u001b[0m\u001b[1;93mCategory                            \u001b[0m\u001b[1;93m \u001b[0m┃\u001b[1;93m \u001b[0m\u001b[1;93mCount\u001b[0m\u001b[1;93m \u001b[0m┃\u001b[1;93m \u001b[0m\u001b[1;93mPercentage\u001b[0m\u001b[1;93m \u001b[0m┃\n",
       "┡━━━━━━━━━━━━━━━━━━━━━━━━━━━━━━━━━━━━━━╇━━━━━━━╇━━━━━━━━━━━━┩\n",
       "│ 0c4896b7-08fa-4cb4-852f-27ad584f0864 │ 45035 │ 2.43%      │\n",
       "│ 1b992a40-b2c3-4b69-a5bc-05711eeddd80 │ 39783 │ 2.15%      │\n",
       "│ EMPTY                                │ 31120 │ 1.68%      │\n",
       "│ bb8fa1af-a540-4d0f-a633-569c61f01281 │ 26015 │ 1.41%      │\n",
       "│ e309f160-ed02-4c6c-84bb-33bab8749186 │ 24486 │ 1.32%      │\n",
       "│ 1b7f0cbc-e5b9-494f-af08-f8e19df60576 │ 22362 │ 1.21%      │\n",
       "│ c774e8c0-4817-4b51-962a-ac7c051d0470 │ 21852 │ 1.18%      │\n",
       "│ b5e87951-22bd-4333-9a0d-ae28ecabe804 │ 21747 │ 1.18%      │\n",
       "│ cfa20420-326e-4d5a-b202-c04084e785ad │ 21036 │ 1.14%      │\n",
       "│ 6066f244-0707-4e85-9fc5-70e6fefdea0b │ 20382 │ 1.10%      │\n",
       "└──────────────────────────────────────┴───────┴────────────┘\n"
      ]
     },
     "metadata": {},
     "output_type": "display_data"
    },
    {
     "data": {
      "text/html": [
       "<pre style=\"white-space:pre;overflow-x:auto;line-height:normal;font-family:Menlo,'DejaVu Sans Mono',consolas,'Courier New',monospace\">\n",
       "<span style=\"color: #ffff00; text-decoration-color: #ffff00\">Distribution of user_properties:</span>\n",
       "</pre>\n"
      ],
      "text/plain": [
       "\n",
       "\u001b[93mDistribution of user_properties:\u001b[0m\n"
      ]
     },
     "metadata": {},
     "output_type": "display_data"
    },
    {
     "data": {
      "text/html": [
       "<pre style=\"white-space:pre;overflow-x:auto;line-height:normal;font-family:Menlo,'DejaVu Sans Mono',consolas,'Courier New',monospace\">┏━━━━━━━━━━━━━━━━━━━━━━━━━━━━━━━━━━━━━━━━━━━━━━━━━━━━━━━━━━━━━━━━━━━━━━━━━━━━━━━━━━━━━━━━━━━┳━━━━━━━━┳━━━━━━━━━━━━┓\n",
       "┃<span style=\"color: #ffff00; text-decoration-color: #ffff00; font-weight: bold\"> Category                                                                                  </span>┃<span style=\"color: #ffff00; text-decoration-color: #ffff00; font-weight: bold\"> Count  </span>┃<span style=\"color: #ffff00; text-decoration-color: #ffff00; font-weight: bold\"> Percentage </span>┃\n",
       "┡━━━━━━━━━━━━━━━━━━━━━━━━━━━━━━━━━━━━━━━━━━━━━━━━━━━━━━━━━━━━━━━━━━━━━━━━━━━━━━━━━━━━━━━━━━━╇━━━━━━━━╇━━━━━━━━━━━━┩\n",
       "│ {'businessUnit': [], 'initial_utm_medium': 'EMPTY', 'initial_referring_domain': 'EMPTY',  │ 512831 │ 27.72%     │\n",
       "│ 'initial_utm_content': 'EMPTY', 'roles': ['underwriter'], 'isInternalUser': 'False',      │        │            │\n",
       "│ 'trackingVersion': '3.1', 'initial_utm_campaign': 'EMPTY', 'initial_twclid': 'EMPTY',     │        │            │\n",
       "│ 'initial_li_fat_id': 'EMPTY', 'initial_gclid': 'EMPTY', 'hostname': 'None',               │        │            │\n",
       "│ 'initial_utm_source': 'EMPTY', 'initial_dclid': 'EMPTY', 'initial_wbraid': 'EMPTY',       │        │            │\n",
       "│ 'initial_rtd_cid': 'EMPTY', 'initial_fbclid': 'EMPTY', 'initial_utm_id': 'EMPTY',         │        │            │\n",
       "│ 'initial_gbraid': 'EMPTY', 'initial_referrer': 'EMPTY', 'initial_msclkid': 'EMPTY',       │        │            │\n",
       "│ 'initial_ttclid': 'EMPTY', 'initial_utm_term': 'EMPTY', 'initial_ko_click_id': 'EMPTY'}   │        │            │\n",
       "│ {'businessUnit': [], 'roles': ['underwriter'], 'trackingVersion': '3.1',                  │ 135196 │ 7.31%      │\n",
       "│ 'initial_twclid': 'EMPTY', 'initial_gclid': 'EMPTY', 'hostname': 'None',                  │        │            │\n",
       "│ 'initial_utm_source': 'EMPTY', 'initial_dclid': 'EMPTY', 'initial_wbraid': 'EMPTY',       │        │            │\n",
       "│ 'initial_rtd_cid': 'EMPTY', 'initial_utm_id': 'EMPTY', 'initial_gbraid': 'EMPTY',         │        │            │\n",
       "│ 'initial_msclkid': 'EMPTY', 'initial_ttclid': 'EMPTY', 'initial_ko_click_id': 'EMPTY',    │        │            │\n",
       "│ 'initial_utm_medium': 'EMPTY', 'initial_referring_domain': 'EMPTY',                       │        │            │\n",
       "│ 'initial_utm_content': 'EMPTY', 'isInternalUser': 'False', 'initial_utm_campaign':        │        │            │\n",
       "│ 'EMPTY', 'initial_li_fat_id': 'EMPTY', 'referrer': 'https://accounts.google.com/',        │        │            │\n",
       "│ 'initial_fbclid': 'EMPTY', 'initial_referrer': 'EMPTY', 'initial_utm_term': 'EMPTY',      │        │            │\n",
       "│ 'referring_domain': 'accounts.google.com'}                                                │        │            │\n",
       "│ {'businessUnit': [], 'roles': ['underwriter'], 'trackingVersion': '3.1',                  │ 103019 │ 5.57%      │\n",
       "│ 'initial_twclid': 'EMPTY', 'initial_gclid': 'EMPTY', 'hostname': 'None',                  │        │            │\n",
       "│ 'initial_utm_source': 'EMPTY', 'initial_dclid': 'EMPTY', 'initial_wbraid': 'EMPTY',       │        │            │\n",
       "│ 'initial_rtd_cid': 'EMPTY', 'initial_utm_id': 'EMPTY', 'initial_gbraid': 'EMPTY',         │        │            │\n",
       "│ 'initial_msclkid': 'EMPTY', 'initial_ttclid': 'EMPTY', 'initial_ko_click_id': 'EMPTY',    │        │            │\n",
       "│ 'initial_utm_medium': 'EMPTY', 'initial_referring_domain': 'EMPTY',                       │        │            │\n",
       "│ 'initial_utm_content': 'EMPTY', 'isInternalUser': 'False', 'initial_utm_campaign':        │        │            │\n",
       "│ 'EMPTY', 'initial_li_fat_id': 'EMPTY', 'referrer': 'https://vru-auth.us.auth0.com/',      │        │            │\n",
       "│ 'initial_fbclid': 'EMPTY', 'initial_referrer': 'EMPTY', 'initial_utm_term': 'EMPTY',      │        │            │\n",
       "│ 'referring_domain': 'vru-auth.us.auth0.com'}                                              │        │            │\n",
       "│ {'businessUnit': ['Xceedance Modeling'], 'initial_utm_medium': 'EMPTY',                   │ 85657  │ 4.63%      │\n",
       "│ 'initial_referring_domain': 'EMPTY', 'initial_utm_content': 'EMPTY', 'roles':             │        │            │\n",
       "│ ['underwriter'], 'isInternalUser': 'False', 'trackingVersion': '3.1',                     │        │            │\n",
       "│ 'initial_utm_campaign': 'EMPTY', 'initial_twclid': 'EMPTY', 'initial_li_fat_id': 'EMPTY', │        │            │\n",
       "│ 'initial_gclid': 'EMPTY', 'hostname': 'None', 'initial_utm_source': 'EMPTY',              │        │            │\n",
       "│ 'initial_dclid': 'EMPTY', 'initial_wbraid': 'EMPTY', 'initial_rtd_cid': 'EMPTY',          │        │            │\n",
       "│ 'initial_fbclid': 'EMPTY', 'initial_utm_id': 'EMPTY', 'initial_gbraid': 'EMPTY',          │        │            │\n",
       "│ 'initial_referrer': 'EMPTY', 'initial_msclkid': 'EMPTY', 'initial_ttclid': 'EMPTY',       │        │            │\n",
       "│ 'initial_utm_term': 'EMPTY', 'initial_ko_click_id': 'EMPTY'}                              │        │            │\n",
       "│ {'initial_utm_medium': 'EMPTY', 'initial_referring_domain': 'EMPTY', 'businessUnit': [],  │ 69537  │ 3.76%      │\n",
       "│ 'initial_utm_content': 'EMPTY', 'roles': ['underwriter'], 'isInternalUser': 'False',      │        │            │\n",
       "│ 'initial_utm_campaign': 'EMPTY', 'trackingVersion': '3.1', 'initial_twclid': 'EMPTY',     │        │            │\n",
       "│ 'initial_gclid': 'EMPTY', 'hostname': 'None', 'initial_utm_source': 'EMPTY',              │        │            │\n",
       "│ 'initial_dclid': 'EMPTY', 'initial_wbraid': 'EMPTY', 'initial_fbclid': 'EMPTY',           │        │            │\n",
       "│ 'initial_utm_id': 'EMPTY', 'initial_referrer': 'EMPTY', 'initial_gbraid': 'EMPTY',        │        │            │\n",
       "│ 'initial_utm_term': 'EMPTY', 'initial_msclkid': 'EMPTY', 'initial_ttclid': 'EMPTY',       │        │            │\n",
       "│ 'initial_ko_click_id': 'EMPTY'}                                                           │        │            │\n",
       "│ {'businessUnit': [], 'initial_utm_medium': 'EMPTY', 'initial_referring_domain': 'EMPTY',  │ 53627  │ 2.90%      │\n",
       "│ 'initial_utm_content': 'EMPTY', 'roles': ['admin'], 'isInternalUser': 'True',             │        │            │\n",
       "│ 'trackingVersion': '3.1', 'initial_utm_campaign': 'EMPTY', 'initial_twclid': 'EMPTY',     │        │            │\n",
       "│ 'initial_li_fat_id': 'EMPTY', 'initial_gclid': 'EMPTY', 'hostname': 'None',               │        │            │\n",
       "│ 'initial_utm_source': 'EMPTY', 'initial_dclid': 'EMPTY', 'initial_wbraid': 'EMPTY',       │        │            │\n",
       "│ 'initial_rtd_cid': 'EMPTY', 'initial_fbclid': 'EMPTY', 'initial_utm_id': 'EMPTY',         │        │            │\n",
       "│ 'initial_gbraid': 'EMPTY', 'initial_referrer': 'EMPTY', 'initial_msclkid': 'EMPTY',       │        │            │\n",
       "│ 'initial_ttclid': 'EMPTY', 'initial_utm_term': 'EMPTY', 'initial_ko_click_id': 'EMPTY'}   │        │            │\n",
       "│ {'businessUnit': ['Xceedence'], 'initial_utm_medium': 'EMPTY',                            │ 52135  │ 2.82%      │\n",
       "│ 'initial_referring_domain': 'EMPTY', 'initial_utm_content': 'EMPTY', 'roles':             │        │            │\n",
       "│ ['underwriter'], 'isInternalUser': 'False', 'trackingVersion': '3.1',                     │        │            │\n",
       "│ 'initial_utm_campaign': 'EMPTY', 'initial_twclid': 'EMPTY', 'initial_li_fat_id': 'EMPTY', │        │            │\n",
       "│ 'initial_gclid': 'EMPTY', 'hostname': 'None', 'initial_utm_source': 'EMPTY',              │        │            │\n",
       "│ 'initial_dclid': 'EMPTY', 'initial_wbraid': 'EMPTY', 'initial_rtd_cid': 'EMPTY',          │        │            │\n",
       "│ 'initial_fbclid': 'EMPTY', 'initial_utm_id': 'EMPTY', 'initial_gbraid': 'EMPTY',          │        │            │\n",
       "│ 'initial_referrer': 'EMPTY', 'initial_msclkid': 'EMPTY', 'initial_ttclid': 'EMPTY',       │        │            │\n",
       "│ 'initial_utm_term': 'EMPTY', 'initial_ko_click_id': 'EMPTY'}                              │        │            │\n",
       "│ {'businessUnit': [], 'roles': ['underwriter'], 'trackingVersion': '3.1',                  │ 50903  │ 2.75%      │\n",
       "│ 'initial_twclid': 'EMPTY', 'initial_gclid': 'EMPTY', 'hostname': 'None',                  │        │            │\n",
       "│ 'initial_utm_source': 'EMPTY', 'initial_dclid': 'EMPTY', 'initial_wbraid': 'EMPTY',       │        │            │\n",
       "│ 'initial_rtd_cid': 'EMPTY', 'initial_utm_id': 'EMPTY', 'initial_gbraid': 'EMPTY',         │        │            │\n",
       "│ 'initial_msclkid': 'EMPTY', 'initial_ttclid': 'EMPTY', 'initial_ko_click_id': 'EMPTY',    │        │            │\n",
       "│ 'initial_utm_medium': 'EMPTY', 'initial_referring_domain': 'accounts.google.com',         │        │            │\n",
       "│ 'initial_utm_content': 'EMPTY', 'isInternalUser': 'False', 'initial_utm_campaign':        │        │            │\n",
       "│ 'EMPTY', 'initial_li_fat_id': 'EMPTY', 'referrer': 'https://accounts.google.com/',        │        │            │\n",
       "│ 'initial_fbclid': 'EMPTY', 'initial_referrer': 'https://accounts.google.com/',            │        │            │\n",
       "│ 'initial_utm_term': 'EMPTY', 'referring_domain': 'accounts.google.com'}                   │        │            │\n",
       "│ {'businessUnit': [], 'initial_utm_medium': 'EMPTY', 'initial_referring_domain':           │ 41459  │ 2.24%      │\n",
       "│ 'statics.teams.cdn.office.net', 'initial_utm_content': 'EMPTY', 'roles': ['underwriter'], │        │            │\n",
       "│ 'isInternalUser': 'False', 'trackingVersion': '3.1', 'initial_utm_campaign': 'EMPTY',     │        │            │\n",
       "│ 'initial_twclid': 'EMPTY', 'initial_li_fat_id': 'EMPTY', 'initial_gclid': 'EMPTY',        │        │            │\n",
       "│ 'hostname': 'None', 'initial_utm_source': 'EMPTY', 'initial_dclid': 'EMPTY',              │        │            │\n",
       "│ 'initial_wbraid': 'EMPTY', 'initial_rtd_cid': 'EMPTY', 'initial_fbclid': 'EMPTY',         │        │            │\n",
       "│ 'initial_utm_id': 'EMPTY', 'initial_gbraid': 'EMPTY', 'initial_referrer':                 │        │            │\n",
       "│ 'https://statics.teams.cdn.office.net/', 'initial_msclkid': 'EMPTY', 'initial_ttclid':    │        │            │\n",
       "│ 'EMPTY', 'initial_utm_term': 'EMPTY', 'initial_ko_click_id': 'EMPTY'}                     │        │            │\n",
       "│ {'businessUnit': ['AU Group'], 'roles': ['underwriter'], 'trackingVersion': '3.1',        │ 37571  │ 2.03%      │\n",
       "│ 'initial_twclid': 'EMPTY', 'initial_gclid': 'EMPTY', 'hostname': 'None',                  │        │            │\n",
       "│ 'initial_utm_source': 'EMPTY', 'initial_dclid': 'EMPTY', 'initial_wbraid': 'EMPTY',       │        │            │\n",
       "│ 'initial_rtd_cid': 'EMPTY', 'initial_utm_id': 'EMPTY', 'initial_gbraid': 'EMPTY',         │        │            │\n",
       "│ 'initial_msclkid': 'EMPTY', 'initial_ttclid': 'EMPTY', 'initial_ko_click_id': 'EMPTY',    │        │            │\n",
       "│ 'initial_utm_medium': 'EMPTY', 'initial_referring_domain': 'EMPTY',                       │        │            │\n",
       "│ 'initial_utm_content': 'EMPTY', 'isInternalUser': 'False', 'initial_utm_campaign':        │        │            │\n",
       "│ 'EMPTY', 'initial_li_fat_id': 'EMPTY', 'referrer': 'https://login.microsoftonline.com/',  │        │            │\n",
       "│ 'initial_fbclid': 'EMPTY', 'initial_referrer': 'EMPTY', 'initial_utm_term': 'EMPTY',      │        │            │\n",
       "│ 'referring_domain': 'login.microsoftonline.com'}                                          │        │            │\n",
       "└───────────────────────────────────────────────────────────────────────────────────────────┴────────┴────────────┘\n",
       "</pre>\n"
      ],
      "text/plain": [
       "┏━━━━━━━━━━━━━━━━━━━━━━━━━━━━━━━━━━━━━━━━━━━━━━━━━━━━━━━━━━━━━━━━━━━━━━━━━━━━━━━━━━━━━━━━━━━┳━━━━━━━━┳━━━━━━━━━━━━┓\n",
       "┃\u001b[1;93m \u001b[0m\u001b[1;93mCategory                                                                                 \u001b[0m\u001b[1;93m \u001b[0m┃\u001b[1;93m \u001b[0m\u001b[1;93mCount \u001b[0m\u001b[1;93m \u001b[0m┃\u001b[1;93m \u001b[0m\u001b[1;93mPercentage\u001b[0m\u001b[1;93m \u001b[0m┃\n",
       "┡━━━━━━━━━━━━━━━━━━━━━━━━━━━━━━━━━━━━━━━━━━━━━━━━━━━━━━━━━━━━━━━━━━━━━━━━━━━━━━━━━━━━━━━━━━━╇━━━━━━━━╇━━━━━━━━━━━━┩\n",
       "│ {'businessUnit': [], 'initial_utm_medium': 'EMPTY', 'initial_referring_domain': 'EMPTY',  │ 512831 │ 27.72%     │\n",
       "│ 'initial_utm_content': 'EMPTY', 'roles': ['underwriter'], 'isInternalUser': 'False',      │        │            │\n",
       "│ 'trackingVersion': '3.1', 'initial_utm_campaign': 'EMPTY', 'initial_twclid': 'EMPTY',     │        │            │\n",
       "│ 'initial_li_fat_id': 'EMPTY', 'initial_gclid': 'EMPTY', 'hostname': 'None',               │        │            │\n",
       "│ 'initial_utm_source': 'EMPTY', 'initial_dclid': 'EMPTY', 'initial_wbraid': 'EMPTY',       │        │            │\n",
       "│ 'initial_rtd_cid': 'EMPTY', 'initial_fbclid': 'EMPTY', 'initial_utm_id': 'EMPTY',         │        │            │\n",
       "│ 'initial_gbraid': 'EMPTY', 'initial_referrer': 'EMPTY', 'initial_msclkid': 'EMPTY',       │        │            │\n",
       "│ 'initial_ttclid': 'EMPTY', 'initial_utm_term': 'EMPTY', 'initial_ko_click_id': 'EMPTY'}   │        │            │\n",
       "│ {'businessUnit': [], 'roles': ['underwriter'], 'trackingVersion': '3.1',                  │ 135196 │ 7.31%      │\n",
       "│ 'initial_twclid': 'EMPTY', 'initial_gclid': 'EMPTY', 'hostname': 'None',                  │        │            │\n",
       "│ 'initial_utm_source': 'EMPTY', 'initial_dclid': 'EMPTY', 'initial_wbraid': 'EMPTY',       │        │            │\n",
       "│ 'initial_rtd_cid': 'EMPTY', 'initial_utm_id': 'EMPTY', 'initial_gbraid': 'EMPTY',         │        │            │\n",
       "│ 'initial_msclkid': 'EMPTY', 'initial_ttclid': 'EMPTY', 'initial_ko_click_id': 'EMPTY',    │        │            │\n",
       "│ 'initial_utm_medium': 'EMPTY', 'initial_referring_domain': 'EMPTY',                       │        │            │\n",
       "│ 'initial_utm_content': 'EMPTY', 'isInternalUser': 'False', 'initial_utm_campaign':        │        │            │\n",
       "│ 'EMPTY', 'initial_li_fat_id': 'EMPTY', 'referrer': 'https://accounts.google.com/',        │        │            │\n",
       "│ 'initial_fbclid': 'EMPTY', 'initial_referrer': 'EMPTY', 'initial_utm_term': 'EMPTY',      │        │            │\n",
       "│ 'referring_domain': 'accounts.google.com'}                                                │        │            │\n",
       "│ {'businessUnit': [], 'roles': ['underwriter'], 'trackingVersion': '3.1',                  │ 103019 │ 5.57%      │\n",
       "│ 'initial_twclid': 'EMPTY', 'initial_gclid': 'EMPTY', 'hostname': 'None',                  │        │            │\n",
       "│ 'initial_utm_source': 'EMPTY', 'initial_dclid': 'EMPTY', 'initial_wbraid': 'EMPTY',       │        │            │\n",
       "│ 'initial_rtd_cid': 'EMPTY', 'initial_utm_id': 'EMPTY', 'initial_gbraid': 'EMPTY',         │        │            │\n",
       "│ 'initial_msclkid': 'EMPTY', 'initial_ttclid': 'EMPTY', 'initial_ko_click_id': 'EMPTY',    │        │            │\n",
       "│ 'initial_utm_medium': 'EMPTY', 'initial_referring_domain': 'EMPTY',                       │        │            │\n",
       "│ 'initial_utm_content': 'EMPTY', 'isInternalUser': 'False', 'initial_utm_campaign':        │        │            │\n",
       "│ 'EMPTY', 'initial_li_fat_id': 'EMPTY', 'referrer': 'https://vru-auth.us.auth0.com/',      │        │            │\n",
       "│ 'initial_fbclid': 'EMPTY', 'initial_referrer': 'EMPTY', 'initial_utm_term': 'EMPTY',      │        │            │\n",
       "│ 'referring_domain': 'vru-auth.us.auth0.com'}                                              │        │            │\n",
       "│ {'businessUnit': ['Xceedance Modeling'], 'initial_utm_medium': 'EMPTY',                   │ 85657  │ 4.63%      │\n",
       "│ 'initial_referring_domain': 'EMPTY', 'initial_utm_content': 'EMPTY', 'roles':             │        │            │\n",
       "│ ['underwriter'], 'isInternalUser': 'False', 'trackingVersion': '3.1',                     │        │            │\n",
       "│ 'initial_utm_campaign': 'EMPTY', 'initial_twclid': 'EMPTY', 'initial_li_fat_id': 'EMPTY', │        │            │\n",
       "│ 'initial_gclid': 'EMPTY', 'hostname': 'None', 'initial_utm_source': 'EMPTY',              │        │            │\n",
       "│ 'initial_dclid': 'EMPTY', 'initial_wbraid': 'EMPTY', 'initial_rtd_cid': 'EMPTY',          │        │            │\n",
       "│ 'initial_fbclid': 'EMPTY', 'initial_utm_id': 'EMPTY', 'initial_gbraid': 'EMPTY',          │        │            │\n",
       "│ 'initial_referrer': 'EMPTY', 'initial_msclkid': 'EMPTY', 'initial_ttclid': 'EMPTY',       │        │            │\n",
       "│ 'initial_utm_term': 'EMPTY', 'initial_ko_click_id': 'EMPTY'}                              │        │            │\n",
       "│ {'initial_utm_medium': 'EMPTY', 'initial_referring_domain': 'EMPTY', 'businessUnit': [],  │ 69537  │ 3.76%      │\n",
       "│ 'initial_utm_content': 'EMPTY', 'roles': ['underwriter'], 'isInternalUser': 'False',      │        │            │\n",
       "│ 'initial_utm_campaign': 'EMPTY', 'trackingVersion': '3.1', 'initial_twclid': 'EMPTY',     │        │            │\n",
       "│ 'initial_gclid': 'EMPTY', 'hostname': 'None', 'initial_utm_source': 'EMPTY',              │        │            │\n",
       "│ 'initial_dclid': 'EMPTY', 'initial_wbraid': 'EMPTY', 'initial_fbclid': 'EMPTY',           │        │            │\n",
       "│ 'initial_utm_id': 'EMPTY', 'initial_referrer': 'EMPTY', 'initial_gbraid': 'EMPTY',        │        │            │\n",
       "│ 'initial_utm_term': 'EMPTY', 'initial_msclkid': 'EMPTY', 'initial_ttclid': 'EMPTY',       │        │            │\n",
       "│ 'initial_ko_click_id': 'EMPTY'}                                                           │        │            │\n",
       "│ {'businessUnit': [], 'initial_utm_medium': 'EMPTY', 'initial_referring_domain': 'EMPTY',  │ 53627  │ 2.90%      │\n",
       "│ 'initial_utm_content': 'EMPTY', 'roles': ['admin'], 'isInternalUser': 'True',             │        │            │\n",
       "│ 'trackingVersion': '3.1', 'initial_utm_campaign': 'EMPTY', 'initial_twclid': 'EMPTY',     │        │            │\n",
       "│ 'initial_li_fat_id': 'EMPTY', 'initial_gclid': 'EMPTY', 'hostname': 'None',               │        │            │\n",
       "│ 'initial_utm_source': 'EMPTY', 'initial_dclid': 'EMPTY', 'initial_wbraid': 'EMPTY',       │        │            │\n",
       "│ 'initial_rtd_cid': 'EMPTY', 'initial_fbclid': 'EMPTY', 'initial_utm_id': 'EMPTY',         │        │            │\n",
       "│ 'initial_gbraid': 'EMPTY', 'initial_referrer': 'EMPTY', 'initial_msclkid': 'EMPTY',       │        │            │\n",
       "│ 'initial_ttclid': 'EMPTY', 'initial_utm_term': 'EMPTY', 'initial_ko_click_id': 'EMPTY'}   │        │            │\n",
       "│ {'businessUnit': ['Xceedence'], 'initial_utm_medium': 'EMPTY',                            │ 52135  │ 2.82%      │\n",
       "│ 'initial_referring_domain': 'EMPTY', 'initial_utm_content': 'EMPTY', 'roles':             │        │            │\n",
       "│ ['underwriter'], 'isInternalUser': 'False', 'trackingVersion': '3.1',                     │        │            │\n",
       "│ 'initial_utm_campaign': 'EMPTY', 'initial_twclid': 'EMPTY', 'initial_li_fat_id': 'EMPTY', │        │            │\n",
       "│ 'initial_gclid': 'EMPTY', 'hostname': 'None', 'initial_utm_source': 'EMPTY',              │        │            │\n",
       "│ 'initial_dclid': 'EMPTY', 'initial_wbraid': 'EMPTY', 'initial_rtd_cid': 'EMPTY',          │        │            │\n",
       "│ 'initial_fbclid': 'EMPTY', 'initial_utm_id': 'EMPTY', 'initial_gbraid': 'EMPTY',          │        │            │\n",
       "│ 'initial_referrer': 'EMPTY', 'initial_msclkid': 'EMPTY', 'initial_ttclid': 'EMPTY',       │        │            │\n",
       "│ 'initial_utm_term': 'EMPTY', 'initial_ko_click_id': 'EMPTY'}                              │        │            │\n",
       "│ {'businessUnit': [], 'roles': ['underwriter'], 'trackingVersion': '3.1',                  │ 50903  │ 2.75%      │\n",
       "│ 'initial_twclid': 'EMPTY', 'initial_gclid': 'EMPTY', 'hostname': 'None',                  │        │            │\n",
       "│ 'initial_utm_source': 'EMPTY', 'initial_dclid': 'EMPTY', 'initial_wbraid': 'EMPTY',       │        │            │\n",
       "│ 'initial_rtd_cid': 'EMPTY', 'initial_utm_id': 'EMPTY', 'initial_gbraid': 'EMPTY',         │        │            │\n",
       "│ 'initial_msclkid': 'EMPTY', 'initial_ttclid': 'EMPTY', 'initial_ko_click_id': 'EMPTY',    │        │            │\n",
       "│ 'initial_utm_medium': 'EMPTY', 'initial_referring_domain': 'accounts.google.com',         │        │            │\n",
       "│ 'initial_utm_content': 'EMPTY', 'isInternalUser': 'False', 'initial_utm_campaign':        │        │            │\n",
       "│ 'EMPTY', 'initial_li_fat_id': 'EMPTY', 'referrer': 'https://accounts.google.com/',        │        │            │\n",
       "│ 'initial_fbclid': 'EMPTY', 'initial_referrer': 'https://accounts.google.com/',            │        │            │\n",
       "│ 'initial_utm_term': 'EMPTY', 'referring_domain': 'accounts.google.com'}                   │        │            │\n",
       "│ {'businessUnit': [], 'initial_utm_medium': 'EMPTY', 'initial_referring_domain':           │ 41459  │ 2.24%      │\n",
       "│ 'statics.teams.cdn.office.net', 'initial_utm_content': 'EMPTY', 'roles': ['underwriter'], │        │            │\n",
       "│ 'isInternalUser': 'False', 'trackingVersion': '3.1', 'initial_utm_campaign': 'EMPTY',     │        │            │\n",
       "│ 'initial_twclid': 'EMPTY', 'initial_li_fat_id': 'EMPTY', 'initial_gclid': 'EMPTY',        │        │            │\n",
       "│ 'hostname': 'None', 'initial_utm_source': 'EMPTY', 'initial_dclid': 'EMPTY',              │        │            │\n",
       "│ 'initial_wbraid': 'EMPTY', 'initial_rtd_cid': 'EMPTY', 'initial_fbclid': 'EMPTY',         │        │            │\n",
       "│ 'initial_utm_id': 'EMPTY', 'initial_gbraid': 'EMPTY', 'initial_referrer':                 │        │            │\n",
       "│ 'https://statics.teams.cdn.office.net/', 'initial_msclkid': 'EMPTY', 'initial_ttclid':    │        │            │\n",
       "│ 'EMPTY', 'initial_utm_term': 'EMPTY', 'initial_ko_click_id': 'EMPTY'}                     │        │            │\n",
       "│ {'businessUnit': ['AU Group'], 'roles': ['underwriter'], 'trackingVersion': '3.1',        │ 37571  │ 2.03%      │\n",
       "│ 'initial_twclid': 'EMPTY', 'initial_gclid': 'EMPTY', 'hostname': 'None',                  │        │            │\n",
       "│ 'initial_utm_source': 'EMPTY', 'initial_dclid': 'EMPTY', 'initial_wbraid': 'EMPTY',       │        │            │\n",
       "│ 'initial_rtd_cid': 'EMPTY', 'initial_utm_id': 'EMPTY', 'initial_gbraid': 'EMPTY',         │        │            │\n",
       "│ 'initial_msclkid': 'EMPTY', 'initial_ttclid': 'EMPTY', 'initial_ko_click_id': 'EMPTY',    │        │            │\n",
       "│ 'initial_utm_medium': 'EMPTY', 'initial_referring_domain': 'EMPTY',                       │        │            │\n",
       "│ 'initial_utm_content': 'EMPTY', 'isInternalUser': 'False', 'initial_utm_campaign':        │        │            │\n",
       "│ 'EMPTY', 'initial_li_fat_id': 'EMPTY', 'referrer': 'https://login.microsoftonline.com/',  │        │            │\n",
       "│ 'initial_fbclid': 'EMPTY', 'initial_referrer': 'EMPTY', 'initial_utm_term': 'EMPTY',      │        │            │\n",
       "│ 'referring_domain': 'login.microsoftonline.com'}                                          │        │            │\n",
       "└───────────────────────────────────────────────────────────────────────────────────────────┴────────┴────────────┘\n"
      ]
     },
     "metadata": {},
     "output_type": "display_data"
    },
    {
     "data": {
      "text/html": [
       "<pre style=\"white-space:pre;overflow-x:auto;line-height:normal;font-family:Menlo,'DejaVu Sans Mono',consolas,'Courier New',monospace\">\n",
       "<span style=\"color: #ffff00; text-decoration-color: #ffff00\">Distribution of uuid:</span>\n",
       "</pre>\n"
      ],
      "text/plain": [
       "\n",
       "\u001b[93mDistribution of uuid:\u001b[0m\n"
      ]
     },
     "metadata": {},
     "output_type": "display_data"
    },
    {
     "data": {
      "text/html": [
       "<pre style=\"white-space:pre;overflow-x:auto;line-height:normal;font-family:Menlo,'DejaVu Sans Mono',consolas,'Courier New',monospace\">┏━━━━━━━━━━━━━━━━━━━━━━━━━━━━━━━━━━━━━━┳━━━━━━━┳━━━━━━━━━━━━┓\n",
       "┃<span style=\"color: #ffff00; text-decoration-color: #ffff00; font-weight: bold\"> Category                             </span>┃<span style=\"color: #ffff00; text-decoration-color: #ffff00; font-weight: bold\"> Count </span>┃<span style=\"color: #ffff00; text-decoration-color: #ffff00; font-weight: bold\"> Percentage </span>┃\n",
       "┡━━━━━━━━━━━━━━━━━━━━━━━━━━━━━━━━━━━━━━╇━━━━━━━╇━━━━━━━━━━━━┩\n",
       "│ 006cfd50-7f9e-4ffa-85e8-720404db8247 │ 1     │ 0.00%      │\n",
       "│ 4d8ada7d-b821-4df3-bb9d-8d122f6c12b9 │ 1     │ 0.00%      │\n",
       "│ dcdca6e5-d3d4-490d-8ec0-90d155ba6438 │ 1     │ 0.00%      │\n",
       "│ 0b3580df-51e3-4ab6-ad48-0822328fc6fd │ 1     │ 0.00%      │\n",
       "│ 6bba7b30-f028-4e68-a4a1-5fca4700dcff │ 1     │ 0.00%      │\n",
       "│ cbd9ed54-7a0a-4407-9aac-183cd3bc8828 │ 1     │ 0.00%      │\n",
       "│ 8086ad48-5dfc-4925-ae33-b35975341dbb │ 1     │ 0.00%      │\n",
       "│ 4a92c58f-1170-45e9-a8c6-cfe6d6ed8ffc │ 1     │ 0.00%      │\n",
       "│ e2583cfa-1737-4bb9-bc7d-3d7c4df2e2e6 │ 1     │ 0.00%      │\n",
       "│ bd3532ad-dec2-4b7d-92f9-5b1008aa6f09 │ 1     │ 0.00%      │\n",
       "└──────────────────────────────────────┴───────┴────────────┘\n",
       "</pre>\n"
      ],
      "text/plain": [
       "┏━━━━━━━━━━━━━━━━━━━━━━━━━━━━━━━━━━━━━━┳━━━━━━━┳━━━━━━━━━━━━┓\n",
       "┃\u001b[1;93m \u001b[0m\u001b[1;93mCategory                            \u001b[0m\u001b[1;93m \u001b[0m┃\u001b[1;93m \u001b[0m\u001b[1;93mCount\u001b[0m\u001b[1;93m \u001b[0m┃\u001b[1;93m \u001b[0m\u001b[1;93mPercentage\u001b[0m\u001b[1;93m \u001b[0m┃\n",
       "┡━━━━━━━━━━━━━━━━━━━━━━━━━━━━━━━━━━━━━━╇━━━━━━━╇━━━━━━━━━━━━┩\n",
       "│ 006cfd50-7f9e-4ffa-85e8-720404db8247 │ 1     │ 0.00%      │\n",
       "│ 4d8ada7d-b821-4df3-bb9d-8d122f6c12b9 │ 1     │ 0.00%      │\n",
       "│ dcdca6e5-d3d4-490d-8ec0-90d155ba6438 │ 1     │ 0.00%      │\n",
       "│ 0b3580df-51e3-4ab6-ad48-0822328fc6fd │ 1     │ 0.00%      │\n",
       "│ 6bba7b30-f028-4e68-a4a1-5fca4700dcff │ 1     │ 0.00%      │\n",
       "│ cbd9ed54-7a0a-4407-9aac-183cd3bc8828 │ 1     │ 0.00%      │\n",
       "│ 8086ad48-5dfc-4925-ae33-b35975341dbb │ 1     │ 0.00%      │\n",
       "│ 4a92c58f-1170-45e9-a8c6-cfe6d6ed8ffc │ 1     │ 0.00%      │\n",
       "│ e2583cfa-1737-4bb9-bc7d-3d7c4df2e2e6 │ 1     │ 0.00%      │\n",
       "│ bd3532ad-dec2-4b7d-92f9-5b1008aa6f09 │ 1     │ 0.00%      │\n",
       "└──────────────────────────────────────┴───────┴────────────┘\n"
      ]
     },
     "metadata": {},
     "output_type": "display_data"
    },
    {
     "data": {
      "text/html": [
       "<pre style=\"white-space:pre;overflow-x:auto;line-height:normal;font-family:Menlo,'DejaVu Sans Mono',consolas,'Courier New',monospace\">\n",
       "<span style=\"color: #ffff00; text-decoration-color: #ffff00\">Distribution of day_of_week:</span>\n",
       "</pre>\n"
      ],
      "text/plain": [
       "\n",
       "\u001b[93mDistribution of day_of_week:\u001b[0m\n"
      ]
     },
     "metadata": {},
     "output_type": "display_data"
    },
    {
     "data": {
      "text/html": [
       "<pre style=\"white-space:pre;overflow-x:auto;line-height:normal;font-family:Menlo,'DejaVu Sans Mono',consolas,'Courier New',monospace\">┏━━━━━━━━━━━┳━━━━━━━━┳━━━━━━━━━━━━┓\n",
       "┃<span style=\"color: #ffff00; text-decoration-color: #ffff00; font-weight: bold\"> Category  </span>┃<span style=\"color: #ffff00; text-decoration-color: #ffff00; font-weight: bold\"> Count  </span>┃<span style=\"color: #ffff00; text-decoration-color: #ffff00; font-weight: bold\"> Percentage </span>┃\n",
       "┡━━━━━━━━━━━╇━━━━━━━━╇━━━━━━━━━━━━┩\n",
       "│ Thursday  │ 406228 │ 21.96%     │\n",
       "│ Tuesday   │ 380958 │ 20.59%     │\n",
       "│ Friday    │ 363600 │ 19.65%     │\n",
       "│ Monday    │ 353517 │ 19.11%     │\n",
       "│ Wednesday │ 302410 │ 16.35%     │\n",
       "│ Saturday  │ 25515  │ 1.38%      │\n",
       "│ Sunday    │ 17881  │ 0.97%      │\n",
       "└───────────┴────────┴────────────┘\n",
       "</pre>\n"
      ],
      "text/plain": [
       "┏━━━━━━━━━━━┳━━━━━━━━┳━━━━━━━━━━━━┓\n",
       "┃\u001b[1;93m \u001b[0m\u001b[1;93mCategory \u001b[0m\u001b[1;93m \u001b[0m┃\u001b[1;93m \u001b[0m\u001b[1;93mCount \u001b[0m\u001b[1;93m \u001b[0m┃\u001b[1;93m \u001b[0m\u001b[1;93mPercentage\u001b[0m\u001b[1;93m \u001b[0m┃\n",
       "┡━━━━━━━━━━━╇━━━━━━━━╇━━━━━━━━━━━━┩\n",
       "│ Thursday  │ 406228 │ 21.96%     │\n",
       "│ Tuesday   │ 380958 │ 20.59%     │\n",
       "│ Friday    │ 363600 │ 19.65%     │\n",
       "│ Monday    │ 353517 │ 19.11%     │\n",
       "│ Wednesday │ 302410 │ 16.35%     │\n",
       "│ Saturday  │ 25515  │ 1.38%      │\n",
       "│ Sunday    │ 17881  │ 0.97%      │\n",
       "└───────────┴────────┴────────────┘\n"
      ]
     },
     "metadata": {},
     "output_type": "display_data"
    }
   ],
   "source": [
    "# 10. Category Analysis (for categorical columns)\n",
    "console.print(\"\\n[bold bright_green]10. Category Analysis[/bold bright_green]\", style=\"bold\")\n",
    "categorical_cols = df.select_dtypes(include=['object', 'category']).columns\n",
    "for col in categorical_cols:\n",
    "    console.print(f\"\\n[bright_yellow]Distribution of {col}:[/bright_yellow]\")\n",
    "    value_counts = df[col].value_counts().head(10)  # Top 10 categories\n",
    "    counts_table = Table(show_header=True, header_style=\"bold bright_yellow\")\n",
    "    counts_table.add_column(\"Category\")\n",
    "    counts_table.add_column(\"Count\")\n",
    "    counts_table.add_column(\"Percentage\")\n",
    "    \n",
    "    for idx, (cat, count) in enumerate(value_counts.items()):\n",
    "        percentage = (count / len(df)) * 100\n",
    "        counts_table.add_row(\n",
    "            str(cat),\n",
    "            str(count),\n",
    "            f\"{percentage:.2f}%\"\n",
    "        )\n",
    "    console.print(counts_table)"
   ]
  },
  {
   "cell_type": "code",
   "execution_count": 142,
   "metadata": {},
   "outputs": [
    {
     "data": {
      "text/html": [
       "<pre style=\"white-space:pre;overflow-x:auto;line-height:normal;font-family:Menlo,'DejaVu Sans Mono',consolas,'Courier New',monospace\">\n",
       "<span style=\"color: #00ff00; text-decoration-color: #00ff00; font-weight: bold\">11</span><span style=\"color: #00ff00; text-decoration-color: #00ff00; font-weight: bold\">. Data Quality Checks</span>\n",
       "</pre>\n"
      ],
      "text/plain": [
       "\n",
       "\u001b[1;92m11\u001b[0m\u001b[1;92m. Data Quality Checks\u001b[0m\n"
      ]
     },
     "metadata": {},
     "output_type": "display_data"
    },
    {
     "data": {
      "text/html": [
       "<pre style=\"white-space:pre;overflow-x:auto;line-height:normal;font-family:Menlo,'DejaVu Sans Mono',consolas,'Courier New',monospace\">┏━━━━━━━━━━━━━━━━━━━━━━━━━┳━━━━━━━━┓\n",
       "┃<span style=\"color: #ffff00; text-decoration-color: #ffff00; font-weight: bold\"> Check                   </span>┃<span style=\"color: #ffff00; text-decoration-color: #ffff00; font-weight: bold\"> Result </span>┃\n",
       "┡━━━━━━━━━━━━━━━━━━━━━━━━━╇━━━━━━━━┩\n",
       "│ Duplicate Rows          │ <span style=\"color: #00ff00; text-decoration-color: #00ff00\">0</span>      │\n",
       "│ Contains Missing Values │ <span style=\"color: #ffff00; text-decoration-color: #ffff00\">Yes</span>    │\n",
       "│ Contains Zero Values    │ <span style=\"color: #ffff00; text-decoration-color: #ffff00\">Yes</span>    │\n",
       "└─────────────────────────┴────────┘\n",
       "</pre>\n"
      ],
      "text/plain": [
       "┏━━━━━━━━━━━━━━━━━━━━━━━━━┳━━━━━━━━┓\n",
       "┃\u001b[1;93m \u001b[0m\u001b[1;93mCheck                  \u001b[0m\u001b[1;93m \u001b[0m┃\u001b[1;93m \u001b[0m\u001b[1;93mResult\u001b[0m\u001b[1;93m \u001b[0m┃\n",
       "┡━━━━━━━━━━━━━━━━━━━━━━━━━╇━━━━━━━━┩\n",
       "│ Duplicate Rows          │ \u001b[92m0\u001b[0m      │\n",
       "│ Contains Missing Values │ \u001b[93mYes\u001b[0m    │\n",
       "│ Contains Zero Values    │ \u001b[93mYes\u001b[0m    │\n",
       "└─────────────────────────┴────────┘\n"
      ]
     },
     "metadata": {},
     "output_type": "display_data"
    }
   ],
   "source": [
    "# 11. Data Quality Checks\n",
    "console.print(\"\\n[bold bright_green]11. Data Quality Checks[/bold bright_green]\", style=\"bold\")\n",
    "quality_table = Table(show_header=True, header_style=\"bold bright_yellow\")\n",
    "quality_table.add_column(\"Check\")\n",
    "quality_table.add_column(\"Result\")\n",
    "\n",
    "duplicates = df.duplicated().sum()\n",
    "quality_table.add_row(\n",
    "    \"Duplicate Rows\",\n",
    "    f\"[bright_yellow]{duplicates}[/bright_yellow]\" if duplicates > 0 else \"[bright_green]0[/bright_green]\"\n",
    ")\n",
    "\n",
    "missing_pct = (df.isnull().sum() / len(df) * 100).round(2)\n",
    "has_missing = missing_pct.any()\n",
    "quality_table.add_row(\n",
    "    \"Contains Missing Values\",\n",
    "    \"[bright_yellow]Yes[/bright_yellow]\" if has_missing else \"[bright_green]No[/bright_green]\"\n",
    ")\n",
    "\n",
    "numeric_zeros = {col: (df[col] == 0).sum() for col in numeric_cols}\n",
    "has_zeros = any(numeric_zeros.values())\n",
    "quality_table.add_row(\n",
    "    \"Contains Zero Values\",\n",
    "    \"[bright_yellow]Yes[/bright_yellow]\" if has_zeros else \"[bright_green]No[/bright_green]\"\n",
    ")\n",
    "\n",
    "console.print(quality_table)"
   ]
  },
  {
   "cell_type": "code",
   "execution_count": 143,
   "metadata": {},
   "outputs": [
    {
     "data": {
      "text/html": [
       "<pre style=\"white-space:pre;overflow-x:auto;line-height:normal;font-family:Menlo,'DejaVu Sans Mono',consolas,'Courier New',monospace\">\n",
       "<span style=\"color: #00ff00; text-decoration-color: #00ff00; font-weight: bold\">12</span><span style=\"color: #00ff00; text-decoration-color: #00ff00; font-weight: bold\">. Memory Usage</span>\n",
       "</pre>\n"
      ],
      "text/plain": [
       "\n",
       "\u001b[1;92m12\u001b[0m\u001b[1;92m. Memory Usage\u001b[0m\n"
      ]
     },
     "metadata": {},
     "output_type": "display_data"
    },
    {
     "data": {
      "text/html": [
       "<pre style=\"white-space:pre;overflow-x:auto;line-height:normal;font-family:Menlo,'DejaVu Sans Mono',consolas,'Courier New',monospace\">╭─────────────────────────────────────────────────────────────────────────────────────────────────────────────────╮\n",
       "│ Total Memory Usage: 4085.98 MB                                                                                  │\n",
       "╰─────────────────────────────────────────────────────────────────────────────────────────────────────────────────╯\n",
       "</pre>\n"
      ],
      "text/plain": [
       "╭─────────────────────────────────────────────────────────────────────────────────────────────────────────────────╮\n",
       "│ Total Memory Usage: 4085.98 MB                                                                                  │\n",
       "╰─────────────────────────────────────────────────────────────────────────────────────────────────────────────────╯\n"
      ]
     },
     "metadata": {},
     "output_type": "display_data"
    }
   ],
   "source": [
    "# 12. Memory Usage\n",
    "console.print(\"\\n[bold bright_green]12. Memory Usage[/bold bright_green]\", style=\"bold\")\n",
    "memory_usage = df.memory_usage(deep=True)\n",
    "total_memory = memory_usage.sum() / 1024**2\n",
    "console.print(Panel(f\"Total Memory Usage: {total_memory:.2f} MB\"))\n"
   ]
  },
  {
   "cell_type": "code",
   "execution_count": 144,
   "metadata": {},
   "outputs": [
    {
     "data": {
      "text/html": [
       "<pre style=\"white-space:pre;overflow-x:auto;line-height:normal;font-family:Menlo,'DejaVu Sans Mono',consolas,'Courier New',monospace\">\n",
       "<span style=\"color: #00ff00; text-decoration-color: #00ff00; font-weight: bold\">13</span><span style=\"color: #00ff00; text-decoration-color: #00ff00; font-weight: bold\">. Session Event Sequences</span>\n",
       "</pre>\n"
      ],
      "text/plain": [
       "\n",
       "\u001b[1;92m13\u001b[0m\u001b[1;92m. Session Event Sequences\u001b[0m\n"
      ]
     },
     "metadata": {},
     "output_type": "display_data"
    },
    {
     "data": {
      "text/html": [
       "<pre style=\"white-space:pre;overflow-x:auto;line-height:normal;font-family:Menlo,'DejaVu Sans Mono',consolas,'Courier New',monospace\">\n",
       "<span style=\"color: #ffff00; text-decoration-color: #ffff00\">Session Sequence Summary:</span>\n",
       "</pre>\n"
      ],
      "text/plain": [
       "\n",
       "\u001b[93mSession Sequence Summary:\u001b[0m\n"
      ]
     },
     "metadata": {},
     "output_type": "display_data"
    },
    {
     "data": {
      "text/html": [
       "<pre style=\"white-space:pre;overflow-x:auto;line-height:normal;font-family:Menlo,'DejaVu Sans Mono',consolas,'Courier New',monospace\">┏━━━━━━━━━━━━━━━━━━━━━━━━┳━━━━━━━┓\n",
       "┃<span style=\"color: #ffff00; text-decoration-color: #ffff00; font-weight: bold\"> Metric                 </span>┃<span style=\"color: #ffff00; text-decoration-color: #ffff00; font-weight: bold\"> Value </span>┃\n",
       "┡━━━━━━━━━━━━━━━━━━━━━━━━╇━━━━━━━┩\n",
       "│ Total Sessions         │ 59868 │\n",
       "│ Avg Events per Session │ 30.9  │\n",
       "│ Max Events in Session  │ 2660  │\n",
       "│ Min Events in Session  │ 1     │\n",
       "└────────────────────────┴───────┘\n",
       "</pre>\n"
      ],
      "text/plain": [
       "┏━━━━━━━━━━━━━━━━━━━━━━━━┳━━━━━━━┓\n",
       "┃\u001b[1;93m \u001b[0m\u001b[1;93mMetric                \u001b[0m\u001b[1;93m \u001b[0m┃\u001b[1;93m \u001b[0m\u001b[1;93mValue\u001b[0m\u001b[1;93m \u001b[0m┃\n",
       "┡━━━━━━━━━━━━━━━━━━━━━━━━╇━━━━━━━┩\n",
       "│ Total Sessions         │ 59868 │\n",
       "│ Avg Events per Session │ 30.9  │\n",
       "│ Max Events in Session  │ 2660  │\n",
       "│ Min Events in Session  │ 1     │\n",
       "└────────────────────────┴───────┘\n"
      ]
     },
     "metadata": {},
     "output_type": "display_data"
    },
    {
     "name": "stdout",
     "output_type": "stream",
     "text": [
      "Number of single event sessions to drop: 4079\n",
      "Shape before dropping single event sessions: (1850109, 33)\n",
      "Shape after dropping single event sessions: (1846030, 33)\n"
     ]
    }
   ],
   "source": [
    "# 13. Session Event Sequences\n",
    "console.print(\"\\n[bold bright_green]13. Session Event Sequences[/bold bright_green]\", style=\"bold\")\n",
    "\n",
    "session_sequences = df.groupby('session_id')['event_type'].agg(list).reset_index()\n",
    "\n",
    "session_sequences['sequence_length'] = session_sequences['event_type'].apply(len)\n",
    "\n",
    "session_sequences = session_sequences.sort_values('sequence_length', ascending=False)\n",
    "\n",
    "console.print(\"\\n[bright_yellow]Session Sequence Summary:[/bright_yellow]\")\n",
    "summary_table = Table(show_header=True, header_style=\"bold bright_yellow\")\n",
    "summary_table.add_column(\"Metric\")\n",
    "summary_table.add_column(\"Value\")\n",
    "\n",
    "summary_table.add_row(\"Total Sessions\", str(len(session_sequences)))\n",
    "summary_table.add_row(\"Avg Events per Session\", f\"{session_sequences['sequence_length'].mean():.1f}\")\n",
    "summary_table.add_row(\"Max Events in Session\", str(session_sequences['sequence_length'].max()))\n",
    "summary_table.add_row(\"Min Events in Session\", str(session_sequences['sequence_length'].min()))\n",
    "\n",
    "console.print(summary_table)\n",
    "\n",
    "single_event_session_ids = session_sequences[session_sequences['sequence_length'] == 1]['session_id'].values\n",
    "print(f\"Number of single event sessions to drop: {len(single_event_session_ids)}\")\n",
    "print(f\"Shape before dropping single event sessions: {df.shape}\")\n",
    "new_df = df[~df['session_id'].isin(single_event_session_ids)]\n",
    "print(f\"Shape after dropping single event sessions: {new_df.shape}\")"
   ]
  },
  {
   "cell_type": "code",
   "execution_count": 145,
   "metadata": {},
   "outputs": [
    {
     "name": "stdout",
     "output_type": "stream",
     "text": [
      "\n",
      "Two-event sequences that don't follow session_start -> session_end pattern:\n",
      "Session 1737698460159: session_end -> session_start\n",
      "Session 1737743793366: session_start -> ::configurable-table:render\n",
      "Session 1736250602311: session_end -> session_start\n",
      "Session 1736243582422: session_start -> account-lines::widget:render\n",
      "Session 1737671063239: session_start -> account-lines::widget:render\n",
      "Session 1737671251334: session_start -> account-lines::widget:render\n",
      "Session 1736254217915: session_start -> account-lines::widget:render\n",
      "Session 1736180485465: session_end -> session_start\n",
      "Session 1737726676326: session_start -> action-center:::close-click\n",
      "Session 1737725645240: session_start -> action-center:::close-click\n",
      "Session 1736188233056: session_end -> application-window-opened\n",
      "Session 1736196993225: session_start -> account-lines::widget:render\n",
      "Session 1737725164376: session_start -> action-center:::close-click\n",
      "Session 1736193628827: application-window-opened -> ::configurable-table:render\n",
      "Session 1737708405923: session_start -> account-lines::widget:render\n",
      "Session 1736319593984: session_end -> session_start\n",
      "Session 1736322840515: session_start -> ::configurable-table:render\n",
      "Session 1736317284446: session_start -> account-lines::widget:render\n",
      "Session 1736332919865: session_start -> account-lines::widget:render\n",
      "Session 1736332044186: session_start -> account-lines::widget:render\n",
      "Session 1736290507067: session_start -> ::configurable-table:render\n",
      "Session 1737633518290: session_start -> action-center:::close-click\n",
      "Session 1737633152996: session_end -> session_start\n",
      "Session 1737624632722: session_start -> action-center:::close-click\n",
      "Session 1737631645721: session_start -> account-lines::widget:render\n",
      "Session 1736297304402: session_start -> ::configurable-table:render\n",
      "Session 1736348304019: session_start -> account-lines:::change-rating-click\n",
      "Session 1736347347102: session_start -> action-center:::close-click\n",
      "Session 1737577575998: session_start -> ::configurable-table:render\n",
      "Session 1736347201688: session_start -> action-center:::close-click\n",
      "Session 1736349542114: session_end -> session_start\n",
      "Session 1737587118486: session_start -> account-lines:::view\n",
      "Session 1736340801050: session_start -> account-lines::widget:render\n",
      "Session 1736335678696: session_start -> account-lines::widget:render\n",
      "Session 1737590821555: session_start -> account-lines::widget:render\n",
      "Session 1737583816726: session_start -> ::configurable-table:render\n",
      "Session 1737580557736: application-window-opened -> ::configurable-table:render\n",
      "Session 1737579198625: session_start -> account-lines::widget:render\n",
      "Session 1737579012816: session_start -> ::configurable-table:render\n",
      "Session 1736345526197: session_start -> account-lines::widget:render\n",
      "Session 1737581254172: session_start -> ::configurable-table:render\n",
      "Session 1737656710771: session_start -> account-lines::widget:render\n",
      "Session 1736266351108: session_start -> account-property-rating::configurable-table:render\n",
      "Session 1737651080062: session_start -> ::configurable-table:render\n",
      "Session 1736263580965: session_start -> ::configurable-table:render\n",
      "Session 1737637513114: session_start -> action-center:::close-click\n",
      "Session 1737641812002: session_start -> account-lines::widget:render\n",
      "Session 1737639242394: session_start -> account-lines::widget:render\n",
      "Session 1736283095946: session_end -> session_end\n",
      "Session 1737639537793: session_start -> action-center:::close-click\n",
      "Session 1737640026190: session_start -> account-lines::widget:render\n",
      "Session 1737640017179: session_start -> action-center:::close-click\n",
      "Session 1736275026340: session_start -> account-lines::configurable-table:render\n",
      "Session 1738058645738: session_start -> action-center:::close-click\n",
      "Session 1738048190149: session_start -> action-center:::close-click\n",
      "Session 1738070562446: session_start -> account-lines:::change-rating-click\n",
      "Session 1738070216610: session_start -> action-center:::close-click\n",
      "Session 1738069503435: session_start -> action-center:::close-click\n",
      "Session 1738069342258: session_start -> action-center:::close-click\n",
      "Session 1738063991196: session_start -> ::configurable-table:render\n",
      "Session 1738069064819: session_start -> action-center:::close-click\n",
      "Session 1738067235301: session_start -> account-lines::widget:render\n",
      "Session 1738017223769: session_start -> ::configurable-table:render\n",
      "Session 1735859160339: session_start -> ::configurable-table:render\n",
      "Session 1738010766197: session_start -> ::configurable-table:render\n",
      "Session 1735882751030: session_start -> account-lines::widget:render\n",
      "Session 1735856404125: application-window-opened -> ::configurable-table:render\n",
      "Session 1738036122812: session_end -> session_start\n",
      "Session 1738090263626: session_start -> ::configurable-table:render\n",
      "Session 1738092779448: session_start -> action-center:::close-click\n",
      "Session 1738092538137: application-window-opened -> ::configurable-table:render\n",
      "Session 1735817208508: session_start -> action-center:::close-click\n",
      "Session 1735811344828: session_start -> account-lines::widget:render\n",
      "Session 1735764979581: session_start -> dashboard:my-book:configurable-table:render\n",
      "Session 1735667556885: ::nav-header:user-signed-out -> session_end\n",
      "Session 1735668627338: account-lines::configurable-table:render -> account-lines::widget:render\n",
      "Session 1735674487311: session_end -> session_end\n",
      "Session 1735683651068: session_end -> session_end\n",
      "Session 1735685532884: session_end -> session_end\n",
      "Session 1735661506032: session_end -> session_end\n",
      "Session 1735660967561: ::nav-header:user-signed-out -> session_end\n",
      "Session 1734563247564: ::nav-header:user-signed-out -> session_end\n",
      "Session 1734652776859: ::nav-header:user-signed-out -> session_end\n",
      "Session 1734992779288: ::nav-header:user-signed-out -> session_end\n",
      "Session 1735047826244: ::nav-header:user-signed-out -> session_end\n",
      "Session 1735053019034: ::nav-header:user-signed-out -> session_end\n",
      "Session 1734534903004: ::nav-header:user-signed-out -> session_end\n",
      "Session 1734454130410: ::nav-header:user-signed-out -> session_end\n",
      "Session 1738097921492: session_start -> ::configurable-table:render\n",
      "Session 1729277741239: ::nav-header:user-signed-out -> session_end\n",
      "Session 1732641676720: ::nav-header:user-signed-out -> session_end\n",
      "Session 1734032953748: ::nav-header:user-signed-out -> session_end\n",
      "Session 1735055085680: ::nav-header:user-signed-out -> session_end\n",
      "Session 1735578850657: session_end -> session_end\n",
      "Session 1735581303002: ::nav-header:user-signed-out -> session_end\n",
      "Session 1735600307872: session_end -> session_end\n",
      "Session 1735652051457: session_end -> session_end\n",
      "Session 1735220466591: ::nav-header:user-signed-out -> session_end\n",
      "Session 1735225107699: ::nav-header:user-signed-out -> session_end\n",
      "Session 1735260345327: ::nav-header:user-signed-out -> session_end\n",
      "Session 1735315196272: ::nav-header:user-signed-out -> session_end\n",
      "Session 1735325943618: ::nav-header:user-signed-out -> session_end\n",
      "Session 1735332668623: ::nav-header:user-signed-out -> session_end\n",
      "Session 1738093239941: session_start -> ::nav-header:help-menu-opened\n",
      "Session 1735793444826: session_end -> session_start\n",
      "Session 1735829374570: session_end -> session_start\n",
      "Session 1735828648159: session_start -> action-center:::close-click\n",
      "Session 1735828184984: session_start -> action-center:::close-click\n",
      "Session 1738075790336: session_end -> session_start\n",
      "Session 1735820913657: session_start -> account-lines::widget:render\n",
      "Session 1738082481036: session_start -> ::configurable-table:render\n",
      "Session 1735826007966: session_start -> account-lines::widget:render\n",
      "Session 1736057198003: application-window-opened -> ::configurable-table:render\n",
      "Session 1737951934557: session_end -> session_start\n",
      "Session 1736034691530: session_start -> ::configurable-table:render\n",
      "Session 1736157263330: session_start -> account-lines::widget:render\n",
      "Session 1737971593603: session_start -> action-center:::close-click\n",
      "Session 1737955061875: session_start -> account-lines::widget:render\n",
      "Session 1737962272557: session_start -> account-lines::widget:render\n",
      "Session 1737830969016: session_start -> ::configurable-table:render\n",
      "Session 1736178861666: session_start -> account-lines::widget:render\n",
      "Session 1736179305571: session_start -> action-center:::close-click\n",
      "Session 1736177401443: session_start -> action-center:::close-click\n",
      "Session 1737748416877: session_start -> ::configurable-table:render\n",
      "Session 1736178015885: session_start -> action-center:::close-click\n",
      "Session 1737765899504: session_start -> ::configurable-table:render\n",
      "Session 1737811483729: session_start -> ::configurable-table:render\n",
      "Session 1736173611213: session_start -> action-center:::close-click\n",
      "Session 1737757872169: session_start -> action-center:::close-click\n",
      "Session 1737994322837: session_start -> ::configurable-table:render\n",
      "Session 1735915893729: session_start -> account-lines::widget:render\n",
      "Session 1735914623069: session_start -> action-center:::close-click\n",
      "Session 1735915575471: session_start -> action-center:::close-click\n",
      "Session 1735914939616: session_start -> ::nav-header:user-signed-out\n",
      "Session 1735915320472: session_start -> action-center:::close-click\n",
      "Session 1735897619760: session_start -> account-lines::widget:render\n",
      "Session 1735908860368: session_start -> account-lines::widget:render\n",
      "Session 1738000689563: session_start -> ::configurable-table:render\n",
      "Session 1738004021174: session_start -> ::configurable-table:render\n",
      "Session 1737981615667: session_start -> account-lines::widget:render\n",
      "Session 1737981361814: session_start -> action-center:::close-click\n",
      "Session 1737985340381: session_start -> account-lines::widget:render\n",
      "Session 1737986063956: session_start -> account-lines::widget:render\n",
      "Session 1737980144347: session_start -> account-lines::widget:render\n",
      "Session 1737980033284: session_start -> account-lines::widget:render\n",
      "Session 1737979883622: session_start -> account-lines::widget:render\n",
      "Session 1735920023893: session_start -> action-center:::close-click\n",
      "Session 1735919278392: session_start -> action-center:::close-click\n",
      "Session 1735919588023: session_start -> action-center:::close-click\n",
      "Session 1737986196951: session_start -> account-lines::widget:render\n",
      "Session 1735921411947: session_start -> action-center:::close-click\n",
      "Session 1735920849158: session_start -> action-center:::close-click\n",
      "Session 1737989545779: session_end -> session_start\n",
      "Session 1735921009696: session_start -> action-center:::close-click\n",
      "Session 1735921227207: session_start -> action-center:::close-click\n",
      "Session 1737056818430: session_start -> account-lines::widget:render\n",
      "Session 1737055686756: session_start -> action-center:::close-click\n",
      "Session 1737043332583: session_end -> session_start\n",
      "Session 1737043820747: session_end -> session_start\n",
      "Session 1737040065084: session_start -> action-center:::close-click\n",
      "Session 1737038881781: session_start -> action-center:::close-click\n",
      "Session 1737051591499: submissions:all-policy:configurable-table:render -> session_end\n",
      "Session 1737124946241: session_start -> action-center:::close-click\n",
      "Session 1737126729836: session_start -> action-center:::close-click\n",
      "Session 1736617100298: session_start -> application-window-opened\n",
      "Session 1737126454793: session_start -> action-center:::close-click\n",
      "Session 1736619100638: session_start -> ::configurable-table:render\n",
      "Session 1737126329635: session_start -> action-center:::close-click\n",
      "Session 1737123814677: session_start -> action-center:::close-click\n",
      "Session 1737130961998: session_start -> account-lines::configurable-table:render\n",
      "Session 1736548078047: session_start -> ::configurable-table:render\n",
      "Session 1736774137521: session_start -> action-center:::close-click\n",
      "Session 1736773890543: session_start -> action-center:::close-click\n",
      "Session 1736774017692: session_start -> action-center:::close-click\n",
      "Session 1736770578115: session_start -> action-center:::close-click\n",
      "Session 1737103281621: session_start -> action-center:::close-click\n",
      "Session 1736767492586: session_end -> session_start\n",
      "Session 1737113986664: session_start -> action-center:::close-click\n",
      "Session 1736765539237: session_start -> account-lines::widget:render\n",
      "Session 1737038841630: session_start -> ::configurable-table:render\n",
      "Session 1736887337452: session_end -> session_start\n",
      "Session 1736875500313: session_start -> account-property-rating::configurable-table:render\n",
      "Session 1736969615778: session_start -> ::configurable-table:render\n",
      "Session 1736965363150: session_start -> action-center:::close-click\n",
      "Session 1736945758416: session_start -> account-lines:::change-rating-click\n",
      "Session 1736891916977: session_start -> account-lines::widget:render\n",
      "Session 1736952060396: session_start -> account-lines::widget:render\n",
      "Session 1736950553954: session_start -> action-center:::close-click\n",
      "Session 1736950866820: session_start -> action-center:::close-click\n",
      "Session 1737029056380: session_start -> ::configurable-table:render\n",
      "Session 1737019706939: session_start -> action-center:::close-click\n",
      "Session 1736813500073: application-window-opened -> session_end\n",
      "Session 1737035865589: session_start -> ::configurable-table:render\n",
      "Session 1737038571222: session_start -> action-center:::close-click\n",
      "Session 1736975686667: session_start -> action-center:::close-click\n",
      "Session 1736859871462: session_start -> ::configurable-table:render\n",
      "Session 1736865142092: session_start -> action-center:::close-click\n",
      "Session 1736866416621: session_start -> account-property-rating::configurable-table:render\n",
      "Session 1736863875080: session_start -> account-lines::widget:render\n",
      "Session 1736422728862: application-window-opened -> session_end\n",
      "Session 1736424544317: session_start -> action-center:::close-click\n",
      "Session 1736424231924: session_start -> action-center:::close-click\n",
      "Session 1736425375949: session_start -> action-center:::close-click\n",
      "Session 1736426569647: session_start -> account-lines::widget:render\n",
      "Session 1736395960970: session_start -> ::configurable-table:render\n",
      "Session 1737497175842: session_start -> ::configurable-table:render\n",
      "Session 1736408035293: session_start -> submissions:exposures-create::submit-click\n",
      "Session 1736408086844: session_start -> submissions:exposures-create::submit-click\n",
      "Session 1736408300384: session_start -> submissions:exposures-create::submit-click\n",
      "Session 1736408523381: session_start -> submissions:exposures-create::submit-click\n",
      "Session 1736411968800: session_start -> account-lines::widget:render\n",
      "Session 1736409715437: session_start -> action-center:::close-click\n",
      "Session 1737479514756: session_start -> account-lines::widget:render\n",
      "Session 1737480091664: session_start -> ::configurable-table:render\n",
      "Session 1736357273153: session_start -> action-center:::close-click\n",
      "Session 1736362892404: session_start -> ::configurable-table:render\n",
      "Session 1737559677607: session_start -> action-center:::close-click\n",
      "Session 1736351256690: session_end -> session_start\n",
      "Session 1737541314149: session_start -> action-center:::close-click\n",
      "Session 1737535367531: session_start -> action-center:::close-click\n",
      "Session 1737548152674: session_start -> account-lines::widget:render\n",
      "Session 1736518057968: session_start -> account-lines::widget:render\n",
      "Session 1736522963404: session_start -> account-lines::widget:render\n",
      "Session 1736515540081: session_start -> account-lines::widget:render\n",
      "Session 1736534857293: session_end -> application-window-opened\n",
      "Session 1736538408640: session_start -> ::configurable-table:render\n",
      "Session 1737135710960: session_start -> ::configurable-table:render\n",
      "Session 1736530902042: session_start -> ::configurable-table:render\n",
      "Session 1737146216556: session_start -> account-lines::widget:render\n",
      "Session 1737450684918: session_start -> action-center:::close-click\n",
      "Session 1736450940663: session_start -> ::nav-header:user-signed-out\n",
      "Session 1737455192389: session_start -> action-center:::close-click\n",
      "Session 1736450495421: session_start -> ::configurable-table:render\n",
      "Session 1737455871183: session_start -> account-lines::widget:render\n",
      "Session 1736444772608: application-window-opened -> ::configurable-table:render\n",
      "Session 1736444784900: application-window-opened -> ::configurable-table:render\n",
      "Session 1736444590788: session_start -> account-lines::widget:render\n",
      "Session 1736444663210: session_start -> ::configurable-table:render\n",
      "Session 1736442431804: session_end -> session_start\n",
      "Session 1736447479792: session_start -> account-lines::widget:render\n",
      "Session 1736447110042: session_start -> action-center:::close-click\n",
      "Session 1737389121691: session_start -> action-center:::close-click\n",
      "Session 1737386204740: session_start -> action-center:::close-click\n",
      "Session 1737387578331: session_start -> action-center:::close-click\n",
      "Session 1737375703399: session_start -> account-lines::widget:render\n",
      "Session 1737376667712: session_start -> account-lines:::change-rating-click\n",
      "Session 1736495832380: session_start -> action-center:action-details:response-form:submit-click\n",
      "Session 1736461712394: session_start -> ::configurable-table:render\n",
      "Session 1736457982106: session_start -> account-lines::widget:render\n",
      "Session 1736463198172: session_start -> ::configurable-table:render\n"
     ]
    }
   ],
   "source": [
    "session_sequences = new_df.groupby('session_id')['event_type'].agg(list).reset_index()\n",
    "\n",
    "session_sequences['sequence_length'] = session_sequences['event_type'].apply(len)\n",
    "\n",
    "session_sequences = session_sequences.sort_values('sequence_length', ascending=False)\n",
    "\n",
    "# console.print(\"\\n[bright_yellow]Sample Session Sequences (First 50):[/bright_yellow]\")\n",
    "# for _, row in session_sequences.tail(50).iterrows():\n",
    "#     console.print(f\"\\nSession {row['session_id']}:\")\n",
    "#     console.print(f\"Length: {row['sequence_length']}\")\n",
    "#     console.print(f\"Events: {' -> '.join(row['event_type'][:50])}...\")\n",
    "\n",
    "# Get all sequences with length 2 that's NOT session_start -> session_end\n",
    "# and NOT application-window-opened -> session_start\n",
    "two_event_sequences = session_sequences[session_sequences['sequence_length'] == 2]\n",
    "non_standard_sequences = two_event_sequences[\n",
    "    ~((two_event_sequences['event_type'].apply(lambda x: x[0] == 'session_start' and x[1] == 'session_end')) |\n",
    "      (two_event_sequences['event_type'].apply(lambda x: x[0] == 'application-window-opened' and x[1] == 'session_start')))\n",
    "]\n",
    "print(\"\\nTwo-event sequences that don't follow session_start -> session_end pattern:\")\n",
    "if len(non_standard_sequences) > 0:\n",
    "    for _, row in non_standard_sequences.iterrows():\n",
    "        print(f\"Session {row['session_id']}: {' -> '.join(row['event_type'])}\")\n",
    "else:\n",
    "    print(\"No non-standard two-event sequences found\")"
   ]
  },
  {
   "cell_type": "code",
   "execution_count": 146,
   "metadata": {},
   "outputs": [
    {
     "name": "stdout",
     "output_type": "stream",
     "text": [
      "\n",
      "Dropped 4 columns with only 1 unique value: ['app', 'data_type', 'library', 'platform']\n"
     ]
    }
   ],
   "source": [
    "# Drop columns that have only 1 unique value since they don't provide any useful information\n",
    "single_value_cols = new_df.nunique()[new_df.nunique() == 1].index\n",
    "df = new_df.drop(columns=single_value_cols)\n",
    "print(f\"\\nDropped {len(single_value_cols)} columns with only 1 unique value: {list(single_value_cols)}\")"
   ]
  },
  {
   "cell_type": "code",
   "execution_count": 147,
   "metadata": {},
   "outputs": [
    {
     "data": {
      "text/plain": [
       "Index(['$insert_id', 'amplitude_id', 'city', 'client_upload_time', 'country',\n",
       "       'data', 'device_family', 'device_id', 'device_type', 'dma', 'event_id',\n",
       "       'event_properties', 'event_time', 'event_type', 'language', 'os_name',\n",
       "       'os_version', 'processed_time', 'region', 'server_received_time',\n",
       "       'server_upload_time', 'session_id', 'user_id', 'user_properties',\n",
       "       'uuid', 'session_duration', 'hour', 'day_of_week'],\n",
       "      dtype='object')"
      ]
     },
     "execution_count": 147,
     "metadata": {},
     "output_type": "execute_result"
    }
   ],
   "source": [
    "# Drop client_event_time\n",
    "try:\n",
    "    df = df.drop(columns=['client_event_time'])\n",
    "except KeyError:\n",
    "    pass\n",
    "df.columns"
   ]
  },
  {
   "cell_type": "code",
   "execution_count": 148,
   "metadata": {},
   "outputs": [
    {
     "name": "stdout",
     "output_type": "stream",
     "text": [
      "\n",
      "Analyzing patterns in non-standard sequences:\n",
      "\n",
      "Device Distribution:\n",
      "device_family\n",
      "Windows     73.6\n",
      "Mac OS X    26.4\n",
      "Name: proportion, dtype: float64\n",
      "\n",
      "Top Cities:\n",
      "city\n",
      "Nashville        156\n",
      "Spring Hill       50\n",
      "Mumbai            36\n",
      "Chicago           20\n",
      "San Francisco     18\n",
      "Name: count, dtype: int64\n",
      "\n",
      "Day of Week Distribution:\n",
      "day_of_week\n",
      "Thursday     128\n",
      "Tuesday      103\n",
      "Friday        94\n",
      "Monday        87\n",
      "Wednesday     74\n",
      "Saturday      12\n",
      "Sunday         2\n",
      "Name: count, dtype: int64\n",
      "\n",
      "Unique Users: 86\n",
      "\n",
      "Average Session Duration:\n",
      "0 days 00:04:04.899384\n",
      "count                          500\n",
      "mean        0 days 00:04:04.899384\n",
      "std      0 days 00:41:04.272351968\n",
      "min                0 days 00:00:00\n",
      "25%         0 days 00:00:00.184000\n",
      "50%         0 days 00:00:00.342000\n",
      "75%         0 days 00:00:00.554000\n",
      "max         0 days 09:56:21.856000\n",
      "Name: session_duration, dtype: object\n"
     ]
    }
   ],
   "source": [
    "# Check if the non_standard_sequences have something in common in their other columns\n",
    "if len(non_standard_sequences) > 0:\n",
    "    non_standard_session_ids = non_standard_sequences['session_id'].values\n",
    "    \n",
    "    non_standard_data = df[df['session_id'].isin(non_standard_session_ids)]\n",
    "    \n",
    "    print(\"\\nAnalyzing patterns in non-standard sequences:\")\n",
    "    \n",
    "    print(\"\\nDevice Distribution:\")\n",
    "    print(non_standard_data['device_family'].value_counts(normalize=True) * 100)\n",
    "    \n",
    "    print(\"\\nTop Cities:\")\n",
    "    print(non_standard_data['city'].value_counts().head())\n",
    "    \n",
    "    print(\"\\nDay of Week Distribution:\")\n",
    "    print(non_standard_data['day_of_week'].value_counts())\n",
    "    \n",
    "    print(\"\\nUnique Users:\", non_standard_data['user_id'].nunique())\n",
    "    \n",
    "    print(\"\\nAverage Session Duration:\")\n",
    "    print(non_standard_data['session_duration'].mean())\n",
    "    print(non_standard_data['session_duration'].describe())\n",
    "    \n",
    "else:\n",
    "    print(\"No non-standard sequences to analyze\")\n"
   ]
  },
  {
   "cell_type": "code",
   "execution_count": 149,
   "metadata": {},
   "outputs": [
    {
     "name": "stdout",
     "output_type": "stream",
     "text": [
      "(86, 28)\n",
      "(1845944, 28)\n"
     ]
    }
   ],
   "source": [
    "df.select_dtypes(include=['datetime64']).columns\n",
    "\n",
    "# df = df.drop(columns=['server_received_time'])\n",
    "\n",
    "# Output how many rows with server_received_time == client_upload_time\n",
    "print(df[df['server_upload_time'] == df['client_upload_time']].shape)\n",
    "\n",
    "# Output how many rows with server_received_time != client_upload_time\n",
    "print(df[df['server_upload_time'] != df['client_upload_time']].shape)\n",
    "\n"
   ]
  },
  {
   "cell_type": "code",
   "execution_count": 150,
   "metadata": {},
   "outputs": [
    {
     "name": "stdout",
     "output_type": "stream",
     "text": [
      "(86, 30)\n",
      "                server_latency     processing_latency\n",
      "0       0 days 00:00:02.144000 0 days 00:00:02.142000\n",
      "1       0 days 00:00:02.144000 0 days 00:00:02.142000\n",
      "2       0 days 00:00:01.908000 0 days 00:00:01.906000\n",
      "3       0 days 00:00:01.908000 0 days 00:00:01.906000\n",
      "4       0 days 00:00:01.908000 0 days 00:00:01.906000\n",
      "...                        ...                    ...\n",
      "1850104 0 days 00:00:01.646000 0 days 00:00:01.643000\n",
      "1850105 0 days 00:00:01.646000 0 days 00:00:01.643000\n",
      "1850106 0 days 00:00:01.646000 0 days 00:00:01.643000\n",
      "1850107 0 days 00:00:01.378000 0 days 00:00:01.371000\n",
      "1850108 0 days 00:00:02.205000 0 days 00:00:02.203000\n",
      "\n",
      "[1845944 rows x 2 columns]\n",
      "(4, 30)\n"
     ]
    }
   ],
   "source": [
    "# Calculate different latency features\n",
    "df['server_latency'] = pd.to_datetime(df['processed_time']) - pd.to_datetime(df['client_upload_time'])\n",
    "# For some reason always 0\n",
    "# df['client_to_server_latency'] = pd.to_datetime(df['server_received_time']) - pd.to_datetime(df['client_upload_time']) \n",
    "df['processing_latency'] = pd.to_datetime(df['processed_time']) - pd.to_datetime(df['server_upload_time'])\n",
    "\n",
    "# Check all rows with server_latency == processing_latency\n",
    "print(df[df['server_latency'] == df['processing_latency']].shape)\n",
    "\n",
    "# Check all rows with server_latency != processing_latency\n",
    "print(df[df['server_latency'] != df['processing_latency']][['server_latency', 'processing_latency']])\n",
    "\n",
    "# Find all rows with server_latency - processing_latency > 10 ms\n",
    "print(df[df['server_latency'] - df['processing_latency'] > pd.Timedelta(milliseconds=1000)].shape)"
   ]
  },
  {
   "cell_type": "code",
   "execution_count": 151,
   "metadata": {},
   "outputs": [
    {
     "name": "stdout",
     "output_type": "stream",
     "text": [
      "\n",
      "Regions with Slowest Server Latency (>1000 events):\n",
      "                              server_latency        \n",
      "                                        mean   count\n",
      "region                                              \n",
      "Maryland           0 days 00:00:19.297236709    1787\n",
      "Oregon             0 days 00:00:10.021735844    8919\n",
      "Indiana            0 days 00:00:09.920133634    2881\n",
      "Ontario            0 days 00:00:09.573506350   23148\n",
      "California         0 days 00:00:09.374588648   65382\n",
      "Utah               0 days 00:00:07.326552096    6200\n",
      "Illinois           0 days 00:00:06.984348273  102988\n",
      "Washington         0 days 00:00:06.974129378    5967\n",
      "Colorado           0 days 00:00:06.305809536   18161\n",
      "North Carolina     0 days 00:00:06.040996675   44816\n",
      "New York           0 days 00:00:05.344338531   39051\n",
      "Florida            0 days 00:00:05.305169673   60587\n",
      "Arizona            0 days 00:00:05.000315551   49732\n",
      "Virginia           0 days 00:00:04.677546556   69034\n",
      "Pennsylvania       0 days 00:00:04.602005231    2867\n",
      "Ohio               0 days 00:00:04.331816950   36837\n",
      "Lower Silesia      0 days 00:00:04.152674179   39310\n",
      "Maharashtra        0 days 00:00:04.142936028  399441\n",
      "Connecticut        0 days 00:00:03.995979266   15482\n",
      "Tennessee          0 days 00:00:03.804003284  383365\n",
      "Iowa               0 days 00:00:03.752497302   95652\n",
      "Massachusetts      0 days 00:00:03.748689241   15430\n",
      "Alabama            0 days 00:00:03.627006156   68386\n",
      "Georgia            0 days 00:00:03.601624970   75754\n",
      "Kujawsko-Pomorskie 0 days 00:00:03.397321060    3884\n",
      "South Carolina     0 days 00:00:03.381781558   74148\n",
      "Texas              0 days 00:00:03.348289229   44705\n",
      "Mexico City        0 days 00:00:03.345575590    2540\n",
      "Michigan           0 days 00:00:03.115020220   10534\n",
      "Kansas             0 days 00:00:03.105856068    9977\n",
      "New Jersey         0 days 00:00:02.983170372   23114\n",
      "Silesia            0 days 00:00:02.939979286    3814\n",
      "Missouri           0 days 00:00:02.647379916   14848\n",
      "Lesser Poland      0 days 00:00:02.643352326    1053\n",
      "Mazovia            0 days 00:00:02.347337694    1223\n",
      "Lubusz             0 days 00:00:02.184438536    3498\n",
      "Minnesota          0 days 00:00:01.718351562    1280\n",
      "\n",
      "Cities with Slowest Server Latency (>1000 events):\n",
      "                           server_latency      \n",
      "                                     mean count\n",
      "city                                           \n",
      "Pella           0 days 00:00:32.787869480  1540\n",
      "Rolesville      0 days 00:00:29.568864969  3614\n",
      "Waterloo        0 days 00:00:28.686771473  5693\n",
      "Normal          0 days 00:00:28.300309118  3290\n",
      "Maquoketa       0 days 00:00:14.827922098  1258\n",
      "...                                   ...   ...\n",
      "St. Petersburg  0 days 00:00:01.606825348  2651\n",
      "Jamaica Plain   0 days 00:00:01.561252771  1353\n",
      "West Des Moines 0 days 00:00:01.389680713  2017\n",
      "Boydton         0 days 00:00:01.348851085  1981\n",
      "Raleigh         0 days 00:00:01.284794137  1501\n",
      "\n",
      "[125 rows x 2 columns]\n",
      "\n",
      "Regions with Lowest Server Latency (<100 ms):\n",
      "region\n",
      "Maharashtra           484\n",
      "Tennessee             375\n",
      "Iowa                   87\n",
      "South Carolina         62\n",
      "New York               54\n",
      "Georgia                53\n",
      "Illinois               46\n",
      "Florida                46\n",
      "North Carolina         36\n",
      "Virginia               31\n",
      "Lower Silesia          24\n",
      "Ontario                24\n",
      "Missouri               23\n",
      "California             21\n",
      "Ohio                   20\n",
      "Texas                  20\n",
      "Connecticut            16\n",
      "Arizona                12\n",
      "Alabama                10\n",
      "Michigan               10\n",
      "Kujawsko-Pomorskie      9\n",
      "New Jersey              6\n",
      "Colorado                6\n",
      "Kansas                  4\n",
      "Utah                    1\n",
      "Washington              1\n",
      "Minnesota               1\n",
      "Massachusetts           1\n",
      "Lubusz                  1\n",
      "Name: count, dtype: int64\n",
      "\n",
      "Cities with Lowest Server Latency (<100 ms):\n",
      "city\n",
      "Mumbai         484\n",
      "Nashville      291\n",
      "Spring Hill     71\n",
      "Greenville      46\n",
      "Chicago         41\n",
      "              ... \n",
      "Sammamish        1\n",
      "Lisle            1\n",
      "Sandy            1\n",
      "Wałbrzych        1\n",
      "Houston          1\n",
      "Name: count, Length: 89, dtype: int64\n",
      "(86, 30)\n"
     ]
    }
   ],
   "source": [
    "# Analyze the regions with high server_latency\n",
    "region_latencies = df.groupby('region')[['server_latency', 'processing_latency']].agg(['mean', 'count'])\n",
    "\n",
    "significant_regions = region_latencies[region_latencies[('server_latency','count')] > 1000]\n",
    "\n",
    "print(\"\\nRegions with Slowest Server Latency (>1000 events):\")\n",
    "print(significant_regions.sort_values(('server_latency','mean'), ascending=False)[['server_latency']])\n",
    "\n",
    "# Analyze the cities with high server_latency\n",
    "city_latencies = df.groupby('city')[['server_latency', 'processing_latency']].agg(['mean', 'count'])\n",
    "\n",
    "significant_cities = city_latencies[city_latencies[('server_latency','count')] > 1000]\n",
    "\n",
    "print(\"\\nCities with Slowest Server Latency (>1000 events):\")\n",
    "print(significant_cities.sort_values(('server_latency','mean'), ascending=False)[['server_latency']])\n",
    "\n",
    "# Regions and cities with low server_latency\n",
    "low_latency_regions = df[df['server_latency'] < pd.Timedelta(milliseconds=100)]\n",
    "low_latency_cities = df[df['server_latency'] < pd.Timedelta(milliseconds=100)]\n",
    "\n",
    "print(\"\\nRegions with Lowest Server Latency (<100 ms):\")\n",
    "print(low_latency_regions['region'].value_counts())\n",
    "\n",
    "print(\"\\nCities with Lowest Server Latency (<100 ms):\")\n",
    "print(low_latency_cities['city'].value_counts())\n",
    "\n",
    "# Check if there are any rows with server_latency == processing_latency\n",
    "print(df[df['server_latency'] == df['processing_latency']].shape)"
   ]
  },
  {
   "cell_type": "code",
   "execution_count": 152,
   "metadata": {},
   "outputs": [
    {
     "name": "stdout",
     "output_type": "stream",
     "text": [
      "\n",
      "Correlation between server latency and session duration:\n",
      "                  server_latency  session_duration\n",
      "server_latency           1.00000          -0.00457\n",
      "session_duration        -0.00457           1.00000\n"
     ]
    },
    {
     "data": {
      "image/png": "[encoded data removed]",
      "text/plain": [
       "<Figure size 1000x600 with 1 Axes>"
      ]
     },
     "metadata": {},
     "output_type": "display_data"
    }
   ],
   "source": [
    "# Try to find if there is a correlation between server_latency and session_duration\n",
    "print(\"\\nCorrelation between server latency and session duration:\")\n",
    "correlation = df.groupby('session_id')[['server_latency', 'session_duration']].mean().corr()\n",
    "print(correlation)\n",
    "\n",
    "# Visualize the relationship\n",
    "plt.figure(figsize=(10,6))\n",
    "plt.scatter(df['server_latency'].dt.total_seconds(), \n",
    "           df['session_duration'].dt.total_seconds(),\n",
    "           alpha=0.1)\n",
    "plt.xlabel('Server Latency (seconds)')\n",
    "plt.ylabel('Session Duration (seconds)')\n",
    "plt.title('Server Latency vs Session Duration')\n",
    "plt.show()\n"
   ]
  },
  {
   "cell_type": "code",
   "execution_count": 153,
   "metadata": {},
   "outputs": [
    {
     "name": "stdout",
     "output_type": "stream",
     "text": [
      "\n",
      "Null Value Counts:\n",
      "$insert_id                   0\n",
      "amplitude_id                 0\n",
      "city                     33529\n",
      "client_upload_time           0\n",
      "country                      0\n",
      "data                         0\n",
      "device_family                0\n",
      "device_id                    0\n",
      "device_type             290077\n",
      "dma                     512212\n",
      "event_id                     0\n",
      "event_properties             0\n",
      "event_time                   0\n",
      "event_type                   0\n",
      "language                     0\n",
      "os_name                      0\n",
      "os_version                   0\n",
      "processed_time               0\n",
      "region                   16514\n",
      "server_received_time         0\n",
      "server_upload_time           0\n",
      "session_id                   0\n",
      "user_id                   3863\n",
      "user_properties              0\n",
      "uuid                         0\n",
      "session_duration             0\n",
      "hour                         0\n",
      "day_of_week                  0\n",
      "server_latency               0\n",
      "processing_latency           0\n",
      "dtype: int64\n"
     ]
    }
   ],
   "source": [
    "# Can you analyze all the null values in the dataset? for potential imputation?\n",
    "null_counts = df.isnull().sum()\n",
    "print(\"\\nNull Value Counts:\")\n",
    "print(null_counts)"
   ]
  },
  {
   "cell_type": "code",
   "execution_count": 154,
   "metadata": {},
   "outputs": [],
   "source": [
    "# Drop $insert_id, user_id, amplitude_id, device_id, uuid, and user_properties columns... because session_id is the only column that is not null and important\n",
    "try:\n",
    "    df = df.drop(columns=['$insert_id', 'user_id', 'amplitude_id', 'device_id', 'uuid', 'user_properties'])\n",
    "except KeyError:\n",
    "    pass"
   ]
  },
  {
   "cell_type": "code",
   "execution_count": 155,
   "metadata": {},
   "outputs": [],
   "source": [
    "# Drop device_type because it has less unique values and has more nulls than device_family\n",
    "df = df.drop(columns=['device_type'])"
   ]
  },
  {
   "cell_type": "code",
   "execution_count": 156,
   "metadata": {},
   "outputs": [
    {
     "name": "stdout",
     "output_type": "stream",
     "text": [
      "\n",
      "Device Family Value Counts:\n",
      "device_family\n",
      "Windows     1512987\n",
      "Mac OS X     288064\n",
      "Linux         42944\n",
      "iOS            2013\n",
      "Android          22\n",
      "Name: count, dtype: int64\n",
      "\n",
      "OS Name Value Counts:\n",
      "os_name\n",
      "Chrome               1703592\n",
      "Edge                  131233\n",
      "Firefox                 8537\n",
      "Mobile Safari           1819\n",
      "Safari                   633\n",
      "Chrome Mobile iOS        159\n",
      "Edge Mobile               35\n",
      "Chrome Mobile             22\n",
      "Name: count, dtype: int64\n"
     ]
    }
   ],
   "source": [
    "# Check device_family value counts\n",
    "print(\"\\nDevice Family Value Counts:\")\n",
    "print(df['device_family'].value_counts())\n",
    "# Check os_name value counts\n",
    "print(\"\\nOS Name Value Counts:\")\n",
    "print(df['os_name'].value_counts())"
   ]
  },
  {
   "cell_type": "code",
   "execution_count": 157,
   "metadata": {},
   "outputs": [
    {
     "name": "stdout",
     "output_type": "stream",
     "text": [
      "Number of outliers removed: 45853\n"
     ]
    },
    {
     "data": {
      "image/png": "[encoded data removed]",
      "text/plain": [
       "<Figure size 1000x600 with 1 Axes>"
      ]
     },
     "metadata": {},
     "output_type": "display_data"
    }
   ],
   "source": [
    "import numpy as np\n",
    "\n",
    "# Identify and remove outliers\n",
    "# Calculate z-scores for session_duration\n",
    "z_scores = np.abs((df['session_duration'] - df['session_duration'].mean()) / df['session_duration'].std())\n",
    "\n",
    "# Remove rows where z-score > 3 (more than 3 standard deviations from mean)\n",
    "df = df[z_scores < 3]\n",
    "\n",
    "# Print how many outliers were removed\n",
    "print(f\"Number of outliers removed: {len(z_scores[z_scores >= 3])}\")\n",
    "\n",
    "# Plot histogram of session durations before and after outlier removal\n",
    "plt.figure(figsize=(10, 6))\n",
    "plt.hist(df['session_duration'].dt.total_seconds(), bins=50, alpha=0.5)\n",
    "plt.xlabel('Session Duration (seconds)')\n",
    "plt.ylabel('Frequency')\n",
    "plt.title('Distribution of Session Durations After Outlier Removal')\n",
    "plt.show()"
   ]
  },
  {
   "cell_type": "code",
   "execution_count": 170,
   "metadata": {},
   "outputs": [
    {
     "name": "stdout",
     "output_type": "stream",
     "text": [
      "\n",
      "Analysis of Very Short Sessions (<5 seconds):\n",
      "Number of short sessions: 87672 (4.88% of total)\n",
      "\n",
      "Event Sequences in Short Sessions:\n",
      "\n",
      "Session 1722928751749:\n",
      "Session Duration: 0 days 00:00:00.006000\n",
      "session_start -> session_end -> \n",
      "Session 1729277741239:\n",
      "Session Duration: 0 days 00:00:00.001000\n",
      "::nav-header:user-signed-out -> session_end -> \n",
      "Session 1732051335347:\n",
      "Session Duration: 0 days 00:00:00.001000\n",
      "session_start -> session_end -> \n",
      "Session 1732051335348:\n",
      "Session Duration: 0 days 00:00:04.981000\n",
      "application-window-opened -> agency-dashboard:::view -> agency-dashboard::layout:render -> agency-dashboard::widget:render -> agency-dashboard::widget:render -> agency-dashboard::configurable-table:render -> agency-dashboard::configurable-table:render -> session_start -> \n",
      "Session 1732641676720:\n",
      "Session Duration: 0 days 00:00:00.001000\n",
      "::nav-header:user-signed-out -> session_end -> \n",
      "Session 1733314533530:\n",
      "Session Duration: 0 days 00:00:00.004000\n",
      "session_start -> session_end -> \n",
      "Session 1733337654246:\n",
      "Session Duration: 0 days 00:00:00.004000\n",
      "session_start -> session_end -> \n",
      "Session 1733493529080:\n",
      "Session Duration: 0 days 00:00:03.452000\n",
      "application-window-opened -> session_start -> session_end -> \n",
      "Session 1734032953748:\n",
      "Session Duration: 0 days 00:00:00.001000\n",
      "::nav-header:user-signed-out -> session_end -> \n",
      "Session 1734118098110:\n",
      "Session Duration: 0 days 00:00:00.005000\n",
      "session_start -> session_end -> \n",
      "Average number of events in short sessions: 2.926985610790238\n",
      "\n",
      "Most common first events in short sessions:\n",
      "event_type\n",
      "session_start                               28064\n",
      "application-window-opened                    1865\n",
      "::nav-header:user-signed-out                   20\n",
      "account-broker-view::widget:render              1\n",
      "account-lines::configurable-table:render        1\n",
      "Name: count, dtype: int64\n",
      "\n",
      "Most common last events in short sessions:\n",
      "event_type\n",
      "session_end                                    28272\n",
      "dashboard:my-book:configurable-table:render      516\n",
      "session_start                                    436\n",
      "account-lines::configurable-table:render         188\n",
      "account-lines::widget:render                     100\n",
      "Name: count, dtype: int64\n"
     ]
    }
   ],
   "source": [
    "short_sessions = df[df['session_duration'].dt.total_seconds() < 5]\n",
    "\n",
    "print(\"\\nAnalysis of Very Short Sessions (<5 seconds):\")\n",
    "print(f\"Number of short sessions: {len(short_sessions)} ({len(short_sessions)/len(df)*100:.2f}% of total)\")\n",
    "\n",
    "print(\"\\nEvent Sequences in Short Sessions:\")\n",
    "short_session_sequences = df[df['session_id'].isin(short_sessions['session_id'])]\n",
    "short_session_sequences = short_session_sequences.sort_values(['session_id', 'event_time'])\n",
    "\n",
    "for session_id in short_session_sequences['session_id'].unique()[:10]:  # Show first 5 sessions\n",
    "    session_events = short_session_sequences[short_session_sequences['session_id'] == session_id]\n",
    "    print(f\"\\nSession {session_id}:\")\n",
    "    print(f\"Session Duration: {session_events['session_duration'].iloc[0]}\")\n",
    "    for _, event in session_events.iterrows():\n",
    "        print(f\"{event['event_type']} -> \", end=\"\")\n",
    "\n",
    "print(\"\\nAverage number of events in short sessions:\", \n",
    "      len(short_session_sequences) / len(short_sessions['session_id'].unique()))\n",
    "\n",
    "print(\"\\nMost common first events in short sessions:\")\n",
    "first_events = short_session_sequences.groupby('session_id').first()['event_type'].value_counts().head()\n",
    "print(first_events)\n",
    "\n",
    "print(\"\\nMost common last events in short sessions:\")\n",
    "last_events = short_session_sequences.groupby('session_id').last()['event_type'].value_counts().head()\n",
    "print(last_events)"
   ]
  },
  {
   "cell_type": "code",
   "execution_count": null,
   "metadata": {},
   "outputs": [
    {
     "name": "stdout",
     "output_type": "stream",
     "text": [
      "Removed 24 sessions that contained only 'session_end' events\n"
     ]
    }
   ],
   "source": [
    "session_events = df.groupby('session_id')['event_type'].agg(list)\n",
    "all_end_sessions = session_events[session_events.apply(lambda x: all(event == 'session_end' for event in x))].index\n",
    "\n",
    "df = df[~df['session_id'].isin(all_end_sessions)]\n",
    "\n",
    "print(f\"Removed {len(all_end_sessions)} sessions that contained only 'session_end' events\")\n"
   ]
  },
  {
   "cell_type": "code",
   "execution_count": 160,
   "metadata": {},
   "outputs": [
    {
     "name": "stdout",
     "output_type": "stream",
     "text": [
      "\n",
      "Rows with device_family == 'iOS' or 'Android':\n",
      "Empty DataFrame\n",
      "Columns: [city, client_upload_time, country, data, device_family, dma, event_id, event_properties, event_time, event_type, language, os_name, os_version, processed_time, region, server_received_time, server_upload_time, session_id, session_duration, hour, day_of_week, server_latency, processing_latency]\n",
      "Index: []\n",
      "\n",
      "[0 rows x 23 columns]\n"
     ]
    }
   ],
   "source": [
    "# It seems like there are barely any mobile users, so we need to drop iOS device_family and Android device_family rows\n",
    "df = df[~df['device_family'].isin(['iOS', 'Android'])]\n",
    "# Check if there are any rows with device_family == 'iOS' or 'Android'\n",
    "print(\"\\nRows with device_family == 'iOS' or 'Android':\")\n",
    "print(df[df['device_family'].isin(['iOS', 'Android'])])"
   ]
  },
  {
   "cell_type": "code",
   "execution_count": 161,
   "metadata": {},
   "outputs": [
    {
     "name": "stdout",
     "output_type": "stream",
     "text": [
      "\n",
      "Platform Support Analysis:\n",
      "======================================================================\n",
      "\n",
      "OS Name vs Session Duration Correlation:\n",
      "os_name\n",
      "Firefox   0 days 01:21:49.271445355\n",
      "Chrome    0 days 01:17:44.204028528\n",
      "Edge      0 days 01:08:27.042162169\n",
      "Safari    0 days 00:09:26.022189573\n",
      "Name: session_duration, dtype: timedelta64[ns]\n",
      "\n",
      "OS Version vs Session Duration Correlation:\n",
      "os_version\n",
      "132   0 days 01:25:39.652527785\n",
      "134   0 days 01:23:32.553056856\n",
      "119   0 days 01:16:52.606041477\n",
      "131   0 days 01:15:45.772783834\n",
      "133   0 days 01:02:27.981600877\n",
      "128   0 days 01:02:22.175093277\n",
      "130   0 days 00:58:19.275986291\n",
      "109   0 days 00:45:34.867365695\n",
      "127   0 days 00:35:04.816042237\n",
      "17    0 days 00:13:44.613542005\n",
      "111      0 days 00:12:43.984000\n",
      "129   0 days 00:10:50.750546536\n",
      "124   0 days 00:07:29.065839506\n",
      "18    0 days 00:03:24.582003787\n",
      "94       0 days 00:03:03.470000\n",
      "123   0 days 00:01:52.954428571\n",
      "122   0 days 00:01:52.307133333\n",
      "125   0 days 00:00:19.121571428\n",
      "110      0 days 00:00:08.224000\n",
      "Name: session_duration, dtype: timedelta64[ns]\n",
      "\n",
      "Device Family vs Session Duration Correlation:\n",
      "device_family\n",
      "Windows    0 days 01:22:09.677743379\n",
      "Mac OS X   0 days 01:02:24.452834061\n",
      "Linux      0 days 00:00:13.954530039\n",
      "Name: session_duration, dtype: timedelta64[ns]\n"
     ]
    },
    {
     "data": {
      "image/png": "[encoded data removed]",
      "text/plain": [
       "<Figure size 1000x600 with 1 Axes>"
      ]
     },
     "metadata": {},
     "output_type": "display_data"
    },
    {
     "data": {
      "image/png": "[encoded data removed]",
      "text/plain": [
       "<Figure size 1000x600 with 1 Axes>"
      ]
     },
     "metadata": {},
     "output_type": "display_data"
    },
    {
     "data": {
      "image/png": "[encoded data removed]",
      "text/plain": [
       "<Figure size 1000x600 with 1 Axes>"
      ]
     },
     "metadata": {},
     "output_type": "display_data"
    }
   ],
   "source": [
    "print(\"\\nPlatform Support Analysis:\")\n",
    "print(\"=\"*70)\n",
    "\n",
    "correlations = {\n",
    "    'OS Name': df.groupby('os_name')['session_duration'].mean().sort_values(ascending=False),\n",
    "    'OS Version': df.groupby('os_version')['session_duration'].mean().sort_values(ascending=False),\n",
    "    'Device Family': df.groupby('device_family')['session_duration'].mean().sort_values(ascending=False)\n",
    "}\n",
    "\n",
    "for metric, data in correlations.items():\n",
    "    print(f\"\\n{metric} vs Session Duration Correlation:\")\n",
    "    print(data)\n",
    "\n",
    "plt.figure(figsize=(10, 6))\n",
    "plt.scatter(df['os_version'], df['session_duration'].dt.total_seconds(), alpha=0.5)\n",
    "plt.xlabel('OS Version')\n",
    "plt.ylabel('Session Duration (seconds)')\n",
    "plt.title('OS Version vs Session Duration')\n",
    "plt.show()\n",
    "\n",
    "plt.figure(figsize=(10, 6))\n",
    "means = df.groupby('os_name')['session_duration'].mean()\n",
    "plt.bar(means.index, means.dt.total_seconds())\n",
    "plt.xlabel('OS Name')\n",
    "plt.ylabel('Average Session Duration (seconds)')\n",
    "plt.title('OS Name vs Average Session Duration')\n",
    "plt.xticks(rotation=45)\n",
    "plt.show()\n",
    "\n",
    "plt.figure(figsize=(10, 6))\n",
    "means = df.groupby('device_family')['session_duration'].mean()\n",
    "plt.bar(means.index, means.dt.total_seconds())\n",
    "plt.xlabel('Device Family')\n",
    "plt.ylabel('Average Session Duration (seconds)')\n",
    "plt.title('Device Family vs Average Session Duration')\n",
    "plt.xticks(rotation=45)\n",
    "plt.show()"
   ]
  },
  {
   "cell_type": "code",
   "execution_count": 162,
   "metadata": {},
   "outputs": [
    {
     "name": "stdout",
     "output_type": "stream",
     "text": [
      "\n",
      "Rows with city + region as null:\n",
      "(16387, 23)\n"
     ]
    }
   ],
   "source": [
    "# Output rows with city + region as null\n",
    "print(\"\\nRows with city + region as null:\")\n",
    "print(df[df['city'].isnull() & df['region'].isnull()].shape)\n"
   ]
  },
  {
   "cell_type": "code",
   "execution_count": 163,
   "metadata": {},
   "outputs": [
    {
     "name": "stdout",
     "output_type": "stream",
     "text": [
      "\n",
      "Unique values in region:\n",
      "66\n",
      "\n",
      "Unique values in city:\n",
      "449\n"
     ]
    }
   ],
   "source": [
    "# Which of region /city has more unique values\n",
    "print(\"\\nUnique values in region:\")\n",
    "print(df['region'].nunique())\n",
    "print(\"\\nUnique values in city:\")\n",
    "print(df['city'].nunique())"
   ]
  },
  {
   "cell_type": "code",
   "execution_count": 175,
   "metadata": {},
   "outputs": [
    {
     "name": "stdout",
     "output_type": "stream",
     "text": [
      "\n",
      "Data Cleaning Strategy:\n",
      "======================================================================\n",
      "\n",
      "2. dma (Designated Market Area):\n",
      "\n",
      "3 & 4. City and Region:\n",
      "City null percentage: 1.86%\n",
      "Region null percentage: 0.00%\n",
      "\n",
      "5. user_id:\n",
      "\n",
      "Final null check:\n",
      "city            33480\n",
      "city_encoded    33480\n",
      "dtype: int64\n"
     ]
    }
   ],
   "source": [
    "print(\"\\nData Cleaning Strategy:\")\n",
    "print(\"=\"*70)\n",
    "\n",
    "# For city-region mapping, we'll use the most common region for each city\n",
    "print(\"\\n2. dma (Designated Market Area):\")\n",
    "try:\n",
    "    print(f\"Null percentage: {(df['dma'].isnull().sum() / len(df)) * 100:.2f}%\")\n",
    "    # Drop DMA column as it's redundant with other location data\n",
    "    df = df.drop('dma', axis=1)\n",
    "except KeyError:\n",
    "    pass\n",
    "\n",
    "print(\"\\n3 & 4. City and Region:\")\n",
    "print(f\"City null percentage: {(df['city'].isnull().sum() / len(df)) * 100:.2f}%\")\n",
    "print(f\"Region null percentage: {(df['region'].isnull().sum() / len(df)) * 100:.2f}%\")\n",
    "\n",
    "# Create city-region mapping from known data\n",
    "city_region_map = df[df['region'].notna()].groupby('city')['region'].agg(lambda x: x.mode()[0]).to_dict()\n",
    "\n",
    "# Fill missing regions based on city\n",
    "df.loc[df['region'].isnull(), 'region'] = df.loc[df['region'].isnull(), 'city'].map(city_region_map)\n",
    "\n",
    "# For remaining nulls in region, use a simple mode imputation\n",
    "if df['region'].isnull().any():\n",
    "    most_common_region = df['region'].mode()[0]\n",
    "    df['region'] = df['region'].fillna(most_common_region)\n",
    "\n",
    "# 5. user_id - Small number of nulls\n",
    "try:\n",
    "    print(\"\\n5. user_id:\")\n",
    "    print(f\"Null percentage: {(df['user_id'].isnull().sum() / len(df)) * 100:.2f}%\")\n",
    "    # Drop rows with null user_ids\n",
    "    df = df.dropna(subset=['user_id'])\n",
    "except KeyError:\n",
    "    pass\n",
    "\n",
    "print(\"\\nFinal null check:\")\n",
    "print(df.isnull().sum()[df.isnull().sum() > 0])"
   ]
  },
  {
   "cell_type": "code",
   "execution_count": 90,
   "metadata": {},
   "outputs": [
    {
     "name": "stdout",
     "output_type": "stream",
     "text": [
      "\n",
      "Analyzing Features Impacting User Retention (Session Duration)\n",
      "======================================================================\n",
      "\n",
      "Mean Session Duration by device_family:\n",
      "                                   mean    count\n",
      "device_family                                   \n",
      "Windows       0 days 01:34:23.719007378  1512987\n",
      "Mac OS X      0 days 01:04:44.436981490   288064\n",
      "iOS           0 days 00:18:43.864713859     2013\n",
      "Linux         0 days 00:00:13.954530039    42944\n",
      "\n",
      "Mean Session Duration by os_name:\n",
      "                                   mean    count\n",
      "os_name                                         \n",
      "Chrome        0 days 01:29:06.028122547  1703592\n",
      "Firefox       0 days 01:21:49.271445355     8537\n",
      "Edge          0 days 01:08:27.042162169   131233\n",
      "Mobile Safari 0 days 00:20:24.432293567     1819\n",
      "\n",
      "Mean Session Duration by day_of_week:\n",
      "                                 mean   count\n",
      "day_of_week                                  \n",
      "Monday      0 days 01:37:41.870525969  352899\n",
      "Thursday    0 days 01:32:58.586148180  405647\n",
      "Friday      0 days 01:26:25.250034861  363006\n",
      "Wednesday   0 days 01:23:52.252941207  301840\n",
      "Tuesday     0 days 01:19:44.845749399  380199\n",
      "Sunday      0 days 01:02:19.663592381   17406\n",
      "Saturday    0 days 00:49:12.037051691   25033\n",
      "\n",
      "Mean Session Duration by hour:\n",
      "                          mean   count\n",
      "hour                                  \n",
      "7    0 days 02:18:59.178167048   54631\n",
      "6    0 days 02:14:12.795325378   54853\n",
      "8    0 days 02:11:58.210648173   56508\n",
      "4    0 days 02:10:01.869635726   35402\n",
      "5    0 days 02:07:42.086106391   52128\n",
      "9    0 days 02:03:23.090853302   55011\n",
      "10   0 days 01:46:27.234785391   65333\n",
      "11   0 days 01:40:55.718175390   64023\n",
      "18   0 days 01:23:12.771748423  121311\n",
      "12   0 days 01:21:42.949829245   67770\n",
      "20   0 days 01:21:21.004960875  130788\n",
      "3    0 days 01:21:08.481306578   15050\n",
      "17   0 days 01:20:54.336294745  131744\n",
      "22   0 days 01:20:45.772486063   76560\n",
      "21   0 days 01:19:13.762590525  113543\n",
      "19   0 days 01:18:44.232568712  137465\n",
      "16   0 days 01:18:07.504398078  150910\n",
      "15   0 days 01:16:20.113938950  160033\n",
      "14   0 days 01:09:35.629278048  132851\n",
      "13   0 days 01:08:25.384633777   91417\n",
      "23   0 days 00:59:17.270186155   36996\n",
      "2    0 days 00:50:59.388418849   11226\n",
      "1    0 days 00:40:13.918088582   13208\n",
      "0    0 days 00:39:25.597339336   17269\n",
      "\n",
      "Mean Session Duration by city:\n",
      "                                    mean   count\n",
      "city                                            \n",
      "Mumbai         0 days 02:29:19.230923625  399441\n",
      "Adel           0 days 02:19:00.590078152    1126\n",
      "Powder Springs 0 days 02:16:39.901121810   10073\n",
      "Brentwood      0 days 02:13:27.547862834    4593\n",
      "Spring Hill    0 days 02:12:22.993712406   74713\n",
      "...                                  ...     ...\n",
      "Ashburn        0 days 00:10:03.335292540   13728\n",
      "Huntsville     0 days 00:09:58.771924913    2597\n",
      "San Jose       0 days 00:00:27.376854991    8565\n",
      "Washington     0 days 00:00:15.580884174    8815\n",
      "Boardman       0 days 00:00:14.686007835    8551\n",
      "\n",
      "[125 rows x 2 columns]\n",
      "\n",
      "Mean Session Duration by region:\n",
      "                                        mean   count\n",
      "region                                              \n",
      "Maharashtra        0 days 02:29:19.230923625  399441\n",
      "Tennessee          0 days 01:40:46.394511619  383365\n",
      "Arizona            0 days 01:26:34.508227439   49732\n",
      "Lesser Poland      0 days 01:15:40.624181386    1053\n",
      "Silesia            0 days 01:14:17.276662558    3814\n",
      "Missouri           0 days 01:13:25.049385775   14848\n",
      "South Carolina     0 days 01:13:10.798202716   74148\n",
      "Virginia           0 days 01:08:34.200389271   69034\n",
      "Illinois           0 days 01:07:33.722346253  102988\n",
      "Iowa               0 days 01:07:21.063197727   95652\n",
      "Georgia            0 days 01:06:57.788187528   75754\n",
      "New Jersey         0 days 01:05:52.533268365   23114\n",
      "Colorado           0 days 01:00:55.186021254   18161\n",
      "Michigan           0 days 00:58:25.901565502   10534\n",
      "Connecticut        0 days 00:56:59.821432050   15482\n",
      "Alabama            0 days 00:55:52.856994589   68386\n",
      "Kansas             0 days 00:52:51.083525107    9977\n",
      "Lower Silesia      0 days 00:52:42.512237013   39310\n",
      "Texas              0 days 00:51:44.681085851   44705\n",
      "North Carolina     0 days 00:50:08.092392047   44816\n",
      "Washington         0 days 00:50:02.999958438    5967\n",
      "Ontario            0 days 00:49:01.736315794   23148\n",
      "New York           0 days 00:46:36.726367621   39051\n",
      "Utah               0 days 00:43:41.794532419    6200\n",
      "Ohio               0 days 00:43:22.402428102   36837\n",
      "Florida            0 days 00:43:08.372352088   60587\n",
      "Mazovia            0 days 00:42:15.073681112    1223\n",
      "Pennsylvania       0 days 00:39:45.325452040    2867\n",
      "California         0 days 00:36:11.457788902   65382\n",
      "Mexico City        0 days 00:34:33.305660629    2540\n",
      "Lubusz             0 days 00:33:28.045844768    3498\n",
      "Massachusetts      0 days 00:33:25.860545690   15430\n",
      "Kujawsko-Pomorskie 0 days 00:25:30.774011585    3884\n",
      "Minnesota          0 days 00:22:59.935705468    1280\n",
      "Indiana            0 days 00:22:29.546900381    2881\n",
      "Maryland           0 days 00:09:34.150846670    1787\n",
      "Oregon             0 days 00:00:53.030925552    8919\n",
      "\n",
      "Correlation between number of events and session duration:\n",
      "            num_events  duration\n",
      "num_events    1.000000  0.747453\n",
      "duration      0.747453  1.000000\n"
     ]
    },
    {
     "data": {
      "image/png": "[encoded data removed]",
      "text/plain": [
       "<Figure size 1000x600 with 1 Axes>"
      ]
     },
     "metadata": {},
     "output_type": "display_data"
    },
    {
     "data": {
      "image/png": "[encoded data removed]",
      "text/plain": [
       "<Figure size 1200x600 with 1 Axes>"
      ]
     },
     "metadata": {},
     "output_type": "display_data"
    },
    {
     "data": {
      "image/png": "[encoded data removed]",
      "text/plain": [
       "<Figure size 1200x600 with 1 Axes>"
      ]
     },
     "metadata": {},
     "output_type": "display_data"
    }
   ],
   "source": [
    "print(\"\\nAnalyzing Features Impacting User Retention (Session Duration)\")\n",
    "print(\"=\"*70)\n",
    "\n",
    "features_for_analysis = ['device_family', 'os_name', 'day_of_week', 'hour', 'city', 'region']\n",
    "\n",
    "for feature in features_for_analysis:\n",
    "    print(f\"\\nMean Session Duration by {feature}:\")\n",
    "    mean_duration = df.groupby(feature)['session_duration'].agg(['mean', 'count'])\n",
    "    significant_groups = mean_duration[mean_duration['count'] > 1000]\n",
    "    print(significant_groups.sort_values('mean', ascending=False))\n",
    "\n",
    "events_per_session = df.groupby('session_id').size()\n",
    "session_stats = pd.DataFrame({\n",
    "    'num_events': events_per_session,\n",
    "    'duration': df.groupby('session_id')['session_duration'].first()\n",
    "})\n",
    "\n",
    "print(\"\\nCorrelation between number of events and session duration:\")\n",
    "print(session_stats.corr())\n",
    "\n",
    "plt.figure(figsize=(10,6))\n",
    "plt.scatter(session_stats['num_events'], \n",
    "           session_stats['duration'].dt.total_seconds()/60,\n",
    "           alpha=0.1)\n",
    "plt.xlabel('Number of Events per Session')\n",
    "plt.ylabel('Session Duration (minutes)')\n",
    "plt.title('Events per Session vs Session Duration')\n",
    "plt.show()\n",
    "\n",
    "plt.figure(figsize=(12,6))\n",
    "hourly_retention = df.groupby('hour')['session_duration'].mean()\n",
    "plt.plot(hourly_retention.index, hourly_retention.dt.total_seconds()/60)\n",
    "plt.xlabel('Hour of Day')\n",
    "plt.ylabel('Average Session Duration (minutes)')\n",
    "plt.title('Average Session Duration by Hour of Day')\n",
    "plt.grid(True)\n",
    "plt.show()\n",
    "\n",
    "plt.figure(figsize=(12,6))\n",
    "daily_retention = df.groupby('day_of_week')['session_duration'].mean()\n",
    "plt.bar(daily_retention.index, daily_retention.dt.total_seconds()/60)\n",
    "plt.xlabel('Day of Week')\n",
    "plt.ylabel('Average Session Duration (minutes)')\n",
    "plt.title('Average Session Duration by Day of Week')\n",
    "plt.xticks(rotation=45)\n",
    "plt.grid(True)\n",
    "plt.show()\n"
   ]
  },
  {
   "cell_type": "code",
   "execution_count": 91,
   "metadata": {},
   "outputs": [
    {
     "data": {
      "image/png": "[encoded data removed]",
      "text/plain": [
       "<Figure size 1000x600 with 1 Axes>"
      ]
     },
     "metadata": {},
     "output_type": "display_data"
    },
    {
     "name": "stdout",
     "output_type": "stream",
     "text": [
      "\n",
      "Correlation between number of events and session duration (without outliers):\n",
      "            num_events  duration\n",
      "num_events    1.000000  0.402528\n",
      "duration      0.402528  1.000000\n"
     ]
    }
   ],
   "source": [
    "Q1_events = session_stats['num_events'].quantile(0.25)\n",
    "Q3_events = session_stats['num_events'].quantile(0.75)\n",
    "IQR_events = Q3_events - Q1_events\n",
    "\n",
    "Q1_duration = session_stats['duration'].dt.total_seconds()/60\n",
    "Q3_duration = session_stats['duration'].dt.total_seconds()/60\n",
    "IQR_duration = Q3_duration - Q1_duration\n",
    "\n",
    "filtered_stats = session_stats[\n",
    "    (session_stats['num_events'] >= Q1_events - 1.5 * IQR_events) &\n",
    "    (session_stats['num_events'] <= Q3_events + 1.5 * IQR_events) &\n",
    "    (session_stats['duration'].dt.total_seconds()/60 >= Q1_duration - 1.5 * IQR_duration) &\n",
    "    (session_stats['duration'].dt.total_seconds()/60 <= Q3_duration + 1.5 * IQR_duration)\n",
    "]\n",
    "\n",
    "plt.figure(figsize=(10,6))\n",
    "plt.scatter(filtered_stats['num_events'], \n",
    "           filtered_stats['duration'].dt.total_seconds()/60,\n",
    "           alpha=0.1)\n",
    "plt.xlabel('Number of Events per Session')\n",
    "plt.ylabel('Session Duration (minutes)')\n",
    "plt.title('Events per Session vs Session Duration (Without Outliers)')\n",
    "plt.show()\n",
    "\n",
    "print(\"\\nCorrelation between number of events and session duration (without outliers):\")\n",
    "print(filtered_stats.corr())"
   ]
  }
 ],
 "metadata": {
  "kernelspec": {
   "display_name": "venv",
   "language": "python",
   "name": "python3"
  },
  "language_info": {
   "codemirror_mode": {
    "name": "ipython",
    "version": 3
   },
   "file_extension": ".py",
   "mimetype": "text/x-python",
   "name": "python",
   "nbconvert_exporter": "python",
   "pygments_lexer": "ipython3",
   "version": "3.13.1"
  }
 },
 "nbformat": 4,
 "nbformat_minor": 2
}
