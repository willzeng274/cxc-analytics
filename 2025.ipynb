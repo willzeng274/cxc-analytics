{
 "cells": [
  {
   "cell_type": "code",
   "execution_count": 74,
   "metadata": {},
   "outputs": [
    {
     "data": {
      "text/html": [
       "<div>\n",
       "<style scoped>\n",
       "    .dataframe tbody tr th:only-of-type {\n",
       "        vertical-align: middle;\n",
       "    }\n",
       "\n",
       "    .dataframe tbody tr th {\n",
       "        vertical-align: top;\n",
       "    }\n",
       "\n",
       "    .dataframe thead th {\n",
       "        text-align: right;\n",
       "    }\n",
       "</style>\n",
       "<table border=\"1\" class=\"dataframe\">\n",
       "  <thead>\n",
       "    <tr style=\"text-align: right;\">\n",
       "      <th></th>\n",
       "      <th>$insert_id</th>\n",
       "      <th>amplitude_id</th>\n",
       "      <th>app</th>\n",
       "      <th>city</th>\n",
       "      <th>client_event_time</th>\n",
       "      <th>client_upload_time</th>\n",
       "      <th>country</th>\n",
       "      <th>data</th>\n",
       "      <th>data_type</th>\n",
       "      <th>device_family</th>\n",
       "      <th>...</th>\n",
       "      <th>os_version</th>\n",
       "      <th>platform</th>\n",
       "      <th>processed_time</th>\n",
       "      <th>region</th>\n",
       "      <th>server_received_time</th>\n",
       "      <th>server_upload_time</th>\n",
       "      <th>session_id</th>\n",
       "      <th>user_id</th>\n",
       "      <th>user_properties</th>\n",
       "      <th>uuid</th>\n",
       "    </tr>\n",
       "  </thead>\n",
       "  <tbody>\n",
       "    <tr>\n",
       "      <th>0</th>\n",
       "      <td>d888f0cf-d532-4925-b397-4ff9102dc90e</td>\n",
       "      <td>857540411447</td>\n",
       "      <td>591532</td>\n",
       "      <td>Chicago</td>\n",
       "      <td>2025-01-21 21:34:08.373000</td>\n",
       "      <td>2025-01-21 23:39:26.754000</td>\n",
       "      <td>United States</td>\n",
       "      <td>{'path': '/2/httpapi', 'user_properties_update...</td>\n",
       "      <td>event</td>\n",
       "      <td>iOS</td>\n",
       "      <td>...</td>\n",
       "      <td>18</td>\n",
       "      <td>Web</td>\n",
       "      <td>2025-01-21 23:39:27.311000</td>\n",
       "      <td>Illinois</td>\n",
       "      <td>2025-01-21 23:39:26.754000</td>\n",
       "      <td>2025-01-21 23:39:26.756000</td>\n",
       "      <td>1737495248013</td>\n",
       "      <td>a5093711-4508-4f51-99f7-f7d493cd800a</td>\n",
       "      <td>{'businessUnit': [], 'initial_utm_medium': 'EM...</td>\n",
       "      <td>28df7af3-96e9-4543-98d1-1abac8c15f59</td>\n",
       "    </tr>\n",
       "    <tr>\n",
       "      <th>1</th>\n",
       "      <td>f56164d1-3879-4a7b-ba69-48fc18028b31</td>\n",
       "      <td>857540411447</td>\n",
       "      <td>591532</td>\n",
       "      <td>Chicago</td>\n",
       "      <td>2025-01-21 23:39:20.650000</td>\n",
       "      <td>2025-01-21 23:39:26.754000</td>\n",
       "      <td>United States</td>\n",
       "      <td>{'path': '/2/httpapi', 'group_first_event': {}...</td>\n",
       "      <td>event</td>\n",
       "      <td>iOS</td>\n",
       "      <td>...</td>\n",
       "      <td>18</td>\n",
       "      <td>Web</td>\n",
       "      <td>2025-01-21 23:39:27.311000</td>\n",
       "      <td>Illinois</td>\n",
       "      <td>2025-01-21 23:39:26.754000</td>\n",
       "      <td>2025-01-21 23:39:26.756000</td>\n",
       "      <td>1737502763521</td>\n",
       "      <td>a5093711-4508-4f51-99f7-f7d493cd800a</td>\n",
       "      <td>{'businessUnit': [], 'initial_utm_medium': 'EM...</td>\n",
       "      <td>b7f9981a-f97e-4771-9cea-f2f6e50cb30b</td>\n",
       "    </tr>\n",
       "    <tr>\n",
       "      <th>2</th>\n",
       "      <td>02c00723-d7c0-4922-af12-07019932367b</td>\n",
       "      <td>857540411447</td>\n",
       "      <td>591532</td>\n",
       "      <td>Chicago</td>\n",
       "      <td>2025-01-21 23:39:22.802000</td>\n",
       "      <td>2025-01-21 23:39:26.754000</td>\n",
       "      <td>United States</td>\n",
       "      <td>{'path': '/2/httpapi', 'group_first_event': {}...</td>\n",
       "      <td>event</td>\n",
       "      <td>iOS</td>\n",
       "      <td>...</td>\n",
       "      <td>18</td>\n",
       "      <td>Web</td>\n",
       "      <td>2025-01-21 23:39:27.311000</td>\n",
       "      <td>Illinois</td>\n",
       "      <td>2025-01-21 23:39:26.754000</td>\n",
       "      <td>2025-01-21 23:39:26.756000</td>\n",
       "      <td>1737502763521</td>\n",
       "      <td>a5093711-4508-4f51-99f7-f7d493cd800a</td>\n",
       "      <td>{'businessUnit': [], 'initial_utm_medium': 'EM...</td>\n",
       "      <td>02013519-4992-490a-a85b-b25cd8c384fc</td>\n",
       "    </tr>\n",
       "    <tr>\n",
       "      <th>3</th>\n",
       "      <td>80d7b597-ee2c-42b0-8b50-87a802a387ec</td>\n",
       "      <td>857540411447</td>\n",
       "      <td>591532</td>\n",
       "      <td>Chicago</td>\n",
       "      <td>2025-01-21 23:39:22.802000</td>\n",
       "      <td>2025-01-21 23:39:26.754000</td>\n",
       "      <td>United States</td>\n",
       "      <td>{'path': '/2/httpapi', 'group_first_event': {}...</td>\n",
       "      <td>event</td>\n",
       "      <td>iOS</td>\n",
       "      <td>...</td>\n",
       "      <td>18</td>\n",
       "      <td>Web</td>\n",
       "      <td>2025-01-21 23:39:27.311000</td>\n",
       "      <td>Illinois</td>\n",
       "      <td>2025-01-21 23:39:26.754000</td>\n",
       "      <td>2025-01-21 23:39:26.756000</td>\n",
       "      <td>1737502763521</td>\n",
       "      <td>a5093711-4508-4f51-99f7-f7d493cd800a</td>\n",
       "      <td>{'businessUnit': [], 'initial_utm_medium': 'EM...</td>\n",
       "      <td>2661fbb0-b5b4-4f77-bd41-53f99eb3b96d</td>\n",
       "    </tr>\n",
       "    <tr>\n",
       "      <th>4</th>\n",
       "      <td>cebc3963-bcd9-4cc2-b960-3c126ca4f333</td>\n",
       "      <td>857540411447</td>\n",
       "      <td>591532</td>\n",
       "      <td>Chicago</td>\n",
       "      <td>2025-01-21 23:39:22.986000</td>\n",
       "      <td>2025-01-21 23:39:26.754000</td>\n",
       "      <td>United States</td>\n",
       "      <td>{'path': '/2/httpapi', 'group_first_event': {}...</td>\n",
       "      <td>event</td>\n",
       "      <td>iOS</td>\n",
       "      <td>...</td>\n",
       "      <td>18</td>\n",
       "      <td>Web</td>\n",
       "      <td>2025-01-21 23:39:27.311000</td>\n",
       "      <td>Illinois</td>\n",
       "      <td>2025-01-21 23:39:26.754000</td>\n",
       "      <td>2025-01-21 23:39:26.756000</td>\n",
       "      <td>1737502763521</td>\n",
       "      <td>a5093711-4508-4f51-99f7-f7d493cd800a</td>\n",
       "      <td>{'businessUnit': [], 'initial_utm_medium': 'EM...</td>\n",
       "      <td>8b8b1ea9-a01a-44cf-b756-161b684fb7e9</td>\n",
       "    </tr>\n",
       "    <tr>\n",
       "      <th>...</th>\n",
       "      <td>...</td>\n",
       "      <td>...</td>\n",
       "      <td>...</td>\n",
       "      <td>...</td>\n",
       "      <td>...</td>\n",
       "      <td>...</td>\n",
       "      <td>...</td>\n",
       "      <td>...</td>\n",
       "      <td>...</td>\n",
       "      <td>...</td>\n",
       "      <td>...</td>\n",
       "      <td>...</td>\n",
       "      <td>...</td>\n",
       "      <td>...</td>\n",
       "      <td>...</td>\n",
       "      <td>...</td>\n",
       "      <td>...</td>\n",
       "      <td>...</td>\n",
       "      <td>...</td>\n",
       "      <td>...</td>\n",
       "      <td>...</td>\n",
       "    </tr>\n",
       "    <tr>\n",
       "      <th>99995</th>\n",
       "      <td>535b22ed-42ca-45a6-ad7b-cfa007366707</td>\n",
       "      <td>891659633141</td>\n",
       "      <td>591532</td>\n",
       "      <td>Nashville</td>\n",
       "      <td>2025-01-09 17:41:27.346000</td>\n",
       "      <td>2025-01-09 17:41:28.159000</td>\n",
       "      <td>United States</td>\n",
       "      <td>{'path': '/2/httpapi', 'group_first_event': {}...</td>\n",
       "      <td>event</td>\n",
       "      <td>Windows</td>\n",
       "      <td>...</td>\n",
       "      <td>131</td>\n",
       "      <td>Web</td>\n",
       "      <td>2025-01-09 17:41:29.613000</td>\n",
       "      <td>Tennessee</td>\n",
       "      <td>2025-01-09 17:41:28.159000</td>\n",
       "      <td>2025-01-09 17:41:28.162000</td>\n",
       "      <td>1736444484569</td>\n",
       "      <td>5910c50b-575b-43fc-afdf-cb28a8ef8d57</td>\n",
       "      <td>{'businessUnit': ['UA Queue'], 'initial_utm_me...</td>\n",
       "      <td>6cc13642-fd09-45de-9efa-06ac19fc21fc</td>\n",
       "    </tr>\n",
       "    <tr>\n",
       "      <th>99996</th>\n",
       "      <td>9fae7665-231d-4d99-af6e-056c2a86e883</td>\n",
       "      <td>897161885035</td>\n",
       "      <td>591532</td>\n",
       "      <td>Ankeny</td>\n",
       "      <td>2025-01-09 17:48:51.411000</td>\n",
       "      <td>2025-01-09 17:48:52.470000</td>\n",
       "      <td>United States</td>\n",
       "      <td>{'path': '/2/httpapi', 'group_first_event': {}...</td>\n",
       "      <td>event</td>\n",
       "      <td>Windows</td>\n",
       "      <td>...</td>\n",
       "      <td>131</td>\n",
       "      <td>Web</td>\n",
       "      <td>2025-01-09 17:48:54.142000</td>\n",
       "      <td>Iowa</td>\n",
       "      <td>2025-01-09 17:48:52.470000</td>\n",
       "      <td>2025-01-09 17:48:52.472000</td>\n",
       "      <td>1736444929600</td>\n",
       "      <td>e5ac2a78-3cb7-4fab-957d-301ba0bda918</td>\n",
       "      <td>{'businessUnit': ['AU Group'], 'roles': ['unde...</td>\n",
       "      <td>adc30f31-6295-4a28-ad49-e979aa4eef1b</td>\n",
       "    </tr>\n",
       "    <tr>\n",
       "      <th>99997</th>\n",
       "      <td>18a83f7f-979f-42bd-a6b1-0f5c93ffa680</td>\n",
       "      <td>891659633141</td>\n",
       "      <td>591532</td>\n",
       "      <td>Nashville</td>\n",
       "      <td>2025-01-09 17:41:27.349000</td>\n",
       "      <td>2025-01-09 17:41:28.159000</td>\n",
       "      <td>United States</td>\n",
       "      <td>{'path': '/2/httpapi', 'group_first_event': {}...</td>\n",
       "      <td>event</td>\n",
       "      <td>Windows</td>\n",
       "      <td>...</td>\n",
       "      <td>131</td>\n",
       "      <td>Web</td>\n",
       "      <td>2025-01-09 17:41:29.613000</td>\n",
       "      <td>Tennessee</td>\n",
       "      <td>2025-01-09 17:41:28.159000</td>\n",
       "      <td>2025-01-09 17:41:28.162000</td>\n",
       "      <td>1736444484569</td>\n",
       "      <td>5910c50b-575b-43fc-afdf-cb28a8ef8d57</td>\n",
       "      <td>{'businessUnit': ['UA Queue'], 'initial_utm_me...</td>\n",
       "      <td>5c216433-c4d4-4477-9fff-7031c2eb5582</td>\n",
       "    </tr>\n",
       "    <tr>\n",
       "      <th>99998</th>\n",
       "      <td>ade04943-df70-4d95-80bc-f42476286585</td>\n",
       "      <td>897161885035</td>\n",
       "      <td>591532</td>\n",
       "      <td>Ankeny</td>\n",
       "      <td>2025-01-09 17:48:53.798000</td>\n",
       "      <td>2025-01-09 17:48:54.811000</td>\n",
       "      <td>United States</td>\n",
       "      <td>{'path': '/2/httpapi', 'group_first_event': {}...</td>\n",
       "      <td>event</td>\n",
       "      <td>Windows</td>\n",
       "      <td>...</td>\n",
       "      <td>131</td>\n",
       "      <td>Web</td>\n",
       "      <td>2025-01-09 17:48:55.861000</td>\n",
       "      <td>Iowa</td>\n",
       "      <td>2025-01-09 17:48:54.811000</td>\n",
       "      <td>2025-01-09 17:48:54.818000</td>\n",
       "      <td>1736444929600</td>\n",
       "      <td>e5ac2a78-3cb7-4fab-957d-301ba0bda918</td>\n",
       "      <td>{'businessUnit': ['AU Group'], 'roles': ['unde...</td>\n",
       "      <td>78c789af-4d89-43ad-97a3-855d0550cfe3</td>\n",
       "    </tr>\n",
       "    <tr>\n",
       "      <th>99999</th>\n",
       "      <td>cfc0365f-9ecd-4ed4-827c-4e8512461478</td>\n",
       "      <td>891659633141</td>\n",
       "      <td>591532</td>\n",
       "      <td>Nashville</td>\n",
       "      <td>2025-01-09 17:41:27.356000</td>\n",
       "      <td>2025-01-09 17:41:28.159000</td>\n",
       "      <td>United States</td>\n",
       "      <td>{'path': '/2/httpapi', 'group_first_event': {}...</td>\n",
       "      <td>event</td>\n",
       "      <td>Windows</td>\n",
       "      <td>...</td>\n",
       "      <td>131</td>\n",
       "      <td>Web</td>\n",
       "      <td>2025-01-09 17:41:29.613000</td>\n",
       "      <td>Tennessee</td>\n",
       "      <td>2025-01-09 17:41:28.159000</td>\n",
       "      <td>2025-01-09 17:41:28.162000</td>\n",
       "      <td>1736444484569</td>\n",
       "      <td>5910c50b-575b-43fc-afdf-cb28a8ef8d57</td>\n",
       "      <td>{'businessUnit': ['UA Queue'], 'initial_utm_me...</td>\n",
       "      <td>ecb18598-c5e5-43c9-96c7-dcd78d3bb609</td>\n",
       "    </tr>\n",
       "  </tbody>\n",
       "</table>\n",
       "<p>100000 rows × 30 columns</p>\n",
       "</div>"
      ],
      "text/plain": [
       "                                 $insert_id  amplitude_id     app       city  \\\n",
       "0      d888f0cf-d532-4925-b397-4ff9102dc90e  857540411447  591532    Chicago   \n",
       "1      f56164d1-3879-4a7b-ba69-48fc18028b31  857540411447  591532    Chicago   \n",
       "2      02c00723-d7c0-4922-af12-07019932367b  857540411447  591532    Chicago   \n",
       "3      80d7b597-ee2c-42b0-8b50-87a802a387ec  857540411447  591532    Chicago   \n",
       "4      cebc3963-bcd9-4cc2-b960-3c126ca4f333  857540411447  591532    Chicago   \n",
       "...                                     ...           ...     ...        ...   \n",
       "99995  535b22ed-42ca-45a6-ad7b-cfa007366707  891659633141  591532  Nashville   \n",
       "99996  9fae7665-231d-4d99-af6e-056c2a86e883  897161885035  591532     Ankeny   \n",
       "99997  18a83f7f-979f-42bd-a6b1-0f5c93ffa680  891659633141  591532  Nashville   \n",
       "99998  ade04943-df70-4d95-80bc-f42476286585  897161885035  591532     Ankeny   \n",
       "99999  cfc0365f-9ecd-4ed4-827c-4e8512461478  891659633141  591532  Nashville   \n",
       "\n",
       "                client_event_time          client_upload_time        country  \\\n",
       "0      2025-01-21 21:34:08.373000  2025-01-21 23:39:26.754000  United States   \n",
       "1      2025-01-21 23:39:20.650000  2025-01-21 23:39:26.754000  United States   \n",
       "2      2025-01-21 23:39:22.802000  2025-01-21 23:39:26.754000  United States   \n",
       "3      2025-01-21 23:39:22.802000  2025-01-21 23:39:26.754000  United States   \n",
       "4      2025-01-21 23:39:22.986000  2025-01-21 23:39:26.754000  United States   \n",
       "...                           ...                         ...            ...   \n",
       "99995  2025-01-09 17:41:27.346000  2025-01-09 17:41:28.159000  United States   \n",
       "99996  2025-01-09 17:48:51.411000  2025-01-09 17:48:52.470000  United States   \n",
       "99997  2025-01-09 17:41:27.349000  2025-01-09 17:41:28.159000  United States   \n",
       "99998  2025-01-09 17:48:53.798000  2025-01-09 17:48:54.811000  United States   \n",
       "99999  2025-01-09 17:41:27.356000  2025-01-09 17:41:28.159000  United States   \n",
       "\n",
       "                                                    data data_type  \\\n",
       "0      {'path': '/2/httpapi', 'user_properties_update...     event   \n",
       "1      {'path': '/2/httpapi', 'group_first_event': {}...     event   \n",
       "2      {'path': '/2/httpapi', 'group_first_event': {}...     event   \n",
       "3      {'path': '/2/httpapi', 'group_first_event': {}...     event   \n",
       "4      {'path': '/2/httpapi', 'group_first_event': {}...     event   \n",
       "...                                                  ...       ...   \n",
       "99995  {'path': '/2/httpapi', 'group_first_event': {}...     event   \n",
       "99996  {'path': '/2/httpapi', 'group_first_event': {}...     event   \n",
       "99997  {'path': '/2/httpapi', 'group_first_event': {}...     event   \n",
       "99998  {'path': '/2/httpapi', 'group_first_event': {}...     event   \n",
       "99999  {'path': '/2/httpapi', 'group_first_event': {}...     event   \n",
       "\n",
       "      device_family  ... os_version platform              processed_time  \\\n",
       "0               iOS  ...         18      Web  2025-01-21 23:39:27.311000   \n",
       "1               iOS  ...         18      Web  2025-01-21 23:39:27.311000   \n",
       "2               iOS  ...         18      Web  2025-01-21 23:39:27.311000   \n",
       "3               iOS  ...         18      Web  2025-01-21 23:39:27.311000   \n",
       "4               iOS  ...         18      Web  2025-01-21 23:39:27.311000   \n",
       "...             ...  ...        ...      ...                         ...   \n",
       "99995       Windows  ...        131      Web  2025-01-09 17:41:29.613000   \n",
       "99996       Windows  ...        131      Web  2025-01-09 17:48:54.142000   \n",
       "99997       Windows  ...        131      Web  2025-01-09 17:41:29.613000   \n",
       "99998       Windows  ...        131      Web  2025-01-09 17:48:55.861000   \n",
       "99999       Windows  ...        131      Web  2025-01-09 17:41:29.613000   \n",
       "\n",
       "          region        server_received_time          server_upload_time  \\\n",
       "0       Illinois  2025-01-21 23:39:26.754000  2025-01-21 23:39:26.756000   \n",
       "1       Illinois  2025-01-21 23:39:26.754000  2025-01-21 23:39:26.756000   \n",
       "2       Illinois  2025-01-21 23:39:26.754000  2025-01-21 23:39:26.756000   \n",
       "3       Illinois  2025-01-21 23:39:26.754000  2025-01-21 23:39:26.756000   \n",
       "4       Illinois  2025-01-21 23:39:26.754000  2025-01-21 23:39:26.756000   \n",
       "...          ...                         ...                         ...   \n",
       "99995  Tennessee  2025-01-09 17:41:28.159000  2025-01-09 17:41:28.162000   \n",
       "99996       Iowa  2025-01-09 17:48:52.470000  2025-01-09 17:48:52.472000   \n",
       "99997  Tennessee  2025-01-09 17:41:28.159000  2025-01-09 17:41:28.162000   \n",
       "99998       Iowa  2025-01-09 17:48:54.811000  2025-01-09 17:48:54.818000   \n",
       "99999  Tennessee  2025-01-09 17:41:28.159000  2025-01-09 17:41:28.162000   \n",
       "\n",
       "          session_id                               user_id  \\\n",
       "0      1737495248013  a5093711-4508-4f51-99f7-f7d493cd800a   \n",
       "1      1737502763521  a5093711-4508-4f51-99f7-f7d493cd800a   \n",
       "2      1737502763521  a5093711-4508-4f51-99f7-f7d493cd800a   \n",
       "3      1737502763521  a5093711-4508-4f51-99f7-f7d493cd800a   \n",
       "4      1737502763521  a5093711-4508-4f51-99f7-f7d493cd800a   \n",
       "...              ...                                   ...   \n",
       "99995  1736444484569  5910c50b-575b-43fc-afdf-cb28a8ef8d57   \n",
       "99996  1736444929600  e5ac2a78-3cb7-4fab-957d-301ba0bda918   \n",
       "99997  1736444484569  5910c50b-575b-43fc-afdf-cb28a8ef8d57   \n",
       "99998  1736444929600  e5ac2a78-3cb7-4fab-957d-301ba0bda918   \n",
       "99999  1736444484569  5910c50b-575b-43fc-afdf-cb28a8ef8d57   \n",
       "\n",
       "                                         user_properties  \\\n",
       "0      {'businessUnit': [], 'initial_utm_medium': 'EM...   \n",
       "1      {'businessUnit': [], 'initial_utm_medium': 'EM...   \n",
       "2      {'businessUnit': [], 'initial_utm_medium': 'EM...   \n",
       "3      {'businessUnit': [], 'initial_utm_medium': 'EM...   \n",
       "4      {'businessUnit': [], 'initial_utm_medium': 'EM...   \n",
       "...                                                  ...   \n",
       "99995  {'businessUnit': ['UA Queue'], 'initial_utm_me...   \n",
       "99996  {'businessUnit': ['AU Group'], 'roles': ['unde...   \n",
       "99997  {'businessUnit': ['UA Queue'], 'initial_utm_me...   \n",
       "99998  {'businessUnit': ['AU Group'], 'roles': ['unde...   \n",
       "99999  {'businessUnit': ['UA Queue'], 'initial_utm_me...   \n",
       "\n",
       "                                       uuid  \n",
       "0      28df7af3-96e9-4543-98d1-1abac8c15f59  \n",
       "1      b7f9981a-f97e-4771-9cea-f2f6e50cb30b  \n",
       "2      02013519-4992-490a-a85b-b25cd8c384fc  \n",
       "3      2661fbb0-b5b4-4f77-bd41-53f99eb3b96d  \n",
       "4      8b8b1ea9-a01a-44cf-b756-161b684fb7e9  \n",
       "...                                     ...  \n",
       "99995  6cc13642-fd09-45de-9efa-06ac19fc21fc  \n",
       "99996  adc30f31-6295-4a28-ad49-e979aa4eef1b  \n",
       "99997  5c216433-c4d4-4477-9fff-7031c2eb5582  \n",
       "99998  78c789af-4d89-43ad-97a3-855d0550cfe3  \n",
       "99999  ecb18598-c5e5-43c9-96c7-dcd78d3bb609  \n",
       "\n",
       "[100000 rows x 30 columns]"
      ]
     },
     "execution_count": 74,
     "metadata": {},
     "output_type": "execute_result"
    }
   ],
   "source": [
    "from rich import print as rprint\n",
    "from rich.console import Console\n",
    "from rich.panel import Panel\n",
    "from rich.table import Table\n",
    "console = Console()\n",
    "\n",
    "import pandas as pd\n",
    "\n",
    "start_chunk = 0\n",
    "end_chunk = start_chunk + 100000\n",
    "df = pd.read_csv(f'2025_csv/new_amplitude_export_2025_chunk_{start_chunk}_{end_chunk}.csv')\n",
    "df"
   ]
  },
  {
   "cell_type": "code",
   "execution_count": 75,
   "metadata": {},
   "outputs": [],
   "source": [
    "time_cols = ['client_event_time', 'client_upload_time', 'processed_time', \n",
    "             'server_received_time', 'server_upload_time']\n",
    "for col in time_cols:\n",
    "    df[col] = pd.to_datetime(df[col], format='%Y-%m-%d %H:%M:%S.%f')\n",
    "\n",
    "df['session_duration'] = (df.groupby('session_id')['client_event_time']\n",
    "                         .transform(lambda x: x.max() - x.min()))"
   ]
  },
  {
   "cell_type": "code",
   "execution_count": 76,
   "metadata": {},
   "outputs": [
    {
     "data": {
      "text/plain": [
       "count                       100000\n",
       "mean     0 days 00:29:55.580779250\n",
       "std      0 days 00:29:59.040791332\n",
       "min                0 days 00:00:00\n",
       "25%         0 days 00:06:22.753000\n",
       "50%         0 days 00:26:34.282000\n",
       "75%         0 days 00:48:15.691000\n",
       "max         0 days 06:13:40.221000\n",
       "Name: session_duration, dtype: object"
      ]
     },
     "execution_count": 76,
     "metadata": {},
     "output_type": "execute_result"
    }
   ],
   "source": [
    "df['session_duration'].describe()"
   ]
  },
  {
   "cell_type": "code",
   "execution_count": 77,
   "metadata": {},
   "outputs": [
    {
     "name": "stdout",
     "output_type": "stream",
     "text": [
      "0 days 00:00:00\n"
     ]
    },
    {
     "data": {
      "text/plain": [
       "(1304, 31)"
      ]
     },
     "execution_count": 77,
     "metadata": {},
     "output_type": "execute_result"
    }
   ],
   "source": [
    "print(df['session_duration'].min())\n",
    "df[df['session_duration'] == df['session_duration'].min()].shape"
   ]
  },
  {
   "cell_type": "code",
   "execution_count": 78,
   "metadata": {},
   "outputs": [
    {
     "data": {
      "text/html": [
       "<pre style=\"white-space:pre;overflow-x:auto;line-height:normal;font-family:Menlo,'DejaVu Sans Mono',consolas,'Courier New',monospace\">\n",
       "<span style=\"color: #00ff00; text-decoration-color: #00ff00; font-weight: bold\">1</span><span style=\"color: #00ff00; text-decoration-color: #00ff00; font-weight: bold\">. Basic Dataset Information</span>\n",
       "</pre>\n"
      ],
      "text/plain": [
       "\n",
       "\u001b[1;92m1\u001b[0m\u001b[1;92m. Basic Dataset Information\u001b[0m\n"
      ]
     },
     "metadata": {},
     "output_type": "display_data"
    },
    {
     "data": {
      "text/html": [
       "<pre style=\"white-space:pre;overflow-x:auto;line-height:normal;font-family:Menlo,'DejaVu Sans Mono',consolas,'Courier New',monospace\">╭─────────────────────────────────────────────────────────────────────────────────────────────────────────────────╮\n",
       "│ Dataset Shape: (100000, 31)                                                                                     │\n",
       "╰─────────────────────────────────────────────────────────────────────────────────────────────────────────────────╯\n",
       "</pre>\n"
      ],
      "text/plain": [
       "╭─────────────────────────────────────────────────────────────────────────────────────────────────────────────────╮\n",
       "│ Dataset Shape: (100000, 31)                                                                                     │\n",
       "╰─────────────────────────────────────────────────────────────────────────────────────────────────────────────────╯\n"
      ]
     },
     "metadata": {},
     "output_type": "display_data"
    },
    {
     "data": {
      "text/html": [
       "<pre style=\"white-space:pre;overflow-x:auto;line-height:normal;font-family:Menlo,'DejaVu Sans Mono',consolas,'Courier New',monospace\">\n",
       "<span style=\"color: #ffff00; text-decoration-color: #ffff00\">Columns:</span>\n",
       "<span style=\"font-weight: bold\">[</span>\n",
       "    <span style=\"color: #008000; text-decoration-color: #008000\">'$insert_id'</span>,\n",
       "    <span style=\"color: #008000; text-decoration-color: #008000\">'amplitude_id'</span>,\n",
       "    <span style=\"color: #008000; text-decoration-color: #008000\">'app'</span>,\n",
       "    <span style=\"color: #008000; text-decoration-color: #008000\">'city'</span>,\n",
       "    <span style=\"color: #008000; text-decoration-color: #008000\">'client_event_time'</span>,\n",
       "    <span style=\"color: #008000; text-decoration-color: #008000\">'client_upload_time'</span>,\n",
       "    <span style=\"color: #008000; text-decoration-color: #008000\">'country'</span>,\n",
       "    <span style=\"color: #008000; text-decoration-color: #008000\">'data'</span>,\n",
       "    <span style=\"color: #008000; text-decoration-color: #008000\">'data_type'</span>,\n",
       "    <span style=\"color: #008000; text-decoration-color: #008000\">'device_family'</span>,\n",
       "    <span style=\"color: #008000; text-decoration-color: #008000\">'device_id'</span>,\n",
       "    <span style=\"color: #008000; text-decoration-color: #008000\">'device_type'</span>,\n",
       "    <span style=\"color: #008000; text-decoration-color: #008000\">'dma'</span>,\n",
       "    <span style=\"color: #008000; text-decoration-color: #008000\">'event_id'</span>,\n",
       "    <span style=\"color: #008000; text-decoration-color: #008000\">'event_properties'</span>,\n",
       "    <span style=\"color: #008000; text-decoration-color: #008000\">'event_time'</span>,\n",
       "    <span style=\"color: #008000; text-decoration-color: #008000\">'event_type'</span>,\n",
       "    <span style=\"color: #008000; text-decoration-color: #008000\">'language'</span>,\n",
       "    <span style=\"color: #008000; text-decoration-color: #008000\">'library'</span>,\n",
       "    <span style=\"color: #008000; text-decoration-color: #008000\">'os_name'</span>,\n",
       "    <span style=\"color: #008000; text-decoration-color: #008000\">'os_version'</span>,\n",
       "    <span style=\"color: #008000; text-decoration-color: #008000\">'platform'</span>,\n",
       "    <span style=\"color: #008000; text-decoration-color: #008000\">'processed_time'</span>,\n",
       "    <span style=\"color: #008000; text-decoration-color: #008000\">'region'</span>,\n",
       "    <span style=\"color: #008000; text-decoration-color: #008000\">'server_received_time'</span>,\n",
       "    <span style=\"color: #008000; text-decoration-color: #008000\">'server_upload_time'</span>,\n",
       "    <span style=\"color: #008000; text-decoration-color: #008000\">'session_id'</span>,\n",
       "    <span style=\"color: #008000; text-decoration-color: #008000\">'user_id'</span>,\n",
       "    <span style=\"color: #008000; text-decoration-color: #008000\">'user_properties'</span>,\n",
       "    <span style=\"color: #008000; text-decoration-color: #008000\">'uuid'</span>,\n",
       "    <span style=\"color: #008000; text-decoration-color: #008000\">'session_duration'</span>\n",
       "<span style=\"font-weight: bold\">]</span>\n",
       "</pre>\n"
      ],
      "text/plain": [
       "\n",
       "\u001b[93mColumns:\u001b[0m\n",
       "\u001b[1m[\u001b[0m\n",
       "    \u001b[32m'$insert_id'\u001b[0m,\n",
       "    \u001b[32m'amplitude_id'\u001b[0m,\n",
       "    \u001b[32m'app'\u001b[0m,\n",
       "    \u001b[32m'city'\u001b[0m,\n",
       "    \u001b[32m'client_event_time'\u001b[0m,\n",
       "    \u001b[32m'client_upload_time'\u001b[0m,\n",
       "    \u001b[32m'country'\u001b[0m,\n",
       "    \u001b[32m'data'\u001b[0m,\n",
       "    \u001b[32m'data_type'\u001b[0m,\n",
       "    \u001b[32m'device_family'\u001b[0m,\n",
       "    \u001b[32m'device_id'\u001b[0m,\n",
       "    \u001b[32m'device_type'\u001b[0m,\n",
       "    \u001b[32m'dma'\u001b[0m,\n",
       "    \u001b[32m'event_id'\u001b[0m,\n",
       "    \u001b[32m'event_properties'\u001b[0m,\n",
       "    \u001b[32m'event_time'\u001b[0m,\n",
       "    \u001b[32m'event_type'\u001b[0m,\n",
       "    \u001b[32m'language'\u001b[0m,\n",
       "    \u001b[32m'library'\u001b[0m,\n",
       "    \u001b[32m'os_name'\u001b[0m,\n",
       "    \u001b[32m'os_version'\u001b[0m,\n",
       "    \u001b[32m'platform'\u001b[0m,\n",
       "    \u001b[32m'processed_time'\u001b[0m,\n",
       "    \u001b[32m'region'\u001b[0m,\n",
       "    \u001b[32m'server_received_time'\u001b[0m,\n",
       "    \u001b[32m'server_upload_time'\u001b[0m,\n",
       "    \u001b[32m'session_id'\u001b[0m,\n",
       "    \u001b[32m'user_id'\u001b[0m,\n",
       "    \u001b[32m'user_properties'\u001b[0m,\n",
       "    \u001b[32m'uuid'\u001b[0m,\n",
       "    \u001b[32m'session_duration'\u001b[0m\n",
       "\u001b[1m]\u001b[0m\n"
      ]
     },
     "metadata": {},
     "output_type": "display_data"
    },
    {
     "data": {
      "text/html": [
       "<pre style=\"white-space:pre;overflow-x:auto;line-height:normal;font-family:Menlo,'DejaVu Sans Mono',consolas,'Courier New',monospace\">\n",
       "<span style=\"color: #ffff00; text-decoration-color: #ffff00\">Data Types:</span>\n",
       "</pre>\n"
      ],
      "text/plain": [
       "\n",
       "\u001b[93mData Types:\u001b[0m\n"
      ]
     },
     "metadata": {},
     "output_type": "display_data"
    },
    {
     "data": {
      "text/html": [
       "<pre style=\"white-space:pre;overflow-x:auto;line-height:normal;font-family:Menlo,'DejaVu Sans Mono',consolas,'Courier New',monospace\">$insert_id                       object\n",
       "amplitude_id                      int64\n",
       "app                               int64\n",
       "city                             object\n",
       "client_event_time        datetime64<span style=\"font-weight: bold\">[</span>ns<span style=\"font-weight: bold\">]</span>\n",
       "client_upload_time       datetime64<span style=\"font-weight: bold\">[</span>ns<span style=\"font-weight: bold\">]</span>\n",
       "country                          object\n",
       "data                             object\n",
       "data_type                        object\n",
       "device_family                    object\n",
       "device_id                        object\n",
       "device_type                      object\n",
       "dma                              object\n",
       "event_id                          int64\n",
       "event_properties                 object\n",
       "event_time                       object\n",
       "event_type                       object\n",
       "language                         object\n",
       "library                          object\n",
       "os_name                          object\n",
       "os_version                        int64\n",
       "platform                         object\n",
       "processed_time           datetime64<span style=\"font-weight: bold\">[</span>ns<span style=\"font-weight: bold\">]</span>\n",
       "region                           object\n",
       "server_received_time     datetime64<span style=\"font-weight: bold\">[</span>ns<span style=\"font-weight: bold\">]</span>\n",
       "server_upload_time       datetime64<span style=\"font-weight: bold\">[</span>ns<span style=\"font-weight: bold\">]</span>\n",
       "session_id                        int64\n",
       "user_id                          object\n",
       "user_properties                  object\n",
       "uuid                             object\n",
       "session_duration        timedelta64<span style=\"font-weight: bold\">[</span>ns<span style=\"font-weight: bold\">]</span>\n",
       "dtype: object\n",
       "</pre>\n"
      ],
      "text/plain": [
       "$insert_id                       object\n",
       "amplitude_id                      int64\n",
       "app                               int64\n",
       "city                             object\n",
       "client_event_time        datetime64\u001b[1m[\u001b[0mns\u001b[1m]\u001b[0m\n",
       "client_upload_time       datetime64\u001b[1m[\u001b[0mns\u001b[1m]\u001b[0m\n",
       "country                          object\n",
       "data                             object\n",
       "data_type                        object\n",
       "device_family                    object\n",
       "device_id                        object\n",
       "device_type                      object\n",
       "dma                              object\n",
       "event_id                          int64\n",
       "event_properties                 object\n",
       "event_time                       object\n",
       "event_type                       object\n",
       "language                         object\n",
       "library                          object\n",
       "os_name                          object\n",
       "os_version                        int64\n",
       "platform                         object\n",
       "processed_time           datetime64\u001b[1m[\u001b[0mns\u001b[1m]\u001b[0m\n",
       "region                           object\n",
       "server_received_time     datetime64\u001b[1m[\u001b[0mns\u001b[1m]\u001b[0m\n",
       "server_upload_time       datetime64\u001b[1m[\u001b[0mns\u001b[1m]\u001b[0m\n",
       "session_id                        int64\n",
       "user_id                          object\n",
       "user_properties                  object\n",
       "uuid                             object\n",
       "session_duration        timedelta64\u001b[1m[\u001b[0mns\u001b[1m]\u001b[0m\n",
       "dtype: object\n"
      ]
     },
     "metadata": {},
     "output_type": "display_data"
    },
    {
     "data": {
      "text/html": [
       "<pre style=\"white-space:pre;overflow-x:auto;line-height:normal;font-family:Menlo,'DejaVu Sans Mono',consolas,'Courier New',monospace\">\n",
       "<span style=\"color: #ffff00; text-decoration-color: #ffff00\">Missing Values:</span>\n",
       "</pre>\n"
      ],
      "text/plain": [
       "\n",
       "\u001b[93mMissing Values:\u001b[0m\n"
      ]
     },
     "metadata": {},
     "output_type": "display_data"
    },
    {
     "data": {
      "text/html": [
       "<pre style=\"white-space:pre;overflow-x:auto;line-height:normal;font-family:Menlo,'DejaVu Sans Mono',consolas,'Courier New',monospace\">$insert_id                  <span style=\"color: #008080; text-decoration-color: #008080; font-weight: bold\">0</span>\n",
       "amplitude_id                <span style=\"color: #008080; text-decoration-color: #008080; font-weight: bold\">0</span>\n",
       "app                         <span style=\"color: #008080; text-decoration-color: #008080; font-weight: bold\">0</span>\n",
       "city                     <span style=\"color: #008080; text-decoration-color: #008080; font-weight: bold\">1582</span>\n",
       "client_event_time           <span style=\"color: #008080; text-decoration-color: #008080; font-weight: bold\">0</span>\n",
       "client_upload_time          <span style=\"color: #008080; text-decoration-color: #008080; font-weight: bold\">0</span>\n",
       "country                     <span style=\"color: #008080; text-decoration-color: #008080; font-weight: bold\">0</span>\n",
       "data                        <span style=\"color: #008080; text-decoration-color: #008080; font-weight: bold\">0</span>\n",
       "data_type                   <span style=\"color: #008080; text-decoration-color: #008080; font-weight: bold\">0</span>\n",
       "device_family               <span style=\"color: #008080; text-decoration-color: #008080; font-weight: bold\">0</span>\n",
       "device_id                   <span style=\"color: #008080; text-decoration-color: #008080; font-weight: bold\">0</span>\n",
       "device_type             <span style=\"color: #008080; text-decoration-color: #008080; font-weight: bold\">16737</span>\n",
       "dma                     <span style=\"color: #008080; text-decoration-color: #008080; font-weight: bold\">29628</span>\n",
       "event_id                    <span style=\"color: #008080; text-decoration-color: #008080; font-weight: bold\">0</span>\n",
       "event_properties            <span style=\"color: #008080; text-decoration-color: #008080; font-weight: bold\">0</span>\n",
       "event_time                  <span style=\"color: #008080; text-decoration-color: #008080; font-weight: bold\">0</span>\n",
       "event_type                  <span style=\"color: #008080; text-decoration-color: #008080; font-weight: bold\">0</span>\n",
       "language                    <span style=\"color: #008080; text-decoration-color: #008080; font-weight: bold\">0</span>\n",
       "library                     <span style=\"color: #008080; text-decoration-color: #008080; font-weight: bold\">0</span>\n",
       "os_name                     <span style=\"color: #008080; text-decoration-color: #008080; font-weight: bold\">0</span>\n",
       "os_version                  <span style=\"color: #008080; text-decoration-color: #008080; font-weight: bold\">0</span>\n",
       "platform                    <span style=\"color: #008080; text-decoration-color: #008080; font-weight: bold\">0</span>\n",
       "processed_time              <span style=\"color: #008080; text-decoration-color: #008080; font-weight: bold\">0</span>\n",
       "region                    <span style=\"color: #008080; text-decoration-color: #008080; font-weight: bold\">917</span>\n",
       "server_received_time        <span style=\"color: #008080; text-decoration-color: #008080; font-weight: bold\">0</span>\n",
       "server_upload_time          <span style=\"color: #008080; text-decoration-color: #008080; font-weight: bold\">0</span>\n",
       "session_id                  <span style=\"color: #008080; text-decoration-color: #008080; font-weight: bold\">0</span>\n",
       "user_id                   <span style=\"color: #008080; text-decoration-color: #008080; font-weight: bold\">414</span>\n",
       "user_properties             <span style=\"color: #008080; text-decoration-color: #008080; font-weight: bold\">0</span>\n",
       "uuid                        <span style=\"color: #008080; text-decoration-color: #008080; font-weight: bold\">0</span>\n",
       "session_duration            <span style=\"color: #008080; text-decoration-color: #008080; font-weight: bold\">0</span>\n",
       "dtype: int64\n",
       "</pre>\n"
      ],
      "text/plain": [
       "$insert_id                  \u001b[1;36m0\u001b[0m\n",
       "amplitude_id                \u001b[1;36m0\u001b[0m\n",
       "app                         \u001b[1;36m0\u001b[0m\n",
       "city                     \u001b[1;36m1582\u001b[0m\n",
       "client_event_time           \u001b[1;36m0\u001b[0m\n",
       "client_upload_time          \u001b[1;36m0\u001b[0m\n",
       "country                     \u001b[1;36m0\u001b[0m\n",
       "data                        \u001b[1;36m0\u001b[0m\n",
       "data_type                   \u001b[1;36m0\u001b[0m\n",
       "device_family               \u001b[1;36m0\u001b[0m\n",
       "device_id                   \u001b[1;36m0\u001b[0m\n",
       "device_type             \u001b[1;36m16737\u001b[0m\n",
       "dma                     \u001b[1;36m29628\u001b[0m\n",
       "event_id                    \u001b[1;36m0\u001b[0m\n",
       "event_properties            \u001b[1;36m0\u001b[0m\n",
       "event_time                  \u001b[1;36m0\u001b[0m\n",
       "event_type                  \u001b[1;36m0\u001b[0m\n",
       "language                    \u001b[1;36m0\u001b[0m\n",
       "library                     \u001b[1;36m0\u001b[0m\n",
       "os_name                     \u001b[1;36m0\u001b[0m\n",
       "os_version                  \u001b[1;36m0\u001b[0m\n",
       "platform                    \u001b[1;36m0\u001b[0m\n",
       "processed_time              \u001b[1;36m0\u001b[0m\n",
       "region                    \u001b[1;36m917\u001b[0m\n",
       "server_received_time        \u001b[1;36m0\u001b[0m\n",
       "server_upload_time          \u001b[1;36m0\u001b[0m\n",
       "session_id                  \u001b[1;36m0\u001b[0m\n",
       "user_id                   \u001b[1;36m414\u001b[0m\n",
       "user_properties             \u001b[1;36m0\u001b[0m\n",
       "uuid                        \u001b[1;36m0\u001b[0m\n",
       "session_duration            \u001b[1;36m0\u001b[0m\n",
       "dtype: int64\n"
      ]
     },
     "metadata": {},
     "output_type": "display_data"
    }
   ],
   "source": [
    "# 1. Basic Dataset Information\n",
    "# https://rich.readthedocs.io/en/stable/appendix/colors.html to refer to colors\n",
    "console.print(\"\\n[bold bright_green]1. Basic Dataset Information[/bold bright_green]\", style=\"bold\")\n",
    "console.print(Panel(f\"Dataset Shape: {df.shape}\"))\n",
    "console.print(\"\\n[bright_yellow]Columns:[/bright_yellow]\", df.columns.tolist())\n",
    "console.print(\"\\n[bright_yellow]Data Types:[/bright_yellow]\")\n",
    "console.print(df.dtypes)\n",
    "console.print(\"\\n[bright_yellow]Missing Values:[/bright_yellow]\")\n",
    "console.print(df.isnull().sum())"
   ]
  },
  {
   "cell_type": "code",
   "execution_count": 79,
   "metadata": {},
   "outputs": [
    {
     "data": {
      "text/html": [
       "<pre style=\"white-space:pre;overflow-x:auto;line-height:normal;font-family:Menlo,'DejaVu Sans Mono',consolas,'Courier New',monospace\">\n",
       "<span style=\"color: #00ff00; text-decoration-color: #00ff00; font-weight: bold\">2</span><span style=\"color: #00ff00; text-decoration-color: #00ff00; font-weight: bold\">. User Activity Analysis</span>\n",
       "</pre>\n"
      ],
      "text/plain": [
       "\n",
       "\u001b[1;92m2\u001b[0m\u001b[1;92m. User Activity Analysis\u001b[0m\n"
      ]
     },
     "metadata": {},
     "output_type": "display_data"
    },
    {
     "data": {
      "text/html": [
       "<pre style=\"white-space:pre;overflow-x:auto;line-height:normal;font-family:Menlo,'DejaVu Sans Mono',consolas,'Courier New',monospace\">┏━━━━━━━━━━━━━━━━━━━━━━━━━━━┳━━━━━━━━┓\n",
       "┃<span style=\"color: #ffff00; text-decoration-color: #ffff00; font-weight: bold\"> Metric                    </span>┃<span style=\"color: #ffff00; text-decoration-color: #ffff00; font-weight: bold\"> Value  </span>┃\n",
       "┡━━━━━━━━━━━━━━━━━━━━━━━━━━━╇━━━━━━━━┩\n",
       "│ Unique Users              │ 384    │\n",
       "│ Unique Sessions           │ 4843   │\n",
       "│ Events per User (Average) │ 260.42 │\n",
       "└───────────────────────────┴────────┘\n",
       "</pre>\n"
      ],
      "text/plain": [
       "┏━━━━━━━━━━━━━━━━━━━━━━━━━━━┳━━━━━━━━┓\n",
       "┃\u001b[1;93m \u001b[0m\u001b[1;93mMetric                   \u001b[0m\u001b[1;93m \u001b[0m┃\u001b[1;93m \u001b[0m\u001b[1;93mValue \u001b[0m\u001b[1;93m \u001b[0m┃\n",
       "┡━━━━━━━━━━━━━━━━━━━━━━━━━━━╇━━━━━━━━┩\n",
       "│ Unique Users              │ 384    │\n",
       "│ Unique Sessions           │ 4843   │\n",
       "│ Events per User (Average) │ 260.42 │\n",
       "└───────────────────────────┴────────┘\n"
      ]
     },
     "metadata": {},
     "output_type": "display_data"
    }
   ],
   "source": [
    "# 2. User Activity Analysis\n",
    "console.print(\"\\n[bold bright_green]2. User Activity Analysis[/bold bright_green]\", style=\"bold\")\n",
    "stats_table = Table(show_header=True, header_style=\"bold bright_yellow\")\n",
    "stats_table.add_column(\"Metric\")\n",
    "stats_table.add_column(\"Value\")\n",
    "stats_table.add_row(\"Unique Users\", str(df['user_id'].nunique()))\n",
    "stats_table.add_row(\"Unique Sessions\", str(df['session_id'].nunique()))\n",
    "stats_table.add_row(\"Events per User (Average)\", f\"{len(df) / df['user_id'].nunique():.2f}\")\n",
    "console.print(stats_table)"
   ]
  },
  {
   "cell_type": "code",
   "execution_count": 80,
   "metadata": {},
   "outputs": [
    {
     "data": {
      "text/html": [
       "<pre style=\"white-space:pre;overflow-x:auto;line-height:normal;font-family:Menlo,'DejaVu Sans Mono',consolas,'Courier New',monospace\">\n",
       "<span style=\"color: #00ff00; text-decoration-color: #00ff00; font-weight: bold\">3</span><span style=\"color: #00ff00; text-decoration-color: #00ff00; font-weight: bold\">. Device &amp; Platform Distribution</span>\n",
       "</pre>\n"
      ],
      "text/plain": [
       "\n",
       "\u001b[1;92m3\u001b[0m\u001b[1;92m. Device & Platform Distribution\u001b[0m\n"
      ]
     },
     "metadata": {},
     "output_type": "display_data"
    },
    {
     "data": {
      "text/html": [
       "<pre style=\"white-space:pre;overflow-x:auto;line-height:normal;font-family:Menlo,'DejaVu Sans Mono',consolas,'Courier New',monospace\">\n",
       "<span style=\"color: #ffff00; text-decoration-color: #ffff00\">Device Distribution:</span>\n",
       "</pre>\n"
      ],
      "text/plain": [
       "\n",
       "\u001b[93mDevice Distribution:\u001b[0m\n"
      ]
     },
     "metadata": {},
     "output_type": "display_data"
    },
    {
     "data": {
      "text/html": [
       "<pre style=\"white-space:pre;overflow-x:auto;line-height:normal;font-family:Menlo,'DejaVu Sans Mono',consolas,'Courier New',monospace\">╭─────────────────────────────────────────────────────────────────────────────────────────────────────────────────╮\n",
       "│ device_family                                                                                                   │\n",
       "│ Windows     80.6                                                                                                │\n",
       "│ Mac OS X    16.6                                                                                                │\n",
       "│ Linux        2.7                                                                                                │\n",
       "│ iOS          0.1                                                                                                │\n",
       "│ Android      0.0                                                                                                │\n",
       "│ Name: proportion, dtype: float64                                                                                │\n",
       "╰─────────────────────────────────────────────────────────────────────────────────────────────────────────────────╯\n",
       "</pre>\n"
      ],
      "text/plain": [
       "╭─────────────────────────────────────────────────────────────────────────────────────────────────────────────────╮\n",
       "│ device_family                                                                                                   │\n",
       "│ Windows     80.6                                                                                                │\n",
       "│ Mac OS X    16.6                                                                                                │\n",
       "│ Linux        2.7                                                                                                │\n",
       "│ iOS          0.1                                                                                                │\n",
       "│ Android      0.0                                                                                                │\n",
       "│ Name: proportion, dtype: float64                                                                                │\n",
       "╰─────────────────────────────────────────────────────────────────────────────────────────────────────────────────╯\n"
      ]
     },
     "metadata": {},
     "output_type": "display_data"
    },
    {
     "data": {
      "text/html": [
       "<pre style=\"white-space:pre;overflow-x:auto;line-height:normal;font-family:Menlo,'DejaVu Sans Mono',consolas,'Courier New',monospace\">\n",
       "<span style=\"color: #ffff00; text-decoration-color: #ffff00\">Platform Distribution:</span>\n",
       "</pre>\n"
      ],
      "text/plain": [
       "\n",
       "\u001b[93mPlatform Distribution:\u001b[0m\n"
      ]
     },
     "metadata": {},
     "output_type": "display_data"
    },
    {
     "data": {
      "text/html": [
       "<pre style=\"white-space:pre;overflow-x:auto;line-height:normal;font-family:Menlo,'DejaVu Sans Mono',consolas,'Courier New',monospace\">╭─────────────────────────────────────────────────────────────────────────────────────────────────────────────────╮\n",
       "│ platform                                                                                                        │\n",
       "│ Web    100.0                                                                                                    │\n",
       "│ Name: proportion, dtype: float64                                                                                │\n",
       "╰─────────────────────────────────────────────────────────────────────────────────────────────────────────────────╯\n",
       "</pre>\n"
      ],
      "text/plain": [
       "╭─────────────────────────────────────────────────────────────────────────────────────────────────────────────────╮\n",
       "│ platform                                                                                                        │\n",
       "│ Web    100.0                                                                                                    │\n",
       "│ Name: proportion, dtype: float64                                                                                │\n",
       "╰─────────────────────────────────────────────────────────────────────────────────────────────────────────────────╯\n"
      ]
     },
     "metadata": {},
     "output_type": "display_data"
    }
   ],
   "source": [
    "# 3. Device & Platform Distribution\n",
    "console.print(\"\\n[bold bright_green]3. Device & Platform Distribution[/bold bright_green]\", style=\"bold\")\n",
    "console.print(\"\\n[bright_yellow]Device Distribution:[/bright_yellow]\")\n",
    "console.print(Panel(str(df['device_family'].value_counts(normalize=True).round(3) * 100)))\n",
    "console.print(\"\\n[bright_yellow]Platform Distribution:[/bright_yellow]\")\n",
    "console.print(Panel(str(df['platform'].value_counts(normalize=True).round(3) * 100)))"
   ]
  },
  {
   "cell_type": "code",
   "execution_count": 81,
   "metadata": {},
   "outputs": [
    {
     "data": {
      "text/html": [
       "<pre style=\"white-space:pre;overflow-x:auto;line-height:normal;font-family:Menlo,'DejaVu Sans Mono',consolas,'Courier New',monospace\">\n",
       "<span style=\"color: #00ff00; text-decoration-color: #00ff00; font-weight: bold\">4</span><span style=\"color: #00ff00; text-decoration-color: #00ff00; font-weight: bold\">. Geographic Distribution</span>\n",
       "</pre>\n"
      ],
      "text/plain": [
       "\n",
       "\u001b[1;92m4\u001b[0m\u001b[1;92m. Geographic Distribution\u001b[0m\n"
      ]
     },
     "metadata": {},
     "output_type": "display_data"
    },
    {
     "data": {
      "text/html": [
       "<pre style=\"white-space:pre;overflow-x:auto;line-height:normal;font-family:Menlo,'DejaVu Sans Mono',consolas,'Courier New',monospace\">\n",
       "<span style=\"color: #ffff00; text-decoration-color: #ffff00\">Top </span><span style=\"color: #ffff00; text-decoration-color: #ffff00; font-weight: bold\">10</span><span style=\"color: #ffff00; text-decoration-color: #ffff00\"> Cities:</span>\n",
       "</pre>\n"
      ],
      "text/plain": [
       "\n",
       "\u001b[93mTop \u001b[0m\u001b[1;93m10\u001b[0m\u001b[93m Cities:\u001b[0m\n"
      ]
     },
     "metadata": {},
     "output_type": "display_data"
    },
    {
     "data": {
      "text/html": [
       "<pre style=\"white-space:pre;overflow-x:auto;line-height:normal;font-family:Menlo,'DejaVu Sans Mono',consolas,'Courier New',monospace\">╭─────────────────────────────────────────────────────────────────────────────────────────────────────────────────╮\n",
       "│ city                                                                                                            │\n",
       "│ Mumbai         24090                                                                                            │\n",
       "│ Nashville      15791                                                                                            │\n",
       "│ Chicago         3995                                                                                            │\n",
       "│ Spring Hill     3237                                                                                            │\n",
       "│ Birmingham      3132                                                                                            │\n",
       "│ Greenville      2419                                                                                            │\n",
       "│ Alexandria      1818                                                                                            │\n",
       "│ New York        1810                                                                                            │\n",
       "│ Aurora          1691                                                                                            │\n",
       "│ Wroclaw         1589                                                                                            │\n",
       "│ Name: count, dtype: int64                                                                                       │\n",
       "╰─────────────────────────────────────────────────────────────────────────────────────────────────────────────────╯\n",
       "</pre>\n"
      ],
      "text/plain": [
       "╭─────────────────────────────────────────────────────────────────────────────────────────────────────────────────╮\n",
       "│ city                                                                                                            │\n",
       "│ Mumbai         24090                                                                                            │\n",
       "│ Nashville      15791                                                                                            │\n",
       "│ Chicago         3995                                                                                            │\n",
       "│ Spring Hill     3237                                                                                            │\n",
       "│ Birmingham      3132                                                                                            │\n",
       "│ Greenville      2419                                                                                            │\n",
       "│ Alexandria      1818                                                                                            │\n",
       "│ New York        1810                                                                                            │\n",
       "│ Aurora          1691                                                                                            │\n",
       "│ Wroclaw         1589                                                                                            │\n",
       "│ Name: count, dtype: int64                                                                                       │\n",
       "╰─────────────────────────────────────────────────────────────────────────────────────────────────────────────────╯\n"
      ]
     },
     "metadata": {},
     "output_type": "display_data"
    },
    {
     "data": {
      "text/html": [
       "<pre style=\"white-space:pre;overflow-x:auto;line-height:normal;font-family:Menlo,'DejaVu Sans Mono',consolas,'Courier New',monospace\">\n",
       "<span style=\"color: #ffff00; text-decoration-color: #ffff00\">State/Region Distribution:</span>\n",
       "</pre>\n"
      ],
      "text/plain": [
       "\n",
       "\u001b[93mState/Region Distribution:\u001b[0m\n"
      ]
     },
     "metadata": {},
     "output_type": "display_data"
    },
    {
     "data": {
      "text/html": [
       "<pre style=\"white-space:pre;overflow-x:auto;line-height:normal;font-family:Menlo,'DejaVu Sans Mono',consolas,'Courier New',monospace\">╭─────────────────────────────────────────────────────────────────────────────────────────────────────────────────╮\n",
       "│ region                                                                                                          │\n",
       "│ Maharashtra       24090                                                                                         │\n",
       "│ Tennessee         20352                                                                                         │\n",
       "│ Illinois           5369                                                                                         │\n",
       "│ South Carolina     4106                                                                                         │\n",
       "│ Georgia            4059                                                                                         │\n",
       "│ California         3773                                                                                         │\n",
       "│ Iowa               3692                                                                                         │\n",
       "│ Virginia           3537                                                                                         │\n",
       "│ Alabama            3412                                                                                         │\n",
       "│ Florida            3164                                                                                         │\n",
       "│ Name: count, dtype: int64                                                                                       │\n",
       "╰─────────────────────────────────────────────────────────────────────────────────────────────────────────────────╯\n",
       "</pre>\n"
      ],
      "text/plain": [
       "╭─────────────────────────────────────────────────────────────────────────────────────────────────────────────────╮\n",
       "│ region                                                                                                          │\n",
       "│ Maharashtra       24090                                                                                         │\n",
       "│ Tennessee         20352                                                                                         │\n",
       "│ Illinois           5369                                                                                         │\n",
       "│ South Carolina     4106                                                                                         │\n",
       "│ Georgia            4059                                                                                         │\n",
       "│ California         3773                                                                                         │\n",
       "│ Iowa               3692                                                                                         │\n",
       "│ Virginia           3537                                                                                         │\n",
       "│ Alabama            3412                                                                                         │\n",
       "│ Florida            3164                                                                                         │\n",
       "│ Name: count, dtype: int64                                                                                       │\n",
       "╰─────────────────────────────────────────────────────────────────────────────────────────────────────────────────╯\n"
      ]
     },
     "metadata": {},
     "output_type": "display_data"
    }
   ],
   "source": [
    "# 4. Geographic Distribution\n",
    "console.print(\"\\n[bold bright_green]4. Geographic Distribution[/bold bright_green]\", style=\"bold\")\n",
    "console.print(\"\\n[bright_yellow]Top 10 Cities:[/bright_yellow]\")\n",
    "console.print(Panel(str(df['city'].value_counts().head(10))))\n",
    "\n",
    "console.print(\"\\n[bright_yellow]State/Region Distribution:[/bright_yellow]\")\n",
    "console.print(Panel(str(df['region'].value_counts().head(10))))"
   ]
  },
  {
   "cell_type": "code",
   "execution_count": 82,
   "metadata": {},
   "outputs": [
    {
     "data": {
      "text/html": [
       "<pre style=\"white-space:pre;overflow-x:auto;line-height:normal;font-family:Menlo,'DejaVu Sans Mono',consolas,'Courier New',monospace\">\n",
       "<span style=\"color: #00ff00; text-decoration-color: #00ff00; font-weight: bold\">5</span><span style=\"color: #00ff00; text-decoration-color: #00ff00; font-weight: bold\">. Temporal Analysis</span>\n",
       "</pre>\n"
      ],
      "text/plain": [
       "\n",
       "\u001b[1;92m5\u001b[0m\u001b[1;92m. Temporal Analysis\u001b[0m\n"
      ]
     },
     "metadata": {},
     "output_type": "display_data"
    },
    {
     "data": {
      "text/html": [
       "<pre style=\"white-space:pre;overflow-x:auto;line-height:normal;font-family:Menlo,'DejaVu Sans Mono',consolas,'Courier New',monospace\">\n",
       "<span style=\"color: #ffff00; text-decoration-color: #ffff00\">Events by Hour of Day:</span>\n",
       "</pre>\n"
      ],
      "text/plain": [
       "\n",
       "\u001b[93mEvents by Hour of Day:\u001b[0m\n"
      ]
     },
     "metadata": {},
     "output_type": "display_data"
    },
    {
     "data": {
      "text/html": [
       "<pre style=\"white-space:pre;overflow-x:auto;line-height:normal;font-family:Menlo,'DejaVu Sans Mono',consolas,'Courier New',monospace\">╭─────────────────────────────────────────────────────────────────────────────────────────────────────────────────╮\n",
       "│ hour                                                                                                            │\n",
       "│ 0      2022                                                                                                     │\n",
       "│ 1       684                                                                                                     │\n",
       "│ 2      1126                                                                                                     │\n",
       "│ 3      1807                                                                                                     │\n",
       "│ 4        68                                                                                                     │\n",
       "│ 5      5413                                                                                                     │\n",
       "│ 6       236                                                                                                     │\n",
       "│ 7      2975                                                                                                     │\n",
       "│ 8      3281                                                                                                     │\n",
       "│ 9      8974                                                                                                     │\n",
       "│ 10     6713                                                                                                     │\n",
       "│ 11       22                                                                                                     │\n",
       "│ 12      144                                                                                                     │\n",
       "│ 13    11201                                                                                                     │\n",
       "│ 14      319                                                                                                     │\n",
       "│ 15     9362                                                                                                     │\n",
       "│ 16     7522                                                                                                     │\n",
       "│ 17     3764                                                                                                     │\n",
       "│ 18    18258                                                                                                     │\n",
       "│ 19       96                                                                                                     │\n",
       "│ 20     8414                                                                                                     │\n",
       "│ 21      731                                                                                                     │\n",
       "│ 22     4806                                                                                                     │\n",
       "│ 23     2062                                                                                                     │\n",
       "│ Name: count, dtype: int64                                                                                       │\n",
       "╰─────────────────────────────────────────────────────────────────────────────────────────────────────────────────╯\n",
       "</pre>\n"
      ],
      "text/plain": [
       "╭─────────────────────────────────────────────────────────────────────────────────────────────────────────────────╮\n",
       "│ hour                                                                                                            │\n",
       "│ 0      2022                                                                                                     │\n",
       "│ 1       684                                                                                                     │\n",
       "│ 2      1126                                                                                                     │\n",
       "│ 3      1807                                                                                                     │\n",
       "│ 4        68                                                                                                     │\n",
       "│ 5      5413                                                                                                     │\n",
       "│ 6       236                                                                                                     │\n",
       "│ 7      2975                                                                                                     │\n",
       "│ 8      3281                                                                                                     │\n",
       "│ 9      8974                                                                                                     │\n",
       "│ 10     6713                                                                                                     │\n",
       "│ 11       22                                                                                                     │\n",
       "│ 12      144                                                                                                     │\n",
       "│ 13    11201                                                                                                     │\n",
       "│ 14      319                                                                                                     │\n",
       "│ 15     9362                                                                                                     │\n",
       "│ 16     7522                                                                                                     │\n",
       "│ 17     3764                                                                                                     │\n",
       "│ 18    18258                                                                                                     │\n",
       "│ 19       96                                                                                                     │\n",
       "│ 20     8414                                                                                                     │\n",
       "│ 21      731                                                                                                     │\n",
       "│ 22     4806                                                                                                     │\n",
       "│ 23     2062                                                                                                     │\n",
       "│ Name: count, dtype: int64                                                                                       │\n",
       "╰─────────────────────────────────────────────────────────────────────────────────────────────────────────────────╯\n"
      ]
     },
     "metadata": {},
     "output_type": "display_data"
    },
    {
     "data": {
      "text/html": [
       "<pre style=\"white-space:pre;overflow-x:auto;line-height:normal;font-family:Menlo,'DejaVu Sans Mono',consolas,'Courier New',monospace\">\n",
       "<span style=\"color: #ffff00; text-decoration-color: #ffff00\">Events by Day of Week:</span>\n",
       "</pre>\n"
      ],
      "text/plain": [
       "\n",
       "\u001b[93mEvents by Day of Week:\u001b[0m\n"
      ]
     },
     "metadata": {},
     "output_type": "display_data"
    },
    {
     "data": {
      "text/html": [
       "<pre style=\"white-space:pre;overflow-x:auto;line-height:normal;font-family:Menlo,'DejaVu Sans Mono',consolas,'Courier New',monospace\">╭─────────────────────────────────────────────────────────────────────────────────────────────────────────────────╮\n",
       "│ day_of_week                                                                                                     │\n",
       "│ Monday       28546                                                                                              │\n",
       "│ Wednesday    22741                                                                                              │\n",
       "│ Thursday     20559                                                                                              │\n",
       "│ Tuesday      18909                                                                                              │\n",
       "│ Friday        6582                                                                                              │\n",
       "│ Saturday      1736                                                                                              │\n",
       "│ Sunday         927                                                                                              │\n",
       "│ Name: count, dtype: int64                                                                                       │\n",
       "╰─────────────────────────────────────────────────────────────────────────────────────────────────────────────────╯\n",
       "</pre>\n"
      ],
      "text/plain": [
       "╭─────────────────────────────────────────────────────────────────────────────────────────────────────────────────╮\n",
       "│ day_of_week                                                                                                     │\n",
       "│ Monday       28546                                                                                              │\n",
       "│ Wednesday    22741                                                                                              │\n",
       "│ Thursday     20559                                                                                              │\n",
       "│ Tuesday      18909                                                                                              │\n",
       "│ Friday        6582                                                                                              │\n",
       "│ Saturday      1736                                                                                              │\n",
       "│ Sunday         927                                                                                              │\n",
       "│ Name: count, dtype: int64                                                                                       │\n",
       "╰─────────────────────────────────────────────────────────────────────────────────────────────────────────────────╯\n"
      ]
     },
     "metadata": {},
     "output_type": "display_data"
    }
   ],
   "source": [
    "# 5. Temporal Analysis\n",
    "df['hour'] = df['client_event_time'].dt.hour\n",
    "df['day_of_week'] = df['client_event_time'].dt.day_name()\n",
    "\n",
    "console.print(\"\\n[bold bright_green]5. Temporal Analysis[/bold bright_green]\", style=\"bold\")\n",
    "console.print(\"\\n[bright_yellow]Events by Hour of Day:[/bright_yellow]\")\n",
    "console.print(Panel(str(df['hour'].value_counts().sort_index())))\n",
    "\n",
    "console.print(\"\\n[bright_yellow]Events by Day of Week:[/bright_yellow]\") \n",
    "console.print(Panel(str(df['day_of_week'].value_counts())))"
   ]
  },
  {
   "cell_type": "code",
   "execution_count": 85,
   "metadata": {},
   "outputs": [
    {
     "data": {
      "text/html": [
       "<pre style=\"white-space:pre;overflow-x:auto;line-height:normal;font-family:Menlo,'DejaVu Sans Mono',consolas,'Courier New',monospace\">\n",
       "<span style=\"color: #00ff00; text-decoration-color: #00ff00; font-weight: bold\">6</span><span style=\"color: #00ff00; text-decoration-color: #00ff00; font-weight: bold\">. Session Analysis</span>\n",
       "</pre>\n"
      ],
      "text/plain": [
       "\n",
       "\u001b[1;92m6\u001b[0m\u001b[1;92m. Session Analysis\u001b[0m\n"
      ]
     },
     "metadata": {},
     "output_type": "display_data"
    },
    {
     "data": {
      "text/html": [
       "<pre style=\"white-space:pre;overflow-x:auto;line-height:normal;font-family:Menlo,'DejaVu Sans Mono',consolas,'Courier New',monospace\">\n",
       "<span style=\"color: #ffff00; text-decoration-color: #ffff00\">Session Duration Statistics </span><span style=\"color: #ffff00; text-decoration-color: #ffff00; font-weight: bold\">(</span><span style=\"color: #ffff00; text-decoration-color: #ffff00\">in minutes</span><span style=\"color: #ffff00; text-decoration-color: #ffff00; font-weight: bold\">)</span><span style=\"color: #ffff00; text-decoration-color: #ffff00\">:</span>\n",
       "</pre>\n"
      ],
      "text/plain": [
       "\n",
       "\u001b[93mSession Duration Statistics \u001b[0m\u001b[1;93m(\u001b[0m\u001b[93min minutes\u001b[0m\u001b[1;93m)\u001b[0m\u001b[93m:\u001b[0m\n"
      ]
     },
     "metadata": {},
     "output_type": "display_data"
    },
    {
     "data": {
      "text/html": [
       "<pre style=\"white-space:pre;overflow-x:auto;line-height:normal;font-family:Menlo,'DejaVu Sans Mono',consolas,'Courier New',monospace\">┏━━━━━━━━┳━━━━━━━━━━━┓\n",
       "┃<span style=\"color: #ffff00; text-decoration-color: #ffff00; font-weight: bold\"> Metric </span>┃<span style=\"color: #ffff00; text-decoration-color: #ffff00; font-weight: bold\"> Value     </span>┃\n",
       "┡━━━━━━━━╇━━━━━━━━━━━┩\n",
       "│ count  │ 100000.00 │\n",
       "│ mean   │ 29.93     │\n",
       "│ std    │ 29.98     │\n",
       "│ min    │ 0.00      │\n",
       "│ 25%    │ 6.38      │\n",
       "│ 50%    │ 26.57     │\n",
       "│ 75%    │ 48.26     │\n",
       "│ max    │ 373.67    │\n",
       "└────────┴───────────┘\n",
       "</pre>\n"
      ],
      "text/plain": [
       "┏━━━━━━━━┳━━━━━━━━━━━┓\n",
       "┃\u001b[1;93m \u001b[0m\u001b[1;93mMetric\u001b[0m\u001b[1;93m \u001b[0m┃\u001b[1;93m \u001b[0m\u001b[1;93mValue    \u001b[0m\u001b[1;93m \u001b[0m┃\n",
       "┡━━━━━━━━╇━━━━━━━━━━━┩\n",
       "│ count  │ 100000.00 │\n",
       "│ mean   │ 29.93     │\n",
       "│ std    │ 29.98     │\n",
       "│ min    │ 0.00      │\n",
       "│ 25%    │ 6.38      │\n",
       "│ 50%    │ 26.57     │\n",
       "│ 75%    │ 48.26     │\n",
       "│ max    │ 373.67    │\n",
       "└────────┴───────────┘\n"
      ]
     },
     "metadata": {},
     "output_type": "display_data"
    }
   ],
   "source": [
    "# 6. Session Analysis\n",
    "console.print(\"\\n[bold bright_green]6. Session Analysis[/bold bright_green]\", style=\"bold\")\n",
    "console.print(\"\\n[bright_yellow]Session Duration Statistics (in minutes):[/bright_yellow]\")\n",
    "stats_table = Table(show_header=True, header_style=\"bold bright_yellow\")\n",
    "stats_table.add_column(\"Metric\")\n",
    "stats_table.add_column(\"Value\")\n",
    "\n",
    "session_stats = df['session_duration'].dt.total_seconds().div(60).describe()\n",
    "for stat, value in session_stats.items():\n",
    "    stats_table.add_row(stat, f\"{value:.2f}\")\n",
    "\n",
    "console.print(stats_table)"
   ]
  },
  {
   "cell_type": "code",
   "execution_count": 84,
   "metadata": {},
   "outputs": [
    {
     "data": {
      "image/png": "[encoded data removed]",
      "text/plain": [
       "<Figure size 1200x600 with 1 Axes>"
      ]
     },
     "metadata": {},
     "output_type": "display_data"
    },
    {
     "data": {
      "image/png": "[encoded data removed]",
      "text/plain": [
       "<Figure size 1200x600 with 1 Axes>"
      ]
     },
     "metadata": {},
     "output_type": "display_data"
    },
    {
     "data": {
      "image/png": "[encoded data removed]",
      "text/plain": [
       "<Figure size 1000x600 with 1 Axes>"
      ]
     },
     "metadata": {},
     "output_type": "display_data"
    }
   ],
   "source": [
    "# 7. Create some visualizations using matplotlib\n",
    "import matplotlib.pyplot as plt\n",
    "\n",
    "# Events by Hour\n",
    "plt.figure(figsize=(12, 6))\n",
    "df['hour'].value_counts().sort_index().plot(kind='bar')\n",
    "plt.title('Events Distribution by Hour')\n",
    "plt.xlabel('Hour of Day')\n",
    "plt.ylabel('Number of Events')\n",
    "plt.show()\n",
    "\n",
    "# Session Duration Distribution\n",
    "plt.figure(figsize=(12, 6))\n",
    "df['session_duration'].dt.total_seconds().div(60).hist(bins=50)\n",
    "plt.title('Session Duration Distribution')\n",
    "plt.xlabel('Duration (minutes)')\n",
    "plt.ylabel('Frequency')\n",
    "plt.show()\n",
    "\n",
    "# Device Family Distribution\n",
    "plt.figure(figsize=(10, 6))\n",
    "df['device_family'].value_counts().plot(kind='pie', autopct='%1.1f%%')\n",
    "plt.title('Device Family Distribution')\n",
    "plt.show()"
   ]
  },
  {
   "cell_type": "code",
   "execution_count": 86,
   "metadata": {},
   "outputs": [
    {
     "data": {
      "text/html": [
       "<pre style=\"white-space:pre;overflow-x:auto;line-height:normal;font-family:Menlo,'DejaVu Sans Mono',consolas,'Courier New',monospace\">\n",
       "<span style=\"color: #00ff00; text-decoration-color: #00ff00; font-weight: bold\">8</span><span style=\"color: #00ff00; text-decoration-color: #00ff00; font-weight: bold\">. Statistical Summary</span>\n",
       "</pre>\n"
      ],
      "text/plain": [
       "\n",
       "\u001b[1;92m8\u001b[0m\u001b[1;92m. Statistical Summary\u001b[0m\n"
      ]
     },
     "metadata": {},
     "output_type": "display_data"
    },
    {
     "data": {
      "text/html": [
       "<pre style=\"white-space:pre;overflow-x:auto;line-height:normal;font-family:Menlo,'DejaVu Sans Mono',consolas,'Courier New',monospace\">\n",
       "<span style=\"color: #ffff00; text-decoration-color: #ffff00\">Numeric Columns Summary:</span>\n",
       "</pre>\n"
      ],
      "text/plain": [
       "\n",
       "\u001b[93mNumeric Columns Summary:\u001b[0m\n"
      ]
     },
     "metadata": {},
     "output_type": "display_data"
    },
    {
     "data": {
      "text/html": [
       "<pre style=\"white-space:pre;overflow-x:auto;line-height:normal;font-family:Menlo,'DejaVu Sans Mono',consolas,'Courier New',monospace\">╭─────────────────────────────────────────────────────────────────────────────────────────────────────────────────╮\n",
       "│        amplitude_id       app       event_id     os_version    session_id                                       │\n",
       "│ count  1.000000e+05  100000.0  100000.000000  100000.000000  1.000000e+05                                       │\n",
       "│ mean   9.216176e+11  591532.0   24643.431740     130.906540  1.737116e+12                                       │\n",
       "│ std    8.322225e+10       0.0   28591.589986       4.159509  8.477901e+08                                       │\n",
       "│ min    8.575404e+11  591532.0       0.000000       5.000000  1.713878e+12                                       │\n",
       "│ 25%    8.575405e+11  591532.0    5634.000000     131.000000  1.736745e+12                                       │\n",
       "│ 50%    8.642178e+11  591532.0   14779.500000     131.000000  1.737468e+12                                       │\n",
       "│ 75%    1.013472e+12  591532.0   34597.000000     131.000000  1.737577e+12                                       │\n",
       "│ max    1.109989e+12  591532.0  193377.000000     134.000000  1.738044e+12                                       │\n",
       "╰─────────────────────────────────────────────────────────────────────────────────────────────────────────────────╯\n",
       "</pre>\n"
      ],
      "text/plain": [
       "╭─────────────────────────────────────────────────────────────────────────────────────────────────────────────────╮\n",
       "│        amplitude_id       app       event_id     os_version    session_id                                       │\n",
       "│ count  1.000000e+05  100000.0  100000.000000  100000.000000  1.000000e+05                                       │\n",
       "│ mean   9.216176e+11  591532.0   24643.431740     130.906540  1.737116e+12                                       │\n",
       "│ std    8.322225e+10       0.0   28591.589986       4.159509  8.477901e+08                                       │\n",
       "│ min    8.575404e+11  591532.0       0.000000       5.000000  1.713878e+12                                       │\n",
       "│ 25%    8.575405e+11  591532.0    5634.000000     131.000000  1.736745e+12                                       │\n",
       "│ 50%    8.642178e+11  591532.0   14779.500000     131.000000  1.737468e+12                                       │\n",
       "│ 75%    1.013472e+12  591532.0   34597.000000     131.000000  1.737577e+12                                       │\n",
       "│ max    1.109989e+12  591532.0  193377.000000     134.000000  1.738044e+12                                       │\n",
       "╰─────────────────────────────────────────────────────────────────────────────────────────────────────────────────╯\n"
      ]
     },
     "metadata": {},
     "output_type": "display_data"
    }
   ],
   "source": [
    "# 8. Statistical Summary\n",
    "console.print(\"\\n[bold bright_green]8. Statistical Summary[/bold bright_green]\", style=\"bold\")\n",
    "numeric_cols = df.select_dtypes(include=['int64', 'float64']).columns\n",
    "console.print(\"\\n[bright_yellow]Numeric Columns Summary:[/bright_yellow]\")\n",
    "stats_df = df[numeric_cols].describe()\n",
    "console.print(Panel(str(stats_df)))"
   ]
  },
  {
   "cell_type": "code",
   "execution_count": 87,
   "metadata": {},
   "outputs": [
    {
     "data": {
      "text/html": [
       "<pre style=\"white-space:pre;overflow-x:auto;line-height:normal;font-family:Menlo,'DejaVu Sans Mono',consolas,'Courier New',monospace\">\n",
       "<span style=\"color: #00ff00; text-decoration-color: #00ff00; font-weight: bold\">9</span><span style=\"color: #00ff00; text-decoration-color: #00ff00; font-weight: bold\">. Correlation Analysis</span>\n",
       "</pre>\n"
      ],
      "text/plain": [
       "\n",
       "\u001b[1;92m9\u001b[0m\u001b[1;92m. Correlation Analysis\u001b[0m\n"
      ]
     },
     "metadata": {},
     "output_type": "display_data"
    },
    {
     "data": {
      "text/html": [
       "<pre style=\"white-space:pre;overflow-x:auto;line-height:normal;font-family:Menlo,'DejaVu Sans Mono',consolas,'Courier New',monospace\">\n",
       "<span style=\"color: #ffff00; text-decoration-color: #ffff00\">Correlation Matrix:</span>\n",
       "</pre>\n"
      ],
      "text/plain": [
       "\n",
       "\u001b[93mCorrelation Matrix:\u001b[0m\n"
      ]
     },
     "metadata": {},
     "output_type": "display_data"
    },
    {
     "data": {
      "text/html": [
       "<pre style=\"white-space:pre;overflow-x:auto;line-height:normal;font-family:Menlo,'DejaVu Sans Mono',consolas,'Courier New',monospace\">╭─────────────────────────────────────────────────────────────────────────────────────────────────────────────────╮\n",
       "│               amplitude_id  app  event_id  os_version  session_id                                               │\n",
       "│ amplitude_id          1.00  NaN     -0.20       -0.01        0.05                                               │\n",
       "│ app                    NaN  NaN       NaN         NaN         NaN                                               │\n",
       "│ event_id             -0.20  NaN      1.00        0.03        0.03                                               │\n",
       "│ os_version           -0.01  NaN      0.03        1.00        0.04                                               │\n",
       "│ session_id            0.05  NaN      0.03        0.04        1.00                                               │\n",
       "╰─────────────────────────────────────────────────────────────────────────────────────────────────────────────────╯\n",
       "</pre>\n"
      ],
      "text/plain": [
       "╭─────────────────────────────────────────────────────────────────────────────────────────────────────────────────╮\n",
       "│               amplitude_id  app  event_id  os_version  session_id                                               │\n",
       "│ amplitude_id          1.00  NaN     -0.20       -0.01        0.05                                               │\n",
       "│ app                    NaN  NaN       NaN         NaN         NaN                                               │\n",
       "│ event_id             -0.20  NaN      1.00        0.03        0.03                                               │\n",
       "│ os_version           -0.01  NaN      0.03        1.00        0.04                                               │\n",
       "│ session_id            0.05  NaN      0.03        0.04        1.00                                               │\n",
       "╰─────────────────────────────────────────────────────────────────────────────────────────────────────────────────╯\n"
      ]
     },
     "metadata": {},
     "output_type": "display_data"
    }
   ],
   "source": [
    "# 9. Correlation Analysis\n",
    "console.print(\"\\n[bold bright_green]9. Correlation Analysis[/bold bright_green]\", style=\"bold\")\n",
    "if len(numeric_cols) > 1:\n",
    "    correlation = df[numeric_cols].corr()\n",
    "    console.print(\"\\n[bright_yellow]Correlation Matrix:[/bright_yellow]\")\n",
    "    console.print(Panel(str(correlation.round(2))))"
   ]
  },
  {
   "cell_type": "code",
   "execution_count": 89,
   "metadata": {},
   "outputs": [
    {
     "data": {
      "text/html": [
       "<pre style=\"white-space:pre;overflow-x:auto;line-height:normal;font-family:Menlo,'DejaVu Sans Mono',consolas,'Courier New',monospace\">\n",
       "<span style=\"color: #00ff00; text-decoration-color: #00ff00; font-weight: bold\">10</span><span style=\"color: #00ff00; text-decoration-color: #00ff00; font-weight: bold\">. Category Analysis</span>\n",
       "</pre>\n"
      ],
      "text/plain": [
       "\n",
       "\u001b[1;92m10\u001b[0m\u001b[1;92m. Category Analysis\u001b[0m\n"
      ]
     },
     "metadata": {},
     "output_type": "display_data"
    },
    {
     "data": {
      "text/html": [
       "<pre style=\"white-space:pre;overflow-x:auto;line-height:normal;font-family:Menlo,'DejaVu Sans Mono',consolas,'Courier New',monospace\">\n",
       "<span style=\"color: #ffff00; text-decoration-color: #ffff00\">Distribution of $insert_id:</span>\n",
       "</pre>\n"
      ],
      "text/plain": [
       "\n",
       "\u001b[93mDistribution of $insert_id:\u001b[0m\n"
      ]
     },
     "metadata": {},
     "output_type": "display_data"
    },
    {
     "data": {
      "text/html": [
       "<pre style=\"white-space:pre;overflow-x:auto;line-height:normal;font-family:Menlo,'DejaVu Sans Mono',consolas,'Courier New',monospace\">┏━━━━━━━━━━━━━━━━━━━━━━━━━━━━━━━━━━━━━━┳━━━━━━━┳━━━━━━━━━━━━┓\n",
       "┃<span style=\"color: #ffff00; text-decoration-color: #ffff00; font-weight: bold\"> Category                             </span>┃<span style=\"color: #ffff00; text-decoration-color: #ffff00; font-weight: bold\"> Count </span>┃<span style=\"color: #ffff00; text-decoration-color: #ffff00; font-weight: bold\"> Percentage </span>┃\n",
       "┡━━━━━━━━━━━━━━━━━━━━━━━━━━━━━━━━━━━━━━╇━━━━━━━╇━━━━━━━━━━━━┩\n",
       "│ d888f0cf-d532-4925-b397-4ff9102dc90e │ 1     │ 0.00%      │\n",
       "│ 20a6da41-f7c9-43c6-814c-0ba0ed1d3ec2 │ 1     │ 0.00%      │\n",
       "│ 5a36c62d-daf5-470c-9ed5-489e638d7b82 │ 1     │ 0.00%      │\n",
       "│ 55160d02-72d0-4215-a937-b1e15d79d8ac │ 1     │ 0.00%      │\n",
       "│ fdb59f96-61dd-4caa-a151-bca07b195809 │ 1     │ 0.00%      │\n",
       "│ 2378962d-bbf4-45c7-8e79-82d2cc34d3ce │ 1     │ 0.00%      │\n",
       "│ e8438e79-f060-49a8-9916-f6f5dddf07e5 │ 1     │ 0.00%      │\n",
       "│ 82be5cf2-cd4e-4c9b-bc12-9a53ce0d3b53 │ 1     │ 0.00%      │\n",
       "│ dda51319-6b59-46ed-bc2f-f1da5fba166c │ 1     │ 0.00%      │\n",
       "│ 63c9261d-d252-43ab-a0f5-92db2d4071a4 │ 1     │ 0.00%      │\n",
       "└──────────────────────────────────────┴───────┴────────────┘\n",
       "</pre>\n"
      ],
      "text/plain": [
       "┏━━━━━━━━━━━━━━━━━━━━━━━━━━━━━━━━━━━━━━┳━━━━━━━┳━━━━━━━━━━━━┓\n",
       "┃\u001b[1;93m \u001b[0m\u001b[1;93mCategory                            \u001b[0m\u001b[1;93m \u001b[0m┃\u001b[1;93m \u001b[0m\u001b[1;93mCount\u001b[0m\u001b[1;93m \u001b[0m┃\u001b[1;93m \u001b[0m\u001b[1;93mPercentage\u001b[0m\u001b[1;93m \u001b[0m┃\n",
       "┡━━━━━━━━━━━━━━━━━━━━━━━━━━━━━━━━━━━━━━╇━━━━━━━╇━━━━━━━━━━━━┩\n",
       "│ d888f0cf-d532-4925-b397-4ff9102dc90e │ 1     │ 0.00%      │\n",
       "│ 20a6da41-f7c9-43c6-814c-0ba0ed1d3ec2 │ 1     │ 0.00%      │\n",
       "│ 5a36c62d-daf5-470c-9ed5-489e638d7b82 │ 1     │ 0.00%      │\n",
       "│ 55160d02-72d0-4215-a937-b1e15d79d8ac │ 1     │ 0.00%      │\n",
       "│ fdb59f96-61dd-4caa-a151-bca07b195809 │ 1     │ 0.00%      │\n",
       "│ 2378962d-bbf4-45c7-8e79-82d2cc34d3ce │ 1     │ 0.00%      │\n",
       "│ e8438e79-f060-49a8-9916-f6f5dddf07e5 │ 1     │ 0.00%      │\n",
       "│ 82be5cf2-cd4e-4c9b-bc12-9a53ce0d3b53 │ 1     │ 0.00%      │\n",
       "│ dda51319-6b59-46ed-bc2f-f1da5fba166c │ 1     │ 0.00%      │\n",
       "│ 63c9261d-d252-43ab-a0f5-92db2d4071a4 │ 1     │ 0.00%      │\n",
       "└──────────────────────────────────────┴───────┴────────────┘\n"
      ]
     },
     "metadata": {},
     "output_type": "display_data"
    },
    {
     "data": {
      "text/html": [
       "<pre style=\"white-space:pre;overflow-x:auto;line-height:normal;font-family:Menlo,'DejaVu Sans Mono',consolas,'Courier New',monospace\">\n",
       "<span style=\"color: #ffff00; text-decoration-color: #ffff00\">Distribution of city:</span>\n",
       "</pre>\n"
      ],
      "text/plain": [
       "\n",
       "\u001b[93mDistribution of city:\u001b[0m\n"
      ]
     },
     "metadata": {},
     "output_type": "display_data"
    },
    {
     "data": {
      "text/html": [
       "<pre style=\"white-space:pre;overflow-x:auto;line-height:normal;font-family:Menlo,'DejaVu Sans Mono',consolas,'Courier New',monospace\">┏━━━━━━━━━━━━━┳━━━━━━━┳━━━━━━━━━━━━┓\n",
       "┃<span style=\"color: #ffff00; text-decoration-color: #ffff00; font-weight: bold\"> Category    </span>┃<span style=\"color: #ffff00; text-decoration-color: #ffff00; font-weight: bold\"> Count </span>┃<span style=\"color: #ffff00; text-decoration-color: #ffff00; font-weight: bold\"> Percentage </span>┃\n",
       "┡━━━━━━━━━━━━━╇━━━━━━━╇━━━━━━━━━━━━┩\n",
       "│ Mumbai      │ 24090 │ 24.09%     │\n",
       "│ Nashville   │ 15791 │ 15.79%     │\n",
       "│ Chicago     │ 3995  │ 4.00%      │\n",
       "│ Spring Hill │ 3237  │ 3.24%      │\n",
       "│ Birmingham  │ 3132  │ 3.13%      │\n",
       "│ Greenville  │ 2419  │ 2.42%      │\n",
       "│ Alexandria  │ 1818  │ 1.82%      │\n",
       "│ New York    │ 1810  │ 1.81%      │\n",
       "│ Aurora      │ 1691  │ 1.69%      │\n",
       "│ Wroclaw     │ 1589  │ 1.59%      │\n",
       "└─────────────┴───────┴────────────┘\n",
       "</pre>\n"
      ],
      "text/plain": [
       "┏━━━━━━━━━━━━━┳━━━━━━━┳━━━━━━━━━━━━┓\n",
       "┃\u001b[1;93m \u001b[0m\u001b[1;93mCategory   \u001b[0m\u001b[1;93m \u001b[0m┃\u001b[1;93m \u001b[0m\u001b[1;93mCount\u001b[0m\u001b[1;93m \u001b[0m┃\u001b[1;93m \u001b[0m\u001b[1;93mPercentage\u001b[0m\u001b[1;93m \u001b[0m┃\n",
       "┡━━━━━━━━━━━━━╇━━━━━━━╇━━━━━━━━━━━━┩\n",
       "│ Mumbai      │ 24090 │ 24.09%     │\n",
       "│ Nashville   │ 15791 │ 15.79%     │\n",
       "│ Chicago     │ 3995  │ 4.00%      │\n",
       "│ Spring Hill │ 3237  │ 3.24%      │\n",
       "│ Birmingham  │ 3132  │ 3.13%      │\n",
       "│ Greenville  │ 2419  │ 2.42%      │\n",
       "│ Alexandria  │ 1818  │ 1.82%      │\n",
       "│ New York    │ 1810  │ 1.81%      │\n",
       "│ Aurora      │ 1691  │ 1.69%      │\n",
       "│ Wroclaw     │ 1589  │ 1.59%      │\n",
       "└─────────────┴───────┴────────────┘\n"
      ]
     },
     "metadata": {},
     "output_type": "display_data"
    },
    {
     "data": {
      "text/html": [
       "<pre style=\"white-space:pre;overflow-x:auto;line-height:normal;font-family:Menlo,'DejaVu Sans Mono',consolas,'Courier New',monospace\">\n",
       "<span style=\"color: #ffff00; text-decoration-color: #ffff00\">Distribution of country:</span>\n",
       "</pre>\n"
      ],
      "text/plain": [
       "\n",
       "\u001b[93mDistribution of country:\u001b[0m\n"
      ]
     },
     "metadata": {},
     "output_type": "display_data"
    },
    {
     "data": {
      "text/html": [
       "<pre style=\"white-space:pre;overflow-x:auto;line-height:normal;font-family:Menlo,'DejaVu Sans Mono',consolas,'Courier New',monospace\">┏━━━━━━━━━━━━━━━━┳━━━━━━━┳━━━━━━━━━━━━┓\n",
       "┃<span style=\"color: #ffff00; text-decoration-color: #ffff00; font-weight: bold\"> Category       </span>┃<span style=\"color: #ffff00; text-decoration-color: #ffff00; font-weight: bold\"> Count </span>┃<span style=\"color: #ffff00; text-decoration-color: #ffff00; font-weight: bold\"> Percentage </span>┃\n",
       "┡━━━━━━━━━━━━━━━━╇━━━━━━━╇━━━━━━━━━━━━┩\n",
       "│ United States  │ 71928 │ 71.93%     │\n",
       "│ India          │ 24090 │ 24.09%     │\n",
       "│ Poland         │ 2333  │ 2.33%      │\n",
       "│ Canada         │ 1481  │ 1.48%      │\n",
       "│ Mexico         │ 119   │ 0.12%      │\n",
       "│ United Kingdom │ 47    │ 0.05%      │\n",
       "│ Puerto Rico    │ 2     │ 0.00%      │\n",
       "└────────────────┴───────┴────────────┘\n",
       "</pre>\n"
      ],
      "text/plain": [
       "┏━━━━━━━━━━━━━━━━┳━━━━━━━┳━━━━━━━━━━━━┓\n",
       "┃\u001b[1;93m \u001b[0m\u001b[1;93mCategory      \u001b[0m\u001b[1;93m \u001b[0m┃\u001b[1;93m \u001b[0m\u001b[1;93mCount\u001b[0m\u001b[1;93m \u001b[0m┃\u001b[1;93m \u001b[0m\u001b[1;93mPercentage\u001b[0m\u001b[1;93m \u001b[0m┃\n",
       "┡━━━━━━━━━━━━━━━━╇━━━━━━━╇━━━━━━━━━━━━┩\n",
       "│ United States  │ 71928 │ 71.93%     │\n",
       "│ India          │ 24090 │ 24.09%     │\n",
       "│ Poland         │ 2333  │ 2.33%      │\n",
       "│ Canada         │ 1481  │ 1.48%      │\n",
       "│ Mexico         │ 119   │ 0.12%      │\n",
       "│ United Kingdom │ 47    │ 0.05%      │\n",
       "│ Puerto Rico    │ 2     │ 0.00%      │\n",
       "└────────────────┴───────┴────────────┘\n"
      ]
     },
     "metadata": {},
     "output_type": "display_data"
    },
    {
     "data": {
      "text/html": [
       "<pre style=\"white-space:pre;overflow-x:auto;line-height:normal;font-family:Menlo,'DejaVu Sans Mono',consolas,'Courier New',monospace\">\n",
       "<span style=\"color: #ffff00; text-decoration-color: #ffff00\">Distribution of data:</span>\n",
       "</pre>\n"
      ],
      "text/plain": [
       "\n",
       "\u001b[93mDistribution of data:\u001b[0m\n"
      ]
     },
     "metadata": {},
     "output_type": "display_data"
    },
    {
     "data": {
      "text/html": [
       "<pre style=\"white-space:pre;overflow-x:auto;line-height:normal;font-family:Menlo,'DejaVu Sans Mono',consolas,'Courier New',monospace\">┏━━━━━━━━━━━━━━━━━━━━━━━━━━━━━━━━━━━━━━━━━━━━━━━━━━━━━━━━━━━━━━━━━━━━━━━━━━━━━━━━━━━━━━━━━━━━┳━━━━━━━┳━━━━━━━━━━━━┓\n",
       "┃<span style=\"color: #ffff00; text-decoration-color: #ffff00; font-weight: bold\"> Category                                                                                   </span>┃<span style=\"color: #ffff00; text-decoration-color: #ffff00; font-weight: bold\"> Count </span>┃<span style=\"color: #ffff00; text-decoration-color: #ffff00; font-weight: bold\"> Percentage </span>┃\n",
       "┡━━━━━━━━━━━━━━━━━━━━━━━━━━━━━━━━━━━━━━━━━━━━━━━━━━━━━━━━━━━━━━━━━━━━━━━━━━━━━━━━━━━━━━━━━━━━╇━━━━━━━╇━━━━━━━━━━━━┩\n",
       "│ {'path': '/2/httpapi', 'group_first_event': {}, 'group_ids': {}}                           │ 98847 │ 98.85%     │\n",
       "│ {'path': '/2/httpapi', 'user_properties_updated': 'True', 'group_first_event': {},         │ 1153  │ 1.15%      │\n",
       "│ 'group_ids': {}}                                                                           │       │            │\n",
       "└────────────────────────────────────────────────────────────────────────────────────────────┴───────┴────────────┘\n",
       "</pre>\n"
      ],
      "text/plain": [
       "┏━━━━━━━━━━━━━━━━━━━━━━━━━━━━━━━━━━━━━━━━━━━━━━━━━━━━━━━━━━━━━━━━━━━━━━━━━━━━━━━━━━━━━━━━━━━━┳━━━━━━━┳━━━━━━━━━━━━┓\n",
       "┃\u001b[1;93m \u001b[0m\u001b[1;93mCategory                                                                                  \u001b[0m\u001b[1;93m \u001b[0m┃\u001b[1;93m \u001b[0m\u001b[1;93mCount\u001b[0m\u001b[1;93m \u001b[0m┃\u001b[1;93m \u001b[0m\u001b[1;93mPercentage\u001b[0m\u001b[1;93m \u001b[0m┃\n",
       "┡━━━━━━━━━━━━━━━━━━━━━━━━━━━━━━━━━━━━━━━━━━━━━━━━━━━━━━━━━━━━━━━━━━━━━━━━━━━━━━━━━━━━━━━━━━━━╇━━━━━━━╇━━━━━━━━━━━━┩\n",
       "│ {'path': '/2/httpapi', 'group_first_event': {}, 'group_ids': {}}                           │ 98847 │ 98.85%     │\n",
       "│ {'path': '/2/httpapi', 'user_properties_updated': 'True', 'group_first_event': {},         │ 1153  │ 1.15%      │\n",
       "│ 'group_ids': {}}                                                                           │       │            │\n",
       "└────────────────────────────────────────────────────────────────────────────────────────────┴───────┴────────────┘\n"
      ]
     },
     "metadata": {},
     "output_type": "display_data"
    },
    {
     "data": {
      "text/html": [
       "<pre style=\"white-space:pre;overflow-x:auto;line-height:normal;font-family:Menlo,'DejaVu Sans Mono',consolas,'Courier New',monospace\">\n",
       "<span style=\"color: #ffff00; text-decoration-color: #ffff00\">Distribution of data_type:</span>\n",
       "</pre>\n"
      ],
      "text/plain": [
       "\n",
       "\u001b[93mDistribution of data_type:\u001b[0m\n"
      ]
     },
     "metadata": {},
     "output_type": "display_data"
    },
    {
     "data": {
      "text/html": [
       "<pre style=\"white-space:pre;overflow-x:auto;line-height:normal;font-family:Menlo,'DejaVu Sans Mono',consolas,'Courier New',monospace\">┏━━━━━━━━━━┳━━━━━━━━┳━━━━━━━━━━━━┓\n",
       "┃<span style=\"color: #ffff00; text-decoration-color: #ffff00; font-weight: bold\"> Category </span>┃<span style=\"color: #ffff00; text-decoration-color: #ffff00; font-weight: bold\"> Count  </span>┃<span style=\"color: #ffff00; text-decoration-color: #ffff00; font-weight: bold\"> Percentage </span>┃\n",
       "┡━━━━━━━━━━╇━━━━━━━━╇━━━━━━━━━━━━┩\n",
       "│ event    │ 100000 │ 100.00%    │\n",
       "└──────────┴────────┴────────────┘\n",
       "</pre>\n"
      ],
      "text/plain": [
       "┏━━━━━━━━━━┳━━━━━━━━┳━━━━━━━━━━━━┓\n",
       "┃\u001b[1;93m \u001b[0m\u001b[1;93mCategory\u001b[0m\u001b[1;93m \u001b[0m┃\u001b[1;93m \u001b[0m\u001b[1;93mCount \u001b[0m\u001b[1;93m \u001b[0m┃\u001b[1;93m \u001b[0m\u001b[1;93mPercentage\u001b[0m\u001b[1;93m \u001b[0m┃\n",
       "┡━━━━━━━━━━╇━━━━━━━━╇━━━━━━━━━━━━┩\n",
       "│ event    │ 100000 │ 100.00%    │\n",
       "└──────────┴────────┴────────────┘\n"
      ]
     },
     "metadata": {},
     "output_type": "display_data"
    },
    {
     "data": {
      "text/html": [
       "<pre style=\"white-space:pre;overflow-x:auto;line-height:normal;font-family:Menlo,'DejaVu Sans Mono',consolas,'Courier New',monospace\">\n",
       "<span style=\"color: #ffff00; text-decoration-color: #ffff00\">Distribution of device_family:</span>\n",
       "</pre>\n"
      ],
      "text/plain": [
       "\n",
       "\u001b[93mDistribution of device_family:\u001b[0m\n"
      ]
     },
     "metadata": {},
     "output_type": "display_data"
    },
    {
     "data": {
      "text/html": [
       "<pre style=\"white-space:pre;overflow-x:auto;line-height:normal;font-family:Menlo,'DejaVu Sans Mono',consolas,'Courier New',monospace\">┏━━━━━━━━━━┳━━━━━━━┳━━━━━━━━━━━━┓\n",
       "┃<span style=\"color: #ffff00; text-decoration-color: #ffff00; font-weight: bold\"> Category </span>┃<span style=\"color: #ffff00; text-decoration-color: #ffff00; font-weight: bold\"> Count </span>┃<span style=\"color: #ffff00; text-decoration-color: #ffff00; font-weight: bold\"> Percentage </span>┃\n",
       "┡━━━━━━━━━━╇━━━━━━━╇━━━━━━━━━━━━┩\n",
       "│ Windows  │ 80578 │ 80.58%     │\n",
       "│ Mac OS X │ 16640 │ 16.64%     │\n",
       "│ Linux    │ 2680  │ 2.68%      │\n",
       "│ iOS      │ 97    │ 0.10%      │\n",
       "│ Android  │ 5     │ 0.01%      │\n",
       "└──────────┴───────┴────────────┘\n",
       "</pre>\n"
      ],
      "text/plain": [
       "┏━━━━━━━━━━┳━━━━━━━┳━━━━━━━━━━━━┓\n",
       "┃\u001b[1;93m \u001b[0m\u001b[1;93mCategory\u001b[0m\u001b[1;93m \u001b[0m┃\u001b[1;93m \u001b[0m\u001b[1;93mCount\u001b[0m\u001b[1;93m \u001b[0m┃\u001b[1;93m \u001b[0m\u001b[1;93mPercentage\u001b[0m\u001b[1;93m \u001b[0m┃\n",
       "┡━━━━━━━━━━╇━━━━━━━╇━━━━━━━━━━━━┩\n",
       "│ Windows  │ 80578 │ 80.58%     │\n",
       "│ Mac OS X │ 16640 │ 16.64%     │\n",
       "│ Linux    │ 2680  │ 2.68%      │\n",
       "│ iOS      │ 97    │ 0.10%      │\n",
       "│ Android  │ 5     │ 0.01%      │\n",
       "└──────────┴───────┴────────────┘\n"
      ]
     },
     "metadata": {},
     "output_type": "display_data"
    },
    {
     "data": {
      "text/html": [
       "<pre style=\"white-space:pre;overflow-x:auto;line-height:normal;font-family:Menlo,'DejaVu Sans Mono',consolas,'Courier New',monospace\">\n",
       "<span style=\"color: #ffff00; text-decoration-color: #ffff00\">Distribution of device_id:</span>\n",
       "</pre>\n"
      ],
      "text/plain": [
       "\n",
       "\u001b[93mDistribution of device_id:\u001b[0m\n"
      ]
     },
     "metadata": {},
     "output_type": "display_data"
    },
    {
     "data": {
      "text/html": [
       "<pre style=\"white-space:pre;overflow-x:auto;line-height:normal;font-family:Menlo,'DejaVu Sans Mono',consolas,'Courier New',monospace\">┏━━━━━━━━━━━━━━━━━━━━━━━━━━━━━━━━━━━━━━┳━━━━━━━┳━━━━━━━━━━━━┓\n",
       "┃<span style=\"color: #ffff00; text-decoration-color: #ffff00; font-weight: bold\"> Category                             </span>┃<span style=\"color: #ffff00; text-decoration-color: #ffff00; font-weight: bold\"> Count </span>┃<span style=\"color: #ffff00; text-decoration-color: #ffff00; font-weight: bold\"> Percentage </span>┃\n",
       "┡━━━━━━━━━━━━━━━━━━━━━━━━━━━━━━━━━━━━━━╇━━━━━━━╇━━━━━━━━━━━━┩\n",
       "│ a8806aff-7404-4c48-96f3-6bce38fe5f66 │ 1543  │ 1.54%      │\n",
       "│ 08deb711-f4f2-40f6-8939-e1673bf4e84c │ 1367  │ 1.37%      │\n",
       "│ f32dd30f-34a2-48a9-8905-cce8ab9ec449 │ 1353  │ 1.35%      │\n",
       "│ d058c44e-487c-4c84-9633-6418a4c651a3 │ 1210  │ 1.21%      │\n",
       "│ a8bf97c2-480e-41a2-bce9-9b54b4c10b01 │ 1100  │ 1.10%      │\n",
       "│ 0e96d208-bf73-44c8-be78-a74c1123c3f9 │ 1069  │ 1.07%      │\n",
       "│ 5bb73f50-5f95-4c9f-92a8-a81b65f6bda1 │ 1018  │ 1.02%      │\n",
       "│ d5513ee0-9153-411e-952d-85a2e11333bc │ 1004  │ 1.00%      │\n",
       "│ 3aec3262-1bdd-4f39-ae25-5df72f3fbae6 │ 980   │ 0.98%      │\n",
       "│ 0c72a9b9-e5c6-4328-a4d4-cc2620ad80a0 │ 978   │ 0.98%      │\n",
       "└──────────────────────────────────────┴───────┴────────────┘\n",
       "</pre>\n"
      ],
      "text/plain": [
       "┏━━━━━━━━━━━━━━━━━━━━━━━━━━━━━━━━━━━━━━┳━━━━━━━┳━━━━━━━━━━━━┓\n",
       "┃\u001b[1;93m \u001b[0m\u001b[1;93mCategory                            \u001b[0m\u001b[1;93m \u001b[0m┃\u001b[1;93m \u001b[0m\u001b[1;93mCount\u001b[0m\u001b[1;93m \u001b[0m┃\u001b[1;93m \u001b[0m\u001b[1;93mPercentage\u001b[0m\u001b[1;93m \u001b[0m┃\n",
       "┡━━━━━━━━━━━━━━━━━━━━━━━━━━━━━━━━━━━━━━╇━━━━━━━╇━━━━━━━━━━━━┩\n",
       "│ a8806aff-7404-4c48-96f3-6bce38fe5f66 │ 1543  │ 1.54%      │\n",
       "│ 08deb711-f4f2-40f6-8939-e1673bf4e84c │ 1367  │ 1.37%      │\n",
       "│ f32dd30f-34a2-48a9-8905-cce8ab9ec449 │ 1353  │ 1.35%      │\n",
       "│ d058c44e-487c-4c84-9633-6418a4c651a3 │ 1210  │ 1.21%      │\n",
       "│ a8bf97c2-480e-41a2-bce9-9b54b4c10b01 │ 1100  │ 1.10%      │\n",
       "│ 0e96d208-bf73-44c8-be78-a74c1123c3f9 │ 1069  │ 1.07%      │\n",
       "│ 5bb73f50-5f95-4c9f-92a8-a81b65f6bda1 │ 1018  │ 1.02%      │\n",
       "│ d5513ee0-9153-411e-952d-85a2e11333bc │ 1004  │ 1.00%      │\n",
       "│ 3aec3262-1bdd-4f39-ae25-5df72f3fbae6 │ 980   │ 0.98%      │\n",
       "│ 0c72a9b9-e5c6-4328-a4d4-cc2620ad80a0 │ 978   │ 0.98%      │\n",
       "└──────────────────────────────────────┴───────┴────────────┘\n"
      ]
     },
     "metadata": {},
     "output_type": "display_data"
    },
    {
     "data": {
      "text/html": [
       "<pre style=\"white-space:pre;overflow-x:auto;line-height:normal;font-family:Menlo,'DejaVu Sans Mono',consolas,'Courier New',monospace\">\n",
       "<span style=\"color: #ffff00; text-decoration-color: #ffff00\">Distribution of device_type:</span>\n",
       "</pre>\n"
      ],
      "text/plain": [
       "\n",
       "\u001b[93mDistribution of device_type:\u001b[0m\n"
      ]
     },
     "metadata": {},
     "output_type": "display_data"
    },
    {
     "data": {
      "text/html": [
       "<pre style=\"white-space:pre;overflow-x:auto;line-height:normal;font-family:Menlo,'DejaVu Sans Mono',consolas,'Courier New',monospace\">┏━━━━━━━━━━┳━━━━━━━┳━━━━━━━━━━━━┓\n",
       "┃<span style=\"color: #ffff00; text-decoration-color: #ffff00; font-weight: bold\"> Category </span>┃<span style=\"color: #ffff00; text-decoration-color: #ffff00; font-weight: bold\"> Count </span>┃<span style=\"color: #ffff00; text-decoration-color: #ffff00; font-weight: bold\"> Percentage </span>┃\n",
       "┡━━━━━━━━━━╇━━━━━━━╇━━━━━━━━━━━━┩\n",
       "│ Windows  │ 80578 │ 80.58%     │\n",
       "│ Linux    │ 2680  │ 2.68%      │\n",
       "│ Android  │ 5     │ 0.01%      │\n",
       "└──────────┴───────┴────────────┘\n",
       "</pre>\n"
      ],
      "text/plain": [
       "┏━━━━━━━━━━┳━━━━━━━┳━━━━━━━━━━━━┓\n",
       "┃\u001b[1;93m \u001b[0m\u001b[1;93mCategory\u001b[0m\u001b[1;93m \u001b[0m┃\u001b[1;93m \u001b[0m\u001b[1;93mCount\u001b[0m\u001b[1;93m \u001b[0m┃\u001b[1;93m \u001b[0m\u001b[1;93mPercentage\u001b[0m\u001b[1;93m \u001b[0m┃\n",
       "┡━━━━━━━━━━╇━━━━━━━╇━━━━━━━━━━━━┩\n",
       "│ Windows  │ 80578 │ 80.58%     │\n",
       "│ Linux    │ 2680  │ 2.68%      │\n",
       "│ Android  │ 5     │ 0.01%      │\n",
       "└──────────┴───────┴────────────┘\n"
      ]
     },
     "metadata": {},
     "output_type": "display_data"
    },
    {
     "data": {
      "text/html": [
       "<pre style=\"white-space:pre;overflow-x:auto;line-height:normal;font-family:Menlo,'DejaVu Sans Mono',consolas,'Courier New',monospace\">\n",
       "<span style=\"color: #ffff00; text-decoration-color: #ffff00\">Distribution of dma:</span>\n",
       "</pre>\n"
      ],
      "text/plain": [
       "\n",
       "\u001b[93mDistribution of dma:\u001b[0m\n"
      ]
     },
     "metadata": {},
     "output_type": "display_data"
    },
    {
     "data": {
      "text/html": [
       "<pre style=\"white-space:pre;overflow-x:auto;line-height:normal;font-family:Menlo,'DejaVu Sans Mono',consolas,'Courier New',monospace\">┏━━━━━━━━━━━━━━━━━━━━━━━━━━━━━━━━━━━━┳━━━━━━━┳━━━━━━━━━━━━┓\n",
       "┃<span style=\"color: #ffff00; text-decoration-color: #ffff00; font-weight: bold\"> Category                           </span>┃<span style=\"color: #ffff00; text-decoration-color: #ffff00; font-weight: bold\"> Count </span>┃<span style=\"color: #ffff00; text-decoration-color: #ffff00; font-weight: bold\"> Percentage </span>┃\n",
       "┡━━━━━━━━━━━━━━━━━━━━━━━━━━━━━━━━━━━━╇━━━━━━━╇━━━━━━━━━━━━┩\n",
       "│ Nashville, TN                      │ 19349 │ 19.35%     │\n",
       "│ Chicago, IL                        │ 4864  │ 4.86%      │\n",
       "│ New York, NY                       │ 4656  │ 4.66%      │\n",
       "│ Greenville-Spartanburg, SC         │ 3888  │ 3.89%      │\n",
       "│ Atlanta, GA                        │ 3705  │ 3.71%      │\n",
       "│ Birmingham, AL                     │ 3412  │ 3.41%      │\n",
       "│ Des Moines-Ames, IA                │ 3343  │ 3.34%      │\n",
       "│ Washington, DC (Hagerstown, MD)    │ 3158  │ 3.16%      │\n",
       "│ San Francisco-Oakland-San Jose, CA │ 2108  │ 2.11%      │\n",
       "│ Columbus, OH                       │ 1570  │ 1.57%      │\n",
       "└────────────────────────────────────┴───────┴────────────┘\n",
       "</pre>\n"
      ],
      "text/plain": [
       "┏━━━━━━━━━━━━━━━━━━━━━━━━━━━━━━━━━━━━┳━━━━━━━┳━━━━━━━━━━━━┓\n",
       "┃\u001b[1;93m \u001b[0m\u001b[1;93mCategory                          \u001b[0m\u001b[1;93m \u001b[0m┃\u001b[1;93m \u001b[0m\u001b[1;93mCount\u001b[0m\u001b[1;93m \u001b[0m┃\u001b[1;93m \u001b[0m\u001b[1;93mPercentage\u001b[0m\u001b[1;93m \u001b[0m┃\n",
       "┡━━━━━━━━━━━━━━━━━━━━━━━━━━━━━━━━━━━━╇━━━━━━━╇━━━━━━━━━━━━┩\n",
       "│ Nashville, TN                      │ 19349 │ 19.35%     │\n",
       "│ Chicago, IL                        │ 4864  │ 4.86%      │\n",
       "│ New York, NY                       │ 4656  │ 4.66%      │\n",
       "│ Greenville-Spartanburg, SC         │ 3888  │ 3.89%      │\n",
       "│ Atlanta, GA                        │ 3705  │ 3.71%      │\n",
       "│ Birmingham, AL                     │ 3412  │ 3.41%      │\n",
       "│ Des Moines-Ames, IA                │ 3343  │ 3.34%      │\n",
       "│ Washington, DC (Hagerstown, MD)    │ 3158  │ 3.16%      │\n",
       "│ San Francisco-Oakland-San Jose, CA │ 2108  │ 2.11%      │\n",
       "│ Columbus, OH                       │ 1570  │ 1.57%      │\n",
       "└────────────────────────────────────┴───────┴────────────┘\n"
      ]
     },
     "metadata": {},
     "output_type": "display_data"
    },
    {
     "data": {
      "text/html": [
       "<pre style=\"white-space:pre;overflow-x:auto;line-height:normal;font-family:Menlo,'DejaVu Sans Mono',consolas,'Courier New',monospace\">\n",
       "<span style=\"color: #ffff00; text-decoration-color: #ffff00\">Distribution of event_properties:</span>\n",
       "</pre>\n"
      ],
      "text/plain": [
       "\n",
       "\u001b[93mDistribution of event_properties:\u001b[0m\n"
      ]
     },
     "metadata": {},
     "output_type": "display_data"
    },
    {
     "data": {
      "text/html": [
       "<pre style=\"white-space:pre;overflow-x:auto;line-height:normal;font-family:Menlo,'DejaVu Sans Mono',consolas,'Courier New',monospace\">┏━━━━━━━━━━━━━━━━━━━━━━━━━━━━━━━━━━━━━━━━━━━━━━━━━━━━━━━━━━━━━━━━━━━━━━━━━━━━━━━━━━━━━━━━━━━━┳━━━━━━━┳━━━━━━━━━━━━┓\n",
       "┃<span style=\"color: #ffff00; text-decoration-color: #ffff00; font-weight: bold\"> Category                                                                                   </span>┃<span style=\"color: #ffff00; text-decoration-color: #ffff00; font-weight: bold\"> Count </span>┃<span style=\"color: #ffff00; text-decoration-color: #ffff00; font-weight: bold\"> Percentage </span>┃\n",
       "┡━━━━━━━━━━━━━━━━━━━━━━━━━━━━━━━━━━━━━━━━━━━━━━━━━━━━━━━━━━━━━━━━━━━━━━━━━━━━━━━━━━━━━━━━━━━━╇━━━━━━━╇━━━━━━━━━━━━┩\n",
       "│ {}                                                                                         │ 7329  │ 7.33%      │\n",
       "│ {'rowModel': 'client', 'slug': 'documents-and-compliance-table'}                           │ 981   │ 0.98%      │\n",
       "│ {'slug': 'general'}                                                                        │ 297   │ 0.30%      │\n",
       "│ {'slug': 'my-book'}                                                                        │ 296   │ 0.30%      │\n",
       "│ {'displayName': 'Basic Vehicle Details (Policy)', 'tableId':                               │ 227   │ 0.23%      │\n",
       "│ 'de54a567-d72b-44a9-8658-15c4a0299738', 'id': 'b87fadc2-83ff-4d76-b940-3dd78d0df21f',      │       │            │\n",
       "│ 'type': 'table'}                                                                           │       │            │\n",
       "│ {'rowModel': 'client', 'id': 'de54a567-d72b-44a9-8658-15c4a0299738'}                       │ 227   │ 0.23%      │\n",
       "│ {'rowModel': 'legacyServer', 'slug': 'submission-history'}                                 │ 225   │ 0.22%      │\n",
       "│ {'slug': 'auto'}                                                                           │ 196   │ 0.20%      │\n",
       "│ {'displayName': 'Policy Detail Card', 'id': 'e59fbad1-399d-41fe-9c99-f4158e175c01',        │ 185   │ 0.18%      │\n",
       "│ 'type': 'built-in', 'slug': 'policy-detail-card'}                                          │       │            │\n",
       "│ {'rowModel': 'client', 'slug': 'recent-actions'}                                           │ 172   │ 0.17%      │\n",
       "└────────────────────────────────────────────────────────────────────────────────────────────┴───────┴────────────┘\n",
       "</pre>\n"
      ],
      "text/plain": [
       "┏━━━━━━━━━━━━━━━━━━━━━━━━━━━━━━━━━━━━━━━━━━━━━━━━━━━━━━━━━━━━━━━━━━━━━━━━━━━━━━━━━━━━━━━━━━━━┳━━━━━━━┳━━━━━━━━━━━━┓\n",
       "┃\u001b[1;93m \u001b[0m\u001b[1;93mCategory                                                                                  \u001b[0m\u001b[1;93m \u001b[0m┃\u001b[1;93m \u001b[0m\u001b[1;93mCount\u001b[0m\u001b[1;93m \u001b[0m┃\u001b[1;93m \u001b[0m\u001b[1;93mPercentage\u001b[0m\u001b[1;93m \u001b[0m┃\n",
       "┡━━━━━━━━━━━━━━━━━━━━━━━━━━━━━━━━━━━━━━━━━━━━━━━━━━━━━━━━━━━━━━━━━━━━━━━━━━━━━━━━━━━━━━━━━━━━╇━━━━━━━╇━━━━━━━━━━━━┩\n",
       "│ {}                                                                                         │ 7329  │ 7.33%      │\n",
       "│ {'rowModel': 'client', 'slug': 'documents-and-compliance-table'}                           │ 981   │ 0.98%      │\n",
       "│ {'slug': 'general'}                                                                        │ 297   │ 0.30%      │\n",
       "│ {'slug': 'my-book'}                                                                        │ 296   │ 0.30%      │\n",
       "│ {'displayName': 'Basic Vehicle Details (Policy)', 'tableId':                               │ 227   │ 0.23%      │\n",
       "│ 'de54a567-d72b-44a9-8658-15c4a0299738', 'id': 'b87fadc2-83ff-4d76-b940-3dd78d0df21f',      │       │            │\n",
       "│ 'type': 'table'}                                                                           │       │            │\n",
       "│ {'rowModel': 'client', 'id': 'de54a567-d72b-44a9-8658-15c4a0299738'}                       │ 227   │ 0.23%      │\n",
       "│ {'rowModel': 'legacyServer', 'slug': 'submission-history'}                                 │ 225   │ 0.22%      │\n",
       "│ {'slug': 'auto'}                                                                           │ 196   │ 0.20%      │\n",
       "│ {'displayName': 'Policy Detail Card', 'id': 'e59fbad1-399d-41fe-9c99-f4158e175c01',        │ 185   │ 0.18%      │\n",
       "│ 'type': 'built-in', 'slug': 'policy-detail-card'}                                          │       │            │\n",
       "│ {'rowModel': 'client', 'slug': 'recent-actions'}                                           │ 172   │ 0.17%      │\n",
       "└────────────────────────────────────────────────────────────────────────────────────────────┴───────┴────────────┘\n"
      ]
     },
     "metadata": {},
     "output_type": "display_data"
    },
    {
     "data": {
      "text/html": [
       "<pre style=\"white-space:pre;overflow-x:auto;line-height:normal;font-family:Menlo,'DejaVu Sans Mono',consolas,'Courier New',monospace\">\n",
       "<span style=\"color: #ffff00; text-decoration-color: #ffff00\">Distribution of event_time:</span>\n",
       "</pre>\n"
      ],
      "text/plain": [
       "\n",
       "\u001b[93mDistribution of event_time:\u001b[0m\n"
      ]
     },
     "metadata": {},
     "output_type": "display_data"
    },
    {
     "data": {
      "text/html": [
       "<pre style=\"white-space:pre;overflow-x:auto;line-height:normal;font-family:Menlo,'DejaVu Sans Mono',consolas,'Courier New',monospace\">┏━━━━━━━━━━━━━━━━━━━━━━━━━━━━┳━━━━━━━┳━━━━━━━━━━━━┓\n",
       "┃<span style=\"color: #ffff00; text-decoration-color: #ffff00; font-weight: bold\"> Category                   </span>┃<span style=\"color: #ffff00; text-decoration-color: #ffff00; font-weight: bold\"> Count </span>┃<span style=\"color: #ffff00; text-decoration-color: #ffff00; font-weight: bold\"> Percentage </span>┃\n",
       "┡━━━━━━━━━━━━━━━━━━━━━━━━━━━━╇━━━━━━━╇━━━━━━━━━━━━┩\n",
       "│ 2024-06-27 13:48:19.271000 │ 28    │ 0.03%      │\n",
       "│ 2024-04-23 13:09:22.416000 │ 21    │ 0.02%      │\n",
       "│ 2024-09-10 04:43:50.596000 │ 20    │ 0.02%      │\n",
       "│ 2024-05-16 01:53:12.545000 │ 18    │ 0.02%      │\n",
       "│ 2024-12-19 19:03:01.542000 │ 15    │ 0.01%      │\n",
       "│ 2025-01-09 22:03:11.339000 │ 8     │ 0.01%      │\n",
       "│ 2025-01-09 22:21:08.923000 │ 7     │ 0.01%      │\n",
       "│ 2024-08-12 17:16:07.950000 │ 7     │ 0.01%      │\n",
       "│ 2025-01-22 20:56:34.043000 │ 7     │ 0.01%      │\n",
       "│ 2025-01-22 15:40:13.340000 │ 6     │ 0.01%      │\n",
       "└────────────────────────────┴───────┴────────────┘\n",
       "</pre>\n"
      ],
      "text/plain": [
       "┏━━━━━━━━━━━━━━━━━━━━━━━━━━━━┳━━━━━━━┳━━━━━━━━━━━━┓\n",
       "┃\u001b[1;93m \u001b[0m\u001b[1;93mCategory                  \u001b[0m\u001b[1;93m \u001b[0m┃\u001b[1;93m \u001b[0m\u001b[1;93mCount\u001b[0m\u001b[1;93m \u001b[0m┃\u001b[1;93m \u001b[0m\u001b[1;93mPercentage\u001b[0m\u001b[1;93m \u001b[0m┃\n",
       "┡━━━━━━━━━━━━━━━━━━━━━━━━━━━━╇━━━━━━━╇━━━━━━━━━━━━┩\n",
       "│ 2024-06-27 13:48:19.271000 │ 28    │ 0.03%      │\n",
       "│ 2024-04-23 13:09:22.416000 │ 21    │ 0.02%      │\n",
       "│ 2024-09-10 04:43:50.596000 │ 20    │ 0.02%      │\n",
       "│ 2024-05-16 01:53:12.545000 │ 18    │ 0.02%      │\n",
       "│ 2024-12-19 19:03:01.542000 │ 15    │ 0.01%      │\n",
       "│ 2025-01-09 22:03:11.339000 │ 8     │ 0.01%      │\n",
       "│ 2025-01-09 22:21:08.923000 │ 7     │ 0.01%      │\n",
       "│ 2024-08-12 17:16:07.950000 │ 7     │ 0.01%      │\n",
       "│ 2025-01-22 20:56:34.043000 │ 7     │ 0.01%      │\n",
       "│ 2025-01-22 15:40:13.340000 │ 6     │ 0.01%      │\n",
       "└────────────────────────────┴───────┴────────────┘\n"
      ]
     },
     "metadata": {},
     "output_type": "display_data"
    },
    {
     "data": {
      "text/html": [
       "<pre style=\"white-space:pre;overflow-x:auto;line-height:normal;font-family:Menlo,'DejaVu Sans Mono',consolas,'Courier New',monospace\">\n",
       "<span style=\"color: #ffff00; text-decoration-color: #ffff00\">Distribution of event_type:</span>\n",
       "</pre>\n"
      ],
      "text/plain": [
       "\n",
       "\u001b[93mDistribution of event_type:\u001b[0m\n"
      ]
     },
     "metadata": {},
     "output_type": "display_data"
    },
    {
     "data": {
      "text/html": [
       "<pre style=\"white-space:pre;overflow-x:auto;line-height:normal;font-family:Menlo,'DejaVu Sans Mono',consolas,'Courier New',monospace\">┏━━━━━━━━━━━━━━━━━━━━━━━━━━━━━━━━━━━━━━━━━━━━━┳━━━━━━━┳━━━━━━━━━━━━┓\n",
       "┃<span style=\"color: #ffff00; text-decoration-color: #ffff00; font-weight: bold\"> Category                                    </span>┃<span style=\"color: #ffff00; text-decoration-color: #ffff00; font-weight: bold\"> Count </span>┃<span style=\"color: #ffff00; text-decoration-color: #ffff00; font-weight: bold\"> Percentage </span>┃\n",
       "┡━━━━━━━━━━━━━━━━━━━━━━━━━━━━━━━━━━━━━━━━━━━━━╇━━━━━━━╇━━━━━━━━━━━━┩\n",
       "│ account-lines::widget:render                │ 23202 │ 23.20%     │\n",
       "│ account-lines::configurable-table:render    │ 14309 │ 14.31%     │\n",
       "│ account-lines:::view                        │ 5775  │ 5.78%      │\n",
       "│ account-lines::layout:render                │ 5656  │ 5.66%      │\n",
       "│ dashboard:my-book:configurable-table:render │ 5468  │ 5.47%      │\n",
       "│ dashboard:my-book:widget:render             │ 5135  │ 5.13%      │\n",
       "│ account:::view                              │ 3423  │ 3.42%      │\n",
       "│ session_start                               │ 3186  │ 3.19%      │\n",
       "│ session_end                                 │ 2794  │ 2.79%      │\n",
       "│ application-window-opened                   │ 2687  │ 2.69%      │\n",
       "└─────────────────────────────────────────────┴───────┴────────────┘\n",
       "</pre>\n"
      ],
      "text/plain": [
       "┏━━━━━━━━━━━━━━━━━━━━━━━━━━━━━━━━━━━━━━━━━━━━━┳━━━━━━━┳━━━━━━━━━━━━┓\n",
       "┃\u001b[1;93m \u001b[0m\u001b[1;93mCategory                                   \u001b[0m\u001b[1;93m \u001b[0m┃\u001b[1;93m \u001b[0m\u001b[1;93mCount\u001b[0m\u001b[1;93m \u001b[0m┃\u001b[1;93m \u001b[0m\u001b[1;93mPercentage\u001b[0m\u001b[1;93m \u001b[0m┃\n",
       "┡━━━━━━━━━━━━━━━━━━━━━━━━━━━━━━━━━━━━━━━━━━━━━╇━━━━━━━╇━━━━━━━━━━━━┩\n",
       "│ account-lines::widget:render                │ 23202 │ 23.20%     │\n",
       "│ account-lines::configurable-table:render    │ 14309 │ 14.31%     │\n",
       "│ account-lines:::view                        │ 5775  │ 5.78%      │\n",
       "│ account-lines::layout:render                │ 5656  │ 5.66%      │\n",
       "│ dashboard:my-book:configurable-table:render │ 5468  │ 5.47%      │\n",
       "│ dashboard:my-book:widget:render             │ 5135  │ 5.13%      │\n",
       "│ account:::view                              │ 3423  │ 3.42%      │\n",
       "│ session_start                               │ 3186  │ 3.19%      │\n",
       "│ session_end                                 │ 2794  │ 2.79%      │\n",
       "│ application-window-opened                   │ 2687  │ 2.69%      │\n",
       "└─────────────────────────────────────────────┴───────┴────────────┘\n"
      ]
     },
     "metadata": {},
     "output_type": "display_data"
    },
    {
     "data": {
      "text/html": [
       "<pre style=\"white-space:pre;overflow-x:auto;line-height:normal;font-family:Menlo,'DejaVu Sans Mono',consolas,'Courier New',monospace\">\n",
       "<span style=\"color: #ffff00; text-decoration-color: #ffff00\">Distribution of language:</span>\n",
       "</pre>\n"
      ],
      "text/plain": [
       "\n",
       "\u001b[93mDistribution of language:\u001b[0m\n"
      ]
     },
     "metadata": {},
     "output_type": "display_data"
    },
    {
     "data": {
      "text/html": [
       "<pre style=\"white-space:pre;overflow-x:auto;line-height:normal;font-family:Menlo,'DejaVu Sans Mono',consolas,'Courier New',monospace\">┏━━━━━━━━━━┳━━━━━━━┳━━━━━━━━━━━━┓\n",
       "┃<span style=\"color: #ffff00; text-decoration-color: #ffff00; font-weight: bold\"> Category </span>┃<span style=\"color: #ffff00; text-decoration-color: #ffff00; font-weight: bold\"> Count </span>┃<span style=\"color: #ffff00; text-decoration-color: #ffff00; font-weight: bold\"> Percentage </span>┃\n",
       "┡━━━━━━━━━━╇━━━━━━━╇━━━━━━━━━━━━┩\n",
       "│ English  │ 98942 │ 98.94%     │\n",
       "│ Polish   │ 939   │ 0.94%      │\n",
       "│ Spanish  │ 119   │ 0.12%      │\n",
       "└──────────┴───────┴────────────┘\n",
       "</pre>\n"
      ],
      "text/plain": [
       "┏━━━━━━━━━━┳━━━━━━━┳━━━━━━━━━━━━┓\n",
       "┃\u001b[1;93m \u001b[0m\u001b[1;93mCategory\u001b[0m\u001b[1;93m \u001b[0m┃\u001b[1;93m \u001b[0m\u001b[1;93mCount\u001b[0m\u001b[1;93m \u001b[0m┃\u001b[1;93m \u001b[0m\u001b[1;93mPercentage\u001b[0m\u001b[1;93m \u001b[0m┃\n",
       "┡━━━━━━━━━━╇━━━━━━━╇━━━━━━━━━━━━┩\n",
       "│ English  │ 98942 │ 98.94%     │\n",
       "│ Polish   │ 939   │ 0.94%      │\n",
       "│ Spanish  │ 119   │ 0.12%      │\n",
       "└──────────┴───────┴────────────┘\n"
      ]
     },
     "metadata": {},
     "output_type": "display_data"
    },
    {
     "data": {
      "text/html": [
       "<pre style=\"white-space:pre;overflow-x:auto;line-height:normal;font-family:Menlo,'DejaVu Sans Mono',consolas,'Courier New',monospace\">\n",
       "<span style=\"color: #ffff00; text-decoration-color: #ffff00\">Distribution of library:</span>\n",
       "</pre>\n"
      ],
      "text/plain": [
       "\n",
       "\u001b[93mDistribution of library:\u001b[0m\n"
      ]
     },
     "metadata": {},
     "output_type": "display_data"
    },
    {
     "data": {
      "text/html": [
       "<pre style=\"white-space:pre;overflow-x:auto;line-height:normal;font-family:Menlo,'DejaVu Sans Mono',consolas,'Courier New',monospace\">┏━━━━━━━━━━━━━━━━━━━━┳━━━━━━━━┳━━━━━━━━━━━━┓\n",
       "┃<span style=\"color: #ffff00; text-decoration-color: #ffff00; font-weight: bold\"> Category           </span>┃<span style=\"color: #ffff00; text-decoration-color: #ffff00; font-weight: bold\"> Count  </span>┃<span style=\"color: #ffff00; text-decoration-color: #ffff00; font-weight: bold\"> Percentage </span>┃\n",
       "┡━━━━━━━━━━━━━━━━━━━━╇━━━━━━━━╇━━━━━━━━━━━━┩\n",
       "│ amplitude-ts/2.7.2 │ 100000 │ 100.00%    │\n",
       "└────────────────────┴────────┴────────────┘\n",
       "</pre>\n"
      ],
      "text/plain": [
       "┏━━━━━━━━━━━━━━━━━━━━┳━━━━━━━━┳━━━━━━━━━━━━┓\n",
       "┃\u001b[1;93m \u001b[0m\u001b[1;93mCategory          \u001b[0m\u001b[1;93m \u001b[0m┃\u001b[1;93m \u001b[0m\u001b[1;93mCount \u001b[0m\u001b[1;93m \u001b[0m┃\u001b[1;93m \u001b[0m\u001b[1;93mPercentage\u001b[0m\u001b[1;93m \u001b[0m┃\n",
       "┡━━━━━━━━━━━━━━━━━━━━╇━━━━━━━━╇━━━━━━━━━━━━┩\n",
       "│ amplitude-ts/2.7.2 │ 100000 │ 100.00%    │\n",
       "└────────────────────┴────────┴────────────┘\n"
      ]
     },
     "metadata": {},
     "output_type": "display_data"
    },
    {
     "data": {
      "text/html": [
       "<pre style=\"white-space:pre;overflow-x:auto;line-height:normal;font-family:Menlo,'DejaVu Sans Mono',consolas,'Courier New',monospace\">\n",
       "<span style=\"color: #ffff00; text-decoration-color: #ffff00\">Distribution of os_name:</span>\n",
       "</pre>\n"
      ],
      "text/plain": [
       "\n",
       "\u001b[93mDistribution of os_name:\u001b[0m\n"
      ]
     },
     "metadata": {},
     "output_type": "display_data"
    },
    {
     "data": {
      "text/html": [
       "<pre style=\"white-space:pre;overflow-x:auto;line-height:normal;font-family:Menlo,'DejaVu Sans Mono',consolas,'Courier New',monospace\">┏━━━━━━━━━━━━━━━┳━━━━━━━┳━━━━━━━━━━━━┓\n",
       "┃<span style=\"color: #ffff00; text-decoration-color: #ffff00; font-weight: bold\"> Category      </span>┃<span style=\"color: #ffff00; text-decoration-color: #ffff00; font-weight: bold\"> Count </span>┃<span style=\"color: #ffff00; text-decoration-color: #ffff00; font-weight: bold\"> Percentage </span>┃\n",
       "┡━━━━━━━━━━━━━━━╇━━━━━━━╇━━━━━━━━━━━━┩\n",
       "│ Chrome        │ 93012 │ 93.01%     │\n",
       "│ Edge          │ 6260  │ 6.26%      │\n",
       "│ Firefox       │ 602   │ 0.60%      │\n",
       "│ Mobile Safari │ 97    │ 0.10%      │\n",
       "│ Safari        │ 24    │ 0.02%      │\n",
       "│ Chrome Mobile │ 5     │ 0.01%      │\n",
       "└───────────────┴───────┴────────────┘\n",
       "</pre>\n"
      ],
      "text/plain": [
       "┏━━━━━━━━━━━━━━━┳━━━━━━━┳━━━━━━━━━━━━┓\n",
       "┃\u001b[1;93m \u001b[0m\u001b[1;93mCategory     \u001b[0m\u001b[1;93m \u001b[0m┃\u001b[1;93m \u001b[0m\u001b[1;93mCount\u001b[0m\u001b[1;93m \u001b[0m┃\u001b[1;93m \u001b[0m\u001b[1;93mPercentage\u001b[0m\u001b[1;93m \u001b[0m┃\n",
       "┡━━━━━━━━━━━━━━━╇━━━━━━━╇━━━━━━━━━━━━┩\n",
       "│ Chrome        │ 93012 │ 93.01%     │\n",
       "│ Edge          │ 6260  │ 6.26%      │\n",
       "│ Firefox       │ 602   │ 0.60%      │\n",
       "│ Mobile Safari │ 97    │ 0.10%      │\n",
       "│ Safari        │ 24    │ 0.02%      │\n",
       "│ Chrome Mobile │ 5     │ 0.01%      │\n",
       "└───────────────┴───────┴────────────┘\n"
      ]
     },
     "metadata": {},
     "output_type": "display_data"
    },
    {
     "data": {
      "text/html": [
       "<pre style=\"white-space:pre;overflow-x:auto;line-height:normal;font-family:Menlo,'DejaVu Sans Mono',consolas,'Courier New',monospace\">\n",
       "<span style=\"color: #ffff00; text-decoration-color: #ffff00\">Distribution of platform:</span>\n",
       "</pre>\n"
      ],
      "text/plain": [
       "\n",
       "\u001b[93mDistribution of platform:\u001b[0m\n"
      ]
     },
     "metadata": {},
     "output_type": "display_data"
    },
    {
     "data": {
      "text/html": [
       "<pre style=\"white-space:pre;overflow-x:auto;line-height:normal;font-family:Menlo,'DejaVu Sans Mono',consolas,'Courier New',monospace\">┏━━━━━━━━━━┳━━━━━━━━┳━━━━━━━━━━━━┓\n",
       "┃<span style=\"color: #ffff00; text-decoration-color: #ffff00; font-weight: bold\"> Category </span>┃<span style=\"color: #ffff00; text-decoration-color: #ffff00; font-weight: bold\"> Count  </span>┃<span style=\"color: #ffff00; text-decoration-color: #ffff00; font-weight: bold\"> Percentage </span>┃\n",
       "┡━━━━━━━━━━╇━━━━━━━━╇━━━━━━━━━━━━┩\n",
       "│ Web      │ 100000 │ 100.00%    │\n",
       "└──────────┴────────┴────────────┘\n",
       "</pre>\n"
      ],
      "text/plain": [
       "┏━━━━━━━━━━┳━━━━━━━━┳━━━━━━━━━━━━┓\n",
       "┃\u001b[1;93m \u001b[0m\u001b[1;93mCategory\u001b[0m\u001b[1;93m \u001b[0m┃\u001b[1;93m \u001b[0m\u001b[1;93mCount \u001b[0m\u001b[1;93m \u001b[0m┃\u001b[1;93m \u001b[0m\u001b[1;93mPercentage\u001b[0m\u001b[1;93m \u001b[0m┃\n",
       "┡━━━━━━━━━━╇━━━━━━━━╇━━━━━━━━━━━━┩\n",
       "│ Web      │ 100000 │ 100.00%    │\n",
       "└──────────┴────────┴────────────┘\n"
      ]
     },
     "metadata": {},
     "output_type": "display_data"
    },
    {
     "data": {
      "text/html": [
       "<pre style=\"white-space:pre;overflow-x:auto;line-height:normal;font-family:Menlo,'DejaVu Sans Mono',consolas,'Courier New',monospace\">\n",
       "<span style=\"color: #ffff00; text-decoration-color: #ffff00\">Distribution of region:</span>\n",
       "</pre>\n"
      ],
      "text/plain": [
       "\n",
       "\u001b[93mDistribution of region:\u001b[0m\n"
      ]
     },
     "metadata": {},
     "output_type": "display_data"
    },
    {
     "data": {
      "text/html": [
       "<pre style=\"white-space:pre;overflow-x:auto;line-height:normal;font-family:Menlo,'DejaVu Sans Mono',consolas,'Courier New',monospace\">┏━━━━━━━━━━━━━━━━┳━━━━━━━┳━━━━━━━━━━━━┓\n",
       "┃<span style=\"color: #ffff00; text-decoration-color: #ffff00; font-weight: bold\"> Category       </span>┃<span style=\"color: #ffff00; text-decoration-color: #ffff00; font-weight: bold\"> Count </span>┃<span style=\"color: #ffff00; text-decoration-color: #ffff00; font-weight: bold\"> Percentage </span>┃\n",
       "┡━━━━━━━━━━━━━━━━╇━━━━━━━╇━━━━━━━━━━━━┩\n",
       "│ Maharashtra    │ 24090 │ 24.09%     │\n",
       "│ Tennessee      │ 20352 │ 20.35%     │\n",
       "│ Illinois       │ 5369  │ 5.37%      │\n",
       "│ South Carolina │ 4106  │ 4.11%      │\n",
       "│ Georgia        │ 4059  │ 4.06%      │\n",
       "│ California     │ 3773  │ 3.77%      │\n",
       "│ Iowa           │ 3692  │ 3.69%      │\n",
       "│ Virginia       │ 3537  │ 3.54%      │\n",
       "│ Alabama        │ 3412  │ 3.41%      │\n",
       "│ Florida        │ 3164  │ 3.16%      │\n",
       "└────────────────┴───────┴────────────┘\n",
       "</pre>\n"
      ],
      "text/plain": [
       "┏━━━━━━━━━━━━━━━━┳━━━━━━━┳━━━━━━━━━━━━┓\n",
       "┃\u001b[1;93m \u001b[0m\u001b[1;93mCategory      \u001b[0m\u001b[1;93m \u001b[0m┃\u001b[1;93m \u001b[0m\u001b[1;93mCount\u001b[0m\u001b[1;93m \u001b[0m┃\u001b[1;93m \u001b[0m\u001b[1;93mPercentage\u001b[0m\u001b[1;93m \u001b[0m┃\n",
       "┡━━━━━━━━━━━━━━━━╇━━━━━━━╇━━━━━━━━━━━━┩\n",
       "│ Maharashtra    │ 24090 │ 24.09%     │\n",
       "│ Tennessee      │ 20352 │ 20.35%     │\n",
       "│ Illinois       │ 5369  │ 5.37%      │\n",
       "│ South Carolina │ 4106  │ 4.11%      │\n",
       "│ Georgia        │ 4059  │ 4.06%      │\n",
       "│ California     │ 3773  │ 3.77%      │\n",
       "│ Iowa           │ 3692  │ 3.69%      │\n",
       "│ Virginia       │ 3537  │ 3.54%      │\n",
       "│ Alabama        │ 3412  │ 3.41%      │\n",
       "│ Florida        │ 3164  │ 3.16%      │\n",
       "└────────────────┴───────┴────────────┘\n"
      ]
     },
     "metadata": {},
     "output_type": "display_data"
    },
    {
     "data": {
      "text/html": [
       "<pre style=\"white-space:pre;overflow-x:auto;line-height:normal;font-family:Menlo,'DejaVu Sans Mono',consolas,'Courier New',monospace\">\n",
       "<span style=\"color: #ffff00; text-decoration-color: #ffff00\">Distribution of user_id:</span>\n",
       "</pre>\n"
      ],
      "text/plain": [
       "\n",
       "\u001b[93mDistribution of user_id:\u001b[0m\n"
      ]
     },
     "metadata": {},
     "output_type": "display_data"
    },
    {
     "data": {
      "text/html": [
       "<pre style=\"white-space:pre;overflow-x:auto;line-height:normal;font-family:Menlo,'DejaVu Sans Mono',consolas,'Courier New',monospace\">┏━━━━━━━━━━━━━━━━━━━━━━━━━━━━━━━━━━━━━━┳━━━━━━━┳━━━━━━━━━━━━┓\n",
       "┃<span style=\"color: #ffff00; text-decoration-color: #ffff00; font-weight: bold\"> Category                             </span>┃<span style=\"color: #ffff00; text-decoration-color: #ffff00; font-weight: bold\"> Count </span>┃<span style=\"color: #ffff00; text-decoration-color: #ffff00; font-weight: bold\"> Percentage </span>┃\n",
       "┡━━━━━━━━━━━━━━━━━━━━━━━━━━━━━━━━━━━━━━╇━━━━━━━╇━━━━━━━━━━━━┩\n",
       "│ 0c4896b7-08fa-4cb4-852f-27ad584f0864 │ 2888  │ 2.89%      │\n",
       "│ EMPTY                                │ 2707  │ 2.71%      │\n",
       "│ 1b992a40-b2c3-4b69-a5bc-05711eeddd80 │ 2318  │ 2.32%      │\n",
       "│ 1b7f0cbc-e5b9-494f-af08-f8e19df60576 │ 1543  │ 1.54%      │\n",
       "│ cfa20420-326e-4d5a-b202-c04084e785ad │ 1367  │ 1.37%      │\n",
       "│ bb8fa1af-a540-4d0f-a633-569c61f01281 │ 1360  │ 1.36%      │\n",
       "│ 96521245-b6a9-4393-a42e-3e8e470f5e5f │ 1353  │ 1.35%      │\n",
       "│ a883990d-2aa3-4644-9511-5f1c035717f2 │ 1210  │ 1.21%      │\n",
       "│ d367faa8-7f10-4ffe-a216-c14b880a4d60 │ 1100  │ 1.10%      │\n",
       "│ 8dbcce7d-02e8-4556-b917-f5d3393bf859 │ 1069  │ 1.07%      │\n",
       "└──────────────────────────────────────┴───────┴────────────┘\n",
       "</pre>\n"
      ],
      "text/plain": [
       "┏━━━━━━━━━━━━━━━━━━━━━━━━━━━━━━━━━━━━━━┳━━━━━━━┳━━━━━━━━━━━━┓\n",
       "┃\u001b[1;93m \u001b[0m\u001b[1;93mCategory                            \u001b[0m\u001b[1;93m \u001b[0m┃\u001b[1;93m \u001b[0m\u001b[1;93mCount\u001b[0m\u001b[1;93m \u001b[0m┃\u001b[1;93m \u001b[0m\u001b[1;93mPercentage\u001b[0m\u001b[1;93m \u001b[0m┃\n",
       "┡━━━━━━━━━━━━━━━━━━━━━━━━━━━━━━━━━━━━━━╇━━━━━━━╇━━━━━━━━━━━━┩\n",
       "│ 0c4896b7-08fa-4cb4-852f-27ad584f0864 │ 2888  │ 2.89%      │\n",
       "│ EMPTY                                │ 2707  │ 2.71%      │\n",
       "│ 1b992a40-b2c3-4b69-a5bc-05711eeddd80 │ 2318  │ 2.32%      │\n",
       "│ 1b7f0cbc-e5b9-494f-af08-f8e19df60576 │ 1543  │ 1.54%      │\n",
       "│ cfa20420-326e-4d5a-b202-c04084e785ad │ 1367  │ 1.37%      │\n",
       "│ bb8fa1af-a540-4d0f-a633-569c61f01281 │ 1360  │ 1.36%      │\n",
       "│ 96521245-b6a9-4393-a42e-3e8e470f5e5f │ 1353  │ 1.35%      │\n",
       "│ a883990d-2aa3-4644-9511-5f1c035717f2 │ 1210  │ 1.21%      │\n",
       "│ d367faa8-7f10-4ffe-a216-c14b880a4d60 │ 1100  │ 1.10%      │\n",
       "│ 8dbcce7d-02e8-4556-b917-f5d3393bf859 │ 1069  │ 1.07%      │\n",
       "└──────────────────────────────────────┴───────┴────────────┘\n"
      ]
     },
     "metadata": {},
     "output_type": "display_data"
    },
    {
     "data": {
      "text/html": [
       "<pre style=\"white-space:pre;overflow-x:auto;line-height:normal;font-family:Menlo,'DejaVu Sans Mono',consolas,'Courier New',monospace\">\n",
       "<span style=\"color: #ffff00; text-decoration-color: #ffff00\">Distribution of user_properties:</span>\n",
       "</pre>\n"
      ],
      "text/plain": [
       "\n",
       "\u001b[93mDistribution of user_properties:\u001b[0m\n"
      ]
     },
     "metadata": {},
     "output_type": "display_data"
    },
    {
     "data": {
      "text/html": [
       "<pre style=\"white-space:pre;overflow-x:auto;line-height:normal;font-family:Menlo,'DejaVu Sans Mono',consolas,'Courier New',monospace\">┏━━━━━━━━━━━━━━━━━━━━━━━━━━━━━━━━━━━━━━━━━━━━━━━━━━━━━━━━━━━━━━━━━━━━━━━━━━━━━━━━━━━━━━━━━━━━┳━━━━━━━┳━━━━━━━━━━━━┓\n",
       "┃<span style=\"color: #ffff00; text-decoration-color: #ffff00; font-weight: bold\"> Category                                                                                   </span>┃<span style=\"color: #ffff00; text-decoration-color: #ffff00; font-weight: bold\"> Count </span>┃<span style=\"color: #ffff00; text-decoration-color: #ffff00; font-weight: bold\"> Percentage </span>┃\n",
       "┡━━━━━━━━━━━━━━━━━━━━━━━━━━━━━━━━━━━━━━━━━━━━━━━━━━━━━━━━━━━━━━━━━━━━━━━━━━━━━━━━━━━━━━━━━━━━╇━━━━━━━╇━━━━━━━━━━━━┩\n",
       "│ {'businessUnit': [], 'initial_utm_medium': 'EMPTY', 'initial_referring_domain': 'EMPTY',   │ 28385 │ 28.38%     │\n",
       "│ 'initial_utm_content': 'EMPTY', 'roles': ['underwriter'], 'isInternalUser': 'False',       │       │            │\n",
       "│ 'trackingVersion': '3.1', 'initial_utm_campaign': 'EMPTY', 'initial_twclid': 'EMPTY',      │       │            │\n",
       "│ 'initial_li_fat_id': 'EMPTY', 'initial_gclid': 'EMPTY', 'hostname': 'None',                │       │            │\n",
       "│ 'initial_utm_source': 'EMPTY', 'initial_dclid': 'EMPTY', 'initial_wbraid': 'EMPTY',        │       │            │\n",
       "│ 'initial_rtd_cid': 'EMPTY', 'initial_fbclid': 'EMPTY', 'initial_utm_id': 'EMPTY',          │       │            │\n",
       "│ 'initial_gbraid': 'EMPTY', 'initial_referrer': 'EMPTY', 'initial_msclkid': 'EMPTY',        │       │            │\n",
       "│ 'initial_ttclid': 'EMPTY', 'initial_utm_term': 'EMPTY', 'initial_ko_click_id': 'EMPTY'}    │       │            │\n",
       "│ {'businessUnit': [], 'roles': ['underwriter'], 'trackingVersion': '3.1', 'initial_twclid': │ 8167  │ 8.17%      │\n",
       "│ 'EMPTY', 'initial_gclid': 'EMPTY', 'hostname': 'None', 'initial_utm_source': 'EMPTY',      │       │            │\n",
       "│ 'initial_dclid': 'EMPTY', 'initial_wbraid': 'EMPTY', 'initial_rtd_cid': 'EMPTY',           │       │            │\n",
       "│ 'initial_utm_id': 'EMPTY', 'initial_gbraid': 'EMPTY', 'initial_msclkid': 'EMPTY',          │       │            │\n",
       "│ 'initial_ttclid': 'EMPTY', 'initial_ko_click_id': 'EMPTY', 'initial_utm_medium': 'EMPTY',  │       │            │\n",
       "│ 'initial_referring_domain': 'EMPTY', 'initial_utm_content': 'EMPTY', 'isInternalUser':     │       │            │\n",
       "│ 'False', 'initial_utm_campaign': 'EMPTY', 'initial_li_fat_id': 'EMPTY', 'referrer':        │       │            │\n",
       "│ 'https://accounts.google.com/', 'initial_fbclid': 'EMPTY', 'initial_referrer': 'EMPTY',    │       │            │\n",
       "│ 'initial_utm_term': 'EMPTY', 'referring_domain': 'accounts.google.com'}                    │       │            │\n",
       "│ {'businessUnit': [], 'roles': ['underwriter'], 'trackingVersion': '3.1', 'initial_twclid': │ 5908  │ 5.91%      │\n",
       "│ 'EMPTY', 'initial_gclid': 'EMPTY', 'hostname': 'None', 'initial_utm_source': 'EMPTY',      │       │            │\n",
       "│ 'initial_dclid': 'EMPTY', 'initial_wbraid': 'EMPTY', 'initial_rtd_cid': 'EMPTY',           │       │            │\n",
       "│ 'initial_utm_id': 'EMPTY', 'initial_gbraid': 'EMPTY', 'initial_msclkid': 'EMPTY',          │       │            │\n",
       "│ 'initial_ttclid': 'EMPTY', 'initial_ko_click_id': 'EMPTY', 'initial_utm_medium': 'EMPTY',  │       │            │\n",
       "│ 'initial_referring_domain': 'EMPTY', 'initial_utm_content': 'EMPTY', 'isInternalUser':     │       │            │\n",
       "│ 'False', 'initial_utm_campaign': 'EMPTY', 'initial_li_fat_id': 'EMPTY', 'referrer':        │       │            │\n",
       "│ 'https://vru-auth.us.auth0.com/', 'initial_fbclid': 'EMPTY', 'initial_referrer': 'EMPTY',  │       │            │\n",
       "│ 'initial_utm_term': 'EMPTY', 'referring_domain': 'vru-auth.us.auth0.com'}                  │       │            │\n",
       "│ {'initial_utm_medium': 'EMPTY', 'initial_referring_domain': 'EMPTY', 'businessUnit': [],   │ 4517  │ 4.52%      │\n",
       "│ 'initial_utm_content': 'EMPTY', 'roles': ['underwriter'], 'isInternalUser': 'False',       │       │            │\n",
       "│ 'initial_utm_campaign': 'EMPTY', 'trackingVersion': '3.1', 'initial_twclid': 'EMPTY',      │       │            │\n",
       "│ 'initial_gclid': 'EMPTY', 'hostname': 'None', 'initial_utm_source': 'EMPTY',               │       │            │\n",
       "│ 'initial_dclid': 'EMPTY', 'initial_wbraid': 'EMPTY', 'initial_fbclid': 'EMPTY',            │       │            │\n",
       "│ 'initial_utm_id': 'EMPTY', 'initial_referrer': 'EMPTY', 'initial_gbraid': 'EMPTY',         │       │            │\n",
       "│ 'initial_utm_term': 'EMPTY', 'initial_msclkid': 'EMPTY', 'initial_ttclid': 'EMPTY',        │       │            │\n",
       "│ 'initial_ko_click_id': 'EMPTY'}                                                            │       │            │\n",
       "│ {'businessUnit': ['Xceedance Modeling'], 'initial_utm_medium': 'EMPTY',                    │ 4261  │ 4.26%      │\n",
       "│ 'initial_referring_domain': 'EMPTY', 'initial_utm_content': 'EMPTY', 'roles':              │       │            │\n",
       "│ ['underwriter'], 'isInternalUser': 'False', 'trackingVersion': '3.1',                      │       │            │\n",
       "│ 'initial_utm_campaign': 'EMPTY', 'initial_twclid': 'EMPTY', 'initial_li_fat_id': 'EMPTY',  │       │            │\n",
       "│ 'initial_gclid': 'EMPTY', 'hostname': 'None', 'initial_utm_source': 'EMPTY',               │       │            │\n",
       "│ 'initial_dclid': 'EMPTY', 'initial_wbraid': 'EMPTY', 'initial_rtd_cid': 'EMPTY',           │       │            │\n",
       "│ 'initial_fbclid': 'EMPTY', 'initial_utm_id': 'EMPTY', 'initial_gbraid': 'EMPTY',           │       │            │\n",
       "│ 'initial_referrer': 'EMPTY', 'initial_msclkid': 'EMPTY', 'initial_ttclid': 'EMPTY',        │       │            │\n",
       "│ 'initial_utm_term': 'EMPTY', 'initial_ko_click_id': 'EMPTY'}                               │       │            │\n",
       "│ {'businessUnit': [], 'initial_utm_medium': 'EMPTY', 'initial_referring_domain': 'EMPTY',   │ 3690  │ 3.69%      │\n",
       "│ 'initial_utm_content': 'EMPTY', 'roles': ['admin'], 'isInternalUser': 'True',              │       │            │\n",
       "│ 'trackingVersion': '3.1', 'initial_utm_campaign': 'EMPTY', 'initial_twclid': 'EMPTY',      │       │            │\n",
       "│ 'initial_li_fat_id': 'EMPTY', 'initial_gclid': 'EMPTY', 'hostname': 'None',                │       │            │\n",
       "│ 'initial_utm_source': 'EMPTY', 'initial_dclid': 'EMPTY', 'initial_wbraid': 'EMPTY',        │       │            │\n",
       "│ 'initial_rtd_cid': 'EMPTY', 'initial_fbclid': 'EMPTY', 'initial_utm_id': 'EMPTY',          │       │            │\n",
       "│ 'initial_gbraid': 'EMPTY', 'initial_referrer': 'EMPTY', 'initial_msclkid': 'EMPTY',        │       │            │\n",
       "│ 'initial_ttclid': 'EMPTY', 'initial_utm_term': 'EMPTY', 'initial_ko_click_id': 'EMPTY'}    │       │            │\n",
       "│ {'businessUnit': ['Xceedence'], 'initial_utm_medium': 'EMPTY', 'initial_referring_domain': │ 2987  │ 2.99%      │\n",
       "│ 'EMPTY', 'initial_utm_content': 'EMPTY', 'roles': ['underwriter'], 'isInternalUser':       │       │            │\n",
       "│ 'False', 'trackingVersion': '3.1', 'initial_utm_campaign': 'EMPTY', 'initial_twclid':      │       │            │\n",
       "│ 'EMPTY', 'initial_li_fat_id': 'EMPTY', 'initial_gclid': 'EMPTY', 'hostname': 'None',       │       │            │\n",
       "│ 'initial_utm_source': 'EMPTY', 'initial_dclid': 'EMPTY', 'initial_wbraid': 'EMPTY',        │       │            │\n",
       "│ 'initial_rtd_cid': 'EMPTY', 'initial_fbclid': 'EMPTY', 'initial_utm_id': 'EMPTY',          │       │            │\n",
       "│ 'initial_gbraid': 'EMPTY', 'initial_referrer': 'EMPTY', 'initial_msclkid': 'EMPTY',        │       │            │\n",
       "│ 'initial_ttclid': 'EMPTY', 'initial_utm_term': 'EMPTY', 'initial_ko_click_id': 'EMPTY'}    │       │            │\n",
       "│ {'businessUnit': [], 'roles': ['underwriter'], 'trackingVersion': '3.1', 'initial_twclid': │ 2831  │ 2.83%      │\n",
       "│ 'EMPTY', 'initial_gclid': 'EMPTY', 'hostname': 'None', 'initial_utm_source': 'EMPTY',      │       │            │\n",
       "│ 'initial_dclid': 'EMPTY', 'initial_wbraid': 'EMPTY', 'initial_rtd_cid': 'EMPTY',           │       │            │\n",
       "│ 'initial_utm_id': 'EMPTY', 'initial_gbraid': 'EMPTY', 'initial_msclkid': 'EMPTY',          │       │            │\n",
       "│ 'initial_ttclid': 'EMPTY', 'initial_ko_click_id': 'EMPTY', 'initial_utm_medium': 'EMPTY',  │       │            │\n",
       "│ 'initial_referring_domain': 'accounts.google.com', 'initial_utm_content': 'EMPTY',         │       │            │\n",
       "│ 'isInternalUser': 'False', 'initial_utm_campaign': 'EMPTY', 'initial_li_fat_id': 'EMPTY',  │       │            │\n",
       "│ 'referrer': 'https://accounts.google.com/', 'initial_fbclid': 'EMPTY', 'initial_referrer': │       │            │\n",
       "│ 'https://accounts.google.com/', 'initial_utm_term': 'EMPTY', 'referring_domain':           │       │            │\n",
       "│ 'accounts.google.com'}                                                                     │       │            │\n",
       "│ {'businessUnit': [], 'initial_utm_medium': 'EMPTY', 'initial_referring_domain': 'EMPTY',   │ 2389  │ 2.39%      │\n",
       "│ 'initial_utm_content': 'EMPTY', 'roles': ['admin', 'underwriter', 'internal'],             │       │            │\n",
       "│ 'isInternalUser': 'True', 'trackingVersion': '3.1', 'initial_utm_campaign': 'EMPTY',       │       │            │\n",
       "│ 'initial_twclid': 'EMPTY', 'initial_li_fat_id': 'EMPTY', 'initial_gclid': 'EMPTY',         │       │            │\n",
       "│ 'hostname': 'None', 'initial_utm_source': 'EMPTY', 'initial_dclid': 'EMPTY',               │       │            │\n",
       "│ 'initial_wbraid': 'EMPTY', 'initial_rtd_cid': 'EMPTY', 'initial_fbclid': 'EMPTY',          │       │            │\n",
       "│ 'initial_utm_id': 'EMPTY', 'initial_gbraid': 'EMPTY', 'initial_referrer': 'EMPTY',         │       │            │\n",
       "│ 'initial_msclkid': 'EMPTY', 'initial_ttclid': 'EMPTY', 'initial_utm_term': 'EMPTY',        │       │            │\n",
       "│ 'initial_ko_click_id': 'EMPTY'}                                                            │       │            │\n",
       "│ {'businessUnit': ['Xceedance Modeling'], 'roles': ['underwriter'], 'trackingVersion':      │ 1785  │ 1.79%      │\n",
       "│ '3.1', 'initial_twclid': 'EMPTY', 'initial_gclid': 'EMPTY', 'hostname': 'None',            │       │            │\n",
       "│ 'initial_utm_source': 'EMPTY', 'initial_dclid': 'EMPTY', 'initial_wbraid': 'EMPTY',        │       │            │\n",
       "│ 'initial_rtd_cid': 'EMPTY', 'initial_utm_id': 'EMPTY', 'initial_gbraid': 'EMPTY',          │       │            │\n",
       "│ 'initial_msclkid': 'EMPTY', 'initial_ttclid': 'EMPTY', 'initial_ko_click_id': 'EMPTY',     │       │            │\n",
       "│ 'initial_utm_medium': 'EMPTY', 'initial_referring_domain': 'EMPTY', 'initial_utm_content': │       │            │\n",
       "│ 'EMPTY', 'isInternalUser': 'False', 'initial_utm_campaign': 'EMPTY', 'initial_li_fat_id':  │       │            │\n",
       "│ 'EMPTY', 'referrer': 'https://vru-auth.us.auth0.com/', 'initial_fbclid': 'EMPTY',          │       │            │\n",
       "│ 'initial_referrer': 'EMPTY', 'initial_utm_term': 'EMPTY', 'referring_domain':              │       │            │\n",
       "│ 'vru-auth.us.auth0.com'}                                                                   │       │            │\n",
       "└────────────────────────────────────────────────────────────────────────────────────────────┴───────┴────────────┘\n",
       "</pre>\n"
      ],
      "text/plain": [
       "┏━━━━━━━━━━━━━━━━━━━━━━━━━━━━━━━━━━━━━━━━━━━━━━━━━━━━━━━━━━━━━━━━━━━━━━━━━━━━━━━━━━━━━━━━━━━━┳━━━━━━━┳━━━━━━━━━━━━┓\n",
       "┃\u001b[1;93m \u001b[0m\u001b[1;93mCategory                                                                                  \u001b[0m\u001b[1;93m \u001b[0m┃\u001b[1;93m \u001b[0m\u001b[1;93mCount\u001b[0m\u001b[1;93m \u001b[0m┃\u001b[1;93m \u001b[0m\u001b[1;93mPercentage\u001b[0m\u001b[1;93m \u001b[0m┃\n",
       "┡━━━━━━━━━━━━━━━━━━━━━━━━━━━━━━━━━━━━━━━━━━━━━━━━━━━━━━━━━━━━━━━━━━━━━━━━━━━━━━━━━━━━━━━━━━━━╇━━━━━━━╇━━━━━━━━━━━━┩\n",
       "│ {'businessUnit': [], 'initial_utm_medium': 'EMPTY', 'initial_referring_domain': 'EMPTY',   │ 28385 │ 28.38%     │\n",
       "│ 'initial_utm_content': 'EMPTY', 'roles': ['underwriter'], 'isInternalUser': 'False',       │       │            │\n",
       "│ 'trackingVersion': '3.1', 'initial_utm_campaign': 'EMPTY', 'initial_twclid': 'EMPTY',      │       │            │\n",
       "│ 'initial_li_fat_id': 'EMPTY', 'initial_gclid': 'EMPTY', 'hostname': 'None',                │       │            │\n",
       "│ 'initial_utm_source': 'EMPTY', 'initial_dclid': 'EMPTY', 'initial_wbraid': 'EMPTY',        │       │            │\n",
       "│ 'initial_rtd_cid': 'EMPTY', 'initial_fbclid': 'EMPTY', 'initial_utm_id': 'EMPTY',          │       │            │\n",
       "│ 'initial_gbraid': 'EMPTY', 'initial_referrer': 'EMPTY', 'initial_msclkid': 'EMPTY',        │       │            │\n",
       "│ 'initial_ttclid': 'EMPTY', 'initial_utm_term': 'EMPTY', 'initial_ko_click_id': 'EMPTY'}    │       │            │\n",
       "│ {'businessUnit': [], 'roles': ['underwriter'], 'trackingVersion': '3.1', 'initial_twclid': │ 8167  │ 8.17%      │\n",
       "│ 'EMPTY', 'initial_gclid': 'EMPTY', 'hostname': 'None', 'initial_utm_source': 'EMPTY',      │       │            │\n",
       "│ 'initial_dclid': 'EMPTY', 'initial_wbraid': 'EMPTY', 'initial_rtd_cid': 'EMPTY',           │       │            │\n",
       "│ 'initial_utm_id': 'EMPTY', 'initial_gbraid': 'EMPTY', 'initial_msclkid': 'EMPTY',          │       │            │\n",
       "│ 'initial_ttclid': 'EMPTY', 'initial_ko_click_id': 'EMPTY', 'initial_utm_medium': 'EMPTY',  │       │            │\n",
       "│ 'initial_referring_domain': 'EMPTY', 'initial_utm_content': 'EMPTY', 'isInternalUser':     │       │            │\n",
       "│ 'False', 'initial_utm_campaign': 'EMPTY', 'initial_li_fat_id': 'EMPTY', 'referrer':        │       │            │\n",
       "│ 'https://accounts.google.com/', 'initial_fbclid': 'EMPTY', 'initial_referrer': 'EMPTY',    │       │            │\n",
       "│ 'initial_utm_term': 'EMPTY', 'referring_domain': 'accounts.google.com'}                    │       │            │\n",
       "│ {'businessUnit': [], 'roles': ['underwriter'], 'trackingVersion': '3.1', 'initial_twclid': │ 5908  │ 5.91%      │\n",
       "│ 'EMPTY', 'initial_gclid': 'EMPTY', 'hostname': 'None', 'initial_utm_source': 'EMPTY',      │       │            │\n",
       "│ 'initial_dclid': 'EMPTY', 'initial_wbraid': 'EMPTY', 'initial_rtd_cid': 'EMPTY',           │       │            │\n",
       "│ 'initial_utm_id': 'EMPTY', 'initial_gbraid': 'EMPTY', 'initial_msclkid': 'EMPTY',          │       │            │\n",
       "│ 'initial_ttclid': 'EMPTY', 'initial_ko_click_id': 'EMPTY', 'initial_utm_medium': 'EMPTY',  │       │            │\n",
       "│ 'initial_referring_domain': 'EMPTY', 'initial_utm_content': 'EMPTY', 'isInternalUser':     │       │            │\n",
       "│ 'False', 'initial_utm_campaign': 'EMPTY', 'initial_li_fat_id': 'EMPTY', 'referrer':        │       │            │\n",
       "│ 'https://vru-auth.us.auth0.com/', 'initial_fbclid': 'EMPTY', 'initial_referrer': 'EMPTY',  │       │            │\n",
       "│ 'initial_utm_term': 'EMPTY', 'referring_domain': 'vru-auth.us.auth0.com'}                  │       │            │\n",
       "│ {'initial_utm_medium': 'EMPTY', 'initial_referring_domain': 'EMPTY', 'businessUnit': [],   │ 4517  │ 4.52%      │\n",
       "│ 'initial_utm_content': 'EMPTY', 'roles': ['underwriter'], 'isInternalUser': 'False',       │       │            │\n",
       "│ 'initial_utm_campaign': 'EMPTY', 'trackingVersion': '3.1', 'initial_twclid': 'EMPTY',      │       │            │\n",
       "│ 'initial_gclid': 'EMPTY', 'hostname': 'None', 'initial_utm_source': 'EMPTY',               │       │            │\n",
       "│ 'initial_dclid': 'EMPTY', 'initial_wbraid': 'EMPTY', 'initial_fbclid': 'EMPTY',            │       │            │\n",
       "│ 'initial_utm_id': 'EMPTY', 'initial_referrer': 'EMPTY', 'initial_gbraid': 'EMPTY',         │       │            │\n",
       "│ 'initial_utm_term': 'EMPTY', 'initial_msclkid': 'EMPTY', 'initial_ttclid': 'EMPTY',        │       │            │\n",
       "│ 'initial_ko_click_id': 'EMPTY'}                                                            │       │            │\n",
       "│ {'businessUnit': ['Xceedance Modeling'], 'initial_utm_medium': 'EMPTY',                    │ 4261  │ 4.26%      │\n",
       "│ 'initial_referring_domain': 'EMPTY', 'initial_utm_content': 'EMPTY', 'roles':              │       │            │\n",
       "│ ['underwriter'], 'isInternalUser': 'False', 'trackingVersion': '3.1',                      │       │            │\n",
       "│ 'initial_utm_campaign': 'EMPTY', 'initial_twclid': 'EMPTY', 'initial_li_fat_id': 'EMPTY',  │       │            │\n",
       "│ 'initial_gclid': 'EMPTY', 'hostname': 'None', 'initial_utm_source': 'EMPTY',               │       │            │\n",
       "│ 'initial_dclid': 'EMPTY', 'initial_wbraid': 'EMPTY', 'initial_rtd_cid': 'EMPTY',           │       │            │\n",
       "│ 'initial_fbclid': 'EMPTY', 'initial_utm_id': 'EMPTY', 'initial_gbraid': 'EMPTY',           │       │            │\n",
       "│ 'initial_referrer': 'EMPTY', 'initial_msclkid': 'EMPTY', 'initial_ttclid': 'EMPTY',        │       │            │\n",
       "│ 'initial_utm_term': 'EMPTY', 'initial_ko_click_id': 'EMPTY'}                               │       │            │\n",
       "│ {'businessUnit': [], 'initial_utm_medium': 'EMPTY', 'initial_referring_domain': 'EMPTY',   │ 3690  │ 3.69%      │\n",
       "│ 'initial_utm_content': 'EMPTY', 'roles': ['admin'], 'isInternalUser': 'True',              │       │            │\n",
       "│ 'trackingVersion': '3.1', 'initial_utm_campaign': 'EMPTY', 'initial_twclid': 'EMPTY',      │       │            │\n",
       "│ 'initial_li_fat_id': 'EMPTY', 'initial_gclid': 'EMPTY', 'hostname': 'None',                │       │            │\n",
       "│ 'initial_utm_source': 'EMPTY', 'initial_dclid': 'EMPTY', 'initial_wbraid': 'EMPTY',        │       │            │\n",
       "│ 'initial_rtd_cid': 'EMPTY', 'initial_fbclid': 'EMPTY', 'initial_utm_id': 'EMPTY',          │       │            │\n",
       "│ 'initial_gbraid': 'EMPTY', 'initial_referrer': 'EMPTY', 'initial_msclkid': 'EMPTY',        │       │            │\n",
       "│ 'initial_ttclid': 'EMPTY', 'initial_utm_term': 'EMPTY', 'initial_ko_click_id': 'EMPTY'}    │       │            │\n",
       "│ {'businessUnit': ['Xceedence'], 'initial_utm_medium': 'EMPTY', 'initial_referring_domain': │ 2987  │ 2.99%      │\n",
       "│ 'EMPTY', 'initial_utm_content': 'EMPTY', 'roles': ['underwriter'], 'isInternalUser':       │       │            │\n",
       "│ 'False', 'trackingVersion': '3.1', 'initial_utm_campaign': 'EMPTY', 'initial_twclid':      │       │            │\n",
       "│ 'EMPTY', 'initial_li_fat_id': 'EMPTY', 'initial_gclid': 'EMPTY', 'hostname': 'None',       │       │            │\n",
       "│ 'initial_utm_source': 'EMPTY', 'initial_dclid': 'EMPTY', 'initial_wbraid': 'EMPTY',        │       │            │\n",
       "│ 'initial_rtd_cid': 'EMPTY', 'initial_fbclid': 'EMPTY', 'initial_utm_id': 'EMPTY',          │       │            │\n",
       "│ 'initial_gbraid': 'EMPTY', 'initial_referrer': 'EMPTY', 'initial_msclkid': 'EMPTY',        │       │            │\n",
       "│ 'initial_ttclid': 'EMPTY', 'initial_utm_term': 'EMPTY', 'initial_ko_click_id': 'EMPTY'}    │       │            │\n",
       "│ {'businessUnit': [], 'roles': ['underwriter'], 'trackingVersion': '3.1', 'initial_twclid': │ 2831  │ 2.83%      │\n",
       "│ 'EMPTY', 'initial_gclid': 'EMPTY', 'hostname': 'None', 'initial_utm_source': 'EMPTY',      │       │            │\n",
       "│ 'initial_dclid': 'EMPTY', 'initial_wbraid': 'EMPTY', 'initial_rtd_cid': 'EMPTY',           │       │            │\n",
       "│ 'initial_utm_id': 'EMPTY', 'initial_gbraid': 'EMPTY', 'initial_msclkid': 'EMPTY',          │       │            │\n",
       "│ 'initial_ttclid': 'EMPTY', 'initial_ko_click_id': 'EMPTY', 'initial_utm_medium': 'EMPTY',  │       │            │\n",
       "│ 'initial_referring_domain': 'accounts.google.com', 'initial_utm_content': 'EMPTY',         │       │            │\n",
       "│ 'isInternalUser': 'False', 'initial_utm_campaign': 'EMPTY', 'initial_li_fat_id': 'EMPTY',  │       │            │\n",
       "│ 'referrer': 'https://accounts.google.com/', 'initial_fbclid': 'EMPTY', 'initial_referrer': │       │            │\n",
       "│ 'https://accounts.google.com/', 'initial_utm_term': 'EMPTY', 'referring_domain':           │       │            │\n",
       "│ 'accounts.google.com'}                                                                     │       │            │\n",
       "│ {'businessUnit': [], 'initial_utm_medium': 'EMPTY', 'initial_referring_domain': 'EMPTY',   │ 2389  │ 2.39%      │\n",
       "│ 'initial_utm_content': 'EMPTY', 'roles': ['admin', 'underwriter', 'internal'],             │       │            │\n",
       "│ 'isInternalUser': 'True', 'trackingVersion': '3.1', 'initial_utm_campaign': 'EMPTY',       │       │            │\n",
       "│ 'initial_twclid': 'EMPTY', 'initial_li_fat_id': 'EMPTY', 'initial_gclid': 'EMPTY',         │       │            │\n",
       "│ 'hostname': 'None', 'initial_utm_source': 'EMPTY', 'initial_dclid': 'EMPTY',               │       │            │\n",
       "│ 'initial_wbraid': 'EMPTY', 'initial_rtd_cid': 'EMPTY', 'initial_fbclid': 'EMPTY',          │       │            │\n",
       "│ 'initial_utm_id': 'EMPTY', 'initial_gbraid': 'EMPTY', 'initial_referrer': 'EMPTY',         │       │            │\n",
       "│ 'initial_msclkid': 'EMPTY', 'initial_ttclid': 'EMPTY', 'initial_utm_term': 'EMPTY',        │       │            │\n",
       "│ 'initial_ko_click_id': 'EMPTY'}                                                            │       │            │\n",
       "│ {'businessUnit': ['Xceedance Modeling'], 'roles': ['underwriter'], 'trackingVersion':      │ 1785  │ 1.79%      │\n",
       "│ '3.1', 'initial_twclid': 'EMPTY', 'initial_gclid': 'EMPTY', 'hostname': 'None',            │       │            │\n",
       "│ 'initial_utm_source': 'EMPTY', 'initial_dclid': 'EMPTY', 'initial_wbraid': 'EMPTY',        │       │            │\n",
       "│ 'initial_rtd_cid': 'EMPTY', 'initial_utm_id': 'EMPTY', 'initial_gbraid': 'EMPTY',          │       │            │\n",
       "│ 'initial_msclkid': 'EMPTY', 'initial_ttclid': 'EMPTY', 'initial_ko_click_id': 'EMPTY',     │       │            │\n",
       "│ 'initial_utm_medium': 'EMPTY', 'initial_referring_domain': 'EMPTY', 'initial_utm_content': │       │            │\n",
       "│ 'EMPTY', 'isInternalUser': 'False', 'initial_utm_campaign': 'EMPTY', 'initial_li_fat_id':  │       │            │\n",
       "│ 'EMPTY', 'referrer': 'https://vru-auth.us.auth0.com/', 'initial_fbclid': 'EMPTY',          │       │            │\n",
       "│ 'initial_referrer': 'EMPTY', 'initial_utm_term': 'EMPTY', 'referring_domain':              │       │            │\n",
       "│ 'vru-auth.us.auth0.com'}                                                                   │       │            │\n",
       "└────────────────────────────────────────────────────────────────────────────────────────────┴───────┴────────────┘\n"
      ]
     },
     "metadata": {},
     "output_type": "display_data"
    },
    {
     "data": {
      "text/html": [
       "<pre style=\"white-space:pre;overflow-x:auto;line-height:normal;font-family:Menlo,'DejaVu Sans Mono',consolas,'Courier New',monospace\">\n",
       "<span style=\"color: #ffff00; text-decoration-color: #ffff00\">Distribution of uuid:</span>\n",
       "</pre>\n"
      ],
      "text/plain": [
       "\n",
       "\u001b[93mDistribution of uuid:\u001b[0m\n"
      ]
     },
     "metadata": {},
     "output_type": "display_data"
    },
    {
     "data": {
      "text/html": [
       "<pre style=\"white-space:pre;overflow-x:auto;line-height:normal;font-family:Menlo,'DejaVu Sans Mono',consolas,'Courier New',monospace\">┏━━━━━━━━━━━━━━━━━━━━━━━━━━━━━━━━━━━━━━┳━━━━━━━┳━━━━━━━━━━━━┓\n",
       "┃<span style=\"color: #ffff00; text-decoration-color: #ffff00; font-weight: bold\"> Category                             </span>┃<span style=\"color: #ffff00; text-decoration-color: #ffff00; font-weight: bold\"> Count </span>┃<span style=\"color: #ffff00; text-decoration-color: #ffff00; font-weight: bold\"> Percentage </span>┃\n",
       "┡━━━━━━━━━━━━━━━━━━━━━━━━━━━━━━━━━━━━━━╇━━━━━━━╇━━━━━━━━━━━━┩\n",
       "│ 28df7af3-96e9-4543-98d1-1abac8c15f59 │ 1     │ 0.00%      │\n",
       "│ 040a449c-abba-44cc-94d8-4aded6e60d9c │ 1     │ 0.00%      │\n",
       "│ ec1c8616-e2ab-4baf-80cf-6390785ac0eb │ 1     │ 0.00%      │\n",
       "│ cbe8cf0f-371a-46e4-a757-e3900e69a74b │ 1     │ 0.00%      │\n",
       "│ c008ee47-1450-4728-b18c-4c03d587cafa │ 1     │ 0.00%      │\n",
       "│ 57a2dacb-c649-42b3-b56c-6c48d18a7788 │ 1     │ 0.00%      │\n",
       "│ f6b58944-bea7-4311-8d79-bb6012460875 │ 1     │ 0.00%      │\n",
       "│ e200ac98-0a04-4b2c-86d8-2adffd60fc0a │ 1     │ 0.00%      │\n",
       "│ 636b56a7-c290-4b0e-b44a-e90ac2bb10c5 │ 1     │ 0.00%      │\n",
       "│ 97cad9db-7dec-48a9-9070-53fddb8bc603 │ 1     │ 0.00%      │\n",
       "└──────────────────────────────────────┴───────┴────────────┘\n",
       "</pre>\n"
      ],
      "text/plain": [
       "┏━━━━━━━━━━━━━━━━━━━━━━━━━━━━━━━━━━━━━━┳━━━━━━━┳━━━━━━━━━━━━┓\n",
       "┃\u001b[1;93m \u001b[0m\u001b[1;93mCategory                            \u001b[0m\u001b[1;93m \u001b[0m┃\u001b[1;93m \u001b[0m\u001b[1;93mCount\u001b[0m\u001b[1;93m \u001b[0m┃\u001b[1;93m \u001b[0m\u001b[1;93mPercentage\u001b[0m\u001b[1;93m \u001b[0m┃\n",
       "┡━━━━━━━━━━━━━━━━━━━━━━━━━━━━━━━━━━━━━━╇━━━━━━━╇━━━━━━━━━━━━┩\n",
       "│ 28df7af3-96e9-4543-98d1-1abac8c15f59 │ 1     │ 0.00%      │\n",
       "│ 040a449c-abba-44cc-94d8-4aded6e60d9c │ 1     │ 0.00%      │\n",
       "│ ec1c8616-e2ab-4baf-80cf-6390785ac0eb │ 1     │ 0.00%      │\n",
       "│ cbe8cf0f-371a-46e4-a757-e3900e69a74b │ 1     │ 0.00%      │\n",
       "│ c008ee47-1450-4728-b18c-4c03d587cafa │ 1     │ 0.00%      │\n",
       "│ 57a2dacb-c649-42b3-b56c-6c48d18a7788 │ 1     │ 0.00%      │\n",
       "│ f6b58944-bea7-4311-8d79-bb6012460875 │ 1     │ 0.00%      │\n",
       "│ e200ac98-0a04-4b2c-86d8-2adffd60fc0a │ 1     │ 0.00%      │\n",
       "│ 636b56a7-c290-4b0e-b44a-e90ac2bb10c5 │ 1     │ 0.00%      │\n",
       "│ 97cad9db-7dec-48a9-9070-53fddb8bc603 │ 1     │ 0.00%      │\n",
       "└──────────────────────────────────────┴───────┴────────────┘\n"
      ]
     },
     "metadata": {},
     "output_type": "display_data"
    },
    {
     "data": {
      "text/html": [
       "<pre style=\"white-space:pre;overflow-x:auto;line-height:normal;font-family:Menlo,'DejaVu Sans Mono',consolas,'Courier New',monospace\">\n",
       "<span style=\"color: #ffff00; text-decoration-color: #ffff00\">Distribution of day_of_week:</span>\n",
       "</pre>\n"
      ],
      "text/plain": [
       "\n",
       "\u001b[93mDistribution of day_of_week:\u001b[0m\n"
      ]
     },
     "metadata": {},
     "output_type": "display_data"
    },
    {
     "data": {
      "text/html": [
       "<pre style=\"white-space:pre;overflow-x:auto;line-height:normal;font-family:Menlo,'DejaVu Sans Mono',consolas,'Courier New',monospace\">┏━━━━━━━━━━━┳━━━━━━━┳━━━━━━━━━━━━┓\n",
       "┃<span style=\"color: #ffff00; text-decoration-color: #ffff00; font-weight: bold\"> Category  </span>┃<span style=\"color: #ffff00; text-decoration-color: #ffff00; font-weight: bold\"> Count </span>┃<span style=\"color: #ffff00; text-decoration-color: #ffff00; font-weight: bold\"> Percentage </span>┃\n",
       "┡━━━━━━━━━━━╇━━━━━━━╇━━━━━━━━━━━━┩\n",
       "│ Monday    │ 28546 │ 28.55%     │\n",
       "│ Wednesday │ 22741 │ 22.74%     │\n",
       "│ Thursday  │ 20559 │ 20.56%     │\n",
       "│ Tuesday   │ 18909 │ 18.91%     │\n",
       "│ Friday    │ 6582  │ 6.58%      │\n",
       "│ Saturday  │ 1736  │ 1.74%      │\n",
       "│ Sunday    │ 927   │ 0.93%      │\n",
       "└───────────┴───────┴────────────┘\n",
       "</pre>\n"
      ],
      "text/plain": [
       "┏━━━━━━━━━━━┳━━━━━━━┳━━━━━━━━━━━━┓\n",
       "┃\u001b[1;93m \u001b[0m\u001b[1;93mCategory \u001b[0m\u001b[1;93m \u001b[0m┃\u001b[1;93m \u001b[0m\u001b[1;93mCount\u001b[0m\u001b[1;93m \u001b[0m┃\u001b[1;93m \u001b[0m\u001b[1;93mPercentage\u001b[0m\u001b[1;93m \u001b[0m┃\n",
       "┡━━━━━━━━━━━╇━━━━━━━╇━━━━━━━━━━━━┩\n",
       "│ Monday    │ 28546 │ 28.55%     │\n",
       "│ Wednesday │ 22741 │ 22.74%     │\n",
       "│ Thursday  │ 20559 │ 20.56%     │\n",
       "│ Tuesday   │ 18909 │ 18.91%     │\n",
       "│ Friday    │ 6582  │ 6.58%      │\n",
       "│ Saturday  │ 1736  │ 1.74%      │\n",
       "│ Sunday    │ 927   │ 0.93%      │\n",
       "└───────────┴───────┴────────────┘\n"
      ]
     },
     "metadata": {},
     "output_type": "display_data"
    }
   ],
   "source": [
    "# 10. Category Analysis (for categorical columns)\n",
    "console.print(\"\\n[bold bright_green]10. Category Analysis[/bold bright_green]\", style=\"bold\")\n",
    "categorical_cols = df.select_dtypes(include=['object', 'category']).columns\n",
    "for col in categorical_cols:\n",
    "    console.print(f\"\\n[bright_yellow]Distribution of {col}:[/bright_yellow]\")\n",
    "    value_counts = df[col].value_counts().head(10)  # Top 10 categories\n",
    "    counts_table = Table(show_header=True, header_style=\"bold bright_yellow\")\n",
    "    counts_table.add_column(\"Category\")\n",
    "    counts_table.add_column(\"Count\")\n",
    "    counts_table.add_column(\"Percentage\")\n",
    "    \n",
    "    for idx, (cat, count) in enumerate(value_counts.items()):\n",
    "        percentage = (count / len(df)) * 100\n",
    "        counts_table.add_row(\n",
    "            str(cat),\n",
    "            str(count),\n",
    "            f\"{percentage:.2f}%\"\n",
    "        )\n",
    "    console.print(counts_table)"
   ]
  },
  {
   "cell_type": "code",
   "execution_count": 96,
   "metadata": {},
   "outputs": [
    {
     "data": {
      "text/html": [
       "<pre style=\"white-space:pre;overflow-x:auto;line-height:normal;font-family:Menlo,'DejaVu Sans Mono',consolas,'Courier New',monospace\">\n",
       "<span style=\"color: #00ff00; text-decoration-color: #00ff00; font-weight: bold\">11</span><span style=\"color: #00ff00; text-decoration-color: #00ff00; font-weight: bold\">. Data Quality Checks</span>\n",
       "</pre>\n"
      ],
      "text/plain": [
       "\n",
       "\u001b[1;92m11\u001b[0m\u001b[1;92m. Data Quality Checks\u001b[0m\n"
      ]
     },
     "metadata": {},
     "output_type": "display_data"
    },
    {
     "data": {
      "text/html": [
       "<pre style=\"white-space:pre;overflow-x:auto;line-height:normal;font-family:Menlo,'DejaVu Sans Mono',consolas,'Courier New',monospace\">┏━━━━━━━━━━━━━━━━━━━━━━━━━┳━━━━━━━━┓\n",
       "┃<span style=\"color: #ffff00; text-decoration-color: #ffff00; font-weight: bold\"> Check                   </span>┃<span style=\"color: #ffff00; text-decoration-color: #ffff00; font-weight: bold\"> Result </span>┃\n",
       "┡━━━━━━━━━━━━━━━━━━━━━━━━━╇━━━━━━━━┩\n",
       "│ Duplicate Rows          │ <span style=\"color: #00ff00; text-decoration-color: #00ff00\">0</span>      │\n",
       "│ Contains Missing Values │ <span style=\"color: #ffff00; text-decoration-color: #ffff00\">Yes</span>    │\n",
       "│ Contains Zero Values    │ <span style=\"color: #ffff00; text-decoration-color: #ffff00\">Yes</span>    │\n",
       "└─────────────────────────┴────────┘\n",
       "</pre>\n"
      ],
      "text/plain": [
       "┏━━━━━━━━━━━━━━━━━━━━━━━━━┳━━━━━━━━┓\n",
       "┃\u001b[1;93m \u001b[0m\u001b[1;93mCheck                  \u001b[0m\u001b[1;93m \u001b[0m┃\u001b[1;93m \u001b[0m\u001b[1;93mResult\u001b[0m\u001b[1;93m \u001b[0m┃\n",
       "┡━━━━━━━━━━━━━━━━━━━━━━━━━╇━━━━━━━━┩\n",
       "│ Duplicate Rows          │ \u001b[92m0\u001b[0m      │\n",
       "│ Contains Missing Values │ \u001b[93mYes\u001b[0m    │\n",
       "│ Contains Zero Values    │ \u001b[93mYes\u001b[0m    │\n",
       "└─────────────────────────┴────────┘\n"
      ]
     },
     "metadata": {},
     "output_type": "display_data"
    }
   ],
   "source": [
    "# 11. Data Quality Checks\n",
    "console.print(\"\\n[bold bright_green]11. Data Quality Checks[/bold bright_green]\", style=\"bold\")\n",
    "quality_table = Table(show_header=True, header_style=\"bold bright_yellow\")\n",
    "quality_table.add_column(\"Check\")\n",
    "quality_table.add_column(\"Result\")\n",
    "\n",
    "duplicates = df.duplicated().sum()\n",
    "quality_table.add_row(\n",
    "    \"Duplicate Rows\",\n",
    "    f\"[bright_yellow]{duplicates}[/bright_yellow]\" if duplicates > 0 else \"[bright_green]0[/bright_green]\"\n",
    ")\n",
    "\n",
    "missing_pct = (df.isnull().sum() / len(df) * 100).round(2)\n",
    "has_missing = missing_pct.any()\n",
    "quality_table.add_row(\n",
    "    \"Contains Missing Values\",\n",
    "    \"[bright_yellow]Yes[/bright_yellow]\" if has_missing else \"[bright_green]No[/bright_green]\"\n",
    ")\n",
    "\n",
    "numeric_zeros = {col: (df[col] == 0).sum() for col in numeric_cols}\n",
    "has_zeros = any(numeric_zeros.values())\n",
    "quality_table.add_row(\n",
    "    \"Contains Zero Values\",\n",
    "    \"[bright_yellow]Yes[/bright_yellow]\" if has_zeros else \"[bright_green]No[/bright_green]\"\n",
    ")\n",
    "\n",
    "console.print(quality_table)"
   ]
  },
  {
   "cell_type": "code",
   "execution_count": 97,
   "metadata": {},
   "outputs": [
    {
     "data": {
      "text/html": [
       "<pre style=\"white-space:pre;overflow-x:auto;line-height:normal;font-family:Menlo,'DejaVu Sans Mono',consolas,'Courier New',monospace\">\n",
       "<span style=\"color: #00ff00; text-decoration-color: #00ff00; font-weight: bold\">12</span><span style=\"color: #00ff00; text-decoration-color: #00ff00; font-weight: bold\">. Memory Usage</span>\n",
       "</pre>\n"
      ],
      "text/plain": [
       "\n",
       "\u001b[1;92m12\u001b[0m\u001b[1;92m. Memory Usage\u001b[0m\n"
      ]
     },
     "metadata": {},
     "output_type": "display_data"
    },
    {
     "data": {
      "text/html": [
       "<pre style=\"white-space:pre;overflow-x:auto;line-height:normal;font-family:Menlo,'DejaVu Sans Mono',consolas,'Courier New',monospace\">╭─────────────────────────────────────────────────────────────────────────────────────────────────────────────────╮\n",
       "│ Total Memory Usage: 220.63 MB                                                                                   │\n",
       "╰─────────────────────────────────────────────────────────────────────────────────────────────────────────────────╯\n",
       "</pre>\n"
      ],
      "text/plain": [
       "╭─────────────────────────────────────────────────────────────────────────────────────────────────────────────────╮\n",
       "│ Total Memory Usage: 220.63 MB                                                                                   │\n",
       "╰─────────────────────────────────────────────────────────────────────────────────────────────────────────────────╯\n"
      ]
     },
     "metadata": {},
     "output_type": "display_data"
    }
   ],
   "source": [
    "# 12. Memory Usage\n",
    "console.print(\"\\n[bold bright_green]12. Memory Usage[/bold bright_green]\", style=\"bold\")\n",
    "memory_usage = df.memory_usage(deep=True)\n",
    "total_memory = memory_usage.sum() / 1024**2\n",
    "console.print(Panel(f\"Total Memory Usage: {total_memory:.2f} MB\"))\n"
   ]
  }
 ],
 "metadata": {
  "kernelspec": {
   "display_name": "venv",
   "language": "python",
   "name": "python3"
  },
  "language_info": {
   "codemirror_mode": {
    "name": "ipython",
    "version": 3
   },
   "file_extension": ".py",
   "mimetype": "text/x-python",
   "name": "python",
   "nbconvert_exporter": "python",
   "pygments_lexer": "ipython3",
   "version": "3.13.1"
  }
 },
 "nbformat": 4,
 "nbformat_minor": 2
}
