{
 "cells": [
  {
   "cell_type": "code",
   "execution_count": 2,
   "metadata": {},
   "outputs": [],
   "source": [
    "from rich import print as rprint\n",
    "from rich.console import Console\n",
    "from rich.panel import Panel\n",
    "from rich.table import Table\n",
    "import glob\n",
    "\n",
    "console = Console()\n",
    "\n",
    "import pandas as pd\n",
    "\n",
    "# start_chunk = 0\n",
    "# end_chunk = start_chunk + 100000\n",
    "# df = pd.read_csv(f'2025_csv/new_amplitude_export_2025_chunk_{start_chunk}_{end_chunk}.csv')\n",
    "\n",
    "def load_data(year=2025):\n",
    "    \"\"\"Load all CSV chunks for a given year and combine them into a single DataFrame.\"\"\"\n",
    "    csv_files = glob.glob(f\"{year}_csv/*_chunk_*.csv\")\n",
    "    dfs = []\n",
    "    for file in csv_files:\n",
    "        df = pd.read_csv(file)\n",
    "        dfs.append(df)\n",
    "    return pd.concat(dfs, ignore_index=True)\n",
    "\n",
    "df = load_data()"
   ]
  },
  {
   "cell_type": "code",
   "execution_count": 3,
   "metadata": {},
   "outputs": [],
   "source": [
    "time_cols = ['client_event_time', 'client_upload_time', 'processed_time', \n",
    "             'server_received_time', 'server_upload_time']\n",
    "for col in time_cols:\n",
    "    df[col] = pd.to_datetime(df[col], format='%Y-%m-%d %H:%M:%S.%f')\n",
    "\n",
    "df['session_duration'] = (df.groupby('session_id')['client_event_time']\n",
    "                         .transform(lambda x: x.max() - x.min()))"
   ]
  },
  {
   "cell_type": "code",
   "execution_count": 6,
   "metadata": {},
   "outputs": [
    {
     "data": {
      "text/plain": [
       "count                      1850109\n",
       "mean     0 days 01:27:18.059801343\n",
       "std      0 days 01:45:39.413711995\n",
       "min                0 days 00:00:00\n",
       "25%         0 days 00:15:00.616000\n",
       "50%         0 days 00:52:43.826000\n",
       "75%         0 days 01:57:25.307000\n",
       "max         1 days 01:27:38.926000\n",
       "Name: session_duration, dtype: object"
      ]
     },
     "execution_count": 6,
     "metadata": {},
     "output_type": "execute_result"
    }
   ],
   "source": [
    "df['session_duration'].describe()"
   ]
  },
  {
   "cell_type": "code",
   "execution_count": 7,
   "metadata": {},
   "outputs": [
    {
     "name": "stdout",
     "output_type": "stream",
     "text": [
      "0 days 00:00:00\n"
     ]
    },
    {
     "data": {
      "text/plain": [
       "(5417, 31)"
      ]
     },
     "execution_count": 7,
     "metadata": {},
     "output_type": "execute_result"
    }
   ],
   "source": [
    "print(df['session_duration'].min())\n",
    "df[df['session_duration'] == df['session_duration'].min()].shape"
   ]
  },
  {
   "cell_type": "markdown",
   "metadata": {},
   "source": []
  },
  {
   "cell_type": "code",
   "execution_count": 8,
   "metadata": {},
   "outputs": [
    {
     "data": {
      "text/html": [
       "<pre style=\"white-space:pre;overflow-x:auto;line-height:normal;font-family:Menlo,'DejaVu Sans Mono',consolas,'Courier New',monospace\">\n",
       "<span style=\"color: #00ff00; text-decoration-color: #00ff00; font-weight: bold\">1</span><span style=\"color: #00ff00; text-decoration-color: #00ff00; font-weight: bold\">. Basic Dataset Information</span>\n",
       "</pre>\n"
      ],
      "text/plain": [
       "\n",
       "\u001b[1;92m1\u001b[0m\u001b[1;92m. Basic Dataset Information\u001b[0m\n"
      ]
     },
     "metadata": {},
     "output_type": "display_data"
    },
    {
     "data": {
      "text/html": [
       "<pre style=\"white-space:pre;overflow-x:auto;line-height:normal;font-family:Menlo,'DejaVu Sans Mono',consolas,'Courier New',monospace\">╭─────────────────────────────────────────────────────────────────────────────────────────────────────────────────╮\n",
       "│ Dataset Shape: (1850109, 31)                                                                                    │\n",
       "╰─────────────────────────────────────────────────────────────────────────────────────────────────────────────────╯\n",
       "</pre>\n"
      ],
      "text/plain": [
       "╭─────────────────────────────────────────────────────────────────────────────────────────────────────────────────╮\n",
       "│ Dataset Shape: (1850109, 31)                                                                                    │\n",
       "╰─────────────────────────────────────────────────────────────────────────────────────────────────────────────────╯\n"
      ]
     },
     "metadata": {},
     "output_type": "display_data"
    },
    {
     "data": {
      "text/html": [
       "<pre style=\"white-space:pre;overflow-x:auto;line-height:normal;font-family:Menlo,'DejaVu Sans Mono',consolas,'Courier New',monospace\">\n",
       "<span style=\"color: #ffff00; text-decoration-color: #ffff00\">Columns:</span>\n",
       "<span style=\"font-weight: bold\">[</span>\n",
       "    <span style=\"color: #008000; text-decoration-color: #008000\">'$insert_id'</span>,\n",
       "    <span style=\"color: #008000; text-decoration-color: #008000\">'amplitude_id'</span>,\n",
       "    <span style=\"color: #008000; text-decoration-color: #008000\">'app'</span>,\n",
       "    <span style=\"color: #008000; text-decoration-color: #008000\">'city'</span>,\n",
       "    <span style=\"color: #008000; text-decoration-color: #008000\">'client_event_time'</span>,\n",
       "    <span style=\"color: #008000; text-decoration-color: #008000\">'client_upload_time'</span>,\n",
       "    <span style=\"color: #008000; text-decoration-color: #008000\">'country'</span>,\n",
       "    <span style=\"color: #008000; text-decoration-color: #008000\">'data'</span>,\n",
       "    <span style=\"color: #008000; text-decoration-color: #008000\">'data_type'</span>,\n",
       "    <span style=\"color: #008000; text-decoration-color: #008000\">'device_family'</span>,\n",
       "    <span style=\"color: #008000; text-decoration-color: #008000\">'device_id'</span>,\n",
       "    <span style=\"color: #008000; text-decoration-color: #008000\">'device_type'</span>,\n",
       "    <span style=\"color: #008000; text-decoration-color: #008000\">'dma'</span>,\n",
       "    <span style=\"color: #008000; text-decoration-color: #008000\">'event_id'</span>,\n",
       "    <span style=\"color: #008000; text-decoration-color: #008000\">'event_properties'</span>,\n",
       "    <span style=\"color: #008000; text-decoration-color: #008000\">'event_time'</span>,\n",
       "    <span style=\"color: #008000; text-decoration-color: #008000\">'event_type'</span>,\n",
       "    <span style=\"color: #008000; text-decoration-color: #008000\">'language'</span>,\n",
       "    <span style=\"color: #008000; text-decoration-color: #008000\">'library'</span>,\n",
       "    <span style=\"color: #008000; text-decoration-color: #008000\">'os_name'</span>,\n",
       "    <span style=\"color: #008000; text-decoration-color: #008000\">'os_version'</span>,\n",
       "    <span style=\"color: #008000; text-decoration-color: #008000\">'platform'</span>,\n",
       "    <span style=\"color: #008000; text-decoration-color: #008000\">'processed_time'</span>,\n",
       "    <span style=\"color: #008000; text-decoration-color: #008000\">'region'</span>,\n",
       "    <span style=\"color: #008000; text-decoration-color: #008000\">'server_received_time'</span>,\n",
       "    <span style=\"color: #008000; text-decoration-color: #008000\">'server_upload_time'</span>,\n",
       "    <span style=\"color: #008000; text-decoration-color: #008000\">'session_id'</span>,\n",
       "    <span style=\"color: #008000; text-decoration-color: #008000\">'user_id'</span>,\n",
       "    <span style=\"color: #008000; text-decoration-color: #008000\">'user_properties'</span>,\n",
       "    <span style=\"color: #008000; text-decoration-color: #008000\">'uuid'</span>,\n",
       "    <span style=\"color: #008000; text-decoration-color: #008000\">'session_duration'</span>\n",
       "<span style=\"font-weight: bold\">]</span>\n",
       "</pre>\n"
      ],
      "text/plain": [
       "\n",
       "\u001b[93mColumns:\u001b[0m\n",
       "\u001b[1m[\u001b[0m\n",
       "    \u001b[32m'$insert_id'\u001b[0m,\n",
       "    \u001b[32m'amplitude_id'\u001b[0m,\n",
       "    \u001b[32m'app'\u001b[0m,\n",
       "    \u001b[32m'city'\u001b[0m,\n",
       "    \u001b[32m'client_event_time'\u001b[0m,\n",
       "    \u001b[32m'client_upload_time'\u001b[0m,\n",
       "    \u001b[32m'country'\u001b[0m,\n",
       "    \u001b[32m'data'\u001b[0m,\n",
       "    \u001b[32m'data_type'\u001b[0m,\n",
       "    \u001b[32m'device_family'\u001b[0m,\n",
       "    \u001b[32m'device_id'\u001b[0m,\n",
       "    \u001b[32m'device_type'\u001b[0m,\n",
       "    \u001b[32m'dma'\u001b[0m,\n",
       "    \u001b[32m'event_id'\u001b[0m,\n",
       "    \u001b[32m'event_properties'\u001b[0m,\n",
       "    \u001b[32m'event_time'\u001b[0m,\n",
       "    \u001b[32m'event_type'\u001b[0m,\n",
       "    \u001b[32m'language'\u001b[0m,\n",
       "    \u001b[32m'library'\u001b[0m,\n",
       "    \u001b[32m'os_name'\u001b[0m,\n",
       "    \u001b[32m'os_version'\u001b[0m,\n",
       "    \u001b[32m'platform'\u001b[0m,\n",
       "    \u001b[32m'processed_time'\u001b[0m,\n",
       "    \u001b[32m'region'\u001b[0m,\n",
       "    \u001b[32m'server_received_time'\u001b[0m,\n",
       "    \u001b[32m'server_upload_time'\u001b[0m,\n",
       "    \u001b[32m'session_id'\u001b[0m,\n",
       "    \u001b[32m'user_id'\u001b[0m,\n",
       "    \u001b[32m'user_properties'\u001b[0m,\n",
       "    \u001b[32m'uuid'\u001b[0m,\n",
       "    \u001b[32m'session_duration'\u001b[0m\n",
       "\u001b[1m]\u001b[0m\n"
      ]
     },
     "metadata": {},
     "output_type": "display_data"
    },
    {
     "data": {
      "text/html": [
       "<pre style=\"white-space:pre;overflow-x:auto;line-height:normal;font-family:Menlo,'DejaVu Sans Mono',consolas,'Courier New',monospace\">\n",
       "<span style=\"color: #ffff00; text-decoration-color: #ffff00\">Data Types:</span>\n",
       "</pre>\n"
      ],
      "text/plain": [
       "\n",
       "\u001b[93mData Types:\u001b[0m\n"
      ]
     },
     "metadata": {},
     "output_type": "display_data"
    },
    {
     "data": {
      "text/html": [
       "<pre style=\"white-space:pre;overflow-x:auto;line-height:normal;font-family:Menlo,'DejaVu Sans Mono',consolas,'Courier New',monospace\">$insert_id                       object\n",
       "amplitude_id                      int64\n",
       "app                               int64\n",
       "city                             object\n",
       "client_event_time        datetime64<span style=\"font-weight: bold\">[</span>ns<span style=\"font-weight: bold\">]</span>\n",
       "client_upload_time       datetime64<span style=\"font-weight: bold\">[</span>ns<span style=\"font-weight: bold\">]</span>\n",
       "country                          object\n",
       "data                             object\n",
       "data_type                        object\n",
       "device_family                    object\n",
       "device_id                        object\n",
       "device_type                      object\n",
       "dma                              object\n",
       "event_id                          int64\n",
       "event_properties                 object\n",
       "event_time                       object\n",
       "event_type                       object\n",
       "language                         object\n",
       "library                          object\n",
       "os_name                          object\n",
       "os_version                        int64\n",
       "platform                         object\n",
       "processed_time           datetime64<span style=\"font-weight: bold\">[</span>ns<span style=\"font-weight: bold\">]</span>\n",
       "region                           object\n",
       "server_received_time     datetime64<span style=\"font-weight: bold\">[</span>ns<span style=\"font-weight: bold\">]</span>\n",
       "server_upload_time       datetime64<span style=\"font-weight: bold\">[</span>ns<span style=\"font-weight: bold\">]</span>\n",
       "session_id                        int64\n",
       "user_id                          object\n",
       "user_properties                  object\n",
       "uuid                             object\n",
       "session_duration        timedelta64<span style=\"font-weight: bold\">[</span>ns<span style=\"font-weight: bold\">]</span>\n",
       "dtype: object\n",
       "</pre>\n"
      ],
      "text/plain": [
       "$insert_id                       object\n",
       "amplitude_id                      int64\n",
       "app                               int64\n",
       "city                             object\n",
       "client_event_time        datetime64\u001b[1m[\u001b[0mns\u001b[1m]\u001b[0m\n",
       "client_upload_time       datetime64\u001b[1m[\u001b[0mns\u001b[1m]\u001b[0m\n",
       "country                          object\n",
       "data                             object\n",
       "data_type                        object\n",
       "device_family                    object\n",
       "device_id                        object\n",
       "device_type                      object\n",
       "dma                              object\n",
       "event_id                          int64\n",
       "event_properties                 object\n",
       "event_time                       object\n",
       "event_type                       object\n",
       "language                         object\n",
       "library                          object\n",
       "os_name                          object\n",
       "os_version                        int64\n",
       "platform                         object\n",
       "processed_time           datetime64\u001b[1m[\u001b[0mns\u001b[1m]\u001b[0m\n",
       "region                           object\n",
       "server_received_time     datetime64\u001b[1m[\u001b[0mns\u001b[1m]\u001b[0m\n",
       "server_upload_time       datetime64\u001b[1m[\u001b[0mns\u001b[1m]\u001b[0m\n",
       "session_id                        int64\n",
       "user_id                          object\n",
       "user_properties                  object\n",
       "uuid                             object\n",
       "session_duration        timedelta64\u001b[1m[\u001b[0mns\u001b[1m]\u001b[0m\n",
       "dtype: object\n"
      ]
     },
     "metadata": {},
     "output_type": "display_data"
    },
    {
     "data": {
      "text/html": [
       "<pre style=\"white-space:pre;overflow-x:auto;line-height:normal;font-family:Menlo,'DejaVu Sans Mono',consolas,'Courier New',monospace\">\n",
       "<span style=\"color: #ffff00; text-decoration-color: #ffff00\">Missing Values:</span>\n",
       "</pre>\n"
      ],
      "text/plain": [
       "\n",
       "\u001b[93mMissing Values:\u001b[0m\n"
      ]
     },
     "metadata": {},
     "output_type": "display_data"
    },
    {
     "data": {
      "text/html": [
       "<pre style=\"white-space:pre;overflow-x:auto;line-height:normal;font-family:Menlo,'DejaVu Sans Mono',consolas,'Courier New',monospace\">$insert_id                   <span style=\"color: #008080; text-decoration-color: #008080; font-weight: bold\">0</span>\n",
       "amplitude_id                 <span style=\"color: #008080; text-decoration-color: #008080; font-weight: bold\">0</span>\n",
       "app                          <span style=\"color: #008080; text-decoration-color: #008080; font-weight: bold\">0</span>\n",
       "city                     <span style=\"color: #008080; text-decoration-color: #008080; font-weight: bold\">33543</span>\n",
       "client_event_time            <span style=\"color: #008080; text-decoration-color: #008080; font-weight: bold\">0</span>\n",
       "client_upload_time           <span style=\"color: #008080; text-decoration-color: #008080; font-weight: bold\">0</span>\n",
       "country                      <span style=\"color: #008080; text-decoration-color: #008080; font-weight: bold\">0</span>\n",
       "data                         <span style=\"color: #008080; text-decoration-color: #008080; font-weight: bold\">0</span>\n",
       "data_type                    <span style=\"color: #008080; text-decoration-color: #008080; font-weight: bold\">0</span>\n",
       "device_family                <span style=\"color: #008080; text-decoration-color: #008080; font-weight: bold\">0</span>\n",
       "device_id                    <span style=\"color: #008080; text-decoration-color: #008080; font-weight: bold\">0</span>\n",
       "device_type             <span style=\"color: #008080; text-decoration-color: #008080; font-weight: bold\">290193</span>\n",
       "dma                     <span style=\"color: #008080; text-decoration-color: #008080; font-weight: bold\">512300</span>\n",
       "event_id                     <span style=\"color: #008080; text-decoration-color: #008080; font-weight: bold\">0</span>\n",
       "event_properties             <span style=\"color: #008080; text-decoration-color: #008080; font-weight: bold\">0</span>\n",
       "event_time                   <span style=\"color: #008080; text-decoration-color: #008080; font-weight: bold\">0</span>\n",
       "event_type                   <span style=\"color: #008080; text-decoration-color: #008080; font-weight: bold\">0</span>\n",
       "language                     <span style=\"color: #008080; text-decoration-color: #008080; font-weight: bold\">0</span>\n",
       "library                      <span style=\"color: #008080; text-decoration-color: #008080; font-weight: bold\">0</span>\n",
       "os_name                      <span style=\"color: #008080; text-decoration-color: #008080; font-weight: bold\">0</span>\n",
       "os_version                   <span style=\"color: #008080; text-decoration-color: #008080; font-weight: bold\">0</span>\n",
       "platform                     <span style=\"color: #008080; text-decoration-color: #008080; font-weight: bold\">0</span>\n",
       "processed_time               <span style=\"color: #008080; text-decoration-color: #008080; font-weight: bold\">0</span>\n",
       "region                   <span style=\"color: #008080; text-decoration-color: #008080; font-weight: bold\">16521</span>\n",
       "server_received_time         <span style=\"color: #008080; text-decoration-color: #008080; font-weight: bold\">0</span>\n",
       "server_upload_time           <span style=\"color: #008080; text-decoration-color: #008080; font-weight: bold\">0</span>\n",
       "session_id                   <span style=\"color: #008080; text-decoration-color: #008080; font-weight: bold\">0</span>\n",
       "user_id                   <span style=\"color: #008080; text-decoration-color: #008080; font-weight: bold\">7389</span>\n",
       "user_properties              <span style=\"color: #008080; text-decoration-color: #008080; font-weight: bold\">0</span>\n",
       "uuid                         <span style=\"color: #008080; text-decoration-color: #008080; font-weight: bold\">0</span>\n",
       "session_duration             <span style=\"color: #008080; text-decoration-color: #008080; font-weight: bold\">0</span>\n",
       "dtype: int64\n",
       "</pre>\n"
      ],
      "text/plain": [
       "$insert_id                   \u001b[1;36m0\u001b[0m\n",
       "amplitude_id                 \u001b[1;36m0\u001b[0m\n",
       "app                          \u001b[1;36m0\u001b[0m\n",
       "city                     \u001b[1;36m33543\u001b[0m\n",
       "client_event_time            \u001b[1;36m0\u001b[0m\n",
       "client_upload_time           \u001b[1;36m0\u001b[0m\n",
       "country                      \u001b[1;36m0\u001b[0m\n",
       "data                         \u001b[1;36m0\u001b[0m\n",
       "data_type                    \u001b[1;36m0\u001b[0m\n",
       "device_family                \u001b[1;36m0\u001b[0m\n",
       "device_id                    \u001b[1;36m0\u001b[0m\n",
       "device_type             \u001b[1;36m290193\u001b[0m\n",
       "dma                     \u001b[1;36m512300\u001b[0m\n",
       "event_id                     \u001b[1;36m0\u001b[0m\n",
       "event_properties             \u001b[1;36m0\u001b[0m\n",
       "event_time                   \u001b[1;36m0\u001b[0m\n",
       "event_type                   \u001b[1;36m0\u001b[0m\n",
       "language                     \u001b[1;36m0\u001b[0m\n",
       "library                      \u001b[1;36m0\u001b[0m\n",
       "os_name                      \u001b[1;36m0\u001b[0m\n",
       "os_version                   \u001b[1;36m0\u001b[0m\n",
       "platform                     \u001b[1;36m0\u001b[0m\n",
       "processed_time               \u001b[1;36m0\u001b[0m\n",
       "region                   \u001b[1;36m16521\u001b[0m\n",
       "server_received_time         \u001b[1;36m0\u001b[0m\n",
       "server_upload_time           \u001b[1;36m0\u001b[0m\n",
       "session_id                   \u001b[1;36m0\u001b[0m\n",
       "user_id                   \u001b[1;36m7389\u001b[0m\n",
       "user_properties              \u001b[1;36m0\u001b[0m\n",
       "uuid                         \u001b[1;36m0\u001b[0m\n",
       "session_duration             \u001b[1;36m0\u001b[0m\n",
       "dtype: int64\n"
      ]
     },
     "metadata": {},
     "output_type": "display_data"
    }
   ],
   "source": [
    "# 1. Basic Dataset Information\n",
    "# https://rich.readthedocs.io/en/stable/appendix/colors.html to refer to colors\n",
    "console.print(\"\\n[bold bright_green]1. Basic Dataset Information[/bold bright_green]\", style=\"bold\")\n",
    "console.print(Panel(f\"Dataset Shape: {df.shape}\"))\n",
    "console.print(\"\\n[bright_yellow]Columns:[/bright_yellow]\", df.columns.tolist())\n",
    "console.print(\"\\n[bright_yellow]Data Types:[/bright_yellow]\")\n",
    "console.print(df.dtypes)\n",
    "console.print(\"\\n[bright_yellow]Missing Values:[/bright_yellow]\")\n",
    "console.print(df.isnull().sum())"
   ]
  },
  {
   "cell_type": "code",
   "execution_count": 9,
   "metadata": {},
   "outputs": [
    {
     "data": {
      "text/html": [
       "<pre style=\"white-space:pre;overflow-x:auto;line-height:normal;font-family:Menlo,'DejaVu Sans Mono',consolas,'Courier New',monospace\">\n",
       "<span style=\"color: #00ff00; text-decoration-color: #00ff00; font-weight: bold\">2</span><span style=\"color: #00ff00; text-decoration-color: #00ff00; font-weight: bold\">. User Activity Analysis</span>\n",
       "</pre>\n"
      ],
      "text/plain": [
       "\n",
       "\u001b[1;92m2\u001b[0m\u001b[1;92m. User Activity Analysis\u001b[0m\n"
      ]
     },
     "metadata": {},
     "output_type": "display_data"
    },
    {
     "data": {
      "text/html": [
       "<pre style=\"white-space:pre;overflow-x:auto;line-height:normal;font-family:Menlo,'DejaVu Sans Mono',consolas,'Courier New',monospace\">┏━━━━━━━━━━━━━━━━━━━━━━━━━━━┳━━━━━━━━━┓\n",
       "┃<span style=\"color: #ffff00; text-decoration-color: #ffff00; font-weight: bold\"> Metric                    </span>┃<span style=\"color: #ffff00; text-decoration-color: #ffff00; font-weight: bold\"> Value   </span>┃\n",
       "┡━━━━━━━━━━━━━━━━━━━━━━━━━━━╇━━━━━━━━━┩\n",
       "│ Unique Users              │ 868     │\n",
       "│ Unique Sessions           │ 59868   │\n",
       "│ Events per User (Average) │ 2131.46 │\n",
       "└───────────────────────────┴─────────┘\n",
       "</pre>\n"
      ],
      "text/plain": [
       "┏━━━━━━━━━━━━━━━━━━━━━━━━━━━┳━━━━━━━━━┓\n",
       "┃\u001b[1;93m \u001b[0m\u001b[1;93mMetric                   \u001b[0m\u001b[1;93m \u001b[0m┃\u001b[1;93m \u001b[0m\u001b[1;93mValue  \u001b[0m\u001b[1;93m \u001b[0m┃\n",
       "┡━━━━━━━━━━━━━━━━━━━━━━━━━━━╇━━━━━━━━━┩\n",
       "│ Unique Users              │ 868     │\n",
       "│ Unique Sessions           │ 59868   │\n",
       "│ Events per User (Average) │ 2131.46 │\n",
       "└───────────────────────────┴─────────┘\n"
      ]
     },
     "metadata": {},
     "output_type": "display_data"
    }
   ],
   "source": [
    "# 2. User Activity Analysis\n",
    "console.print(\"\\n[bold bright_green]2. User Activity Analysis[/bold bright_green]\", style=\"bold\")\n",
    "stats_table = Table(show_header=True, header_style=\"bold bright_yellow\")\n",
    "stats_table.add_column(\"Metric\")\n",
    "stats_table.add_column(\"Value\")\n",
    "stats_table.add_row(\"Unique Users\", str(df['user_id'].nunique()))\n",
    "stats_table.add_row(\"Unique Sessions\", str(df['session_id'].nunique()))\n",
    "stats_table.add_row(\"Events per User (Average)\", f\"{len(df) / df['user_id'].nunique():.2f}\")\n",
    "console.print(stats_table)"
   ]
  },
  {
   "cell_type": "code",
   "execution_count": 10,
   "metadata": {},
   "outputs": [
    {
     "data": {
      "text/html": [
       "<pre style=\"white-space:pre;overflow-x:auto;line-height:normal;font-family:Menlo,'DejaVu Sans Mono',consolas,'Courier New',monospace\">\n",
       "<span style=\"color: #00ff00; text-decoration-color: #00ff00; font-weight: bold\">3</span><span style=\"color: #00ff00; text-decoration-color: #00ff00; font-weight: bold\">. Device &amp; Platform Distribution</span>\n",
       "</pre>\n"
      ],
      "text/plain": [
       "\n",
       "\u001b[1;92m3\u001b[0m\u001b[1;92m. Device & Platform Distribution\u001b[0m\n"
      ]
     },
     "metadata": {},
     "output_type": "display_data"
    },
    {
     "data": {
      "text/html": [
       "<pre style=\"white-space:pre;overflow-x:auto;line-height:normal;font-family:Menlo,'DejaVu Sans Mono',consolas,'Courier New',monospace\">\n",
       "<span style=\"color: #ffff00; text-decoration-color: #ffff00\">Device Distribution:</span>\n",
       "</pre>\n"
      ],
      "text/plain": [
       "\n",
       "\u001b[93mDevice Distribution:\u001b[0m\n"
      ]
     },
     "metadata": {},
     "output_type": "display_data"
    },
    {
     "data": {
      "text/html": [
       "<pre style=\"white-space:pre;overflow-x:auto;line-height:normal;font-family:Menlo,'DejaVu Sans Mono',consolas,'Courier New',monospace\">╭─────────────────────────────────────────────────────────────────────────────────────────────────────────────────╮\n",
       "│ device_family                                                                                                   │\n",
       "│ Windows     81.8                                                                                                │\n",
       "│ Mac OS X    15.6                                                                                                │\n",
       "│ Linux        2.5                                                                                                │\n",
       "│ iOS          0.1                                                                                                │\n",
       "│ Android      0.0                                                                                                │\n",
       "│ Name: proportion, dtype: float64                                                                                │\n",
       "╰─────────────────────────────────────────────────────────────────────────────────────────────────────────────────╯\n",
       "</pre>\n"
      ],
      "text/plain": [
       "╭─────────────────────────────────────────────────────────────────────────────────────────────────────────────────╮\n",
       "│ device_family                                                                                                   │\n",
       "│ Windows     81.8                                                                                                │\n",
       "│ Mac OS X    15.6                                                                                                │\n",
       "│ Linux        2.5                                                                                                │\n",
       "│ iOS          0.1                                                                                                │\n",
       "│ Android      0.0                                                                                                │\n",
       "│ Name: proportion, dtype: float64                                                                                │\n",
       "╰─────────────────────────────────────────────────────────────────────────────────────────────────────────────────╯\n"
      ]
     },
     "metadata": {},
     "output_type": "display_data"
    },
    {
     "data": {
      "text/html": [
       "<pre style=\"white-space:pre;overflow-x:auto;line-height:normal;font-family:Menlo,'DejaVu Sans Mono',consolas,'Courier New',monospace\">\n",
       "<span style=\"color: #ffff00; text-decoration-color: #ffff00\">Platform Distribution:</span>\n",
       "</pre>\n"
      ],
      "text/plain": [
       "\n",
       "\u001b[93mPlatform Distribution:\u001b[0m\n"
      ]
     },
     "metadata": {},
     "output_type": "display_data"
    },
    {
     "data": {
      "text/html": [
       "<pre style=\"white-space:pre;overflow-x:auto;line-height:normal;font-family:Menlo,'DejaVu Sans Mono',consolas,'Courier New',monospace\">╭─────────────────────────────────────────────────────────────────────────────────────────────────────────────────╮\n",
       "│ platform                                                                                                        │\n",
       "│ Web    100.0                                                                                                    │\n",
       "│ Name: proportion, dtype: float64                                                                                │\n",
       "╰─────────────────────────────────────────────────────────────────────────────────────────────────────────────────╯\n",
       "</pre>\n"
      ],
      "text/plain": [
       "╭─────────────────────────────────────────────────────────────────────────────────────────────────────────────────╮\n",
       "│ platform                                                                                                        │\n",
       "│ Web    100.0                                                                                                    │\n",
       "│ Name: proportion, dtype: float64                                                                                │\n",
       "╰─────────────────────────────────────────────────────────────────────────────────────────────────────────────────╯\n"
      ]
     },
     "metadata": {},
     "output_type": "display_data"
    }
   ],
   "source": [
    "# 3. Device & Platform Distribution\n",
    "console.print(\"\\n[bold bright_green]3. Device & Platform Distribution[/bold bright_green]\", style=\"bold\")\n",
    "console.print(\"\\n[bright_yellow]Device Distribution:[/bright_yellow]\")\n",
    "console.print(Panel(str(df['device_family'].value_counts(normalize=True).round(3) * 100)))\n",
    "console.print(\"\\n[bright_yellow]Platform Distribution:[/bright_yellow]\")\n",
    "console.print(Panel(str(df['platform'].value_counts(normalize=True).round(3) * 100)))"
   ]
  },
  {
   "cell_type": "code",
   "execution_count": 11,
   "metadata": {},
   "outputs": [
    {
     "data": {
      "text/html": [
       "<pre style=\"white-space:pre;overflow-x:auto;line-height:normal;font-family:Menlo,'DejaVu Sans Mono',consolas,'Courier New',monospace\">\n",
       "<span style=\"color: #00ff00; text-decoration-color: #00ff00; font-weight: bold\">4</span><span style=\"color: #00ff00; text-decoration-color: #00ff00; font-weight: bold\">. Geographic Distribution</span>\n",
       "</pre>\n"
      ],
      "text/plain": [
       "\n",
       "\u001b[1;92m4\u001b[0m\u001b[1;92m. Geographic Distribution\u001b[0m\n"
      ]
     },
     "metadata": {},
     "output_type": "display_data"
    },
    {
     "data": {
      "text/html": [
       "<pre style=\"white-space:pre;overflow-x:auto;line-height:normal;font-family:Menlo,'DejaVu Sans Mono',consolas,'Courier New',monospace\">\n",
       "<span style=\"color: #ffff00; text-decoration-color: #ffff00\">Top </span><span style=\"color: #ffff00; text-decoration-color: #ffff00; font-weight: bold\">10</span><span style=\"color: #ffff00; text-decoration-color: #ffff00\"> Cities:</span>\n",
       "</pre>\n"
      ],
      "text/plain": [
       "\n",
       "\u001b[93mTop \u001b[0m\u001b[1;93m10\u001b[0m\u001b[93m Cities:\u001b[0m\n"
      ]
     },
     "metadata": {},
     "output_type": "display_data"
    },
    {
     "data": {
      "text/html": [
       "<pre style=\"white-space:pre;overflow-x:auto;line-height:normal;font-family:Menlo,'DejaVu Sans Mono',consolas,'Courier New',monospace\">╭─────────────────────────────────────────────────────────────────────────────────────────────────────────────────╮\n",
       "│ city                                                                                                            │\n",
       "│ Mumbai         399477                                                                                           │\n",
       "│ Nashville      286693                                                                                           │\n",
       "│ Spring Hill     74781                                                                                           │\n",
       "│ Chicago         71692                                                                                           │\n",
       "│ Birmingham      49854                                                                                           │\n",
       "│ Greenville      45706                                                                                           │\n",
       "│ Alexandria      38848                                                                                           │\n",
       "│ Wroclaw         33788                                                                                           │\n",
       "│ Phoenix         31894                                                                                           │\n",
       "│ Des Moines      27699                                                                                           │\n",
       "│ Name: count, dtype: int64                                                                                       │\n",
       "╰─────────────────────────────────────────────────────────────────────────────────────────────────────────────────╯\n",
       "</pre>\n"
      ],
      "text/plain": [
       "╭─────────────────────────────────────────────────────────────────────────────────────────────────────────────────╮\n",
       "│ city                                                                                                            │\n",
       "│ Mumbai         399477                                                                                           │\n",
       "│ Nashville      286693                                                                                           │\n",
       "│ Spring Hill     74781                                                                                           │\n",
       "│ Chicago         71692                                                                                           │\n",
       "│ Birmingham      49854                                                                                           │\n",
       "│ Greenville      45706                                                                                           │\n",
       "│ Alexandria      38848                                                                                           │\n",
       "│ Wroclaw         33788                                                                                           │\n",
       "│ Phoenix         31894                                                                                           │\n",
       "│ Des Moines      27699                                                                                           │\n",
       "│ Name: count, dtype: int64                                                                                       │\n",
       "╰─────────────────────────────────────────────────────────────────────────────────────────────────────────────────╯\n"
      ]
     },
     "metadata": {},
     "output_type": "display_data"
    },
    {
     "data": {
      "text/html": [
       "<pre style=\"white-space:pre;overflow-x:auto;line-height:normal;font-family:Menlo,'DejaVu Sans Mono',consolas,'Courier New',monospace\">\n",
       "<span style=\"color: #ffff00; text-decoration-color: #ffff00\">State/Region Distribution:</span>\n",
       "</pre>\n"
      ],
      "text/plain": [
       "\n",
       "\u001b[93mState/Region Distribution:\u001b[0m\n"
      ]
     },
     "metadata": {},
     "output_type": "display_data"
    },
    {
     "data": {
      "text/html": [
       "<pre style=\"white-space:pre;overflow-x:auto;line-height:normal;font-family:Menlo,'DejaVu Sans Mono',consolas,'Courier New',monospace\">╭─────────────────────────────────────────────────────────────────────────────────────────────────────────────────╮\n",
       "│ region                                                                                                          │\n",
       "│ Maharashtra       399477                                                                                        │\n",
       "│ Tennessee         383475                                                                                        │\n",
       "│ Illinois          103032                                                                                        │\n",
       "│ Iowa               95680                                                                                        │\n",
       "│ Georgia            75776                                                                                        │\n",
       "│ South Carolina     74163                                                                                        │\n",
       "│ Virginia           70494                                                                                        │\n",
       "│ Alabama            68398                                                                                        │\n",
       "│ California         66066                                                                                        │\n",
       "│ Florida            60664                                                                                        │\n",
       "│ Name: count, dtype: int64                                                                                       │\n",
       "╰─────────────────────────────────────────────────────────────────────────────────────────────────────────────────╯\n",
       "</pre>\n"
      ],
      "text/plain": [
       "╭─────────────────────────────────────────────────────────────────────────────────────────────────────────────────╮\n",
       "│ region                                                                                                          │\n",
       "│ Maharashtra       399477                                                                                        │\n",
       "│ Tennessee         383475                                                                                        │\n",
       "│ Illinois          103032                                                                                        │\n",
       "│ Iowa               95680                                                                                        │\n",
       "│ Georgia            75776                                                                                        │\n",
       "│ South Carolina     74163                                                                                        │\n",
       "│ Virginia           70494                                                                                        │\n",
       "│ Alabama            68398                                                                                        │\n",
       "│ California         66066                                                                                        │\n",
       "│ Florida            60664                                                                                        │\n",
       "│ Name: count, dtype: int64                                                                                       │\n",
       "╰─────────────────────────────────────────────────────────────────────────────────────────────────────────────────╯\n"
      ]
     },
     "metadata": {},
     "output_type": "display_data"
    }
   ],
   "source": [
    "# 4. Geographic Distribution\n",
    "console.print(\"\\n[bold bright_green]4. Geographic Distribution[/bold bright_green]\", style=\"bold\")\n",
    "console.print(\"\\n[bright_yellow]Top 10 Cities:[/bright_yellow]\")\n",
    "console.print(Panel(str(df['city'].value_counts().head(10))))\n",
    "\n",
    "console.print(\"\\n[bright_yellow]State/Region Distribution:[/bright_yellow]\")\n",
    "console.print(Panel(str(df['region'].value_counts().head(10))))"
   ]
  },
  {
   "cell_type": "code",
   "execution_count": 12,
   "metadata": {},
   "outputs": [
    {
     "data": {
      "text/html": [
       "<pre style=\"white-space:pre;overflow-x:auto;line-height:normal;font-family:Menlo,'DejaVu Sans Mono',consolas,'Courier New',monospace\">\n",
       "<span style=\"color: #00ff00; text-decoration-color: #00ff00; font-weight: bold\">5</span><span style=\"color: #00ff00; text-decoration-color: #00ff00; font-weight: bold\">. Temporal Analysis</span>\n",
       "</pre>\n"
      ],
      "text/plain": [
       "\n",
       "\u001b[1;92m5\u001b[0m\u001b[1;92m. Temporal Analysis\u001b[0m\n"
      ]
     },
     "metadata": {},
     "output_type": "display_data"
    },
    {
     "data": {
      "text/html": [
       "<pre style=\"white-space:pre;overflow-x:auto;line-height:normal;font-family:Menlo,'DejaVu Sans Mono',consolas,'Courier New',monospace\">\n",
       "<span style=\"color: #ffff00; text-decoration-color: #ffff00\">Events by Hour of Day:</span>\n",
       "</pre>\n"
      ],
      "text/plain": [
       "\n",
       "\u001b[93mEvents by Hour of Day:\u001b[0m\n"
      ]
     },
     "metadata": {},
     "output_type": "display_data"
    },
    {
     "data": {
      "text/html": [
       "<pre style=\"white-space:pre;overflow-x:auto;line-height:normal;font-family:Menlo,'DejaVu Sans Mono',consolas,'Courier New',monospace\">╭─────────────────────────────────────────────────────────────────────────────────────────────────────────────────╮\n",
       "│ hour                                                                                                            │\n",
       "│ 0      17412                                                                                                    │\n",
       "│ 1      13352                                                                                                    │\n",
       "│ 2      11367                                                                                                    │\n",
       "│ 3      15187                                                                                                    │\n",
       "│ 4      35544                                                                                                    │\n",
       "│ 5      52265                                                                                                    │\n",
       "│ 6      55000                                                                                                    │\n",
       "│ 7      54778                                                                                                    │\n",
       "│ 8      56650                                                                                                    │\n",
       "│ 9      55150                                                                                                    │\n",
       "│ 10     65470                                                                                                    │\n",
       "│ 11     64175                                                                                                    │\n",
       "│ 12     67925                                                                                                    │\n",
       "│ 13     91591                                                                                                    │\n",
       "│ 14    133045                                                                                                    │\n",
       "│ 15    160241                                                                                                    │\n",
       "│ 16    151129                                                                                                    │\n",
       "│ 17    131961                                                                                                    │\n",
       "│ 18    121523                                                                                                    │\n",
       "│ 19    137684                                                                                                    │\n",
       "│ 20    131027                                                                                                    │\n",
       "│ 21    113741                                                                                                    │\n",
       "│ 22     76740                                                                                                    │\n",
       "│ 23     37152                                                                                                    │\n",
       "│ Name: count, dtype: int64                                                                                       │\n",
       "╰─────────────────────────────────────────────────────────────────────────────────────────────────────────────────╯\n",
       "</pre>\n"
      ],
      "text/plain": [
       "╭─────────────────────────────────────────────────────────────────────────────────────────────────────────────────╮\n",
       "│ hour                                                                                                            │\n",
       "│ 0      17412                                                                                                    │\n",
       "│ 1      13352                                                                                                    │\n",
       "│ 2      11367                                                                                                    │\n",
       "│ 3      15187                                                                                                    │\n",
       "│ 4      35544                                                                                                    │\n",
       "│ 5      52265                                                                                                    │\n",
       "│ 6      55000                                                                                                    │\n",
       "│ 7      54778                                                                                                    │\n",
       "│ 8      56650                                                                                                    │\n",
       "│ 9      55150                                                                                                    │\n",
       "│ 10     65470                                                                                                    │\n",
       "│ 11     64175                                                                                                    │\n",
       "│ 12     67925                                                                                                    │\n",
       "│ 13     91591                                                                                                    │\n",
       "│ 14    133045                                                                                                    │\n",
       "│ 15    160241                                                                                                    │\n",
       "│ 16    151129                                                                                                    │\n",
       "│ 17    131961                                                                                                    │\n",
       "│ 18    121523                                                                                                    │\n",
       "│ 19    137684                                                                                                    │\n",
       "│ 20    131027                                                                                                    │\n",
       "│ 21    113741                                                                                                    │\n",
       "│ 22     76740                                                                                                    │\n",
       "│ 23     37152                                                                                                    │\n",
       "│ Name: count, dtype: int64                                                                                       │\n",
       "╰─────────────────────────────────────────────────────────────────────────────────────────────────────────────────╯\n"
      ]
     },
     "metadata": {},
     "output_type": "display_data"
    },
    {
     "data": {
      "text/html": [
       "<pre style=\"white-space:pre;overflow-x:auto;line-height:normal;font-family:Menlo,'DejaVu Sans Mono',consolas,'Courier New',monospace\">\n",
       "<span style=\"color: #ffff00; text-decoration-color: #ffff00\">Events by Day of Week:</span>\n",
       "</pre>\n"
      ],
      "text/plain": [
       "\n",
       "\u001b[93mEvents by Day of Week:\u001b[0m\n"
      ]
     },
     "metadata": {},
     "output_type": "display_data"
    },
    {
     "data": {
      "text/html": [
       "<pre style=\"white-space:pre;overflow-x:auto;line-height:normal;font-family:Menlo,'DejaVu Sans Mono',consolas,'Courier New',monospace\">╭─────────────────────────────────────────────────────────────────────────────────────────────────────────────────╮\n",
       "│ day_of_week                                                                                                     │\n",
       "│ Thursday     406228                                                                                             │\n",
       "│ Tuesday      380958                                                                                             │\n",
       "│ Friday       363600                                                                                             │\n",
       "│ Monday       353517                                                                                             │\n",
       "│ Wednesday    302410                                                                                             │\n",
       "│ Saturday      25515                                                                                             │\n",
       "│ Sunday        17881                                                                                             │\n",
       "│ Name: count, dtype: int64                                                                                       │\n",
       "╰─────────────────────────────────────────────────────────────────────────────────────────────────────────────────╯\n",
       "</pre>\n"
      ],
      "text/plain": [
       "╭─────────────────────────────────────────────────────────────────────────────────────────────────────────────────╮\n",
       "│ day_of_week                                                                                                     │\n",
       "│ Thursday     406228                                                                                             │\n",
       "│ Tuesday      380958                                                                                             │\n",
       "│ Friday       363600                                                                                             │\n",
       "│ Monday       353517                                                                                             │\n",
       "│ Wednesday    302410                                                                                             │\n",
       "│ Saturday      25515                                                                                             │\n",
       "│ Sunday        17881                                                                                             │\n",
       "│ Name: count, dtype: int64                                                                                       │\n",
       "╰─────────────────────────────────────────────────────────────────────────────────────────────────────────────────╯\n"
      ]
     },
     "metadata": {},
     "output_type": "display_data"
    }
   ],
   "source": [
    "# 5. Temporal Analysis\n",
    "df['hour'] = df['client_event_time'].dt.hour\n",
    "df['day_of_week'] = df['client_event_time'].dt.day_name()\n",
    "\n",
    "console.print(\"\\n[bold bright_green]5. Temporal Analysis[/bold bright_green]\", style=\"bold\")\n",
    "console.print(\"\\n[bright_yellow]Events by Hour of Day:[/bright_yellow]\")\n",
    "console.print(Panel(str(df['hour'].value_counts().sort_index())))\n",
    "\n",
    "console.print(\"\\n[bright_yellow]Events by Day of Week:[/bright_yellow]\") \n",
    "console.print(Panel(str(df['day_of_week'].value_counts())))"
   ]
  },
  {
   "cell_type": "code",
   "execution_count": 13,
   "metadata": {},
   "outputs": [
    {
     "data": {
      "text/html": [
       "<pre style=\"white-space:pre;overflow-x:auto;line-height:normal;font-family:Menlo,'DejaVu Sans Mono',consolas,'Courier New',monospace\">\n",
       "<span style=\"color: #00ff00; text-decoration-color: #00ff00; font-weight: bold\">6</span><span style=\"color: #00ff00; text-decoration-color: #00ff00; font-weight: bold\">. Session Analysis</span>\n",
       "</pre>\n"
      ],
      "text/plain": [
       "\n",
       "\u001b[1;92m6\u001b[0m\u001b[1;92m. Session Analysis\u001b[0m\n"
      ]
     },
     "metadata": {},
     "output_type": "display_data"
    },
    {
     "data": {
      "text/html": [
       "<pre style=\"white-space:pre;overflow-x:auto;line-height:normal;font-family:Menlo,'DejaVu Sans Mono',consolas,'Courier New',monospace\">\n",
       "<span style=\"color: #ffff00; text-decoration-color: #ffff00\">Session Duration Statistics </span><span style=\"color: #ffff00; text-decoration-color: #ffff00; font-weight: bold\">(</span><span style=\"color: #ffff00; text-decoration-color: #ffff00\">in minutes</span><span style=\"color: #ffff00; text-decoration-color: #ffff00; font-weight: bold\">)</span><span style=\"color: #ffff00; text-decoration-color: #ffff00\">:</span>\n",
       "</pre>\n"
      ],
      "text/plain": [
       "\n",
       "\u001b[93mSession Duration Statistics \u001b[0m\u001b[1;93m(\u001b[0m\u001b[93min minutes\u001b[0m\u001b[1;93m)\u001b[0m\u001b[93m:\u001b[0m\n"
      ]
     },
     "metadata": {},
     "output_type": "display_data"
    },
    {
     "data": {
      "text/html": [
       "<pre style=\"white-space:pre;overflow-x:auto;line-height:normal;font-family:Menlo,'DejaVu Sans Mono',consolas,'Courier New',monospace\">┏━━━━━━━━┳━━━━━━━━━━━━┓\n",
       "┃<span style=\"color: #ffff00; text-decoration-color: #ffff00; font-weight: bold\"> Metric </span>┃<span style=\"color: #ffff00; text-decoration-color: #ffff00; font-weight: bold\"> Value      </span>┃\n",
       "┡━━━━━━━━╇━━━━━━━━━━━━┩\n",
       "│ count  │ 1850109.00 │\n",
       "│ mean   │ 87.30      │\n",
       "│ std    │ 105.66     │\n",
       "│ min    │ 0.00       │\n",
       "│ 25%    │ 15.01      │\n",
       "│ 50%    │ 52.73      │\n",
       "│ 75%    │ 117.42     │\n",
       "│ max    │ 1527.65    │\n",
       "└────────┴────────────┘\n",
       "</pre>\n"
      ],
      "text/plain": [
       "┏━━━━━━━━┳━━━━━━━━━━━━┓\n",
       "┃\u001b[1;93m \u001b[0m\u001b[1;93mMetric\u001b[0m\u001b[1;93m \u001b[0m┃\u001b[1;93m \u001b[0m\u001b[1;93mValue     \u001b[0m\u001b[1;93m \u001b[0m┃\n",
       "┡━━━━━━━━╇━━━━━━━━━━━━┩\n",
       "│ count  │ 1850109.00 │\n",
       "│ mean   │ 87.30      │\n",
       "│ std    │ 105.66     │\n",
       "│ min    │ 0.00       │\n",
       "│ 25%    │ 15.01      │\n",
       "│ 50%    │ 52.73      │\n",
       "│ 75%    │ 117.42     │\n",
       "│ max    │ 1527.65    │\n",
       "└────────┴────────────┘\n"
      ]
     },
     "metadata": {},
     "output_type": "display_data"
    }
   ],
   "source": [
    "# 6. Session Analysis\n",
    "console.print(\"\\n[bold bright_green]6. Session Analysis[/bold bright_green]\", style=\"bold\")\n",
    "console.print(\"\\n[bright_yellow]Session Duration Statistics (in minutes):[/bright_yellow]\")\n",
    "stats_table = Table(show_header=True, header_style=\"bold bright_yellow\")\n",
    "stats_table.add_column(\"Metric\")\n",
    "stats_table.add_column(\"Value\")\n",
    "\n",
    "session_stats = df['session_duration'].dt.total_seconds().div(60).describe()\n",
    "for stat, value in session_stats.items():\n",
    "    stats_table.add_row(stat, f\"{value:.2f}\")\n",
    "\n",
    "console.print(stats_table)"
   ]
  },
  {
   "cell_type": "code",
   "execution_count": 14,
   "metadata": {},
   "outputs": [
    {
     "data": {
      "image/png": "[encoded data removed]",
      "text/plain": [
       "<Figure size 1200x600 with 1 Axes>"
      ]
     },
     "metadata": {},
     "output_type": "display_data"
    },
    {
     "data": {
      "image/png": "[encoded data removed]",
      "text/plain": [
       "<Figure size 1200x600 with 1 Axes>"
      ]
     },
     "metadata": {},
     "output_type": "display_data"
    },
    {
     "data": {
      "image/png": "[encoded data removed]",
      "text/plain": [
       "<Figure size 1000x600 with 1 Axes>"
      ]
     },
     "metadata": {},
     "output_type": "display_data"
    }
   ],
   "source": [
    "# 7. Create some visualizations using matplotlib\n",
    "import matplotlib.pyplot as plt\n",
    "\n",
    "# Events by Hour\n",
    "plt.figure(figsize=(12, 6))\n",
    "df['hour'].value_counts().sort_index().plot(kind='bar')\n",
    "plt.title('Events Distribution by Hour')\n",
    "plt.xlabel('Hour of Day')\n",
    "plt.ylabel('Number of Events')\n",
    "plt.show()\n",
    "\n",
    "# Session Duration Distribution\n",
    "plt.figure(figsize=(12, 6))\n",
    "df['session_duration'].dt.total_seconds().div(60).hist(bins=50)\n",
    "plt.title('Session Duration Distribution')\n",
    "plt.xlabel('Duration (minutes)')\n",
    "plt.ylabel('Frequency')\n",
    "plt.show()\n",
    "\n",
    "# Device Family Distribution\n",
    "plt.figure(figsize=(10, 6))\n",
    "df['device_family'].value_counts().plot(kind='pie', autopct='%1.1f%%')\n",
    "plt.title('Device Family Distribution')\n",
    "plt.show()"
   ]
  },
  {
   "cell_type": "code",
   "execution_count": 15,
   "metadata": {},
   "outputs": [
    {
     "data": {
      "text/html": [
       "<pre style=\"white-space:pre;overflow-x:auto;line-height:normal;font-family:Menlo,'DejaVu Sans Mono',consolas,'Courier New',monospace\">\n",
       "<span style=\"color: #00ff00; text-decoration-color: #00ff00; font-weight: bold\">8</span><span style=\"color: #00ff00; text-decoration-color: #00ff00; font-weight: bold\">. Statistical Summary</span>\n",
       "</pre>\n"
      ],
      "text/plain": [
       "\n",
       "\u001b[1;92m8\u001b[0m\u001b[1;92m. Statistical Summary\u001b[0m\n"
      ]
     },
     "metadata": {},
     "output_type": "display_data"
    },
    {
     "data": {
      "text/html": [
       "<pre style=\"white-space:pre;overflow-x:auto;line-height:normal;font-family:Menlo,'DejaVu Sans Mono',consolas,'Courier New',monospace\">\n",
       "<span style=\"color: #ffff00; text-decoration-color: #ffff00\">Numeric Columns Summary:</span>\n",
       "</pre>\n"
      ],
      "text/plain": [
       "\n",
       "\u001b[93mNumeric Columns Summary:\u001b[0m\n"
      ]
     },
     "metadata": {},
     "output_type": "display_data"
    },
    {
     "data": {
      "text/html": [
       "<pre style=\"white-space:pre;overflow-x:auto;line-height:normal;font-family:Menlo,'DejaVu Sans Mono',consolas,'Courier New',monospace\">╭─────────────────────────────────────────────────────────────────────────────────────────────────────────────────╮\n",
       "│        amplitude_id        app      event_id    os_version    session_id                                        │\n",
       "│ count  1.850109e+06  1850109.0  1.850109e+06  1.850109e+06  1.850109e+06                                        │\n",
       "│ mean   9.249715e+11   591532.0  2.467088e+04  1.309072e+02  1.736952e+12                                        │\n",
       "│ std    8.423445e+10        0.0  2.962611e+04  4.288231e+00  7.897269e+08                                        │\n",
       "│ min    8.575404e+11   591532.0  0.000000e+00  4.000000e+00  1.713878e+12                                        │\n",
       "│ 25%    8.575405e+11   591532.0  5.088000e+03  1.310000e+02  1.736367e+12                                        │\n",
       "│ 50%    8.642186e+11   591532.0  1.448900e+04  1.310000e+02  1.736951e+12                                        │\n",
       "│ 75%    1.018933e+12   591532.0  3.473700e+04  1.310000e+02  1.737569e+12                                        │\n",
       "│ max    1.110665e+12   591532.0  1.977430e+05  1.340000e+02  1.738098e+12                                        │\n",
       "╰─────────────────────────────────────────────────────────────────────────────────────────────────────────────────╯\n",
       "</pre>\n"
      ],
      "text/plain": [
       "╭─────────────────────────────────────────────────────────────────────────────────────────────────────────────────╮\n",
       "│        amplitude_id        app      event_id    os_version    session_id                                        │\n",
       "│ count  1.850109e+06  1850109.0  1.850109e+06  1.850109e+06  1.850109e+06                                        │\n",
       "│ mean   9.249715e+11   591532.0  2.467088e+04  1.309072e+02  1.736952e+12                                        │\n",
       "│ std    8.423445e+10        0.0  2.962611e+04  4.288231e+00  7.897269e+08                                        │\n",
       "│ min    8.575404e+11   591532.0  0.000000e+00  4.000000e+00  1.713878e+12                                        │\n",
       "│ 25%    8.575405e+11   591532.0  5.088000e+03  1.310000e+02  1.736367e+12                                        │\n",
       "│ 50%    8.642186e+11   591532.0  1.448900e+04  1.310000e+02  1.736951e+12                                        │\n",
       "│ 75%    1.018933e+12   591532.0  3.473700e+04  1.310000e+02  1.737569e+12                                        │\n",
       "│ max    1.110665e+12   591532.0  1.977430e+05  1.340000e+02  1.738098e+12                                        │\n",
       "╰─────────────────────────────────────────────────────────────────────────────────────────────────────────────────╯\n"
      ]
     },
     "metadata": {},
     "output_type": "display_data"
    }
   ],
   "source": [
    "# 8. Statistical Summary\n",
    "console.print(\"\\n[bold bright_green]8. Statistical Summary[/bold bright_green]\", style=\"bold\")\n",
    "numeric_cols = df.select_dtypes(include=['int64', 'float64']).columns\n",
    "console.print(\"\\n[bright_yellow]Numeric Columns Summary:[/bright_yellow]\")\n",
    "stats_df = df[numeric_cols].describe()\n",
    "console.print(Panel(str(stats_df)))"
   ]
  },
  {
   "cell_type": "code",
   "execution_count": 16,
   "metadata": {},
   "outputs": [
    {
     "data": {
      "text/html": [
       "<pre style=\"white-space:pre;overflow-x:auto;line-height:normal;font-family:Menlo,'DejaVu Sans Mono',consolas,'Courier New',monospace\">\n",
       "<span style=\"color: #00ff00; text-decoration-color: #00ff00; font-weight: bold\">9</span><span style=\"color: #00ff00; text-decoration-color: #00ff00; font-weight: bold\">. Correlation Analysis</span>\n",
       "</pre>\n"
      ],
      "text/plain": [
       "\n",
       "\u001b[1;92m9\u001b[0m\u001b[1;92m. Correlation Analysis\u001b[0m\n"
      ]
     },
     "metadata": {},
     "output_type": "display_data"
    },
    {
     "data": {
      "text/html": [
       "<pre style=\"white-space:pre;overflow-x:auto;line-height:normal;font-family:Menlo,'DejaVu Sans Mono',consolas,'Courier New',monospace\">\n",
       "<span style=\"color: #ffff00; text-decoration-color: #ffff00\">Correlation Matrix:</span>\n",
       "</pre>\n"
      ],
      "text/plain": [
       "\n",
       "\u001b[93mCorrelation Matrix:\u001b[0m\n"
      ]
     },
     "metadata": {},
     "output_type": "display_data"
    },
    {
     "data": {
      "text/html": [
       "<pre style=\"white-space:pre;overflow-x:auto;line-height:normal;font-family:Menlo,'DejaVu Sans Mono',consolas,'Courier New',monospace\">╭─────────────────────────────────────────────────────────────────────────────────────────────────────────────────╮\n",
       "│               amplitude_id  app  event_id  os_version  session_id                                               │\n",
       "│ amplitude_id          1.00  NaN     -0.24       -0.00        0.04                                               │\n",
       "│ app                    NaN  NaN       NaN         NaN         NaN                                               │\n",
       "│ event_id             -0.24  NaN      1.00        0.04        0.04                                               │\n",
       "│ os_version           -0.00  NaN      0.04        1.00        0.04                                               │\n",
       "│ session_id            0.04  NaN      0.04        0.04        1.00                                               │\n",
       "╰─────────────────────────────────────────────────────────────────────────────────────────────────────────────────╯\n",
       "</pre>\n"
      ],
      "text/plain": [
       "╭─────────────────────────────────────────────────────────────────────────────────────────────────────────────────╮\n",
       "│               amplitude_id  app  event_id  os_version  session_id                                               │\n",
       "│ amplitude_id          1.00  NaN     -0.24       -0.00        0.04                                               │\n",
       "│ app                    NaN  NaN       NaN         NaN         NaN                                               │\n",
       "│ event_id             -0.24  NaN      1.00        0.04        0.04                                               │\n",
       "│ os_version           -0.00  NaN      0.04        1.00        0.04                                               │\n",
       "│ session_id            0.04  NaN      0.04        0.04        1.00                                               │\n",
       "╰─────────────────────────────────────────────────────────────────────────────────────────────────────────────────╯\n"
      ]
     },
     "metadata": {},
     "output_type": "display_data"
    }
   ],
   "source": [
    "# 9. Correlation Analysis\n",
    "console.print(\"\\n[bold bright_green]9. Correlation Analysis[/bold bright_green]\", style=\"bold\")\n",
    "if len(numeric_cols) > 1:\n",
    "    correlation = df[numeric_cols].corr()\n",
    "    console.print(\"\\n[bright_yellow]Correlation Matrix:[/bright_yellow]\")\n",
    "    console.print(Panel(str(correlation.round(2))))"
   ]
  },
  {
   "cell_type": "code",
   "execution_count": 17,
   "metadata": {},
   "outputs": [
    {
     "data": {
      "text/html": [
       "<pre style=\"white-space:pre;overflow-x:auto;line-height:normal;font-family:Menlo,'DejaVu Sans Mono',consolas,'Courier New',monospace\">\n",
       "<span style=\"color: #00ff00; text-decoration-color: #00ff00; font-weight: bold\">10</span><span style=\"color: #00ff00; text-decoration-color: #00ff00; font-weight: bold\">. Category Analysis</span>\n",
       "</pre>\n"
      ],
      "text/plain": [
       "\n",
       "\u001b[1;92m10\u001b[0m\u001b[1;92m. Category Analysis\u001b[0m\n"
      ]
     },
     "metadata": {},
     "output_type": "display_data"
    },
    {
     "data": {
      "text/html": [
       "<pre style=\"white-space:pre;overflow-x:auto;line-height:normal;font-family:Menlo,'DejaVu Sans Mono',consolas,'Courier New',monospace\">\n",
       "<span style=\"color: #ffff00; text-decoration-color: #ffff00\">Distribution of $insert_id:</span>\n",
       "</pre>\n"
      ],
      "text/plain": [
       "\n",
       "\u001b[93mDistribution of $insert_id:\u001b[0m\n"
      ]
     },
     "metadata": {},
     "output_type": "display_data"
    },
    {
     "data": {
      "text/html": [
       "<pre style=\"white-space:pre;overflow-x:auto;line-height:normal;font-family:Menlo,'DejaVu Sans Mono',consolas,'Courier New',monospace\">┏━━━━━━━━━━━━━━━━━━━━━━━━━━━━━━━━━━━━━━┳━━━━━━━┳━━━━━━━━━━━━┓\n",
       "┃<span style=\"color: #ffff00; text-decoration-color: #ffff00; font-weight: bold\"> Category                             </span>┃<span style=\"color: #ffff00; text-decoration-color: #ffff00; font-weight: bold\"> Count </span>┃<span style=\"color: #ffff00; text-decoration-color: #ffff00; font-weight: bold\"> Percentage </span>┃\n",
       "┡━━━━━━━━━━━━━━━━━━━━━━━━━━━━━━━━━━━━━━╇━━━━━━━╇━━━━━━━━━━━━┩\n",
       "│ 77c8efdb-f5bc-4a17-a59d-e9813cd39270 │ 2     │ 0.00%      │\n",
       "│ 538ab3f8-09df-4750-90e0-abe8ad8f6a0c │ 1     │ 0.00%      │\n",
       "│ 5dae3311-affb-422c-8fec-1c5539b68912 │ 1     │ 0.00%      │\n",
       "│ 5df0bfb2-6999-43fb-b883-17ef72d258ad │ 1     │ 0.00%      │\n",
       "│ 522d2ce9-6ba9-49ae-9add-cbae2861755d │ 1     │ 0.00%      │\n",
       "│ 5f811132-d67d-4139-9cc6-d93ac287f844 │ 1     │ 0.00%      │\n",
       "│ 3568cc57-a8d6-4748-8d09-51f49a66425d │ 1     │ 0.00%      │\n",
       "│ 84953257-d359-45db-abaf-a60e6934ae2b │ 1     │ 0.00%      │\n",
       "│ 31b62123-c9ae-48b2-b774-4e129edc59c0 │ 1     │ 0.00%      │\n",
       "│ 6570d130-dc26-4d32-8138-aacb117a4633 │ 1     │ 0.00%      │\n",
       "└──────────────────────────────────────┴───────┴────────────┘\n",
       "</pre>\n"
      ],
      "text/plain": [
       "┏━━━━━━━━━━━━━━━━━━━━━━━━━━━━━━━━━━━━━━┳━━━━━━━┳━━━━━━━━━━━━┓\n",
       "┃\u001b[1;93m \u001b[0m\u001b[1;93mCategory                            \u001b[0m\u001b[1;93m \u001b[0m┃\u001b[1;93m \u001b[0m\u001b[1;93mCount\u001b[0m\u001b[1;93m \u001b[0m┃\u001b[1;93m \u001b[0m\u001b[1;93mPercentage\u001b[0m\u001b[1;93m \u001b[0m┃\n",
       "┡━━━━━━━━━━━━━━━━━━━━━━━━━━━━━━━━━━━━━━╇━━━━━━━╇━━━━━━━━━━━━┩\n",
       "│ 77c8efdb-f5bc-4a17-a59d-e9813cd39270 │ 2     │ 0.00%      │\n",
       "│ 538ab3f8-09df-4750-90e0-abe8ad8f6a0c │ 1     │ 0.00%      │\n",
       "│ 5dae3311-affb-422c-8fec-1c5539b68912 │ 1     │ 0.00%      │\n",
       "│ 5df0bfb2-6999-43fb-b883-17ef72d258ad │ 1     │ 0.00%      │\n",
       "│ 522d2ce9-6ba9-49ae-9add-cbae2861755d │ 1     │ 0.00%      │\n",
       "│ 5f811132-d67d-4139-9cc6-d93ac287f844 │ 1     │ 0.00%      │\n",
       "│ 3568cc57-a8d6-4748-8d09-51f49a66425d │ 1     │ 0.00%      │\n",
       "│ 84953257-d359-45db-abaf-a60e6934ae2b │ 1     │ 0.00%      │\n",
       "│ 31b62123-c9ae-48b2-b774-4e129edc59c0 │ 1     │ 0.00%      │\n",
       "│ 6570d130-dc26-4d32-8138-aacb117a4633 │ 1     │ 0.00%      │\n",
       "└──────────────────────────────────────┴───────┴────────────┘\n"
      ]
     },
     "metadata": {},
     "output_type": "display_data"
    },
    {
     "data": {
      "text/html": [
       "<pre style=\"white-space:pre;overflow-x:auto;line-height:normal;font-family:Menlo,'DejaVu Sans Mono',consolas,'Courier New',monospace\">\n",
       "<span style=\"color: #ffff00; text-decoration-color: #ffff00\">Distribution of city:</span>\n",
       "</pre>\n"
      ],
      "text/plain": [
       "\n",
       "\u001b[93mDistribution of city:\u001b[0m\n"
      ]
     },
     "metadata": {},
     "output_type": "display_data"
    },
    {
     "data": {
      "text/html": [
       "<pre style=\"white-space:pre;overflow-x:auto;line-height:normal;font-family:Menlo,'DejaVu Sans Mono',consolas,'Courier New',monospace\">┏━━━━━━━━━━━━━┳━━━━━━━━┳━━━━━━━━━━━━┓\n",
       "┃<span style=\"color: #ffff00; text-decoration-color: #ffff00; font-weight: bold\"> Category    </span>┃<span style=\"color: #ffff00; text-decoration-color: #ffff00; font-weight: bold\"> Count  </span>┃<span style=\"color: #ffff00; text-decoration-color: #ffff00; font-weight: bold\"> Percentage </span>┃\n",
       "┡━━━━━━━━━━━━━╇━━━━━━━━╇━━━━━━━━━━━━┩\n",
       "│ Mumbai      │ 399477 │ 21.59%     │\n",
       "│ Nashville   │ 286693 │ 15.50%     │\n",
       "│ Spring Hill │ 74781  │ 4.04%      │\n",
       "│ Chicago     │ 71692  │ 3.88%      │\n",
       "│ Birmingham  │ 49854  │ 2.69%      │\n",
       "│ Greenville  │ 45706  │ 2.47%      │\n",
       "│ Alexandria  │ 38848  │ 2.10%      │\n",
       "│ Wroclaw     │ 33788  │ 1.83%      │\n",
       "│ Phoenix     │ 31894  │ 1.72%      │\n",
       "│ Des Moines  │ 27699  │ 1.50%      │\n",
       "└─────────────┴────────┴────────────┘\n",
       "</pre>\n"
      ],
      "text/plain": [
       "┏━━━━━━━━━━━━━┳━━━━━━━━┳━━━━━━━━━━━━┓\n",
       "┃\u001b[1;93m \u001b[0m\u001b[1;93mCategory   \u001b[0m\u001b[1;93m \u001b[0m┃\u001b[1;93m \u001b[0m\u001b[1;93mCount \u001b[0m\u001b[1;93m \u001b[0m┃\u001b[1;93m \u001b[0m\u001b[1;93mPercentage\u001b[0m\u001b[1;93m \u001b[0m┃\n",
       "┡━━━━━━━━━━━━━╇━━━━━━━━╇━━━━━━━━━━━━┩\n",
       "│ Mumbai      │ 399477 │ 21.59%     │\n",
       "│ Nashville   │ 286693 │ 15.50%     │\n",
       "│ Spring Hill │ 74781  │ 4.04%      │\n",
       "│ Chicago     │ 71692  │ 3.88%      │\n",
       "│ Birmingham  │ 49854  │ 2.69%      │\n",
       "│ Greenville  │ 45706  │ 2.47%      │\n",
       "│ Alexandria  │ 38848  │ 2.10%      │\n",
       "│ Wroclaw     │ 33788  │ 1.83%      │\n",
       "│ Phoenix     │ 31894  │ 1.72%      │\n",
       "│ Des Moines  │ 27699  │ 1.50%      │\n",
       "└─────────────┴────────┴────────────┘\n"
      ]
     },
     "metadata": {},
     "output_type": "display_data"
    },
    {
     "data": {
      "text/html": [
       "<pre style=\"white-space:pre;overflow-x:auto;line-height:normal;font-family:Menlo,'DejaVu Sans Mono',consolas,'Courier New',monospace\">\n",
       "<span style=\"color: #ffff00; text-decoration-color: #ffff00\">Distribution of country:</span>\n",
       "</pre>\n"
      ],
      "text/plain": [
       "\n",
       "\u001b[93mDistribution of country:\u001b[0m\n"
      ]
     },
     "metadata": {},
     "output_type": "display_data"
    },
    {
     "data": {
      "text/html": [
       "<pre style=\"white-space:pre;overflow-x:auto;line-height:normal;font-family:Menlo,'DejaVu Sans Mono',consolas,'Courier New',monospace\">┏━━━━━━━━━━━━━━━━┳━━━━━━━━━┳━━━━━━━━━━━━┓\n",
       "┃<span style=\"color: #ffff00; text-decoration-color: #ffff00; font-weight: bold\"> Category       </span>┃<span style=\"color: #ffff00; text-decoration-color: #ffff00; font-weight: bold\"> Count   </span>┃<span style=\"color: #ffff00; text-decoration-color: #ffff00; font-weight: bold\"> Percentage </span>┃\n",
       "┡━━━━━━━━━━━━━━━━╇━━━━━━━━━╇━━━━━━━━━━━━┩\n",
       "│ United States  │ 1370823 │ 74.09%     │\n",
       "│ India          │ 399503  │ 21.59%     │\n",
       "│ Poland         │ 52844   │ 2.86%      │\n",
       "│ Canada         │ 23210   │ 1.25%      │\n",
       "│ Mexico         │ 2782    │ 0.15%      │\n",
       "│ United Kingdom │ 526     │ 0.03%      │\n",
       "│ Costa Rica     │ 167     │ 0.01%      │\n",
       "│ Singapore      │ 101     │ 0.01%      │\n",
       "│ France         │ 78      │ 0.00%      │\n",
       "│ Puerto Rico    │ 27      │ 0.00%      │\n",
       "└────────────────┴─────────┴────────────┘\n",
       "</pre>\n"
      ],
      "text/plain": [
       "┏━━━━━━━━━━━━━━━━┳━━━━━━━━━┳━━━━━━━━━━━━┓\n",
       "┃\u001b[1;93m \u001b[0m\u001b[1;93mCategory      \u001b[0m\u001b[1;93m \u001b[0m┃\u001b[1;93m \u001b[0m\u001b[1;93mCount  \u001b[0m\u001b[1;93m \u001b[0m┃\u001b[1;93m \u001b[0m\u001b[1;93mPercentage\u001b[0m\u001b[1;93m \u001b[0m┃\n",
       "┡━━━━━━━━━━━━━━━━╇━━━━━━━━━╇━━━━━━━━━━━━┩\n",
       "│ United States  │ 1370823 │ 74.09%     │\n",
       "│ India          │ 399503  │ 21.59%     │\n",
       "│ Poland         │ 52844   │ 2.86%      │\n",
       "│ Canada         │ 23210   │ 1.25%      │\n",
       "│ Mexico         │ 2782    │ 0.15%      │\n",
       "│ United Kingdom │ 526     │ 0.03%      │\n",
       "│ Costa Rica     │ 167     │ 0.01%      │\n",
       "│ Singapore      │ 101     │ 0.01%      │\n",
       "│ France         │ 78      │ 0.00%      │\n",
       "│ Puerto Rico    │ 27      │ 0.00%      │\n",
       "└────────────────┴─────────┴────────────┘\n"
      ]
     },
     "metadata": {},
     "output_type": "display_data"
    },
    {
     "data": {
      "text/html": [
       "<pre style=\"white-space:pre;overflow-x:auto;line-height:normal;font-family:Menlo,'DejaVu Sans Mono',consolas,'Courier New',monospace\">\n",
       "<span style=\"color: #ffff00; text-decoration-color: #ffff00\">Distribution of data:</span>\n",
       "</pre>\n"
      ],
      "text/plain": [
       "\n",
       "\u001b[93mDistribution of data:\u001b[0m\n"
      ]
     },
     "metadata": {},
     "output_type": "display_data"
    },
    {
     "data": {
      "text/html": [
       "<pre style=\"white-space:pre;overflow-x:auto;line-height:normal;font-family:Menlo,'DejaVu Sans Mono',consolas,'Courier New',monospace\">┏━━━━━━━━━━━━━━━━━━━━━━━━━━━━━━━━━━━━━━━━━━━━━━━━━━━━━━━━━━━━━━━━━━━━━━━━━━━━━━━━━━━━━━━━━━┳━━━━━━━━━┳━━━━━━━━━━━━┓\n",
       "┃<span style=\"color: #ffff00; text-decoration-color: #ffff00; font-weight: bold\"> Category                                                                                 </span>┃<span style=\"color: #ffff00; text-decoration-color: #ffff00; font-weight: bold\"> Count   </span>┃<span style=\"color: #ffff00; text-decoration-color: #ffff00; font-weight: bold\"> Percentage </span>┃\n",
       "┡━━━━━━━━━━━━━━━━━━━━━━━━━━━━━━━━━━━━━━━━━━━━━━━━━━━━━━━━━━━━━━━━━━━━━━━━━━━━━━━━━━━━━━━━━━╇━━━━━━━━━╇━━━━━━━━━━━━┩\n",
       "│ {'path': '/2/httpapi', 'group_first_event': {}, 'group_ids': {}}                         │ 1830130 │ 98.92%     │\n",
       "│ {'path': '/2/httpapi', 'user_properties_updated': 'True', 'group_first_event': {},       │ 19979   │ 1.08%      │\n",
       "│ 'group_ids': {}}                                                                         │         │            │\n",
       "└──────────────────────────────────────────────────────────────────────────────────────────┴─────────┴────────────┘\n",
       "</pre>\n"
      ],
      "text/plain": [
       "┏━━━━━━━━━━━━━━━━━━━━━━━━━━━━━━━━━━━━━━━━━━━━━━━━━━━━━━━━━━━━━━━━━━━━━━━━━━━━━━━━━━━━━━━━━━┳━━━━━━━━━┳━━━━━━━━━━━━┓\n",
       "┃\u001b[1;93m \u001b[0m\u001b[1;93mCategory                                                                                \u001b[0m\u001b[1;93m \u001b[0m┃\u001b[1;93m \u001b[0m\u001b[1;93mCount  \u001b[0m\u001b[1;93m \u001b[0m┃\u001b[1;93m \u001b[0m\u001b[1;93mPercentage\u001b[0m\u001b[1;93m \u001b[0m┃\n",
       "┡━━━━━━━━━━━━━━━━━━━━━━━━━━━━━━━━━━━━━━━━━━━━━━━━━━━━━━━━━━━━━━━━━━━━━━━━━━━━━━━━━━━━━━━━━━╇━━━━━━━━━╇━━━━━━━━━━━━┩\n",
       "│ {'path': '/2/httpapi', 'group_first_event': {}, 'group_ids': {}}                         │ 1830130 │ 98.92%     │\n",
       "│ {'path': '/2/httpapi', 'user_properties_updated': 'True', 'group_first_event': {},       │ 19979   │ 1.08%      │\n",
       "│ 'group_ids': {}}                                                                         │         │            │\n",
       "└──────────────────────────────────────────────────────────────────────────────────────────┴─────────┴────────────┘\n"
      ]
     },
     "metadata": {},
     "output_type": "display_data"
    },
    {
     "data": {
      "text/html": [
       "<pre style=\"white-space:pre;overflow-x:auto;line-height:normal;font-family:Menlo,'DejaVu Sans Mono',consolas,'Courier New',monospace\">\n",
       "<span style=\"color: #ffff00; text-decoration-color: #ffff00\">Distribution of data_type:</span>\n",
       "</pre>\n"
      ],
      "text/plain": [
       "\n",
       "\u001b[93mDistribution of data_type:\u001b[0m\n"
      ]
     },
     "metadata": {},
     "output_type": "display_data"
    },
    {
     "data": {
      "text/html": [
       "<pre style=\"white-space:pre;overflow-x:auto;line-height:normal;font-family:Menlo,'DejaVu Sans Mono',consolas,'Courier New',monospace\">┏━━━━━━━━━━┳━━━━━━━━━┳━━━━━━━━━━━━┓\n",
       "┃<span style=\"color: #ffff00; text-decoration-color: #ffff00; font-weight: bold\"> Category </span>┃<span style=\"color: #ffff00; text-decoration-color: #ffff00; font-weight: bold\"> Count   </span>┃<span style=\"color: #ffff00; text-decoration-color: #ffff00; font-weight: bold\"> Percentage </span>┃\n",
       "┡━━━━━━━━━━╇━━━━━━━━━╇━━━━━━━━━━━━┩\n",
       "│ event    │ 1850109 │ 100.00%    │\n",
       "└──────────┴─────────┴────────────┘\n",
       "</pre>\n"
      ],
      "text/plain": [
       "┏━━━━━━━━━━┳━━━━━━━━━┳━━━━━━━━━━━━┓\n",
       "┃\u001b[1;93m \u001b[0m\u001b[1;93mCategory\u001b[0m\u001b[1;93m \u001b[0m┃\u001b[1;93m \u001b[0m\u001b[1;93mCount  \u001b[0m\u001b[1;93m \u001b[0m┃\u001b[1;93m \u001b[0m\u001b[1;93mPercentage\u001b[0m\u001b[1;93m \u001b[0m┃\n",
       "┡━━━━━━━━━━╇━━━━━━━━━╇━━━━━━━━━━━━┩\n",
       "│ event    │ 1850109 │ 100.00%    │\n",
       "└──────────┴─────────┴────────────┘\n"
      ]
     },
     "metadata": {},
     "output_type": "display_data"
    },
    {
     "data": {
      "text/html": [
       "<pre style=\"white-space:pre;overflow-x:auto;line-height:normal;font-family:Menlo,'DejaVu Sans Mono',consolas,'Courier New',monospace\">\n",
       "<span style=\"color: #ffff00; text-decoration-color: #ffff00\">Distribution of device_family:</span>\n",
       "</pre>\n"
      ],
      "text/plain": [
       "\n",
       "\u001b[93mDistribution of device_family:\u001b[0m\n"
      ]
     },
     "metadata": {},
     "output_type": "display_data"
    },
    {
     "data": {
      "text/html": [
       "<pre style=\"white-space:pre;overflow-x:auto;line-height:normal;font-family:Menlo,'DejaVu Sans Mono',consolas,'Courier New',monospace\">┏━━━━━━━━━━┳━━━━━━━━━┳━━━━━━━━━━━━┓\n",
       "┃<span style=\"color: #ffff00; text-decoration-color: #ffff00; font-weight: bold\"> Category </span>┃<span style=\"color: #ffff00; text-decoration-color: #ffff00; font-weight: bold\"> Count   </span>┃<span style=\"color: #ffff00; text-decoration-color: #ffff00; font-weight: bold\"> Percentage </span>┃\n",
       "┡━━━━━━━━━━╇━━━━━━━━━╇━━━━━━━━━━━━┩\n",
       "│ Windows  │ 1513654 │ 81.81%     │\n",
       "│ Mac OS X │ 288172  │ 15.58%     │\n",
       "│ Linux    │ 46239   │ 2.50%      │\n",
       "│ iOS      │ 2021    │ 0.11%      │\n",
       "│ Android  │ 23      │ 0.00%      │\n",
       "└──────────┴─────────┴────────────┘\n",
       "</pre>\n"
      ],
      "text/plain": [
       "┏━━━━━━━━━━┳━━━━━━━━━┳━━━━━━━━━━━━┓\n",
       "┃\u001b[1;93m \u001b[0m\u001b[1;93mCategory\u001b[0m\u001b[1;93m \u001b[0m┃\u001b[1;93m \u001b[0m\u001b[1;93mCount  \u001b[0m\u001b[1;93m \u001b[0m┃\u001b[1;93m \u001b[0m\u001b[1;93mPercentage\u001b[0m\u001b[1;93m \u001b[0m┃\n",
       "┡━━━━━━━━━━╇━━━━━━━━━╇━━━━━━━━━━━━┩\n",
       "│ Windows  │ 1513654 │ 81.81%     │\n",
       "│ Mac OS X │ 288172  │ 15.58%     │\n",
       "│ Linux    │ 46239   │ 2.50%      │\n",
       "│ iOS      │ 2021    │ 0.11%      │\n",
       "│ Android  │ 23      │ 0.00%      │\n",
       "└──────────┴─────────┴────────────┘\n"
      ]
     },
     "metadata": {},
     "output_type": "display_data"
    },
    {
     "data": {
      "text/html": [
       "<pre style=\"white-space:pre;overflow-x:auto;line-height:normal;font-family:Menlo,'DejaVu Sans Mono',consolas,'Courier New',monospace\">\n",
       "<span style=\"color: #ffff00; text-decoration-color: #ffff00\">Distribution of device_id:</span>\n",
       "</pre>\n"
      ],
      "text/plain": [
       "\n",
       "\u001b[93mDistribution of device_id:\u001b[0m\n"
      ]
     },
     "metadata": {},
     "output_type": "display_data"
    },
    {
     "data": {
      "text/html": [
       "<pre style=\"white-space:pre;overflow-x:auto;line-height:normal;font-family:Menlo,'DejaVu Sans Mono',consolas,'Courier New',monospace\">┏━━━━━━━━━━━━━━━━━━━━━━━━━━━━━━━━━━━━━━┳━━━━━━━┳━━━━━━━━━━━━┓\n",
       "┃<span style=\"color: #ffff00; text-decoration-color: #ffff00; font-weight: bold\"> Category                             </span>┃<span style=\"color: #ffff00; text-decoration-color: #ffff00; font-weight: bold\"> Count </span>┃<span style=\"color: #ffff00; text-decoration-color: #ffff00; font-weight: bold\"> Percentage </span>┃\n",
       "┡━━━━━━━━━━━━━━━━━━━━━━━━━━━━━━━━━━━━━━╇━━━━━━━╇━━━━━━━━━━━━┩\n",
       "│ 3aec3262-1bdd-4f39-ae25-5df72f3fbae6 │ 24486 │ 1.32%      │\n",
       "│ a8806aff-7404-4c48-96f3-6bce38fe5f66 │ 22406 │ 1.21%      │\n",
       "│ 3630e88e-c688-4abc-b81d-11da1cbebf47 │ 21747 │ 1.18%      │\n",
       "│ 08deb711-f4f2-40f6-8939-e1673bf4e84c │ 21036 │ 1.14%      │\n",
       "│ 107661f8-dbfb-4e97-9ad4-b97218423080 │ 20382 │ 1.10%      │\n",
       "│ 0e96d208-bf73-44c8-be78-a74c1123c3f9 │ 20371 │ 1.10%      │\n",
       "│ f32dd30f-34a2-48a9-8905-cce8ab9ec449 │ 19966 │ 1.08%      │\n",
       "│ a8bf97c2-480e-41a2-bce9-9b54b4c10b01 │ 17661 │ 0.95%      │\n",
       "│ d74d587c-f0b5-4a9e-8e56-cd0801842932 │ 17093 │ 0.92%      │\n",
       "│ 5bb73f50-5f95-4c9f-92a8-a81b65f6bda1 │ 16073 │ 0.87%      │\n",
       "└──────────────────────────────────────┴───────┴────────────┘\n",
       "</pre>\n"
      ],
      "text/plain": [
       "┏━━━━━━━━━━━━━━━━━━━━━━━━━━━━━━━━━━━━━━┳━━━━━━━┳━━━━━━━━━━━━┓\n",
       "┃\u001b[1;93m \u001b[0m\u001b[1;93mCategory                            \u001b[0m\u001b[1;93m \u001b[0m┃\u001b[1;93m \u001b[0m\u001b[1;93mCount\u001b[0m\u001b[1;93m \u001b[0m┃\u001b[1;93m \u001b[0m\u001b[1;93mPercentage\u001b[0m\u001b[1;93m \u001b[0m┃\n",
       "┡━━━━━━━━━━━━━━━━━━━━━━━━━━━━━━━━━━━━━━╇━━━━━━━╇━━━━━━━━━━━━┩\n",
       "│ 3aec3262-1bdd-4f39-ae25-5df72f3fbae6 │ 24486 │ 1.32%      │\n",
       "│ a8806aff-7404-4c48-96f3-6bce38fe5f66 │ 22406 │ 1.21%      │\n",
       "│ 3630e88e-c688-4abc-b81d-11da1cbebf47 │ 21747 │ 1.18%      │\n",
       "│ 08deb711-f4f2-40f6-8939-e1673bf4e84c │ 21036 │ 1.14%      │\n",
       "│ 107661f8-dbfb-4e97-9ad4-b97218423080 │ 20382 │ 1.10%      │\n",
       "│ 0e96d208-bf73-44c8-be78-a74c1123c3f9 │ 20371 │ 1.10%      │\n",
       "│ f32dd30f-34a2-48a9-8905-cce8ab9ec449 │ 19966 │ 1.08%      │\n",
       "│ a8bf97c2-480e-41a2-bce9-9b54b4c10b01 │ 17661 │ 0.95%      │\n",
       "│ d74d587c-f0b5-4a9e-8e56-cd0801842932 │ 17093 │ 0.92%      │\n",
       "│ 5bb73f50-5f95-4c9f-92a8-a81b65f6bda1 │ 16073 │ 0.87%      │\n",
       "└──────────────────────────────────────┴───────┴────────────┘\n"
      ]
     },
     "metadata": {},
     "output_type": "display_data"
    },
    {
     "data": {
      "text/html": [
       "<pre style=\"white-space:pre;overflow-x:auto;line-height:normal;font-family:Menlo,'DejaVu Sans Mono',consolas,'Courier New',monospace\">\n",
       "<span style=\"color: #ffff00; text-decoration-color: #ffff00\">Distribution of device_type:</span>\n",
       "</pre>\n"
      ],
      "text/plain": [
       "\n",
       "\u001b[93mDistribution of device_type:\u001b[0m\n"
      ]
     },
     "metadata": {},
     "output_type": "display_data"
    },
    {
     "data": {
      "text/html": [
       "<pre style=\"white-space:pre;overflow-x:auto;line-height:normal;font-family:Menlo,'DejaVu Sans Mono',consolas,'Courier New',monospace\">┏━━━━━━━━━━┳━━━━━━━━━┳━━━━━━━━━━━━┓\n",
       "┃<span style=\"color: #ffff00; text-decoration-color: #ffff00; font-weight: bold\"> Category </span>┃<span style=\"color: #ffff00; text-decoration-color: #ffff00; font-weight: bold\"> Count   </span>┃<span style=\"color: #ffff00; text-decoration-color: #ffff00; font-weight: bold\"> Percentage </span>┃\n",
       "┡━━━━━━━━━━╇━━━━━━━━━╇━━━━━━━━━━━━┩\n",
       "│ Windows  │ 1513654 │ 81.81%     │\n",
       "│ Linux    │ 46239   │ 2.50%      │\n",
       "│ Android  │ 23      │ 0.00%      │\n",
       "└──────────┴─────────┴────────────┘\n",
       "</pre>\n"
      ],
      "text/plain": [
       "┏━━━━━━━━━━┳━━━━━━━━━┳━━━━━━━━━━━━┓\n",
       "┃\u001b[1;93m \u001b[0m\u001b[1;93mCategory\u001b[0m\u001b[1;93m \u001b[0m┃\u001b[1;93m \u001b[0m\u001b[1;93mCount  \u001b[0m\u001b[1;93m \u001b[0m┃\u001b[1;93m \u001b[0m\u001b[1;93mPercentage\u001b[0m\u001b[1;93m \u001b[0m┃\n",
       "┡━━━━━━━━━━╇━━━━━━━━━╇━━━━━━━━━━━━┩\n",
       "│ Windows  │ 1513654 │ 81.81%     │\n",
       "│ Linux    │ 46239   │ 2.50%      │\n",
       "│ Android  │ 23      │ 0.00%      │\n",
       "└──────────┴─────────┴────────────┘\n"
      ]
     },
     "metadata": {},
     "output_type": "display_data"
    },
    {
     "data": {
      "text/html": [
       "<pre style=\"white-space:pre;overflow-x:auto;line-height:normal;font-family:Menlo,'DejaVu Sans Mono',consolas,'Courier New',monospace\">\n",
       "<span style=\"color: #ffff00; text-decoration-color: #ffff00\">Distribution of dma:</span>\n",
       "</pre>\n"
      ],
      "text/plain": [
       "\n",
       "\u001b[93mDistribution of dma:\u001b[0m\n"
      ]
     },
     "metadata": {},
     "output_type": "display_data"
    },
    {
     "data": {
      "text/html": [
       "<pre style=\"white-space:pre;overflow-x:auto;line-height:normal;font-family:Menlo,'DejaVu Sans Mono',consolas,'Courier New',monospace\">┏━━━━━━━━━━━━━━━━━━━━━━━━━━━━━━━━━━━━┳━━━━━━━━┳━━━━━━━━━━━━┓\n",
       "┃<span style=\"color: #ffff00; text-decoration-color: #ffff00; font-weight: bold\"> Category                           </span>┃<span style=\"color: #ffff00; text-decoration-color: #ffff00; font-weight: bold\"> Count  </span>┃<span style=\"color: #ffff00; text-decoration-color: #ffff00; font-weight: bold\"> Percentage </span>┃\n",
       "┡━━━━━━━━━━━━━━━━━━━━━━━━━━━━━━━━━━━━╇━━━━━━━━╇━━━━━━━━━━━━┩\n",
       "│ Nashville, TN                      │ 366592 │ 19.81%     │\n",
       "│ Chicago, IL                        │ 94724  │ 5.12%      │\n",
       "│ Des Moines-Ames, IA                │ 83549  │ 4.52%      │\n",
       "│ Greenville-Spartanburg, SC         │ 69668  │ 3.77%      │\n",
       "│ Atlanta, GA                        │ 67746  │ 3.66%      │\n",
       "│ Birmingham, AL                     │ 67256  │ 3.64%      │\n",
       "│ New York, NY                       │ 63715  │ 3.44%      │\n",
       "│ Washington, DC (Hagerstown, MD)    │ 62809  │ 3.39%      │\n",
       "│ Phoenix, AZ                        │ 49749  │ 2.69%      │\n",
       "│ San Francisco-Oakland-San Jose, CA │ 31538  │ 1.70%      │\n",
       "└────────────────────────────────────┴────────┴────────────┘\n",
       "</pre>\n"
      ],
      "text/plain": [
       "┏━━━━━━━━━━━━━━━━━━━━━━━━━━━━━━━━━━━━┳━━━━━━━━┳━━━━━━━━━━━━┓\n",
       "┃\u001b[1;93m \u001b[0m\u001b[1;93mCategory                          \u001b[0m\u001b[1;93m \u001b[0m┃\u001b[1;93m \u001b[0m\u001b[1;93mCount \u001b[0m\u001b[1;93m \u001b[0m┃\u001b[1;93m \u001b[0m\u001b[1;93mPercentage\u001b[0m\u001b[1;93m \u001b[0m┃\n",
       "┡━━━━━━━━━━━━━━━━━━━━━━━━━━━━━━━━━━━━╇━━━━━━━━╇━━━━━━━━━━━━┩\n",
       "│ Nashville, TN                      │ 366592 │ 19.81%     │\n",
       "│ Chicago, IL                        │ 94724  │ 5.12%      │\n",
       "│ Des Moines-Ames, IA                │ 83549  │ 4.52%      │\n",
       "│ Greenville-Spartanburg, SC         │ 69668  │ 3.77%      │\n",
       "│ Atlanta, GA                        │ 67746  │ 3.66%      │\n",
       "│ Birmingham, AL                     │ 67256  │ 3.64%      │\n",
       "│ New York, NY                       │ 63715  │ 3.44%      │\n",
       "│ Washington, DC (Hagerstown, MD)    │ 62809  │ 3.39%      │\n",
       "│ Phoenix, AZ                        │ 49749  │ 2.69%      │\n",
       "│ San Francisco-Oakland-San Jose, CA │ 31538  │ 1.70%      │\n",
       "└────────────────────────────────────┴────────┴────────────┘\n"
      ]
     },
     "metadata": {},
     "output_type": "display_data"
    },
    {
     "data": {
      "text/html": [
       "<pre style=\"white-space:pre;overflow-x:auto;line-height:normal;font-family:Menlo,'DejaVu Sans Mono',consolas,'Courier New',monospace\">\n",
       "<span style=\"color: #ffff00; text-decoration-color: #ffff00\">Distribution of event_properties:</span>\n",
       "</pre>\n"
      ],
      "text/plain": [
       "\n",
       "\u001b[93mDistribution of event_properties:\u001b[0m\n"
      ]
     },
     "metadata": {},
     "output_type": "display_data"
    },
    {
     "data": {
      "text/html": [
       "<pre style=\"white-space:pre;overflow-x:auto;line-height:normal;font-family:Menlo,'DejaVu Sans Mono',consolas,'Courier New',monospace\">┏━━━━━━━━━━━━━━━━━━━━━━━━━━━━━━━━━━━━━━━━━━━━━━━━━━━━━━━━━━━━━━━━━━━━━━━━━━━━━━━━━━━━━━━━━━━┳━━━━━━━━┳━━━━━━━━━━━━┓\n",
       "┃<span style=\"color: #ffff00; text-decoration-color: #ffff00; font-weight: bold\"> Category                                                                                  </span>┃<span style=\"color: #ffff00; text-decoration-color: #ffff00; font-weight: bold\"> Count  </span>┃<span style=\"color: #ffff00; text-decoration-color: #ffff00; font-weight: bold\"> Percentage </span>┃\n",
       "┡━━━━━━━━━━━━━━━━━━━━━━━━━━━━━━━━━━━━━━━━━━━━━━━━━━━━━━━━━━━━━━━━━━━━━━━━━━━━━━━━━━━━━━━━━━━╇━━━━━━━━╇━━━━━━━━━━━━┩\n",
       "│ {}                                                                                        │ 134094 │ 7.25%      │\n",
       "│ {'rowModel': 'client', 'slug': 'documents-and-compliance-table'}                          │ 17627  │ 0.95%      │\n",
       "│ {'slug': 'my-book'}                                                                       │ 5397   │ 0.29%      │\n",
       "│ {'slug': 'general'}                                                                       │ 4911   │ 0.27%      │\n",
       "│ {'rowModel': 'client', 'id': 'de54a567-d72b-44a9-8658-15c4a0299738'}                      │ 4596   │ 0.25%      │\n",
       "│ {'displayName': 'Basic Vehicle Details (Policy)', 'tableId':                              │ 4595   │ 0.25%      │\n",
       "│ 'de54a567-d72b-44a9-8658-15c4a0299738', 'id': 'b87fadc2-83ff-4d76-b940-3dd78d0df21f',     │        │            │\n",
       "│ 'type': 'table'}                                                                          │        │            │\n",
       "│ {'displayName': 'Policy Detail Card', 'id': 'e59fbad1-399d-41fe-9c99-f4158e175c01',       │ 3994   │ 0.22%      │\n",
       "│ 'type': 'built-in', 'slug': 'policy-detail-card'}                                         │        │            │\n",
       "│ {'slug': 'auto'}                                                                          │ 3868   │ 0.21%      │\n",
       "│ {'rowModel': 'legacyServer', 'slug': 'submission-history'}                                │ 3481   │ 0.19%      │\n",
       "│ {'rowModel': 'client', 'id': '0d0df5a0-0460-45c8-b3e9-843abd1dd88e'}                      │ 3344   │ 0.18%      │\n",
       "└───────────────────────────────────────────────────────────────────────────────────────────┴────────┴────────────┘\n",
       "</pre>\n"
      ],
      "text/plain": [
       "┏━━━━━━━━━━━━━━━━━━━━━━━━━━━━━━━━━━━━━━━━━━━━━━━━━━━━━━━━━━━━━━━━━━━━━━━━━━━━━━━━━━━━━━━━━━━┳━━━━━━━━┳━━━━━━━━━━━━┓\n",
       "┃\u001b[1;93m \u001b[0m\u001b[1;93mCategory                                                                                 \u001b[0m\u001b[1;93m \u001b[0m┃\u001b[1;93m \u001b[0m\u001b[1;93mCount \u001b[0m\u001b[1;93m \u001b[0m┃\u001b[1;93m \u001b[0m\u001b[1;93mPercentage\u001b[0m\u001b[1;93m \u001b[0m┃\n",
       "┡━━━━━━━━━━━━━━━━━━━━━━━━━━━━━━━━━━━━━━━━━━━━━━━━━━━━━━━━━━━━━━━━━━━━━━━━━━━━━━━━━━━━━━━━━━━╇━━━━━━━━╇━━━━━━━━━━━━┩\n",
       "│ {}                                                                                        │ 134094 │ 7.25%      │\n",
       "│ {'rowModel': 'client', 'slug': 'documents-and-compliance-table'}                          │ 17627  │ 0.95%      │\n",
       "│ {'slug': 'my-book'}                                                                       │ 5397   │ 0.29%      │\n",
       "│ {'slug': 'general'}                                                                       │ 4911   │ 0.27%      │\n",
       "│ {'rowModel': 'client', 'id': 'de54a567-d72b-44a9-8658-15c4a0299738'}                      │ 4596   │ 0.25%      │\n",
       "│ {'displayName': 'Basic Vehicle Details (Policy)', 'tableId':                              │ 4595   │ 0.25%      │\n",
       "│ 'de54a567-d72b-44a9-8658-15c4a0299738', 'id': 'b87fadc2-83ff-4d76-b940-3dd78d0df21f',     │        │            │\n",
       "│ 'type': 'table'}                                                                          │        │            │\n",
       "│ {'displayName': 'Policy Detail Card', 'id': 'e59fbad1-399d-41fe-9c99-f4158e175c01',       │ 3994   │ 0.22%      │\n",
       "│ 'type': 'built-in', 'slug': 'policy-detail-card'}                                         │        │            │\n",
       "│ {'slug': 'auto'}                                                                          │ 3868   │ 0.21%      │\n",
       "│ {'rowModel': 'legacyServer', 'slug': 'submission-history'}                                │ 3481   │ 0.19%      │\n",
       "│ {'rowModel': 'client', 'id': '0d0df5a0-0460-45c8-b3e9-843abd1dd88e'}                      │ 3344   │ 0.18%      │\n",
       "└───────────────────────────────────────────────────────────────────────────────────────────┴────────┴────────────┘\n"
      ]
     },
     "metadata": {},
     "output_type": "display_data"
    },
    {
     "data": {
      "text/html": [
       "<pre style=\"white-space:pre;overflow-x:auto;line-height:normal;font-family:Menlo,'DejaVu Sans Mono',consolas,'Courier New',monospace\">\n",
       "<span style=\"color: #ffff00; text-decoration-color: #ffff00\">Distribution of event_time:</span>\n",
       "</pre>\n"
      ],
      "text/plain": [
       "\n",
       "\u001b[93mDistribution of event_time:\u001b[0m\n"
      ]
     },
     "metadata": {},
     "output_type": "display_data"
    },
    {
     "data": {
      "text/html": [
       "<pre style=\"white-space:pre;overflow-x:auto;line-height:normal;font-family:Menlo,'DejaVu Sans Mono',consolas,'Courier New',monospace\">┏━━━━━━━━━━━━━━━━━━━━━━━━━━━━┳━━━━━━━┳━━━━━━━━━━━━┓\n",
       "┃<span style=\"color: #ffff00; text-decoration-color: #ffff00; font-weight: bold\"> Category                   </span>┃<span style=\"color: #ffff00; text-decoration-color: #ffff00; font-weight: bold\"> Count </span>┃<span style=\"color: #ffff00; text-decoration-color: #ffff00; font-weight: bold\"> Percentage </span>┃\n",
       "┡━━━━━━━━━━━━━━━━━━━━━━━━━━━━╇━━━━━━━╇━━━━━━━━━━━━┩\n",
       "│ 2024-06-27 13:48:19.271000 │ 432   │ 0.02%      │\n",
       "│ 2024-09-10 04:43:50.596000 │ 257   │ 0.01%      │\n",
       "│ 2024-12-19 19:03:01.542000 │ 186   │ 0.01%      │\n",
       "│ 2024-04-23 13:09:22.416000 │ 179   │ 0.01%      │\n",
       "│ 2025-01-24 18:01:29.934000 │ 73    │ 0.00%      │\n",
       "│ 2024-10-01 18:00:43.174000 │ 52    │ 0.00%      │\n",
       "│ 2024-08-12 17:16:07.950000 │ 48    │ 0.00%      │\n",
       "│ 2024-12-24 21:28:22.671000 │ 44    │ 0.00%      │\n",
       "│ 2024-05-16 01:53:12.545000 │ 30    │ 0.00%      │\n",
       "│ 2024-11-20 18:40:12.806000 │ 29    │ 0.00%      │\n",
       "└────────────────────────────┴───────┴────────────┘\n",
       "</pre>\n"
      ],
      "text/plain": [
       "┏━━━━━━━━━━━━━━━━━━━━━━━━━━━━┳━━━━━━━┳━━━━━━━━━━━━┓\n",
       "┃\u001b[1;93m \u001b[0m\u001b[1;93mCategory                  \u001b[0m\u001b[1;93m \u001b[0m┃\u001b[1;93m \u001b[0m\u001b[1;93mCount\u001b[0m\u001b[1;93m \u001b[0m┃\u001b[1;93m \u001b[0m\u001b[1;93mPercentage\u001b[0m\u001b[1;93m \u001b[0m┃\n",
       "┡━━━━━━━━━━━━━━━━━━━━━━━━━━━━╇━━━━━━━╇━━━━━━━━━━━━┩\n",
       "│ 2024-06-27 13:48:19.271000 │ 432   │ 0.02%      │\n",
       "│ 2024-09-10 04:43:50.596000 │ 257   │ 0.01%      │\n",
       "│ 2024-12-19 19:03:01.542000 │ 186   │ 0.01%      │\n",
       "│ 2024-04-23 13:09:22.416000 │ 179   │ 0.01%      │\n",
       "│ 2025-01-24 18:01:29.934000 │ 73    │ 0.00%      │\n",
       "│ 2024-10-01 18:00:43.174000 │ 52    │ 0.00%      │\n",
       "│ 2024-08-12 17:16:07.950000 │ 48    │ 0.00%      │\n",
       "│ 2024-12-24 21:28:22.671000 │ 44    │ 0.00%      │\n",
       "│ 2024-05-16 01:53:12.545000 │ 30    │ 0.00%      │\n",
       "│ 2024-11-20 18:40:12.806000 │ 29    │ 0.00%      │\n",
       "└────────────────────────────┴───────┴────────────┘\n"
      ]
     },
     "metadata": {},
     "output_type": "display_data"
    },
    {
     "data": {
      "text/html": [
       "<pre style=\"white-space:pre;overflow-x:auto;line-height:normal;font-family:Menlo,'DejaVu Sans Mono',consolas,'Courier New',monospace\">\n",
       "<span style=\"color: #ffff00; text-decoration-color: #ffff00\">Distribution of event_type:</span>\n",
       "</pre>\n"
      ],
      "text/plain": [
       "\n",
       "\u001b[93mDistribution of event_type:\u001b[0m\n"
      ]
     },
     "metadata": {},
     "output_type": "display_data"
    },
    {
     "data": {
      "text/html": [
       "<pre style=\"white-space:pre;overflow-x:auto;line-height:normal;font-family:Menlo,'DejaVu Sans Mono',consolas,'Courier New',monospace\">┏━━━━━━━━━━━━━━━━━━━━━━━━━━━━━━━━━━━━━━━━━━━━━┳━━━━━━━━┳━━━━━━━━━━━━┓\n",
       "┃<span style=\"color: #ffff00; text-decoration-color: #ffff00; font-weight: bold\"> Category                                    </span>┃<span style=\"color: #ffff00; text-decoration-color: #ffff00; font-weight: bold\"> Count  </span>┃<span style=\"color: #ffff00; text-decoration-color: #ffff00; font-weight: bold\"> Percentage </span>┃\n",
       "┡━━━━━━━━━━━━━━━━━━━━━━━━━━━━━━━━━━━━━━━━━━━━━╇━━━━━━━━╇━━━━━━━━━━━━┩\n",
       "│ account-lines::widget:render                │ 428058 │ 23.14%     │\n",
       "│ account-lines::configurable-table:render    │ 257224 │ 13.90%     │\n",
       "│ account-lines:::view                        │ 108249 │ 5.85%      │\n",
       "│ dashboard:my-book:configurable-table:render │ 105443 │ 5.70%      │\n",
       "│ account-lines::layout:render                │ 104682 │ 5.66%      │\n",
       "│ dashboard:my-book:widget:render             │ 99140  │ 5.36%      │\n",
       "│ account:::view                              │ 64694  │ 3.50%      │\n",
       "│ session_start                               │ 58762  │ 3.18%      │\n",
       "│ session_end                                 │ 51610  │ 2.79%      │\n",
       "│ application-window-opened                   │ 47245  │ 2.55%      │\n",
       "└─────────────────────────────────────────────┴────────┴────────────┘\n",
       "</pre>\n"
      ],
      "text/plain": [
       "┏━━━━━━━━━━━━━━━━━━━━━━━━━━━━━━━━━━━━━━━━━━━━━┳━━━━━━━━┳━━━━━━━━━━━━┓\n",
       "┃\u001b[1;93m \u001b[0m\u001b[1;93mCategory                                   \u001b[0m\u001b[1;93m \u001b[0m┃\u001b[1;93m \u001b[0m\u001b[1;93mCount \u001b[0m\u001b[1;93m \u001b[0m┃\u001b[1;93m \u001b[0m\u001b[1;93mPercentage\u001b[0m\u001b[1;93m \u001b[0m┃\n",
       "┡━━━━━━━━━━━━━━━━━━━━━━━━━━━━━━━━━━━━━━━━━━━━━╇━━━━━━━━╇━━━━━━━━━━━━┩\n",
       "│ account-lines::widget:render                │ 428058 │ 23.14%     │\n",
       "│ account-lines::configurable-table:render    │ 257224 │ 13.90%     │\n",
       "│ account-lines:::view                        │ 108249 │ 5.85%      │\n",
       "│ dashboard:my-book:configurable-table:render │ 105443 │ 5.70%      │\n",
       "│ account-lines::layout:render                │ 104682 │ 5.66%      │\n",
       "│ dashboard:my-book:widget:render             │ 99140  │ 5.36%      │\n",
       "│ account:::view                              │ 64694  │ 3.50%      │\n",
       "│ session_start                               │ 58762  │ 3.18%      │\n",
       "│ session_end                                 │ 51610  │ 2.79%      │\n",
       "│ application-window-opened                   │ 47245  │ 2.55%      │\n",
       "└─────────────────────────────────────────────┴────────┴────────────┘\n"
      ]
     },
     "metadata": {},
     "output_type": "display_data"
    },
    {
     "data": {
      "text/html": [
       "<pre style=\"white-space:pre;overflow-x:auto;line-height:normal;font-family:Menlo,'DejaVu Sans Mono',consolas,'Courier New',monospace\">\n",
       "<span style=\"color: #ffff00; text-decoration-color: #ffff00\">Distribution of language:</span>\n",
       "</pre>\n"
      ],
      "text/plain": [
       "\n",
       "\u001b[93mDistribution of language:\u001b[0m\n"
      ]
     },
     "metadata": {},
     "output_type": "display_data"
    },
    {
     "data": {
      "text/html": [
       "<pre style=\"white-space:pre;overflow-x:auto;line-height:normal;font-family:Menlo,'DejaVu Sans Mono',consolas,'Courier New',monospace\">┏━━━━━━━━━━┳━━━━━━━━━┳━━━━━━━━━━━━┓\n",
       "┃<span style=\"color: #ffff00; text-decoration-color: #ffff00; font-weight: bold\"> Category </span>┃<span style=\"color: #ffff00; text-decoration-color: #ffff00; font-weight: bold\"> Count   </span>┃<span style=\"color: #ffff00; text-decoration-color: #ffff00; font-weight: bold\"> Percentage </span>┃\n",
       "┡━━━━━━━━━━╇━━━━━━━━━╇━━━━━━━━━━━━┩\n",
       "│ English  │ 1826082 │ 98.70%     │\n",
       "│ Polish   │ 22051   │ 1.19%      │\n",
       "│ Spanish  │ 1976    │ 0.11%      │\n",
       "└──────────┴─────────┴────────────┘\n",
       "</pre>\n"
      ],
      "text/plain": [
       "┏━━━━━━━━━━┳━━━━━━━━━┳━━━━━━━━━━━━┓\n",
       "┃\u001b[1;93m \u001b[0m\u001b[1;93mCategory\u001b[0m\u001b[1;93m \u001b[0m┃\u001b[1;93m \u001b[0m\u001b[1;93mCount  \u001b[0m\u001b[1;93m \u001b[0m┃\u001b[1;93m \u001b[0m\u001b[1;93mPercentage\u001b[0m\u001b[1;93m \u001b[0m┃\n",
       "┡━━━━━━━━━━╇━━━━━━━━━╇━━━━━━━━━━━━┩\n",
       "│ English  │ 1826082 │ 98.70%     │\n",
       "│ Polish   │ 22051   │ 1.19%      │\n",
       "│ Spanish  │ 1976    │ 0.11%      │\n",
       "└──────────┴─────────┴────────────┘\n"
      ]
     },
     "metadata": {},
     "output_type": "display_data"
    },
    {
     "data": {
      "text/html": [
       "<pre style=\"white-space:pre;overflow-x:auto;line-height:normal;font-family:Menlo,'DejaVu Sans Mono',consolas,'Courier New',monospace\">\n",
       "<span style=\"color: #ffff00; text-decoration-color: #ffff00\">Distribution of library:</span>\n",
       "</pre>\n"
      ],
      "text/plain": [
       "\n",
       "\u001b[93mDistribution of library:\u001b[0m\n"
      ]
     },
     "metadata": {},
     "output_type": "display_data"
    },
    {
     "data": {
      "text/html": [
       "<pre style=\"white-space:pre;overflow-x:auto;line-height:normal;font-family:Menlo,'DejaVu Sans Mono',consolas,'Courier New',monospace\">┏━━━━━━━━━━━━━━━━━━━━┳━━━━━━━━━┳━━━━━━━━━━━━┓\n",
       "┃<span style=\"color: #ffff00; text-decoration-color: #ffff00; font-weight: bold\"> Category           </span>┃<span style=\"color: #ffff00; text-decoration-color: #ffff00; font-weight: bold\"> Count   </span>┃<span style=\"color: #ffff00; text-decoration-color: #ffff00; font-weight: bold\"> Percentage </span>┃\n",
       "┡━━━━━━━━━━━━━━━━━━━━╇━━━━━━━━━╇━━━━━━━━━━━━┩\n",
       "│ amplitude-ts/2.7.2 │ 1850109 │ 100.00%    │\n",
       "└────────────────────┴─────────┴────────────┘\n",
       "</pre>\n"
      ],
      "text/plain": [
       "┏━━━━━━━━━━━━━━━━━━━━┳━━━━━━━━━┳━━━━━━━━━━━━┓\n",
       "┃\u001b[1;93m \u001b[0m\u001b[1;93mCategory          \u001b[0m\u001b[1;93m \u001b[0m┃\u001b[1;93m \u001b[0m\u001b[1;93mCount  \u001b[0m\u001b[1;93m \u001b[0m┃\u001b[1;93m \u001b[0m\u001b[1;93mPercentage\u001b[0m\u001b[1;93m \u001b[0m┃\n",
       "┡━━━━━━━━━━━━━━━━━━━━╇━━━━━━━━━╇━━━━━━━━━━━━┩\n",
       "│ amplitude-ts/2.7.2 │ 1850109 │ 100.00%    │\n",
       "└────────────────────┴─────────┴────────────┘\n"
      ]
     },
     "metadata": {},
     "output_type": "display_data"
    },
    {
     "data": {
      "text/html": [
       "<pre style=\"white-space:pre;overflow-x:auto;line-height:normal;font-family:Menlo,'DejaVu Sans Mono',consolas,'Courier New',monospace\">\n",
       "<span style=\"color: #ffff00; text-decoration-color: #ffff00\">Distribution of os_name:</span>\n",
       "</pre>\n"
      ],
      "text/plain": [
       "\n",
       "\u001b[93mDistribution of os_name:\u001b[0m\n"
      ]
     },
     "metadata": {},
     "output_type": "display_data"
    },
    {
     "data": {
      "text/html": [
       "<pre style=\"white-space:pre;overflow-x:auto;line-height:normal;font-family:Menlo,'DejaVu Sans Mono',consolas,'Courier New',monospace\">┏━━━━━━━━━━━━━━━━━━━┳━━━━━━━━━┳━━━━━━━━━━━━┓\n",
       "┃<span style=\"color: #ffff00; text-decoration-color: #ffff00; font-weight: bold\"> Category          </span>┃<span style=\"color: #ffff00; text-decoration-color: #ffff00; font-weight: bold\"> Count   </span>┃<span style=\"color: #ffff00; text-decoration-color: #ffff00; font-weight: bold\"> Percentage </span>┃\n",
       "┡━━━━━━━━━━━━━━━━━━━╇━━━━━━━━━╇━━━━━━━━━━━━┩\n",
       "│ Chrome            │ 1707543 │ 92.29%     │\n",
       "│ Edge              │ 131340  │ 7.10%      │\n",
       "│ Firefox           │ 8543    │ 0.46%      │\n",
       "│ Mobile Safari     │ 1822    │ 0.10%      │\n",
       "│ Safari            │ 637     │ 0.03%      │\n",
       "│ Chrome Mobile iOS │ 163     │ 0.01%      │\n",
       "│ Edge Mobile       │ 36      │ 0.00%      │\n",
       "│ Chrome Mobile     │ 22      │ 0.00%      │\n",
       "│ HeadlessChrome    │ 2       │ 0.00%      │\n",
       "│ android           │ 1       │ 0.00%      │\n",
       "└───────────────────┴─────────┴────────────┘\n",
       "</pre>\n"
      ],
      "text/plain": [
       "┏━━━━━━━━━━━━━━━━━━━┳━━━━━━━━━┳━━━━━━━━━━━━┓\n",
       "┃\u001b[1;93m \u001b[0m\u001b[1;93mCategory         \u001b[0m\u001b[1;93m \u001b[0m┃\u001b[1;93m \u001b[0m\u001b[1;93mCount  \u001b[0m\u001b[1;93m \u001b[0m┃\u001b[1;93m \u001b[0m\u001b[1;93mPercentage\u001b[0m\u001b[1;93m \u001b[0m┃\n",
       "┡━━━━━━━━━━━━━━━━━━━╇━━━━━━━━━╇━━━━━━━━━━━━┩\n",
       "│ Chrome            │ 1707543 │ 92.29%     │\n",
       "│ Edge              │ 131340  │ 7.10%      │\n",
       "│ Firefox           │ 8543    │ 0.46%      │\n",
       "│ Mobile Safari     │ 1822    │ 0.10%      │\n",
       "│ Safari            │ 637     │ 0.03%      │\n",
       "│ Chrome Mobile iOS │ 163     │ 0.01%      │\n",
       "│ Edge Mobile       │ 36      │ 0.00%      │\n",
       "│ Chrome Mobile     │ 22      │ 0.00%      │\n",
       "│ HeadlessChrome    │ 2       │ 0.00%      │\n",
       "│ android           │ 1       │ 0.00%      │\n",
       "└───────────────────┴─────────┴────────────┘\n"
      ]
     },
     "metadata": {},
     "output_type": "display_data"
    },
    {
     "data": {
      "text/html": [
       "<pre style=\"white-space:pre;overflow-x:auto;line-height:normal;font-family:Menlo,'DejaVu Sans Mono',consolas,'Courier New',monospace\">\n",
       "<span style=\"color: #ffff00; text-decoration-color: #ffff00\">Distribution of platform:</span>\n",
       "</pre>\n"
      ],
      "text/plain": [
       "\n",
       "\u001b[93mDistribution of platform:\u001b[0m\n"
      ]
     },
     "metadata": {},
     "output_type": "display_data"
    },
    {
     "data": {
      "text/html": [
       "<pre style=\"white-space:pre;overflow-x:auto;line-height:normal;font-family:Menlo,'DejaVu Sans Mono',consolas,'Courier New',monospace\">┏━━━━━━━━━━┳━━━━━━━━━┳━━━━━━━━━━━━┓\n",
       "┃<span style=\"color: #ffff00; text-decoration-color: #ffff00; font-weight: bold\"> Category </span>┃<span style=\"color: #ffff00; text-decoration-color: #ffff00; font-weight: bold\"> Count   </span>┃<span style=\"color: #ffff00; text-decoration-color: #ffff00; font-weight: bold\"> Percentage </span>┃\n",
       "┡━━━━━━━━━━╇━━━━━━━━━╇━━━━━━━━━━━━┩\n",
       "│ Web      │ 1850109 │ 100.00%    │\n",
       "└──────────┴─────────┴────────────┘\n",
       "</pre>\n"
      ],
      "text/plain": [
       "┏━━━━━━━━━━┳━━━━━━━━━┳━━━━━━━━━━━━┓\n",
       "┃\u001b[1;93m \u001b[0m\u001b[1;93mCategory\u001b[0m\u001b[1;93m \u001b[0m┃\u001b[1;93m \u001b[0m\u001b[1;93mCount  \u001b[0m\u001b[1;93m \u001b[0m┃\u001b[1;93m \u001b[0m\u001b[1;93mPercentage\u001b[0m\u001b[1;93m \u001b[0m┃\n",
       "┡━━━━━━━━━━╇━━━━━━━━━╇━━━━━━━━━━━━┩\n",
       "│ Web      │ 1850109 │ 100.00%    │\n",
       "└──────────┴─────────┴────────────┘\n"
      ]
     },
     "metadata": {},
     "output_type": "display_data"
    },
    {
     "data": {
      "text/html": [
       "<pre style=\"white-space:pre;overflow-x:auto;line-height:normal;font-family:Menlo,'DejaVu Sans Mono',consolas,'Courier New',monospace\">\n",
       "<span style=\"color: #ffff00; text-decoration-color: #ffff00\">Distribution of region:</span>\n",
       "</pre>\n"
      ],
      "text/plain": [
       "\n",
       "\u001b[93mDistribution of region:\u001b[0m\n"
      ]
     },
     "metadata": {},
     "output_type": "display_data"
    },
    {
     "data": {
      "text/html": [
       "<pre style=\"white-space:pre;overflow-x:auto;line-height:normal;font-family:Menlo,'DejaVu Sans Mono',consolas,'Courier New',monospace\">┏━━━━━━━━━━━━━━━━┳━━━━━━━━┳━━━━━━━━━━━━┓\n",
       "┃<span style=\"color: #ffff00; text-decoration-color: #ffff00; font-weight: bold\"> Category       </span>┃<span style=\"color: #ffff00; text-decoration-color: #ffff00; font-weight: bold\"> Count  </span>┃<span style=\"color: #ffff00; text-decoration-color: #ffff00; font-weight: bold\"> Percentage </span>┃\n",
       "┡━━━━━━━━━━━━━━━━╇━━━━━━━━╇━━━━━━━━━━━━┩\n",
       "│ Maharashtra    │ 399477 │ 21.59%     │\n",
       "│ Tennessee      │ 383475 │ 20.73%     │\n",
       "│ Illinois       │ 103032 │ 5.57%      │\n",
       "│ Iowa           │ 95680  │ 5.17%      │\n",
       "│ Georgia        │ 75776  │ 4.10%      │\n",
       "│ South Carolina │ 74163  │ 4.01%      │\n",
       "│ Virginia       │ 70494  │ 3.81%      │\n",
       "│ Alabama        │ 68398  │ 3.70%      │\n",
       "│ California     │ 66066  │ 3.57%      │\n",
       "│ Florida        │ 60664  │ 3.28%      │\n",
       "└────────────────┴────────┴────────────┘\n",
       "</pre>\n"
      ],
      "text/plain": [
       "┏━━━━━━━━━━━━━━━━┳━━━━━━━━┳━━━━━━━━━━━━┓\n",
       "┃\u001b[1;93m \u001b[0m\u001b[1;93mCategory      \u001b[0m\u001b[1;93m \u001b[0m┃\u001b[1;93m \u001b[0m\u001b[1;93mCount \u001b[0m\u001b[1;93m \u001b[0m┃\u001b[1;93m \u001b[0m\u001b[1;93mPercentage\u001b[0m\u001b[1;93m \u001b[0m┃\n",
       "┡━━━━━━━━━━━━━━━━╇━━━━━━━━╇━━━━━━━━━━━━┩\n",
       "│ Maharashtra    │ 399477 │ 21.59%     │\n",
       "│ Tennessee      │ 383475 │ 20.73%     │\n",
       "│ Illinois       │ 103032 │ 5.57%      │\n",
       "│ Iowa           │ 95680  │ 5.17%      │\n",
       "│ Georgia        │ 75776  │ 4.10%      │\n",
       "│ South Carolina │ 74163  │ 4.01%      │\n",
       "│ Virginia       │ 70494  │ 3.81%      │\n",
       "│ Alabama        │ 68398  │ 3.70%      │\n",
       "│ California     │ 66066  │ 3.57%      │\n",
       "│ Florida        │ 60664  │ 3.28%      │\n",
       "└────────────────┴────────┴────────────┘\n"
      ]
     },
     "metadata": {},
     "output_type": "display_data"
    },
    {
     "data": {
      "text/html": [
       "<pre style=\"white-space:pre;overflow-x:auto;line-height:normal;font-family:Menlo,'DejaVu Sans Mono',consolas,'Courier New',monospace\">\n",
       "<span style=\"color: #ffff00; text-decoration-color: #ffff00\">Distribution of user_id:</span>\n",
       "</pre>\n"
      ],
      "text/plain": [
       "\n",
       "\u001b[93mDistribution of user_id:\u001b[0m\n"
      ]
     },
     "metadata": {},
     "output_type": "display_data"
    },
    {
     "data": {
      "text/html": [
       "<pre style=\"white-space:pre;overflow-x:auto;line-height:normal;font-family:Menlo,'DejaVu Sans Mono',consolas,'Courier New',monospace\">┏━━━━━━━━━━━━━━━━━━━━━━━━━━━━━━━━━━━━━━┳━━━━━━━┳━━━━━━━━━━━━┓\n",
       "┃<span style=\"color: #ffff00; text-decoration-color: #ffff00; font-weight: bold\"> Category                             </span>┃<span style=\"color: #ffff00; text-decoration-color: #ffff00; font-weight: bold\"> Count </span>┃<span style=\"color: #ffff00; text-decoration-color: #ffff00; font-weight: bold\"> Percentage </span>┃\n",
       "┡━━━━━━━━━━━━━━━━━━━━━━━━━━━━━━━━━━━━━━╇━━━━━━━╇━━━━━━━━━━━━┩\n",
       "│ 0c4896b7-08fa-4cb4-852f-27ad584f0864 │ 45035 │ 2.43%      │\n",
       "│ 1b992a40-b2c3-4b69-a5bc-05711eeddd80 │ 39783 │ 2.15%      │\n",
       "│ EMPTY                                │ 31120 │ 1.68%      │\n",
       "│ bb8fa1af-a540-4d0f-a633-569c61f01281 │ 26015 │ 1.41%      │\n",
       "│ e309f160-ed02-4c6c-84bb-33bab8749186 │ 24486 │ 1.32%      │\n",
       "│ 1b7f0cbc-e5b9-494f-af08-f8e19df60576 │ 22362 │ 1.21%      │\n",
       "│ c774e8c0-4817-4b51-962a-ac7c051d0470 │ 21852 │ 1.18%      │\n",
       "│ b5e87951-22bd-4333-9a0d-ae28ecabe804 │ 21747 │ 1.18%      │\n",
       "│ cfa20420-326e-4d5a-b202-c04084e785ad │ 21036 │ 1.14%      │\n",
       "│ 6066f244-0707-4e85-9fc5-70e6fefdea0b │ 20382 │ 1.10%      │\n",
       "└──────────────────────────────────────┴───────┴────────────┘\n",
       "</pre>\n"
      ],
      "text/plain": [
       "┏━━━━━━━━━━━━━━━━━━━━━━━━━━━━━━━━━━━━━━┳━━━━━━━┳━━━━━━━━━━━━┓\n",
       "┃\u001b[1;93m \u001b[0m\u001b[1;93mCategory                            \u001b[0m\u001b[1;93m \u001b[0m┃\u001b[1;93m \u001b[0m\u001b[1;93mCount\u001b[0m\u001b[1;93m \u001b[0m┃\u001b[1;93m \u001b[0m\u001b[1;93mPercentage\u001b[0m\u001b[1;93m \u001b[0m┃\n",
       "┡━━━━━━━━━━━━━━━━━━━━━━━━━━━━━━━━━━━━━━╇━━━━━━━╇━━━━━━━━━━━━┩\n",
       "│ 0c4896b7-08fa-4cb4-852f-27ad584f0864 │ 45035 │ 2.43%      │\n",
       "│ 1b992a40-b2c3-4b69-a5bc-05711eeddd80 │ 39783 │ 2.15%      │\n",
       "│ EMPTY                                │ 31120 │ 1.68%      │\n",
       "│ bb8fa1af-a540-4d0f-a633-569c61f01281 │ 26015 │ 1.41%      │\n",
       "│ e309f160-ed02-4c6c-84bb-33bab8749186 │ 24486 │ 1.32%      │\n",
       "│ 1b7f0cbc-e5b9-494f-af08-f8e19df60576 │ 22362 │ 1.21%      │\n",
       "│ c774e8c0-4817-4b51-962a-ac7c051d0470 │ 21852 │ 1.18%      │\n",
       "│ b5e87951-22bd-4333-9a0d-ae28ecabe804 │ 21747 │ 1.18%      │\n",
       "│ cfa20420-326e-4d5a-b202-c04084e785ad │ 21036 │ 1.14%      │\n",
       "│ 6066f244-0707-4e85-9fc5-70e6fefdea0b │ 20382 │ 1.10%      │\n",
       "└──────────────────────────────────────┴───────┴────────────┘\n"
      ]
     },
     "metadata": {},
     "output_type": "display_data"
    },
    {
     "data": {
      "text/html": [
       "<pre style=\"white-space:pre;overflow-x:auto;line-height:normal;font-family:Menlo,'DejaVu Sans Mono',consolas,'Courier New',monospace\">\n",
       "<span style=\"color: #ffff00; text-decoration-color: #ffff00\">Distribution of user_properties:</span>\n",
       "</pre>\n"
      ],
      "text/plain": [
       "\n",
       "\u001b[93mDistribution of user_properties:\u001b[0m\n"
      ]
     },
     "metadata": {},
     "output_type": "display_data"
    },
    {
     "data": {
      "text/html": [
       "<pre style=\"white-space:pre;overflow-x:auto;line-height:normal;font-family:Menlo,'DejaVu Sans Mono',consolas,'Courier New',monospace\">┏━━━━━━━━━━━━━━━━━━━━━━━━━━━━━━━━━━━━━━━━━━━━━━━━━━━━━━━━━━━━━━━━━━━━━━━━━━━━━━━━━━━━━━━━━━━┳━━━━━━━━┳━━━━━━━━━━━━┓\n",
       "┃<span style=\"color: #ffff00; text-decoration-color: #ffff00; font-weight: bold\"> Category                                                                                  </span>┃<span style=\"color: #ffff00; text-decoration-color: #ffff00; font-weight: bold\"> Count  </span>┃<span style=\"color: #ffff00; text-decoration-color: #ffff00; font-weight: bold\"> Percentage </span>┃\n",
       "┡━━━━━━━━━━━━━━━━━━━━━━━━━━━━━━━━━━━━━━━━━━━━━━━━━━━━━━━━━━━━━━━━━━━━━━━━━━━━━━━━━━━━━━━━━━━╇━━━━━━━━╇━━━━━━━━━━━━┩\n",
       "│ {'businessUnit': [], 'initial_utm_medium': 'EMPTY', 'initial_referring_domain': 'EMPTY',  │ 512831 │ 27.72%     │\n",
       "│ 'initial_utm_content': 'EMPTY', 'roles': ['underwriter'], 'isInternalUser': 'False',      │        │            │\n",
       "│ 'trackingVersion': '3.1', 'initial_utm_campaign': 'EMPTY', 'initial_twclid': 'EMPTY',     │        │            │\n",
       "│ 'initial_li_fat_id': 'EMPTY', 'initial_gclid': 'EMPTY', 'hostname': 'None',               │        │            │\n",
       "│ 'initial_utm_source': 'EMPTY', 'initial_dclid': 'EMPTY', 'initial_wbraid': 'EMPTY',       │        │            │\n",
       "│ 'initial_rtd_cid': 'EMPTY', 'initial_fbclid': 'EMPTY', 'initial_utm_id': 'EMPTY',         │        │            │\n",
       "│ 'initial_gbraid': 'EMPTY', 'initial_referrer': 'EMPTY', 'initial_msclkid': 'EMPTY',       │        │            │\n",
       "│ 'initial_ttclid': 'EMPTY', 'initial_utm_term': 'EMPTY', 'initial_ko_click_id': 'EMPTY'}   │        │            │\n",
       "│ {'businessUnit': [], 'roles': ['underwriter'], 'trackingVersion': '3.1',                  │ 135196 │ 7.31%      │\n",
       "│ 'initial_twclid': 'EMPTY', 'initial_gclid': 'EMPTY', 'hostname': 'None',                  │        │            │\n",
       "│ 'initial_utm_source': 'EMPTY', 'initial_dclid': 'EMPTY', 'initial_wbraid': 'EMPTY',       │        │            │\n",
       "│ 'initial_rtd_cid': 'EMPTY', 'initial_utm_id': 'EMPTY', 'initial_gbraid': 'EMPTY',         │        │            │\n",
       "│ 'initial_msclkid': 'EMPTY', 'initial_ttclid': 'EMPTY', 'initial_ko_click_id': 'EMPTY',    │        │            │\n",
       "│ 'initial_utm_medium': 'EMPTY', 'initial_referring_domain': 'EMPTY',                       │        │            │\n",
       "│ 'initial_utm_content': 'EMPTY', 'isInternalUser': 'False', 'initial_utm_campaign':        │        │            │\n",
       "│ 'EMPTY', 'initial_li_fat_id': 'EMPTY', 'referrer': 'https://accounts.google.com/',        │        │            │\n",
       "│ 'initial_fbclid': 'EMPTY', 'initial_referrer': 'EMPTY', 'initial_utm_term': 'EMPTY',      │        │            │\n",
       "│ 'referring_domain': 'accounts.google.com'}                                                │        │            │\n",
       "│ {'businessUnit': [], 'roles': ['underwriter'], 'trackingVersion': '3.1',                  │ 103019 │ 5.57%      │\n",
       "│ 'initial_twclid': 'EMPTY', 'initial_gclid': 'EMPTY', 'hostname': 'None',                  │        │            │\n",
       "│ 'initial_utm_source': 'EMPTY', 'initial_dclid': 'EMPTY', 'initial_wbraid': 'EMPTY',       │        │            │\n",
       "│ 'initial_rtd_cid': 'EMPTY', 'initial_utm_id': 'EMPTY', 'initial_gbraid': 'EMPTY',         │        │            │\n",
       "│ 'initial_msclkid': 'EMPTY', 'initial_ttclid': 'EMPTY', 'initial_ko_click_id': 'EMPTY',    │        │            │\n",
       "│ 'initial_utm_medium': 'EMPTY', 'initial_referring_domain': 'EMPTY',                       │        │            │\n",
       "│ 'initial_utm_content': 'EMPTY', 'isInternalUser': 'False', 'initial_utm_campaign':        │        │            │\n",
       "│ 'EMPTY', 'initial_li_fat_id': 'EMPTY', 'referrer': 'https://vru-auth.us.auth0.com/',      │        │            │\n",
       "│ 'initial_fbclid': 'EMPTY', 'initial_referrer': 'EMPTY', 'initial_utm_term': 'EMPTY',      │        │            │\n",
       "│ 'referring_domain': 'vru-auth.us.auth0.com'}                                              │        │            │\n",
       "│ {'businessUnit': ['Xceedance Modeling'], 'initial_utm_medium': 'EMPTY',                   │ 85657  │ 4.63%      │\n",
       "│ 'initial_referring_domain': 'EMPTY', 'initial_utm_content': 'EMPTY', 'roles':             │        │            │\n",
       "│ ['underwriter'], 'isInternalUser': 'False', 'trackingVersion': '3.1',                     │        │            │\n",
       "│ 'initial_utm_campaign': 'EMPTY', 'initial_twclid': 'EMPTY', 'initial_li_fat_id': 'EMPTY', │        │            │\n",
       "│ 'initial_gclid': 'EMPTY', 'hostname': 'None', 'initial_utm_source': 'EMPTY',              │        │            │\n",
       "│ 'initial_dclid': 'EMPTY', 'initial_wbraid': 'EMPTY', 'initial_rtd_cid': 'EMPTY',          │        │            │\n",
       "│ 'initial_fbclid': 'EMPTY', 'initial_utm_id': 'EMPTY', 'initial_gbraid': 'EMPTY',          │        │            │\n",
       "│ 'initial_referrer': 'EMPTY', 'initial_msclkid': 'EMPTY', 'initial_ttclid': 'EMPTY',       │        │            │\n",
       "│ 'initial_utm_term': 'EMPTY', 'initial_ko_click_id': 'EMPTY'}                              │        │            │\n",
       "│ {'initial_utm_medium': 'EMPTY', 'initial_referring_domain': 'EMPTY', 'businessUnit': [],  │ 69537  │ 3.76%      │\n",
       "│ 'initial_utm_content': 'EMPTY', 'roles': ['underwriter'], 'isInternalUser': 'False',      │        │            │\n",
       "│ 'initial_utm_campaign': 'EMPTY', 'trackingVersion': '3.1', 'initial_twclid': 'EMPTY',     │        │            │\n",
       "│ 'initial_gclid': 'EMPTY', 'hostname': 'None', 'initial_utm_source': 'EMPTY',              │        │            │\n",
       "│ 'initial_dclid': 'EMPTY', 'initial_wbraid': 'EMPTY', 'initial_fbclid': 'EMPTY',           │        │            │\n",
       "│ 'initial_utm_id': 'EMPTY', 'initial_referrer': 'EMPTY', 'initial_gbraid': 'EMPTY',        │        │            │\n",
       "│ 'initial_utm_term': 'EMPTY', 'initial_msclkid': 'EMPTY', 'initial_ttclid': 'EMPTY',       │        │            │\n",
       "│ 'initial_ko_click_id': 'EMPTY'}                                                           │        │            │\n",
       "│ {'businessUnit': [], 'initial_utm_medium': 'EMPTY', 'initial_referring_domain': 'EMPTY',  │ 53627  │ 2.90%      │\n",
       "│ 'initial_utm_content': 'EMPTY', 'roles': ['admin'], 'isInternalUser': 'True',             │        │            │\n",
       "│ 'trackingVersion': '3.1', 'initial_utm_campaign': 'EMPTY', 'initial_twclid': 'EMPTY',     │        │            │\n",
       "│ 'initial_li_fat_id': 'EMPTY', 'initial_gclid': 'EMPTY', 'hostname': 'None',               │        │            │\n",
       "│ 'initial_utm_source': 'EMPTY', 'initial_dclid': 'EMPTY', 'initial_wbraid': 'EMPTY',       │        │            │\n",
       "│ 'initial_rtd_cid': 'EMPTY', 'initial_fbclid': 'EMPTY', 'initial_utm_id': 'EMPTY',         │        │            │\n",
       "│ 'initial_gbraid': 'EMPTY', 'initial_referrer': 'EMPTY', 'initial_msclkid': 'EMPTY',       │        │            │\n",
       "│ 'initial_ttclid': 'EMPTY', 'initial_utm_term': 'EMPTY', 'initial_ko_click_id': 'EMPTY'}   │        │            │\n",
       "│ {'businessUnit': ['Xceedence'], 'initial_utm_medium': 'EMPTY',                            │ 52135  │ 2.82%      │\n",
       "│ 'initial_referring_domain': 'EMPTY', 'initial_utm_content': 'EMPTY', 'roles':             │        │            │\n",
       "│ ['underwriter'], 'isInternalUser': 'False', 'trackingVersion': '3.1',                     │        │            │\n",
       "│ 'initial_utm_campaign': 'EMPTY', 'initial_twclid': 'EMPTY', 'initial_li_fat_id': 'EMPTY', │        │            │\n",
       "│ 'initial_gclid': 'EMPTY', 'hostname': 'None', 'initial_utm_source': 'EMPTY',              │        │            │\n",
       "│ 'initial_dclid': 'EMPTY', 'initial_wbraid': 'EMPTY', 'initial_rtd_cid': 'EMPTY',          │        │            │\n",
       "│ 'initial_fbclid': 'EMPTY', 'initial_utm_id': 'EMPTY', 'initial_gbraid': 'EMPTY',          │        │            │\n",
       "│ 'initial_referrer': 'EMPTY', 'initial_msclkid': 'EMPTY', 'initial_ttclid': 'EMPTY',       │        │            │\n",
       "│ 'initial_utm_term': 'EMPTY', 'initial_ko_click_id': 'EMPTY'}                              │        │            │\n",
       "│ {'businessUnit': [], 'roles': ['underwriter'], 'trackingVersion': '3.1',                  │ 50903  │ 2.75%      │\n",
       "│ 'initial_twclid': 'EMPTY', 'initial_gclid': 'EMPTY', 'hostname': 'None',                  │        │            │\n",
       "│ 'initial_utm_source': 'EMPTY', 'initial_dclid': 'EMPTY', 'initial_wbraid': 'EMPTY',       │        │            │\n",
       "│ 'initial_rtd_cid': 'EMPTY', 'initial_utm_id': 'EMPTY', 'initial_gbraid': 'EMPTY',         │        │            │\n",
       "│ 'initial_msclkid': 'EMPTY', 'initial_ttclid': 'EMPTY', 'initial_ko_click_id': 'EMPTY',    │        │            │\n",
       "│ 'initial_utm_medium': 'EMPTY', 'initial_referring_domain': 'accounts.google.com',         │        │            │\n",
       "│ 'initial_utm_content': 'EMPTY', 'isInternalUser': 'False', 'initial_utm_campaign':        │        │            │\n",
       "│ 'EMPTY', 'initial_li_fat_id': 'EMPTY', 'referrer': 'https://accounts.google.com/',        │        │            │\n",
       "│ 'initial_fbclid': 'EMPTY', 'initial_referrer': 'https://accounts.google.com/',            │        │            │\n",
       "│ 'initial_utm_term': 'EMPTY', 'referring_domain': 'accounts.google.com'}                   │        │            │\n",
       "│ {'businessUnit': [], 'initial_utm_medium': 'EMPTY', 'initial_referring_domain':           │ 41459  │ 2.24%      │\n",
       "│ 'statics.teams.cdn.office.net', 'initial_utm_content': 'EMPTY', 'roles': ['underwriter'], │        │            │\n",
       "│ 'isInternalUser': 'False', 'trackingVersion': '3.1', 'initial_utm_campaign': 'EMPTY',     │        │            │\n",
       "│ 'initial_twclid': 'EMPTY', 'initial_li_fat_id': 'EMPTY', 'initial_gclid': 'EMPTY',        │        │            │\n",
       "│ 'hostname': 'None', 'initial_utm_source': 'EMPTY', 'initial_dclid': 'EMPTY',              │        │            │\n",
       "│ 'initial_wbraid': 'EMPTY', 'initial_rtd_cid': 'EMPTY', 'initial_fbclid': 'EMPTY',         │        │            │\n",
       "│ 'initial_utm_id': 'EMPTY', 'initial_gbraid': 'EMPTY', 'initial_referrer':                 │        │            │\n",
       "│ 'https://statics.teams.cdn.office.net/', 'initial_msclkid': 'EMPTY', 'initial_ttclid':    │        │            │\n",
       "│ 'EMPTY', 'initial_utm_term': 'EMPTY', 'initial_ko_click_id': 'EMPTY'}                     │        │            │\n",
       "│ {'businessUnit': ['AU Group'], 'roles': ['underwriter'], 'trackingVersion': '3.1',        │ 37571  │ 2.03%      │\n",
       "│ 'initial_twclid': 'EMPTY', 'initial_gclid': 'EMPTY', 'hostname': 'None',                  │        │            │\n",
       "│ 'initial_utm_source': 'EMPTY', 'initial_dclid': 'EMPTY', 'initial_wbraid': 'EMPTY',       │        │            │\n",
       "│ 'initial_rtd_cid': 'EMPTY', 'initial_utm_id': 'EMPTY', 'initial_gbraid': 'EMPTY',         │        │            │\n",
       "│ 'initial_msclkid': 'EMPTY', 'initial_ttclid': 'EMPTY', 'initial_ko_click_id': 'EMPTY',    │        │            │\n",
       "│ 'initial_utm_medium': 'EMPTY', 'initial_referring_domain': 'EMPTY',                       │        │            │\n",
       "│ 'initial_utm_content': 'EMPTY', 'isInternalUser': 'False', 'initial_utm_campaign':        │        │            │\n",
       "│ 'EMPTY', 'initial_li_fat_id': 'EMPTY', 'referrer': 'https://login.microsoftonline.com/',  │        │            │\n",
       "│ 'initial_fbclid': 'EMPTY', 'initial_referrer': 'EMPTY', 'initial_utm_term': 'EMPTY',      │        │            │\n",
       "│ 'referring_domain': 'login.microsoftonline.com'}                                          │        │            │\n",
       "└───────────────────────────────────────────────────────────────────────────────────────────┴────────┴────────────┘\n",
       "</pre>\n"
      ],
      "text/plain": [
       "┏━━━━━━━━━━━━━━━━━━━━━━━━━━━━━━━━━━━━━━━━━━━━━━━━━━━━━━━━━━━━━━━━━━━━━━━━━━━━━━━━━━━━━━━━━━━┳━━━━━━━━┳━━━━━━━━━━━━┓\n",
       "┃\u001b[1;93m \u001b[0m\u001b[1;93mCategory                                                                                 \u001b[0m\u001b[1;93m \u001b[0m┃\u001b[1;93m \u001b[0m\u001b[1;93mCount \u001b[0m\u001b[1;93m \u001b[0m┃\u001b[1;93m \u001b[0m\u001b[1;93mPercentage\u001b[0m\u001b[1;93m \u001b[0m┃\n",
       "┡━━━━━━━━━━━━━━━━━━━━━━━━━━━━━━━━━━━━━━━━━━━━━━━━━━━━━━━━━━━━━━━━━━━━━━━━━━━━━━━━━━━━━━━━━━━╇━━━━━━━━╇━━━━━━━━━━━━┩\n",
       "│ {'businessUnit': [], 'initial_utm_medium': 'EMPTY', 'initial_referring_domain': 'EMPTY',  │ 512831 │ 27.72%     │\n",
       "│ 'initial_utm_content': 'EMPTY', 'roles': ['underwriter'], 'isInternalUser': 'False',      │        │            │\n",
       "│ 'trackingVersion': '3.1', 'initial_utm_campaign': 'EMPTY', 'initial_twclid': 'EMPTY',     │        │            │\n",
       "│ 'initial_li_fat_id': 'EMPTY', 'initial_gclid': 'EMPTY', 'hostname': 'None',               │        │            │\n",
       "│ 'initial_utm_source': 'EMPTY', 'initial_dclid': 'EMPTY', 'initial_wbraid': 'EMPTY',       │        │            │\n",
       "│ 'initial_rtd_cid': 'EMPTY', 'initial_fbclid': 'EMPTY', 'initial_utm_id': 'EMPTY',         │        │            │\n",
       "│ 'initial_gbraid': 'EMPTY', 'initial_referrer': 'EMPTY', 'initial_msclkid': 'EMPTY',       │        │            │\n",
       "│ 'initial_ttclid': 'EMPTY', 'initial_utm_term': 'EMPTY', 'initial_ko_click_id': 'EMPTY'}   │        │            │\n",
       "│ {'businessUnit': [], 'roles': ['underwriter'], 'trackingVersion': '3.1',                  │ 135196 │ 7.31%      │\n",
       "│ 'initial_twclid': 'EMPTY', 'initial_gclid': 'EMPTY', 'hostname': 'None',                  │        │            │\n",
       "│ 'initial_utm_source': 'EMPTY', 'initial_dclid': 'EMPTY', 'initial_wbraid': 'EMPTY',       │        │            │\n",
       "│ 'initial_rtd_cid': 'EMPTY', 'initial_utm_id': 'EMPTY', 'initial_gbraid': 'EMPTY',         │        │            │\n",
       "│ 'initial_msclkid': 'EMPTY', 'initial_ttclid': 'EMPTY', 'initial_ko_click_id': 'EMPTY',    │        │            │\n",
       "│ 'initial_utm_medium': 'EMPTY', 'initial_referring_domain': 'EMPTY',                       │        │            │\n",
       "│ 'initial_utm_content': 'EMPTY', 'isInternalUser': 'False', 'initial_utm_campaign':        │        │            │\n",
       "│ 'EMPTY', 'initial_li_fat_id': 'EMPTY', 'referrer': 'https://accounts.google.com/',        │        │            │\n",
       "│ 'initial_fbclid': 'EMPTY', 'initial_referrer': 'EMPTY', 'initial_utm_term': 'EMPTY',      │        │            │\n",
       "│ 'referring_domain': 'accounts.google.com'}                                                │        │            │\n",
       "│ {'businessUnit': [], 'roles': ['underwriter'], 'trackingVersion': '3.1',                  │ 103019 │ 5.57%      │\n",
       "│ 'initial_twclid': 'EMPTY', 'initial_gclid': 'EMPTY', 'hostname': 'None',                  │        │            │\n",
       "│ 'initial_utm_source': 'EMPTY', 'initial_dclid': 'EMPTY', 'initial_wbraid': 'EMPTY',       │        │            │\n",
       "│ 'initial_rtd_cid': 'EMPTY', 'initial_utm_id': 'EMPTY', 'initial_gbraid': 'EMPTY',         │        │            │\n",
       "│ 'initial_msclkid': 'EMPTY', 'initial_ttclid': 'EMPTY', 'initial_ko_click_id': 'EMPTY',    │        │            │\n",
       "│ 'initial_utm_medium': 'EMPTY', 'initial_referring_domain': 'EMPTY',                       │        │            │\n",
       "│ 'initial_utm_content': 'EMPTY', 'isInternalUser': 'False', 'initial_utm_campaign':        │        │            │\n",
       "│ 'EMPTY', 'initial_li_fat_id': 'EMPTY', 'referrer': 'https://vru-auth.us.auth0.com/',      │        │            │\n",
       "│ 'initial_fbclid': 'EMPTY', 'initial_referrer': 'EMPTY', 'initial_utm_term': 'EMPTY',      │        │            │\n",
       "│ 'referring_domain': 'vru-auth.us.auth0.com'}                                              │        │            │\n",
       "│ {'businessUnit': ['Xceedance Modeling'], 'initial_utm_medium': 'EMPTY',                   │ 85657  │ 4.63%      │\n",
       "│ 'initial_referring_domain': 'EMPTY', 'initial_utm_content': 'EMPTY', 'roles':             │        │            │\n",
       "│ ['underwriter'], 'isInternalUser': 'False', 'trackingVersion': '3.1',                     │        │            │\n",
       "│ 'initial_utm_campaign': 'EMPTY', 'initial_twclid': 'EMPTY', 'initial_li_fat_id': 'EMPTY', │        │            │\n",
       "│ 'initial_gclid': 'EMPTY', 'hostname': 'None', 'initial_utm_source': 'EMPTY',              │        │            │\n",
       "│ 'initial_dclid': 'EMPTY', 'initial_wbraid': 'EMPTY', 'initial_rtd_cid': 'EMPTY',          │        │            │\n",
       "│ 'initial_fbclid': 'EMPTY', 'initial_utm_id': 'EMPTY', 'initial_gbraid': 'EMPTY',          │        │            │\n",
       "│ 'initial_referrer': 'EMPTY', 'initial_msclkid': 'EMPTY', 'initial_ttclid': 'EMPTY',       │        │            │\n",
       "│ 'initial_utm_term': 'EMPTY', 'initial_ko_click_id': 'EMPTY'}                              │        │            │\n",
       "│ {'initial_utm_medium': 'EMPTY', 'initial_referring_domain': 'EMPTY', 'businessUnit': [],  │ 69537  │ 3.76%      │\n",
       "│ 'initial_utm_content': 'EMPTY', 'roles': ['underwriter'], 'isInternalUser': 'False',      │        │            │\n",
       "│ 'initial_utm_campaign': 'EMPTY', 'trackingVersion': '3.1', 'initial_twclid': 'EMPTY',     │        │            │\n",
       "│ 'initial_gclid': 'EMPTY', 'hostname': 'None', 'initial_utm_source': 'EMPTY',              │        │            │\n",
       "│ 'initial_dclid': 'EMPTY', 'initial_wbraid': 'EMPTY', 'initial_fbclid': 'EMPTY',           │        │            │\n",
       "│ 'initial_utm_id': 'EMPTY', 'initial_referrer': 'EMPTY', 'initial_gbraid': 'EMPTY',        │        │            │\n",
       "│ 'initial_utm_term': 'EMPTY', 'initial_msclkid': 'EMPTY', 'initial_ttclid': 'EMPTY',       │        │            │\n",
       "│ 'initial_ko_click_id': 'EMPTY'}                                                           │        │            │\n",
       "│ {'businessUnit': [], 'initial_utm_medium': 'EMPTY', 'initial_referring_domain': 'EMPTY',  │ 53627  │ 2.90%      │\n",
       "│ 'initial_utm_content': 'EMPTY', 'roles': ['admin'], 'isInternalUser': 'True',             │        │            │\n",
       "│ 'trackingVersion': '3.1', 'initial_utm_campaign': 'EMPTY', 'initial_twclid': 'EMPTY',     │        │            │\n",
       "│ 'initial_li_fat_id': 'EMPTY', 'initial_gclid': 'EMPTY', 'hostname': 'None',               │        │            │\n",
       "│ 'initial_utm_source': 'EMPTY', 'initial_dclid': 'EMPTY', 'initial_wbraid': 'EMPTY',       │        │            │\n",
       "│ 'initial_rtd_cid': 'EMPTY', 'initial_fbclid': 'EMPTY', 'initial_utm_id': 'EMPTY',         │        │            │\n",
       "│ 'initial_gbraid': 'EMPTY', 'initial_referrer': 'EMPTY', 'initial_msclkid': 'EMPTY',       │        │            │\n",
       "│ 'initial_ttclid': 'EMPTY', 'initial_utm_term': 'EMPTY', 'initial_ko_click_id': 'EMPTY'}   │        │            │\n",
       "│ {'businessUnit': ['Xceedence'], 'initial_utm_medium': 'EMPTY',                            │ 52135  │ 2.82%      │\n",
       "│ 'initial_referring_domain': 'EMPTY', 'initial_utm_content': 'EMPTY', 'roles':             │        │            │\n",
       "│ ['underwriter'], 'isInternalUser': 'False', 'trackingVersion': '3.1',                     │        │            │\n",
       "│ 'initial_utm_campaign': 'EMPTY', 'initial_twclid': 'EMPTY', 'initial_li_fat_id': 'EMPTY', │        │            │\n",
       "│ 'initial_gclid': 'EMPTY', 'hostname': 'None', 'initial_utm_source': 'EMPTY',              │        │            │\n",
       "│ 'initial_dclid': 'EMPTY', 'initial_wbraid': 'EMPTY', 'initial_rtd_cid': 'EMPTY',          │        │            │\n",
       "│ 'initial_fbclid': 'EMPTY', 'initial_utm_id': 'EMPTY', 'initial_gbraid': 'EMPTY',          │        │            │\n",
       "│ 'initial_referrer': 'EMPTY', 'initial_msclkid': 'EMPTY', 'initial_ttclid': 'EMPTY',       │        │            │\n",
       "│ 'initial_utm_term': 'EMPTY', 'initial_ko_click_id': 'EMPTY'}                              │        │            │\n",
       "│ {'businessUnit': [], 'roles': ['underwriter'], 'trackingVersion': '3.1',                  │ 50903  │ 2.75%      │\n",
       "│ 'initial_twclid': 'EMPTY', 'initial_gclid': 'EMPTY', 'hostname': 'None',                  │        │            │\n",
       "│ 'initial_utm_source': 'EMPTY', 'initial_dclid': 'EMPTY', 'initial_wbraid': 'EMPTY',       │        │            │\n",
       "│ 'initial_rtd_cid': 'EMPTY', 'initial_utm_id': 'EMPTY', 'initial_gbraid': 'EMPTY',         │        │            │\n",
       "│ 'initial_msclkid': 'EMPTY', 'initial_ttclid': 'EMPTY', 'initial_ko_click_id': 'EMPTY',    │        │            │\n",
       "│ 'initial_utm_medium': 'EMPTY', 'initial_referring_domain': 'accounts.google.com',         │        │            │\n",
       "│ 'initial_utm_content': 'EMPTY', 'isInternalUser': 'False', 'initial_utm_campaign':        │        │            │\n",
       "│ 'EMPTY', 'initial_li_fat_id': 'EMPTY', 'referrer': 'https://accounts.google.com/',        │        │            │\n",
       "│ 'initial_fbclid': 'EMPTY', 'initial_referrer': 'https://accounts.google.com/',            │        │            │\n",
       "│ 'initial_utm_term': 'EMPTY', 'referring_domain': 'accounts.google.com'}                   │        │            │\n",
       "│ {'businessUnit': [], 'initial_utm_medium': 'EMPTY', 'initial_referring_domain':           │ 41459  │ 2.24%      │\n",
       "│ 'statics.teams.cdn.office.net', 'initial_utm_content': 'EMPTY', 'roles': ['underwriter'], │        │            │\n",
       "│ 'isInternalUser': 'False', 'trackingVersion': '3.1', 'initial_utm_campaign': 'EMPTY',     │        │            │\n",
       "│ 'initial_twclid': 'EMPTY', 'initial_li_fat_id': 'EMPTY', 'initial_gclid': 'EMPTY',        │        │            │\n",
       "│ 'hostname': 'None', 'initial_utm_source': 'EMPTY', 'initial_dclid': 'EMPTY',              │        │            │\n",
       "│ 'initial_wbraid': 'EMPTY', 'initial_rtd_cid': 'EMPTY', 'initial_fbclid': 'EMPTY',         │        │            │\n",
       "│ 'initial_utm_id': 'EMPTY', 'initial_gbraid': 'EMPTY', 'initial_referrer':                 │        │            │\n",
       "│ 'https://statics.teams.cdn.office.net/', 'initial_msclkid': 'EMPTY', 'initial_ttclid':    │        │            │\n",
       "│ 'EMPTY', 'initial_utm_term': 'EMPTY', 'initial_ko_click_id': 'EMPTY'}                     │        │            │\n",
       "│ {'businessUnit': ['AU Group'], 'roles': ['underwriter'], 'trackingVersion': '3.1',        │ 37571  │ 2.03%      │\n",
       "│ 'initial_twclid': 'EMPTY', 'initial_gclid': 'EMPTY', 'hostname': 'None',                  │        │            │\n",
       "│ 'initial_utm_source': 'EMPTY', 'initial_dclid': 'EMPTY', 'initial_wbraid': 'EMPTY',       │        │            │\n",
       "│ 'initial_rtd_cid': 'EMPTY', 'initial_utm_id': 'EMPTY', 'initial_gbraid': 'EMPTY',         │        │            │\n",
       "│ 'initial_msclkid': 'EMPTY', 'initial_ttclid': 'EMPTY', 'initial_ko_click_id': 'EMPTY',    │        │            │\n",
       "│ 'initial_utm_medium': 'EMPTY', 'initial_referring_domain': 'EMPTY',                       │        │            │\n",
       "│ 'initial_utm_content': 'EMPTY', 'isInternalUser': 'False', 'initial_utm_campaign':        │        │            │\n",
       "│ 'EMPTY', 'initial_li_fat_id': 'EMPTY', 'referrer': 'https://login.microsoftonline.com/',  │        │            │\n",
       "│ 'initial_fbclid': 'EMPTY', 'initial_referrer': 'EMPTY', 'initial_utm_term': 'EMPTY',      │        │            │\n",
       "│ 'referring_domain': 'login.microsoftonline.com'}                                          │        │            │\n",
       "└───────────────────────────────────────────────────────────────────────────────────────────┴────────┴────────────┘\n"
      ]
     },
     "metadata": {},
     "output_type": "display_data"
    },
    {
     "data": {
      "text/html": [
       "<pre style=\"white-space:pre;overflow-x:auto;line-height:normal;font-family:Menlo,'DejaVu Sans Mono',consolas,'Courier New',monospace\">\n",
       "<span style=\"color: #ffff00; text-decoration-color: #ffff00\">Distribution of uuid:</span>\n",
       "</pre>\n"
      ],
      "text/plain": [
       "\n",
       "\u001b[93mDistribution of uuid:\u001b[0m\n"
      ]
     },
     "metadata": {},
     "output_type": "display_data"
    },
    {
     "data": {
      "text/html": [
       "<pre style=\"white-space:pre;overflow-x:auto;line-height:normal;font-family:Menlo,'DejaVu Sans Mono',consolas,'Courier New',monospace\">┏━━━━━━━━━━━━━━━━━━━━━━━━━━━━━━━━━━━━━━┳━━━━━━━┳━━━━━━━━━━━━┓\n",
       "┃<span style=\"color: #ffff00; text-decoration-color: #ffff00; font-weight: bold\"> Category                             </span>┃<span style=\"color: #ffff00; text-decoration-color: #ffff00; font-weight: bold\"> Count </span>┃<span style=\"color: #ffff00; text-decoration-color: #ffff00; font-weight: bold\"> Percentage </span>┃\n",
       "┡━━━━━━━━━━━━━━━━━━━━━━━━━━━━━━━━━━━━━━╇━━━━━━━╇━━━━━━━━━━━━┩\n",
       "│ 006cfd50-7f9e-4ffa-85e8-720404db8247 │ 1     │ 0.00%      │\n",
       "│ 4d8ada7d-b821-4df3-bb9d-8d122f6c12b9 │ 1     │ 0.00%      │\n",
       "│ dcdca6e5-d3d4-490d-8ec0-90d155ba6438 │ 1     │ 0.00%      │\n",
       "│ 0b3580df-51e3-4ab6-ad48-0822328fc6fd │ 1     │ 0.00%      │\n",
       "│ 6bba7b30-f028-4e68-a4a1-5fca4700dcff │ 1     │ 0.00%      │\n",
       "│ cbd9ed54-7a0a-4407-9aac-183cd3bc8828 │ 1     │ 0.00%      │\n",
       "│ 8086ad48-5dfc-4925-ae33-b35975341dbb │ 1     │ 0.00%      │\n",
       "│ 4a92c58f-1170-45e9-a8c6-cfe6d6ed8ffc │ 1     │ 0.00%      │\n",
       "│ e2583cfa-1737-4bb9-bc7d-3d7c4df2e2e6 │ 1     │ 0.00%      │\n",
       "│ bd3532ad-dec2-4b7d-92f9-5b1008aa6f09 │ 1     │ 0.00%      │\n",
       "└──────────────────────────────────────┴───────┴────────────┘\n",
       "</pre>\n"
      ],
      "text/plain": [
       "┏━━━━━━━━━━━━━━━━━━━━━━━━━━━━━━━━━━━━━━┳━━━━━━━┳━━━━━━━━━━━━┓\n",
       "┃\u001b[1;93m \u001b[0m\u001b[1;93mCategory                            \u001b[0m\u001b[1;93m \u001b[0m┃\u001b[1;93m \u001b[0m\u001b[1;93mCount\u001b[0m\u001b[1;93m \u001b[0m┃\u001b[1;93m \u001b[0m\u001b[1;93mPercentage\u001b[0m\u001b[1;93m \u001b[0m┃\n",
       "┡━━━━━━━━━━━━━━━━━━━━━━━━━━━━━━━━━━━━━━╇━━━━━━━╇━━━━━━━━━━━━┩\n",
       "│ 006cfd50-7f9e-4ffa-85e8-720404db8247 │ 1     │ 0.00%      │\n",
       "│ 4d8ada7d-b821-4df3-bb9d-8d122f6c12b9 │ 1     │ 0.00%      │\n",
       "│ dcdca6e5-d3d4-490d-8ec0-90d155ba6438 │ 1     │ 0.00%      │\n",
       "│ 0b3580df-51e3-4ab6-ad48-0822328fc6fd │ 1     │ 0.00%      │\n",
       "│ 6bba7b30-f028-4e68-a4a1-5fca4700dcff │ 1     │ 0.00%      │\n",
       "│ cbd9ed54-7a0a-4407-9aac-183cd3bc8828 │ 1     │ 0.00%      │\n",
       "│ 8086ad48-5dfc-4925-ae33-b35975341dbb │ 1     │ 0.00%      │\n",
       "│ 4a92c58f-1170-45e9-a8c6-cfe6d6ed8ffc │ 1     │ 0.00%      │\n",
       "│ e2583cfa-1737-4bb9-bc7d-3d7c4df2e2e6 │ 1     │ 0.00%      │\n",
       "│ bd3532ad-dec2-4b7d-92f9-5b1008aa6f09 │ 1     │ 0.00%      │\n",
       "└──────────────────────────────────────┴───────┴────────────┘\n"
      ]
     },
     "metadata": {},
     "output_type": "display_data"
    },
    {
     "data": {
      "text/html": [
       "<pre style=\"white-space:pre;overflow-x:auto;line-height:normal;font-family:Menlo,'DejaVu Sans Mono',consolas,'Courier New',monospace\">\n",
       "<span style=\"color: #ffff00; text-decoration-color: #ffff00\">Distribution of day_of_week:</span>\n",
       "</pre>\n"
      ],
      "text/plain": [
       "\n",
       "\u001b[93mDistribution of day_of_week:\u001b[0m\n"
      ]
     },
     "metadata": {},
     "output_type": "display_data"
    },
    {
     "data": {
      "text/html": [
       "<pre style=\"white-space:pre;overflow-x:auto;line-height:normal;font-family:Menlo,'DejaVu Sans Mono',consolas,'Courier New',monospace\">┏━━━━━━━━━━━┳━━━━━━━━┳━━━━━━━━━━━━┓\n",
       "┃<span style=\"color: #ffff00; text-decoration-color: #ffff00; font-weight: bold\"> Category  </span>┃<span style=\"color: #ffff00; text-decoration-color: #ffff00; font-weight: bold\"> Count  </span>┃<span style=\"color: #ffff00; text-decoration-color: #ffff00; font-weight: bold\"> Percentage </span>┃\n",
       "┡━━━━━━━━━━━╇━━━━━━━━╇━━━━━━━━━━━━┩\n",
       "│ Thursday  │ 406228 │ 21.96%     │\n",
       "│ Tuesday   │ 380958 │ 20.59%     │\n",
       "│ Friday    │ 363600 │ 19.65%     │\n",
       "│ Monday    │ 353517 │ 19.11%     │\n",
       "│ Wednesday │ 302410 │ 16.35%     │\n",
       "│ Saturday  │ 25515  │ 1.38%      │\n",
       "│ Sunday    │ 17881  │ 0.97%      │\n",
       "└───────────┴────────┴────────────┘\n",
       "</pre>\n"
      ],
      "text/plain": [
       "┏━━━━━━━━━━━┳━━━━━━━━┳━━━━━━━━━━━━┓\n",
       "┃\u001b[1;93m \u001b[0m\u001b[1;93mCategory \u001b[0m\u001b[1;93m \u001b[0m┃\u001b[1;93m \u001b[0m\u001b[1;93mCount \u001b[0m\u001b[1;93m \u001b[0m┃\u001b[1;93m \u001b[0m\u001b[1;93mPercentage\u001b[0m\u001b[1;93m \u001b[0m┃\n",
       "┡━━━━━━━━━━━╇━━━━━━━━╇━━━━━━━━━━━━┩\n",
       "│ Thursday  │ 406228 │ 21.96%     │\n",
       "│ Tuesday   │ 380958 │ 20.59%     │\n",
       "│ Friday    │ 363600 │ 19.65%     │\n",
       "│ Monday    │ 353517 │ 19.11%     │\n",
       "│ Wednesday │ 302410 │ 16.35%     │\n",
       "│ Saturday  │ 25515  │ 1.38%      │\n",
       "│ Sunday    │ 17881  │ 0.97%      │\n",
       "└───────────┴────────┴────────────┘\n"
      ]
     },
     "metadata": {},
     "output_type": "display_data"
    }
   ],
   "source": [
    "# 10. Category Analysis (for categorical columns)\n",
    "console.print(\"\\n[bold bright_green]10. Category Analysis[/bold bright_green]\", style=\"bold\")\n",
    "categorical_cols = df.select_dtypes(include=['object', 'category']).columns\n",
    "for col in categorical_cols:\n",
    "    console.print(f\"\\n[bright_yellow]Distribution of {col}:[/bright_yellow]\")\n",
    "    value_counts = df[col].value_counts().head(10)  # Top 10 categories\n",
    "    counts_table = Table(show_header=True, header_style=\"bold bright_yellow\")\n",
    "    counts_table.add_column(\"Category\")\n",
    "    counts_table.add_column(\"Count\")\n",
    "    counts_table.add_column(\"Percentage\")\n",
    "    \n",
    "    for idx, (cat, count) in enumerate(value_counts.items()):\n",
    "        percentage = (count / len(df)) * 100\n",
    "        counts_table.add_row(\n",
    "            str(cat),\n",
    "            str(count),\n",
    "            f\"{percentage:.2f}%\"\n",
    "        )\n",
    "    console.print(counts_table)"
   ]
  },
  {
   "cell_type": "code",
   "execution_count": 18,
   "metadata": {},
   "outputs": [
    {
     "data": {
      "text/html": [
       "<pre style=\"white-space:pre;overflow-x:auto;line-height:normal;font-family:Menlo,'DejaVu Sans Mono',consolas,'Courier New',monospace\">\n",
       "<span style=\"color: #00ff00; text-decoration-color: #00ff00; font-weight: bold\">11</span><span style=\"color: #00ff00; text-decoration-color: #00ff00; font-weight: bold\">. Data Quality Checks</span>\n",
       "</pre>\n"
      ],
      "text/plain": [
       "\n",
       "\u001b[1;92m11\u001b[0m\u001b[1;92m. Data Quality Checks\u001b[0m\n"
      ]
     },
     "metadata": {},
     "output_type": "display_data"
    },
    {
     "data": {
      "text/html": [
       "<pre style=\"white-space:pre;overflow-x:auto;line-height:normal;font-family:Menlo,'DejaVu Sans Mono',consolas,'Courier New',monospace\">┏━━━━━━━━━━━━━━━━━━━━━━━━━┳━━━━━━━━┓\n",
       "┃<span style=\"color: #ffff00; text-decoration-color: #ffff00; font-weight: bold\"> Check                   </span>┃<span style=\"color: #ffff00; text-decoration-color: #ffff00; font-weight: bold\"> Result </span>┃\n",
       "┡━━━━━━━━━━━━━━━━━━━━━━━━━╇━━━━━━━━┩\n",
       "│ Duplicate Rows          │ <span style=\"color: #00ff00; text-decoration-color: #00ff00\">0</span>      │\n",
       "│ Contains Missing Values │ <span style=\"color: #ffff00; text-decoration-color: #ffff00\">Yes</span>    │\n",
       "│ Contains Zero Values    │ <span style=\"color: #ffff00; text-decoration-color: #ffff00\">Yes</span>    │\n",
       "└─────────────────────────┴────────┘\n",
       "</pre>\n"
      ],
      "text/plain": [
       "┏━━━━━━━━━━━━━━━━━━━━━━━━━┳━━━━━━━━┓\n",
       "┃\u001b[1;93m \u001b[0m\u001b[1;93mCheck                  \u001b[0m\u001b[1;93m \u001b[0m┃\u001b[1;93m \u001b[0m\u001b[1;93mResult\u001b[0m\u001b[1;93m \u001b[0m┃\n",
       "┡━━━━━━━━━━━━━━━━━━━━━━━━━╇━━━━━━━━┩\n",
       "│ Duplicate Rows          │ \u001b[92m0\u001b[0m      │\n",
       "│ Contains Missing Values │ \u001b[93mYes\u001b[0m    │\n",
       "│ Contains Zero Values    │ \u001b[93mYes\u001b[0m    │\n",
       "└─────────────────────────┴────────┘\n"
      ]
     },
     "metadata": {},
     "output_type": "display_data"
    }
   ],
   "source": [
    "# 11. Data Quality Checks\n",
    "console.print(\"\\n[bold bright_green]11. Data Quality Checks[/bold bright_green]\", style=\"bold\")\n",
    "quality_table = Table(show_header=True, header_style=\"bold bright_yellow\")\n",
    "quality_table.add_column(\"Check\")\n",
    "quality_table.add_column(\"Result\")\n",
    "\n",
    "duplicates = df.duplicated().sum()\n",
    "quality_table.add_row(\n",
    "    \"Duplicate Rows\",\n",
    "    f\"[bright_yellow]{duplicates}[/bright_yellow]\" if duplicates > 0 else \"[bright_green]0[/bright_green]\"\n",
    ")\n",
    "\n",
    "missing_pct = (df.isnull().sum() / len(df) * 100).round(2)\n",
    "has_missing = missing_pct.any()\n",
    "quality_table.add_row(\n",
    "    \"Contains Missing Values\",\n",
    "    \"[bright_yellow]Yes[/bright_yellow]\" if has_missing else \"[bright_green]No[/bright_green]\"\n",
    ")\n",
    "\n",
    "numeric_zeros = {col: (df[col] == 0).sum() for col in numeric_cols}\n",
    "has_zeros = any(numeric_zeros.values())\n",
    "quality_table.add_row(\n",
    "    \"Contains Zero Values\",\n",
    "    \"[bright_yellow]Yes[/bright_yellow]\" if has_zeros else \"[bright_green]No[/bright_green]\"\n",
    ")\n",
    "\n",
    "console.print(quality_table)"
   ]
  },
  {
   "cell_type": "code",
   "execution_count": 19,
   "metadata": {},
   "outputs": [
    {
     "data": {
      "text/html": [
       "<pre style=\"white-space:pre;overflow-x:auto;line-height:normal;font-family:Menlo,'DejaVu Sans Mono',consolas,'Courier New',monospace\">\n",
       "<span style=\"color: #00ff00; text-decoration-color: #00ff00; font-weight: bold\">12</span><span style=\"color: #00ff00; text-decoration-color: #00ff00; font-weight: bold\">. Memory Usage</span>\n",
       "</pre>\n"
      ],
      "text/plain": [
       "\n",
       "\u001b[1;92m12\u001b[0m\u001b[1;92m. Memory Usage\u001b[0m\n"
      ]
     },
     "metadata": {},
     "output_type": "display_data"
    },
    {
     "data": {
      "text/html": [
       "<pre style=\"white-space:pre;overflow-x:auto;line-height:normal;font-family:Menlo,'DejaVu Sans Mono',consolas,'Courier New',monospace\">╭─────────────────────────────────────────────────────────────────────────────────────────────────────────────────╮\n",
       "│ Total Memory Usage: 4085.98 MB                                                                                  │\n",
       "╰─────────────────────────────────────────────────────────────────────────────────────────────────────────────────╯\n",
       "</pre>\n"
      ],
      "text/plain": [
       "╭─────────────────────────────────────────────────────────────────────────────────────────────────────────────────╮\n",
       "│ Total Memory Usage: 4085.98 MB                                                                                  │\n",
       "╰─────────────────────────────────────────────────────────────────────────────────────────────────────────────────╯\n"
      ]
     },
     "metadata": {},
     "output_type": "display_data"
    }
   ],
   "source": [
    "# 12. Memory Usage\n",
    "console.print(\"\\n[bold bright_green]12. Memory Usage[/bold bright_green]\", style=\"bold\")\n",
    "memory_usage = df.memory_usage(deep=True)\n",
    "total_memory = memory_usage.sum() / 1024**2\n",
    "console.print(Panel(f\"Total Memory Usage: {total_memory:.2f} MB\"))\n"
   ]
  }
 ],
 "metadata": {
  "kernelspec": {
   "display_name": "venv",
   "language": "python",
   "name": "python3"
  },
  "language_info": {
   "codemirror_mode": {
    "name": "ipython",
    "version": 3
   },
   "file_extension": ".py",
   "mimetype": "text/x-python",
   "name": "python",
   "nbconvert_exporter": "python",
   "pygments_lexer": "ipython3",
   "version": "3.13.1"
  }
 },
 "nbformat": 4,
 "nbformat_minor": 2
}
