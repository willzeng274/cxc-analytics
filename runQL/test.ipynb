{
 "cells": [
  {
   "cell_type": "code",
   "execution_count": 2,
   "metadata": {},
   "outputs": [
    {
     "name": "stdout",
     "output_type": "stream",
     "text": [
      "\n",
      "Null columns in companies.csv:\n",
      "ecosystemSecondary: 1543 null values\n",
      "dateFounded: 1 null values\n",
      "secondaryTag: 607 null values\n",
      "latestRoundType: 78 null values\n",
      "acquiringCompany: 1877 null values\n",
      "logoUrlCdn: 6 null values\n",
      "\n",
      "Null columns in dealInvestor.csv:\n",
      "headquarters: 9 null values\n",
      "ecosystemSecondary: 3794 null values\n",
      "roundType: 1 null values\n",
      "investorCountry: 125 null values\n",
      "\n",
      "Null columns in deals.csv:\n",
      "headquarters: 6 null values\n",
      "ecosystemSecondary: 2263 null values\n",
      "primaryTag: 1 null values\n",
      "leadInvestors: 1064 null values\n",
      "investors: 744 null values\n",
      "\n",
      "Null columns in ecosystems.csv:\n",
      "\n",
      "Null columns in investors.csv:\n",
      "investorType: 403 null values\n",
      "city: 332 null values\n",
      "country: 220 null values\n",
      "sectors: 874 null values\n",
      "stages: 918 null values\n",
      "logoURL: 1406 null values\n"
     ]
    },
    {
     "data": {
      "text/plain": [
       "['investorType', 'city', 'country', 'sectors', 'stages', 'logoURL']"
      ]
     },
     "execution_count": 2,
     "metadata": {},
     "output_type": "execute_result"
    }
   ],
   "source": [
    "import pandas as pd\n",
    "import numpy as np\n",
    "\n",
    "companies_df = pd.read_csv('data/companies.csv')\n",
    "dealinvestor_df = pd.read_csv('data/dealInvestor.csv') \n",
    "deals_df = pd.read_csv('data/deals.csv')\n",
    "ecosystems_df = pd.read_csv('data/ecosystems.csv')\n",
    "investors_df = pd.read_csv('data/investors.csv')\n",
    "\n",
    "def get_null_columns(df, name):\n",
    "    null_cols = df.columns[df.isnull().any()].tolist()\n",
    "    null_counts = df[null_cols].isnull().sum()\n",
    "    print(f\"\\nNull columns in {name}:\")\n",
    "    for col, count in zip(null_cols, null_counts):\n",
    "        print(f\"{col}: {count} null values\")\n",
    "    return null_cols\n",
    "\n",
    "get_null_columns(companies_df, 'companies.csv')\n",
    "get_null_columns(dealinvestor_df, 'dealInvestor.csv')\n",
    "get_null_columns(deals_df, 'deals.csv')\n",
    "get_null_columns(ecosystems_df, 'ecosystems.csv') \n",
    "get_null_columns(investors_df, 'investors.csv')\n"
   ]
  }
 ],
 "metadata": {
  "kernelspec": {
   "display_name": "venv",
   "language": "python",
   "name": "python3"
  },
  "language_info": {
   "codemirror_mode": {
    "name": "ipython",
    "version": 3
   },
   "file_extension": ".py",
   "mimetype": "text/x-python",
   "name": "python",
   "nbconvert_exporter": "python",
   "pygments_lexer": "ipython3",
   "version": "3.13.1"
  }
 },
 "nbformat": 4,
 "nbformat_minor": 2
}
