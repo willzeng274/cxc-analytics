{
 "cells": [
  {
   "cell_type": "code",
   "execution_count": 2,
   "metadata": {},
   "outputs": [
    {
     "name": "stdout",
     "output_type": "stream",
     "text": [
      "(90540, 54)\n",
      "(90540, 30)\n",
      "CPU times: user 3min 39s, sys: 2.6 s, total: 3min 42s\n",
      "Wall time: 3min 43s\n"
     ]
    }
   ],
   "source": [
    "%%time\n",
    "import ijson\n",
    "import pandas as pd\n",
    "from pathlib import Path\n",
    "\n",
    "#file chunk\n",
    "part = 2\n",
    "file_path = f\"new_export/amplitude_export_chunk_{part}_anonymized.json\"\n",
    "\n",
    "#non-empty columns\n",
    "columns_keep = [\n",
    "    \"$insert_id\",\n",
    "    \"amplitude_id\",\n",
    "    \"app\",\n",
    "    \"city\",\n",
    "    \"client_event_time\",\n",
    "    \"client_upload_time\",\n",
    "    \"country\",\n",
    "    \"data\",\n",
    "    \"data_type\",\n",
    "    \"device_family\",\n",
    "    \"device_id\",\n",
    "    \"device_type\",\n",
    "    \"dma\",\n",
    "    \"event_id\",\n",
    "    \"event_properties\",\n",
    "    \"event_time\",\n",
    "    \"event_type\",\n",
    "    \"language\",\n",
    "    \"library\",\n",
    "    \"os_name\",\n",
    "    \"os_version\",\n",
    "    \"platform\",\n",
    "    \"processed_time\",\n",
    "    \"region\",\n",
    "    \"server_received_time\",\n",
    "    \"server_upload_time\",\n",
    "    \"session_id\",\n",
    "    \"user_id\",\n",
    "    \"user_properties\",\n",
    "    \"uuid\",\n",
    "]\n",
    "\n",
    "path = Path(f\"{part}_csv\")\n",
    "if not path.exists():\n",
    "    path.mkdir(parents=True, exist_ok=True)\n",
    "\n",
    "#use ijson to read the json files efficiently in memory\n",
    "with open(file_path, \"r\") as f:\n",
    "    objects = ijson.items(f, \"item\") #creates a generator object\n",
    "\n",
    "    batch_size = 100000 #can be updated, currently saves per batches of 100,000\n",
    "    chunk = []\n",
    "    count = 0 #used to index batch file\n",
    "    for obj in objects:\n",
    "        chunk.append(obj)\n",
    "        if len(chunk) >= batch_size:\n",
    "            df = pd.DataFrame(chunk)\n",
    "            output_csv = f\"{part}_csv/{file_path.split('/')[1].split('.')[0]}_subchunk_{count*batch_size}_{(count+1)*batch_size}.csv\"\n",
    "            df = df[columns_keep] #remove empty columns\n",
    "            df.to_csv(output_csv, index=False)\n",
    "            count += 1\n",
    "            chunk = []\n",
    "\n",
    "    if chunk: #process remaining data if any\n",
    "        output_csv = f\"{part}_csv/{file_path.split('/')[1].split('.')[0]}_subchunk_{count*batch_size}_{(count+1)*batch_size}.csv\"\n",
    "        df = pd.DataFrame(chunk)\n",
    "        print(df.shape)\n",
    "        df = df[columns_keep]\n",
    "        print(df.shape)\n",
    "        df.to_csv(output_csv, index=False)\n"
   ]
  }
 ],
 "metadata": {
  "kernelspec": {
   "display_name": "venv",
   "language": "python",
   "name": "python3"
  },
  "language_info": {
   "codemirror_mode": {
    "name": "ipython",
    "version": 3
   },
   "file_extension": ".py",
   "mimetype": "text/x-python",
   "name": "python",
   "nbconvert_exporter": "python",
   "pygments_lexer": "ipython3",
   "version": "3.13.1"
  }
 },
 "nbformat": 4,
 "nbformat_minor": 2
}
